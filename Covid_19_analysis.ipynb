{
 "cells": [
  {
   "cell_type": "code",
   "execution_count": 11,
   "id": "9dacf151-e08a-4a61-a46a-6c4575b32f76",
   "metadata": {},
   "outputs": [],
   "source": [
    "import pandas as pd\n",
    "import numpy as np\n",
    "import seaborn as sns\n",
    "import matplotlib.pyplot as plt\n",
    "import plotly.express as px\n",
    "import plotly.graph_objects as go"
   ]
  },
  {
   "cell_type": "code",
   "execution_count": 12,
   "id": "e338c320-4e89-4939-abf8-dd709e2c9a14",
   "metadata": {},
   "outputs": [],
   "source": [
    "vaccination_doses = pd.read_csv(\"astrazeneca-and-moderna-vaccination-doses-by-state.csv\")"
   ]
  },
  {
   "cell_type": "code",
   "execution_count": 13,
   "id": "d369ed47-4ad5-4da9-8561-5c6e44529e79",
   "metadata": {},
   "outputs": [],
   "source": [
    "vaccination_pop = pd.read_csv(r\"C:\\Users\\NCC\\Downloads\\Resource Allocation\\distribution-of-covid-19-fully-vaccinated-population-in-nigeria.csv\")"
   ]
  },
  {
   "cell_type": "code",
   "execution_count": 14,
   "id": "5d218a61-ded6-4226-a815-0b3641e03b61",
   "metadata": {},
   "outputs": [],
   "source": [
    "covid_1 = pd.read_excel(r\"C:\\Users\\NCC\\Downloads\\Resource Allocation\\nga_subnational_covid19_hera (1).xlsx\")"
   ]
  },
  {
   "cell_type": "code",
   "execution_count": 15,
   "id": "11e123ff-3128-454f-8c89-5f6accd10bdd",
   "metadata": {},
   "outputs": [],
   "source": [
    "df_shop = pd.read_csv(r\"C:\\Users\\NCC\\Downloads\\shopify_data_seller2.csv\")"
   ]
  },
  {
   "cell_type": "markdown",
   "id": "1736a60a-4802-4b30-ba57-6697be73ea98",
   "metadata": {},
   "source": [
    "#### COVID 19 DATA"
   ]
  },
  {
   "cell_type": "code",
   "execution_count": 17,
   "id": "eceae8d2-1b85-4e59-9822-dc22ee66905d",
   "metadata": {},
   "outputs": [
    {
     "ename": "NameError",
     "evalue": "name 'covid_19' is not defined",
     "output_type": "error",
     "traceback": [
      "\u001b[1;31m---------------------------------------------------------------------------\u001b[0m",
      "\u001b[1;31mNameError\u001b[0m                                 Traceback (most recent call last)",
      "Cell \u001b[1;32mIn[17], line 1\u001b[0m\n\u001b[1;32m----> 1\u001b[0m covid_19\u001b[38;5;241m.\u001b[39mcolumns\n",
      "\u001b[1;31mNameError\u001b[0m: name 'covid_19' is not defined"
     ]
    }
   ],
   "source": [
    "covid_19.columns"
   ]
  },
  {
   "cell_type": "code",
   "execution_count": null,
   "id": "bf34310d-6ea8-4ca1-8b76-c87de93a327a",
   "metadata": {},
   "outputs": [],
   "source": [
    "covid_19.rename(columns={\n",
    "        'ID': 'ID',\n",
    "        'DATE': 'Date',\n",
    "        'ISO_3': 'ISO_3',\n",
    "        'PAYS': 'Country',\n",
    "        'ID_PAYS': 'Country_ID',\n",
    "        'REGION': 'Region',\n",
    "        'ID_REGION': 'Region_ID',\n",
    "        'CONTAMINES': 'Infected',\n",
    "        'DECES': 'Deaths',\n",
    "        'GUERIS': 'Recovered',\n",
    "        'CONTAMINES_FEMME': 'Infected_Female',\n",
    "        'CONTAMINES_HOMME': 'Infected_Male',\n",
    "        'CONTAMINES_GENRE_NON_SPECIFIE': 'Infected_Gender_Not_Specified',\n",
    "        'SOURCE': 'Source'\n",
    "}, inplace=True)\n"
   ]
  },
  {
   "cell_type": "code",
   "execution_count": null,
   "id": "b755800d-30fb-4677-b769-e2d6f8a82f52",
   "metadata": {},
   "outputs": [],
   "source": [
    "covid_19.head()"
   ]
  },
  {
   "cell_type": "markdown",
   "id": "f2af4b48-f966-49f8-a785-24814680ffe4",
   "metadata": {},
   "source": [
    "#### DESCRIPTIVE STAT"
   ]
  },
  {
   "cell_type": "code",
   "execution_count": null,
   "id": "72454d6f-b4fb-49d5-8a07-b0e49c6f2b66",
   "metadata": {},
   "outputs": [],
   "source": [
    "covid_19.columns"
   ]
  },
  {
   "cell_type": "code",
   "execution_count": 32,
   "id": "b941f957-ef46-47cc-80ce-ae47b9193c66",
   "metadata": {},
   "outputs": [
    {
     "ename": "NameError",
     "evalue": "name 'covid_19' is not defined",
     "output_type": "error",
     "traceback": [
      "\u001b[1;31m---------------------------------------------------------------------------\u001b[0m",
      "\u001b[1;31mNameError\u001b[0m                                 Traceback (most recent call last)",
      "Cell \u001b[1;32mIn[32], line 1\u001b[0m\n\u001b[1;32m----> 1\u001b[0m new_covid_19 \u001b[38;5;241m=\u001b[39m covid_19 [[\u001b[38;5;124m'\u001b[39m\u001b[38;5;124mDate\u001b[39m\u001b[38;5;124m'\u001b[39m,\u001b[38;5;124m'\u001b[39m\u001b[38;5;124mRegion\u001b[39m\u001b[38;5;124m'\u001b[39m,\u001b[38;5;124m'\u001b[39m\u001b[38;5;124mInfected\u001b[39m\u001b[38;5;124m'\u001b[39m,\u001b[38;5;124m'\u001b[39m\u001b[38;5;124mDeaths\u001b[39m\u001b[38;5;124m'\u001b[39m,\u001b[38;5;124m'\u001b[39m\u001b[38;5;124mRecovered\u001b[39m\u001b[38;5;124m'\u001b[39m,\u001b[38;5;124m'\u001b[39m\u001b[38;5;124mInfected_Female\u001b[39m\u001b[38;5;124m'\u001b[39m,\u001b[38;5;124m'\u001b[39m\u001b[38;5;124mInfected_Male\u001b[39m\u001b[38;5;124m'\u001b[39m]]\n",
      "\u001b[1;31mNameError\u001b[0m: name 'covid_19' is not defined"
     ]
    }
   ],
   "source": [
    "new_covid_19 = covid_19 [['Date','Region','Infected','Deaths','Recovered','Infected_Female','Infected_Male']]"
   ]
  },
  {
   "cell_type": "code",
   "execution_count": null,
   "id": "72dd36c0-7ccb-40ef-b582-034fb3ffb931",
   "metadata": {
    "scrolled": true
   },
   "outputs": [],
   "source": [
    "new_covid_19.describe()"
   ]
  },
  {
   "cell_type": "code",
   "execution_count": null,
   "id": "8a628d0f-6455-45f8-ba7c-f87d91419616",
   "metadata": {},
   "outputs": [],
   "source": [
    "new_covid_19.shape"
   ]
  },
  {
   "cell_type": "code",
   "execution_count": null,
   "id": "8a66aee7-ad31-404c-8690-36269391c18f",
   "metadata": {},
   "outputs": [],
   "source": [
    "new_covid_19.isna().sum()"
   ]
  },
  {
   "cell_type": "code",
   "execution_count": null,
   "id": "96819715-bb20-4a0c-b0b4-d77bc2c89aec",
   "metadata": {},
   "outputs": [],
   "source": [
    "new_covid_19.shape"
   ]
  },
  {
   "cell_type": "code",
   "execution_count": null,
   "id": "2eeeb5cf-742f-4bbe-a48c-b7c99394a871",
   "metadata": {},
   "outputs": [],
   "source": [
    "new_covid_19.notna().sum()"
   ]
  },
  {
   "cell_type": "code",
   "execution_count": null,
   "id": "d7b25bd1-7855-4025-a324-73ab6cf9e757",
   "metadata": {},
   "outputs": [],
   "source": [
    "new_covid_19.isna().sum()"
   ]
  },
  {
   "cell_type": "code",
   "execution_count": null,
   "id": "be0dc1bd-8429-458a-83e7-d92d983d059e",
   "metadata": {},
   "outputs": [],
   "source": [
    "new_covid_19.info"
   ]
  },
  {
   "cell_type": "code",
   "execution_count": null,
   "id": "bd5e8daf-104f-49a3-a5f0-ad53f7ad4b40",
   "metadata": {},
   "outputs": [],
   "source": []
  },
  {
   "cell_type": "code",
   "execution_count": null,
   "id": "e4cba24c-1acc-4e68-b497-98a3e07f1017",
   "metadata": {},
   "outputs": [],
   "source": []
  },
  {
   "cell_type": "code",
   "execution_count": null,
   "id": "77ccff16-2f25-4595-9ebf-779e5385631a",
   "metadata": {},
   "outputs": [],
   "source": [
    "new_covid_19.isna"
   ]
  },
  {
   "cell_type": "code",
   "execution_count": null,
   "id": "0238678b-0c4e-4416-a125-1605b70a5557",
   "metadata": {},
   "outputs": [],
   "source": [
    "new_covid_19.isna().sum()"
   ]
  },
  {
   "cell_type": "code",
   "execution_count": null,
   "id": "433f1a78-62ea-40b9-b664-13ea29dad190",
   "metadata": {},
   "outputs": [],
   "source": [
    "new_covid_19.columns"
   ]
  },
  {
   "cell_type": "code",
   "execution_count": null,
   "id": "1f16fa1d-4ae8-44cb-92b8-4557cdca7b05",
   "metadata": {},
   "outputs": [],
   "source": []
  }
 ],
 "metadata": {
  "kernelspec": {
   "display_name": "Python 3 (ipykernel)",
   "language": "python",
   "name": "python3"
  },
  "language_info": {
   "codemirror_mode": {
    "name": "ipython",
    "version": 3
   },
   "file_extension": ".py",
   "mimetype": "text/x-python",
   "name": "python",
   "nbconvert_exporter": "python",
   "pygments_lexer": "ipython3",
   "version": "3.12.7"
  }
 },
 "nbformat": 4,
 "nbformat_minor": 5
}

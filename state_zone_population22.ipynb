{
 "cells": [
  {
   "cell_type": "code",
   "execution_count": 1,
   "id": "b9a08813-c387-4446-afd8-6c5947c56e67",
   "metadata": {
    "jupyter": {
     "source_hidden": true
    }
   },
   "outputs": [],
   "source": [
    "# import pandas as pd # for spreadsheet\n",
    "# import numpy as np\n",
    "# import requests #get request\n",
    "# from bs4 import BeautifulSoup as soup #html parser"
   ]
  },
  {
   "cell_type": "code",
   "execution_count": 3,
   "id": "2eb06cf3-2ed8-42bd-ace7-ac011d957bc5",
   "metadata": {
    "collapsed": true,
    "jupyter": {
     "outputs_hidden": true,
     "source_hidden": true
    },
    "scrolled": true
   },
   "outputs": [
    {
     "name": "stdout",
     "output_type": "stream",
     "text": [
      "Requirement already satisfied: requests in c:\\users\\ncc\\anaconda3\\lib\\site-packages (2.32.0)\n",
      "Requirement already satisfied: beautifulsoup4 in c:\\users\\ncc\\anaconda3\\lib\\site-packages (4.12.3)\n",
      "Requirement already satisfied: pandas in c:\\users\\ncc\\anaconda3\\lib\\site-packages (2.2.2)\n",
      "Requirement already satisfied: matplotlib in c:\\users\\ncc\\anaconda3\\lib\\site-packages (3.9.2)\n",
      "Requirement already satisfied: seaborn in c:\\users\\ncc\\anaconda3\\lib\\site-packages (0.13.2)\n",
      "Requirement already satisfied: charset-normalizer<4,>=2 in c:\\users\\ncc\\anaconda3\\lib\\site-packages (from requests) (3.3.2)\n",
      "Requirement already satisfied: idna<4,>=2.5 in c:\\users\\ncc\\anaconda3\\lib\\site-packages (from requests) (3.7)\n",
      "Requirement already satisfied: urllib3<3,>=1.21.1 in c:\\users\\ncc\\anaconda3\\lib\\site-packages (from requests) (2.2.3)\n",
      "Requirement already satisfied: certifi>=2017.4.17 in c:\\users\\ncc\\anaconda3\\lib\\site-packages (from requests) (2024.8.30)\n",
      "Requirement already satisfied: soupsieve>1.2 in c:\\users\\ncc\\anaconda3\\lib\\site-packages (from beautifulsoup4) (2.5)\n",
      "Requirement already satisfied: numpy>=1.26.0 in c:\\users\\ncc\\anaconda3\\lib\\site-packages (from pandas) (1.26.4)\n",
      "Requirement already satisfied: python-dateutil>=2.8.2 in c:\\users\\ncc\\anaconda3\\lib\\site-packages (from pandas) (2.9.0.post0)\n",
      "Requirement already satisfied: pytz>=2020.1 in c:\\users\\ncc\\anaconda3\\lib\\site-packages (from pandas) (2024.1)\n",
      "Requirement already satisfied: tzdata>=2022.7 in c:\\users\\ncc\\anaconda3\\lib\\site-packages (from pandas) (2023.3)\n",
      "Requirement already satisfied: contourpy>=1.0.1 in c:\\users\\ncc\\anaconda3\\lib\\site-packages (from matplotlib) (1.2.0)\n",
      "Requirement already satisfied: cycler>=0.10 in c:\\users\\ncc\\anaconda3\\lib\\site-packages (from matplotlib) (0.11.0)\n",
      "Requirement already satisfied: fonttools>=4.22.0 in c:\\users\\ncc\\anaconda3\\lib\\site-packages (from matplotlib) (4.51.0)\n",
      "Requirement already satisfied: kiwisolver>=1.3.1 in c:\\users\\ncc\\anaconda3\\lib\\site-packages (from matplotlib) (1.4.4)\n",
      "Requirement already satisfied: packaging>=20.0 in c:\\users\\ncc\\anaconda3\\lib\\site-packages (from matplotlib) (24.1)\n",
      "Requirement already satisfied: pillow>=8 in c:\\users\\ncc\\anaconda3\\lib\\site-packages (from matplotlib) (10.4.0)\n",
      "Requirement already satisfied: pyparsing>=2.3.1 in c:\\users\\ncc\\anaconda3\\lib\\site-packages (from matplotlib) (3.1.2)\n",
      "Requirement already satisfied: six>=1.5 in c:\\users\\ncc\\anaconda3\\lib\\site-packages (from python-dateutil>=2.8.2->pandas) (1.16.0)\n",
      "Note: you may need to restart the kernel to use updated packages.\n"
     ]
    }
   ],
   "source": [
    "pip install requests beautifulsoup4 pandas matplotlib seaborn\n"
   ]
  },
  {
   "cell_type": "code",
   "execution_count": 5,
   "id": "25bce549-e62b-4385-a2bb-78605a15d0b4",
   "metadata": {
    "jupyter": {
     "source_hidden": true
    }
   },
   "outputs": [],
   "source": [
    "import requests\n",
    "from bs4 import BeautifulSoup\n",
    "import pandas as pd\n",
    "import matplotlib.pyplot as plt\n",
    "import seaborn as sns\n"
   ]
  },
  {
   "cell_type": "code",
   "execution_count": 9,
   "id": "b492a0f0-885f-4e13-93a0-363900019f8e",
   "metadata": {
    "jupyter": {
     "source_hidden": true
    }
   },
   "outputs": [],
   "source": [
    "url = \"https://en.wikipedia.org/wiki/States_of_Nigeria\"\n",
    "response = requests.get(url)\n",
    "html_content = response.content\n"
   ]
  },
  {
   "cell_type": "code",
   "execution_count": 11,
   "id": "52102734-0a0c-4728-9e60-c6edbe933250",
   "metadata": {
    "collapsed": true,
    "jupyter": {
     "outputs_hidden": true,
     "source_hidden": true
    }
   },
   "outputs": [
    {
     "name": "stdout",
     "output_type": "stream",
     "text": [
      "<!DOCTYPE html>\n",
      "\n",
      "<html class=\"client-nojs vector-feature-language-in-header-enabled vector-feature-language-in-main-page-header-disabled vector-feature-sticky-header-disabled vector-feature-page-tools-pinned-disabled vector-feature-toc-pinned-clientpref-1 vector-feature-main-menu-pinned-disabled vector-feature-limited-width-clientpref-1 vector-feature-limited-width-content-enabled vector-feature-custom-font-size-clientpref-1 vector-feature-appearance-pinned-clientpref-1 vector-feature-night-mode-enabled skin-theme-clientpref-day vector-toc-available\" dir=\"ltr\" lang=\"en\">\n",
      "<head>\n",
      "<meta charset=\"utf-8\"/>\n",
      "<title>States of Nigeria - Wikipedia</title>\n",
      "<script>(function(){var className=\"client-js vector-feature-language-in-header-enabled vector-feature-language-in-main-page-header-disabled vector-feature-sticky-header-disabled vector-feature-page-tools-pinned-disabled vector-feature-toc-pinned-clientpref-1 vector-feature-main-menu-pinned-disabled vector-feature-limited-width-clientpref-1 vector-feature-limited-width-content-enabled vector-feature-custom-font-size-clientpref-1 vector-feature-appearance-pinned-clientpref-1 vector-feature-night-mode-enabled skin-theme-clientpref-day vector-toc-available\";var cookie=document.cookie.match(/(?:^|; )enwikimwclientpreferences=([^;]+)/);if(cookie){cookie[1].split('%2C').forEach(function(pref){className=className.replace(new RegExp('(^| )'+pref.replace(/-clientpref-\\w+$|[^\\w-]+/g,'')+'-clientpref-\\\\w+( |$)'),'$1'+pref+'$2');});}document.documentElement.className=className;}());RLCONF={\"wgBreakFrames\":false,\"wgSeparatorTransformTable\":[\"\",\"\"],\"wgDigitTransformTable\":[\"\",\"\"],\"wgDefaultDateFormat\":\"dmy\",\n",
      "\"wgMonthNames\":[\"\",\"January\",\"February\",\"March\",\"April\",\"May\",\"June\",\"July\",\"August\",\"September\",\"October\",\"November\",\"December\"],\"wgRequestId\":\"b53c70ac-2371-44d2-8489-b47063b19dd6\",\"wgCanonicalNamespace\":\"\",\"wgCanonicalSpecialPageName\":false,\"wgNamespaceNumber\":0,\"wgPageName\":\"States_of_Nigeria\",\"wgTitle\":\"States of Nigeria\",\"wgCurRevisionId\":1263230821,\"wgRevisionId\":1263230821,\"wgArticleId\":226734,\"wgIsArticle\":true,\"wgIsRedirect\":false,\"wgAction\":\"view\",\"wgUserName\":null,\"wgUserGroups\":[\"*\"],\"wgCategories\":[\"Webarchive template wayback links\",\"Articles with short description\",\"Short description is different from Wikidata\",\"Use Nigerian English from September 2022\",\"All Wikipedia articles written in Nigerian English\",\"Use dmy dates from May 2024\",\"States of Nigeria\",\"Subdivisions of Nigeria\",\"Lists of subdivisions of Nigeria\",\"Administrative divisions in Africa\",\"First-level administrative divisions by country\",\"States of Nigeria-related lists\"],\"wgPageViewLanguage\":\"en\",\n",
      "\"wgPageContentLanguage\":\"en\",\"wgPageContentModel\":\"wikitext\",\"wgRelevantPageName\":\"States_of_Nigeria\",\"wgRelevantArticleId\":226734,\"wgIsProbablyEditable\":true,\"wgRelevantPageIsProbablyEditable\":true,\"wgRestrictionEdit\":[],\"wgRestrictionMove\":[],\"wgNoticeProject\":\"wikipedia\",\"wgCiteReferencePreviewsActive\":false,\"wgFlaggedRevsParams\":{\"tags\":{\"status\":{\"levels\":1}}},\"wgMediaViewerOnClick\":true,\"wgMediaViewerEnabledByDefault\":true,\"wgPopupsFlags\":0,\"wgVisualEditor\":{\"pageLanguageCode\":\"en\",\"pageLanguageDir\":\"ltr\",\"pageVariantFallbacks\":\"en\"},\"wgMFDisplayWikibaseDescriptions\":{\"search\":true,\"watchlist\":true,\"tagline\":false,\"nearby\":true},\"wgWMESchemaEditAttemptStepOversample\":false,\"wgWMEPageLength\":20000,\"wgRelatedArticlesCompat\":[],\"wgEditSubmitButtonLabelPublish\":true,\"wgULSPosition\":\"interlanguage\",\"wgULSisCompactLinksEnabled\":false,\"wgVector2022LanguageInHeader\":true,\"wgULSisLanguageSelectorEmpty\":false,\"wgWikibaseItemId\":\"Q465842\",\"wgCheckUserClientHintsHeadersJsApi\":[\"brands\",\n",
      "\"architecture\",\"bitness\",\"fullVersionList\",\"mobile\",\"model\",\"platform\",\"platformVersion\"],\"GEHomepageSuggestedEditsEnableTopics\":true,\"wgGETopicsMatchModeEnabled\":false,\"wgGEStructuredTaskRejectionReasonTextInputEnabled\":false,\"wgGELevelingUpEnabledForUser\":false};RLSTATE={\"ext.globalCssJs.user.styles\":\"ready\",\"site.styles\":\"ready\",\"user.styles\":\"ready\",\"ext.globalCssJs.user\":\"ready\",\"user\":\"ready\",\"user.options\":\"loading\",\"ext.cite.styles\":\"ready\",\"ext.imagemap.styles\":\"ready\",\"skins.vector.search.codex.styles\":\"ready\",\"skins.vector.styles\":\"ready\",\"skins.vector.icons\":\"ready\",\"jquery.tablesorter.styles\":\"ready\",\"jquery.makeCollapsible.styles\":\"ready\",\"ext.wikimediamessages.styles\":\"ready\",\"ext.visualEditor.desktopArticleTarget.noscript\":\"ready\",\"ext.uls.interlanguage\":\"ready\",\"wikibase.client.init\":\"ready\",\"ext.wikimediaBadges\":\"ready\"};RLPAGEMODULES=[\"ext.cite.ux-enhancements\",\"ext.imagemap\",\"ext.scribunto.logs\",\"site\",\"mediawiki.page.ready\",\"jquery.tablesorter\",\n",
      "\"jquery.makeCollapsible\",\"mediawiki.toc\",\"skins.vector.js\",\"ext.centralNotice.geoIP\",\"ext.centralNotice.startUp\",\"ext.gadget.ReferenceTooltips\",\"ext.gadget.switcher\",\"ext.urlShortener.toolbar\",\"ext.centralauth.centralautologin\",\"mmv.bootstrap\",\"ext.popups\",\"ext.visualEditor.desktopArticleTarget.init\",\"ext.visualEditor.targetLoader\",\"ext.echo.centralauth\",\"ext.eventLogging\",\"ext.wikimediaEvents\",\"ext.navigationTiming\",\"ext.uls.interface\",\"ext.cx.eventlogging.campaigns\",\"ext.cx.uls.quick.actions\",\"wikibase.client.vector-2022\",\"ext.checkUser.clientHints\",\"ext.growthExperiments.SuggestedEditSession\"];</script>\n",
      "<script>(RLQ=window.RLQ||[]).push(function(){mw.loader.impl(function(){return[\"user.options@12s5i\",function($,jQuery,require,module){mw.user.tokens.set({\"patrolToken\":\"+\\\\\",\"watchToken\":\"+\\\\\",\"csrfToken\":\"+\\\\\"});\n",
      "}];});});</script>\n",
      "<link href=\"/w/load.php?lang=en&amp;modules=ext.cite.styles%7Cext.imagemap.styles%7Cext.uls.interlanguage%7Cext.visualEditor.desktopArticleTarget.noscript%7Cext.wikimediaBadges%7Cext.wikimediamessages.styles%7Cjquery.makeCollapsible.styles%7Cjquery.tablesorter.styles%7Cskins.vector.icons%2Cstyles%7Cskins.vector.search.codex.styles%7Cwikibase.client.init&amp;only=styles&amp;skin=vector-2022\" rel=\"stylesheet\"/>\n",
      "<script async=\"\" src=\"/w/load.php?lang=en&amp;modules=startup&amp;only=scripts&amp;raw=1&amp;skin=vector-2022\"></script>\n",
      "<meta content=\"\" name=\"ResourceLoaderDynamicStyles\"/>\n",
      "<link href=\"/w/load.php?lang=en&amp;modules=site.styles&amp;only=styles&amp;skin=vector-2022\" rel=\"stylesheet\"/>\n",
      "<meta content=\"MediaWiki 1.44.0-wmf.6\" name=\"generator\"/>\n",
      "<meta content=\"origin\" name=\"referrer\"/>\n",
      "<meta content=\"origin-when-cross-origin\" name=\"referrer\"/>\n",
      "<meta content=\"max-image-preview:standard\" name=\"robots\"/>\n",
      "<meta content=\"telephone=no\" name=\"format-detection\"/>\n",
      "<meta content=\"https://upload.wikimedia.org/wikipedia/commons/thumb/1/18/Nigeria_location_map.svg/1200px-Nigeria_location_map.svg.png\" property=\"og:image\"/>\n",
      "<meta content=\"1200\" property=\"og:image:width\"/>\n",
      "<meta content=\"923\" property=\"og:image:height\"/>\n",
      "<meta content=\"https://upload.wikimedia.org/wikipedia/commons/thumb/1/18/Nigeria_location_map.svg/800px-Nigeria_location_map.svg.png\" property=\"og:image\"/>\n",
      "<meta content=\"800\" property=\"og:image:width\"/>\n",
      "<meta content=\"616\" property=\"og:image:height\"/>\n",
      "<meta content=\"https://upload.wikimedia.org/wikipedia/commons/thumb/1/18/Nigeria_location_map.svg/640px-Nigeria_location_map.svg.png\" property=\"og:image\"/>\n",
      "<meta content=\"640\" property=\"og:image:width\"/>\n",
      "<meta content=\"492\" property=\"og:image:height\"/>\n",
      "<meta content=\"width=1120\" name=\"viewport\"/>\n",
      "<meta content=\"States of Nigeria - Wikipedia\" property=\"og:title\"/>\n",
      "<meta content=\"website\" property=\"og:type\"/>\n",
      "<link href=\"//upload.wikimedia.org\" rel=\"preconnect\"/>\n",
      "<link href=\"//en.m.wikipedia.org/wiki/States_of_Nigeria\" media=\"only screen and (max-width: 640px)\" rel=\"alternate\"/>\n",
      "<link href=\"/w/index.php?title=States_of_Nigeria&amp;action=edit\" rel=\"alternate\" title=\"Edit this page\" type=\"application/x-wiki\"/>\n",
      "<link href=\"/static/apple-touch/wikipedia.png\" rel=\"apple-touch-icon\"/>\n",
      "<link href=\"/static/favicon/wikipedia.ico\" rel=\"icon\"/>\n",
      "<link href=\"/w/rest.php/v1/search\" rel=\"search\" title=\"Wikipedia (en)\" type=\"application/opensearchdescription+xml\"/>\n",
      "<link href=\"//en.wikipedia.org/w/api.php?action=rsd\" rel=\"EditURI\" type=\"application/rsd+xml\"/>\n",
      "<link href=\"https://en.wikipedia.org/wiki/States_of_Nigeria\" rel=\"canonical\"/>\n",
      "<link href=\"https://creativecommons.org/licenses/by-sa/4.0/deed.en\" rel=\"license\"/>\n",
      "<link href=\"/w/index.php?title=Special:RecentChanges&amp;feed=atom\" rel=\"alternate\" title=\"Wikipedia Atom feed\" type=\"application/atom+xml\"/>\n",
      "<link href=\"//meta.wikimedia.org\" rel=\"dns-prefetch\">\n",
      "<link href=\"login.wikimedia.org\" rel=\"dns-prefetch\"/>\n",
      "</link></head>\n",
      "<body class=\"skin--responsive skin-vector skin-vector-search-vue mediawiki ltr sitedir-ltr mw-hide-empty-elt ns-0 ns-subject mw-editable page-States_of_Nigeria rootpage-States_of_Nigeria skin-vector-2022 action-view\"><a class=\"mw-jump-link\" href=\"#bodyContent\">Jump to content</a>\n",
      "<div class=\"vector-header-container\">\n",
      "<header class=\"vector-header mw-header\">\n",
      "<div class=\"vector-header-start\">\n",
      "<nav aria-label=\"Site\" class=\"vector-main-menu-landmark\">\n",
      "<div class=\"vector-dropdown vector-main-menu-dropdown vector-button-flush-left vector-button-flush-right\" id=\"vector-main-menu-dropdown\">\n",
      "<input aria-haspopup=\"true\" aria-label=\"Main menu\" class=\"vector-dropdown-checkbox\" data-event-name=\"ui.dropdown-vector-main-menu-dropdown\" id=\"vector-main-menu-dropdown-checkbox\" role=\"button\" type=\"checkbox\"/>\n",
      "<label aria-hidden=\"true\" class=\"vector-dropdown-label cdx-button cdx-button--fake-button cdx-button--fake-button--enabled cdx-button--weight-quiet cdx-button--icon-only\" for=\"vector-main-menu-dropdown-checkbox\" id=\"vector-main-menu-dropdown-label\"><span class=\"vector-icon mw-ui-icon-menu mw-ui-icon-wikimedia-menu\"></span>\n",
      "<span class=\"vector-dropdown-label-text\">Main menu</span>\n",
      "</label>\n",
      "<div class=\"vector-dropdown-content\">\n",
      "<div class=\"vector-unpinned-container\" id=\"vector-main-menu-unpinned-container\">\n",
      "<div class=\"vector-main-menu vector-pinnable-element\" id=\"vector-main-menu\">\n",
      "<div class=\"vector-pinnable-header vector-main-menu-pinnable-header vector-pinnable-header-unpinned\" data-feature-name=\"main-menu-pinned\" data-pinnable-element-id=\"vector-main-menu\" data-pinned-container-id=\"vector-main-menu-pinned-container\" data-unpinned-container-id=\"vector-main-menu-unpinned-container\">\n",
      "<div class=\"vector-pinnable-header-label\">Main menu</div>\n",
      "<button class=\"vector-pinnable-header-toggle-button vector-pinnable-header-pin-button\" data-event-name=\"pinnable-header.vector-main-menu.pin\">move to sidebar</button>\n",
      "<button class=\"vector-pinnable-header-toggle-button vector-pinnable-header-unpin-button\" data-event-name=\"pinnable-header.vector-main-menu.unpin\">hide</button>\n",
      "</div>\n",
      "<div class=\"vector-menu mw-portlet mw-portlet-navigation\" id=\"p-navigation\">\n",
      "<div class=\"vector-menu-heading\">\n",
      "\t\tNavigation\n",
      "\t</div>\n",
      "<div class=\"vector-menu-content\">\n",
      "<ul class=\"vector-menu-content-list\">\n",
      "<li class=\"mw-list-item\" id=\"n-mainpage-description\"><a accesskey=\"z\" href=\"/wiki/Main_Page\" title=\"Visit the main page [z]\"><span>Main page</span></a></li><li class=\"mw-list-item\" id=\"n-contents\"><a href=\"/wiki/Wikipedia:Contents\" title=\"Guides to browsing Wikipedia\"><span>Contents</span></a></li><li class=\"mw-list-item\" id=\"n-currentevents\"><a href=\"/wiki/Portal:Current_events\" title=\"Articles related to current events\"><span>Current events</span></a></li><li class=\"mw-list-item\" id=\"n-randompage\"><a accesskey=\"x\" href=\"/wiki/Special:Random\" title=\"Visit a randomly selected article [x]\"><span>Random article</span></a></li><li class=\"mw-list-item\" id=\"n-aboutsite\"><a href=\"/wiki/Wikipedia:About\" title=\"Learn about Wikipedia and how it works\"><span>About Wikipedia</span></a></li><li class=\"mw-list-item\" id=\"n-contactpage\"><a href=\"//en.wikipedia.org/wiki/Wikipedia:Contact_us\" title=\"How to contact Wikipedia\"><span>Contact us</span></a></li>\n",
      "</ul>\n",
      "</div>\n",
      "</div>\n",
      "<div class=\"vector-menu mw-portlet mw-portlet-interaction\" id=\"p-interaction\">\n",
      "<div class=\"vector-menu-heading\">\n",
      "\t\tContribute\n",
      "\t</div>\n",
      "<div class=\"vector-menu-content\">\n",
      "<ul class=\"vector-menu-content-list\">\n",
      "<li class=\"mw-list-item\" id=\"n-help\"><a href=\"/wiki/Help:Contents\" title=\"Guidance on how to use and edit Wikipedia\"><span>Help</span></a></li><li class=\"mw-list-item\" id=\"n-introduction\"><a href=\"/wiki/Help:Introduction\" title=\"Learn how to edit Wikipedia\"><span>Learn to edit</span></a></li><li class=\"mw-list-item\" id=\"n-portal\"><a href=\"/wiki/Wikipedia:Community_portal\" title=\"The hub for editors\"><span>Community portal</span></a></li><li class=\"mw-list-item\" id=\"n-recentchanges\"><a accesskey=\"r\" href=\"/wiki/Special:RecentChanges\" title=\"A list of recent changes to Wikipedia [r]\"><span>Recent changes</span></a></li><li class=\"mw-list-item\" id=\"n-upload\"><a href=\"/wiki/Wikipedia:File_upload_wizard\" title=\"Add images or other media for use on Wikipedia\"><span>Upload file</span></a></li>\n",
      "</ul>\n",
      "</div>\n",
      "</div>\n",
      "</div>\n",
      "</div>\n",
      "</div>\n",
      "</div>\n",
      "</nav>\n",
      "<a class=\"mw-logo\" href=\"/wiki/Main_Page\">\n",
      "<img alt=\"\" aria-hidden=\"true\" class=\"mw-logo-icon\" height=\"50\" src=\"/static/images/icons/wikipedia.png\" width=\"50\"/>\n",
      "<span class=\"mw-logo-container skin-invert\">\n",
      "<img alt=\"Wikipedia\" class=\"mw-logo-wordmark\" src=\"/static/images/mobile/copyright/wikipedia-wordmark-en.svg\" style=\"width: 7.5em; height: 1.125em;\"/>\n",
      "<img alt=\"The Free Encyclopedia\" class=\"mw-logo-tagline\" height=\"13\" src=\"/static/images/mobile/copyright/wikipedia-tagline-en.svg\" style=\"width: 7.3125em; height: 0.8125em;\" width=\"117\"/>\n",
      "</span>\n",
      "</a>\n",
      "</div>\n",
      "<div class=\"vector-header-end\">\n",
      "<div class=\"vector-search-box-vue vector-search-box-collapses vector-search-box-show-thumbnail vector-search-box-auto-expand-width vector-search-box\" id=\"p-search\" role=\"search\">\n",
      "<a accesskey=\"f\" class=\"cdx-button cdx-button--fake-button cdx-button--fake-button--enabled cdx-button--weight-quiet cdx-button--icon-only search-toggle\" href=\"/wiki/Special:Search\" title=\"Search Wikipedia [f]\"><span class=\"vector-icon mw-ui-icon-search mw-ui-icon-wikimedia-search\"></span>\n",
      "<span>Search</span>\n",
      "</a>\n",
      "<div class=\"vector-typeahead-search-container\">\n",
      "<div class=\"cdx-typeahead-search cdx-typeahead-search--show-thumbnail cdx-typeahead-search--auto-expand-width\">\n",
      "<form action=\"/w/index.php\" class=\"cdx-search-input cdx-search-input--has-end-button\" id=\"searchform\">\n",
      "<div class=\"cdx-search-input__input-wrapper\" data-search-loc=\"header-moved\" id=\"simpleSearch\">\n",
      "<div class=\"cdx-text-input cdx-text-input--has-start-icon\">\n",
      "<input accesskey=\"f\" aria-label=\"Search Wikipedia\" autocapitalize=\"sentences\" class=\"cdx-text-input__input\" id=\"searchInput\" name=\"search\" placeholder=\"Search Wikipedia\" title=\"Search Wikipedia [f]\" type=\"search\"/>\n",
      "<span class=\"cdx-text-input__icon cdx-text-input__start-icon\"></span>\n",
      "</div>\n",
      "<input name=\"title\" type=\"hidden\" value=\"Special:Search\"/>\n",
      "</div>\n",
      "<button class=\"cdx-button cdx-search-input__end-button\">Search</button>\n",
      "</form>\n",
      "</div>\n",
      "</div>\n",
      "</div>\n",
      "<nav aria-label=\"Personal tools\" class=\"vector-user-links vector-user-links-wide\">\n",
      "<div class=\"vector-user-links-main\">\n",
      "<div class=\"vector-menu mw-portlet emptyPortlet\" id=\"p-vector-user-menu-preferences\">\n",
      "<div class=\"vector-menu-content\">\n",
      "<ul class=\"vector-menu-content-list\">\n",
      "</ul>\n",
      "</div>\n",
      "</div>\n",
      "<div class=\"vector-menu mw-portlet emptyPortlet\" id=\"p-vector-user-menu-userpage\">\n",
      "<div class=\"vector-menu-content\">\n",
      "<ul class=\"vector-menu-content-list\">\n",
      "</ul>\n",
      "</div>\n",
      "</div>\n",
      "<nav aria-label=\"Appearance\" class=\"vector-appearance-landmark\">\n",
      "<div class=\"vector-dropdown\" id=\"vector-appearance-dropdown\" title=\"Change the appearance of the page's font size, width, and color\">\n",
      "<input aria-haspopup=\"true\" aria-label=\"Appearance\" class=\"vector-dropdown-checkbox\" data-event-name=\"ui.dropdown-vector-appearance-dropdown\" id=\"vector-appearance-dropdown-checkbox\" role=\"button\" type=\"checkbox\"/>\n",
      "<label aria-hidden=\"true\" class=\"vector-dropdown-label cdx-button cdx-button--fake-button cdx-button--fake-button--enabled cdx-button--weight-quiet cdx-button--icon-only\" for=\"vector-appearance-dropdown-checkbox\" id=\"vector-appearance-dropdown-label\"><span class=\"vector-icon mw-ui-icon-appearance mw-ui-icon-wikimedia-appearance\"></span>\n",
      "<span class=\"vector-dropdown-label-text\">Appearance</span>\n",
      "</label>\n",
      "<div class=\"vector-dropdown-content\">\n",
      "<div class=\"vector-unpinned-container\" id=\"vector-appearance-unpinned-container\">\n",
      "</div>\n",
      "</div>\n",
      "</div>\n",
      "</nav>\n",
      "<div class=\"vector-menu mw-portlet emptyPortlet\" id=\"p-vector-user-menu-notifications\">\n",
      "<div class=\"vector-menu-content\">\n",
      "<ul class=\"vector-menu-content-list\">\n",
      "</ul>\n",
      "</div>\n",
      "</div>\n",
      "<div class=\"vector-menu mw-portlet\" id=\"p-vector-user-menu-overflow\">\n",
      "<div class=\"vector-menu-content\">\n",
      "<ul class=\"vector-menu-content-list\">\n",
      "<li class=\"user-links-collapsible-item mw-list-item user-links-collapsible-item\" id=\"pt-sitesupport-2\"><a class=\"\" data-mw=\"interface\" href=\"https://donate.wikimedia.org/?wmf_source=donate&amp;wmf_medium=sidebar&amp;wmf_campaign=en.wikipedia.org&amp;uselang=en\"><span>Donate</span></a>\n",
      "</li>\n",
      "<li class=\"user-links-collapsible-item mw-list-item user-links-collapsible-item\" id=\"pt-createaccount-2\"><a class=\"\" data-mw=\"interface\" href=\"/w/index.php?title=Special:CreateAccount&amp;returnto=States+of+Nigeria\" title=\"You are encouraged to create an account and log in; however, it is not mandatory\"><span>Create account</span></a>\n",
      "</li>\n",
      "<li class=\"user-links-collapsible-item mw-list-item user-links-collapsible-item\" id=\"pt-login-2\"><a accesskey=\"o\" class=\"\" data-mw=\"interface\" href=\"/w/index.php?title=Special:UserLogin&amp;returnto=States+of+Nigeria\" title=\"You're encouraged to log in; however, it's not mandatory. [o]\"><span>Log in</span></a>\n",
      "</li>\n",
      "</ul>\n",
      "</div>\n",
      "</div>\n",
      "</div>\n",
      "<div class=\"vector-dropdown vector-user-menu vector-button-flush-right vector-user-menu-logged-out\" id=\"vector-user-links-dropdown\" title=\"Log in and more options\">\n",
      "<input aria-haspopup=\"true\" aria-label=\"Personal tools\" class=\"vector-dropdown-checkbox\" data-event-name=\"ui.dropdown-vector-user-links-dropdown\" id=\"vector-user-links-dropdown-checkbox\" role=\"button\" type=\"checkbox\"/>\n",
      "<label aria-hidden=\"true\" class=\"vector-dropdown-label cdx-button cdx-button--fake-button cdx-button--fake-button--enabled cdx-button--weight-quiet cdx-button--icon-only\" for=\"vector-user-links-dropdown-checkbox\" id=\"vector-user-links-dropdown-label\"><span class=\"vector-icon mw-ui-icon-ellipsis mw-ui-icon-wikimedia-ellipsis\"></span>\n",
      "<span class=\"vector-dropdown-label-text\">Personal tools</span>\n",
      "</label>\n",
      "<div class=\"vector-dropdown-content\">\n",
      "<div class=\"vector-menu mw-portlet mw-portlet-personal user-links-collapsible-item\" id=\"p-personal\" title=\"User menu\">\n",
      "<div class=\"vector-menu-content\">\n",
      "<ul class=\"vector-menu-content-list\">\n",
      "<li class=\"user-links-collapsible-item mw-list-item\" id=\"pt-sitesupport\"><a href=\"https://donate.wikimedia.org/?wmf_source=donate&amp;wmf_medium=sidebar&amp;wmf_campaign=en.wikipedia.org&amp;uselang=en\"><span>Donate</span></a></li><li class=\"user-links-collapsible-item mw-list-item\" id=\"pt-createaccount\"><a href=\"/w/index.php?title=Special:CreateAccount&amp;returnto=States+of+Nigeria\" title=\"You are encouraged to create an account and log in; however, it is not mandatory\"><span class=\"vector-icon mw-ui-icon-userAdd mw-ui-icon-wikimedia-userAdd\"></span> <span>Create account</span></a></li><li class=\"user-links-collapsible-item mw-list-item\" id=\"pt-login\"><a accesskey=\"o\" href=\"/w/index.php?title=Special:UserLogin&amp;returnto=States+of+Nigeria\" title=\"You're encouraged to log in; however, it's not mandatory. [o]\"><span class=\"vector-icon mw-ui-icon-logIn mw-ui-icon-wikimedia-logIn\"></span> <span>Log in</span></a></li>\n",
      "</ul>\n",
      "</div>\n",
      "</div>\n",
      "<div class=\"vector-menu mw-portlet mw-portlet-user-menu-anon-editor\" id=\"p-user-menu-anon-editor\">\n",
      "<div class=\"vector-menu-heading\">\n",
      "\t\tPages for logged out editors <a aria-label=\"Learn more about editing\" href=\"/wiki/Help:Introduction\"><span>learn more</span></a>\n",
      "</div>\n",
      "<div class=\"vector-menu-content\">\n",
      "<ul class=\"vector-menu-content-list\">\n",
      "<li class=\"mw-list-item\" id=\"pt-anoncontribs\"><a accesskey=\"y\" href=\"/wiki/Special:MyContributions\" title=\"A list of edits made from this IP address [y]\"><span>Contributions</span></a></li><li class=\"mw-list-item\" id=\"pt-anontalk\"><a accesskey=\"n\" href=\"/wiki/Special:MyTalk\" title=\"Discussion about edits from this IP address [n]\"><span>Talk</span></a></li>\n",
      "</ul>\n",
      "</div>\n",
      "</div>\n",
      "</div>\n",
      "</div>\n",
      "</nav>\n",
      "</div>\n",
      "</header>\n",
      "</div>\n",
      "<div class=\"mw-page-container\">\n",
      "<div class=\"mw-page-container-inner\">\n",
      "<div class=\"vector-sitenotice-container\">\n",
      "<div id=\"siteNotice\"><!-- CentralNotice --></div>\n",
      "</div>\n",
      "<div class=\"vector-column-start\">\n",
      "<div class=\"vector-main-menu-container\">\n",
      "<div id=\"mw-navigation\">\n",
      "<nav aria-label=\"Site\" class=\"vector-main-menu-landmark\" id=\"mw-panel\">\n",
      "<div class=\"vector-pinned-container\" id=\"vector-main-menu-pinned-container\">\n",
      "</div>\n",
      "</nav>\n",
      "</div>\n",
      "</div>\n",
      "<div class=\"vector-sticky-pinned-container\">\n",
      "<nav aria-label=\"Contents\" class=\"mw-table-of-contents-container vector-toc-landmark\" data-event-name=\"ui.sidebar-toc\" id=\"mw-panel-toc\">\n",
      "<div class=\"vector-pinned-container\" id=\"vector-toc-pinned-container\">\n",
      "<div class=\"vector-toc vector-pinnable-element\" id=\"vector-toc\">\n",
      "<div class=\"vector-pinnable-header vector-toc-pinnable-header vector-pinnable-header-pinned\" data-feature-name=\"toc-pinned\" data-pinnable-element-id=\"vector-toc\">\n",
      "<h2 class=\"vector-pinnable-header-label\">Contents</h2>\n",
      "<button class=\"vector-pinnable-header-toggle-button vector-pinnable-header-pin-button\" data-event-name=\"pinnable-header.vector-toc.pin\">move to sidebar</button>\n",
      "<button class=\"vector-pinnable-header-toggle-button vector-pinnable-header-unpin-button\" data-event-name=\"pinnable-header.vector-toc.unpin\">hide</button>\n",
      "</div>\n",
      "<ul class=\"vector-toc-contents\" id=\"mw-panel-toc-list\">\n",
      "<li class=\"vector-toc-list-item vector-toc-level-1\" id=\"toc-mw-content-text\">\n",
      "<a class=\"vector-toc-link\" href=\"#\">\n",
      "<div class=\"vector-toc-text\">(Top)</div>\n",
      "</a>\n",
      "</li>\n",
      "<li class=\"vector-toc-list-item vector-toc-level-1 vector-toc-list-item-expanded\" id=\"toc-Current_states_and_the_Federal_Capital_Territory\">\n",
      "<a class=\"vector-toc-link\" href=\"#Current_states_and_the_Federal_Capital_Territory\">\n",
      "<div class=\"vector-toc-text\">\n",
      "<span class=\"vector-toc-numb\">1</span>\n",
      "<span>Current states and the Federal Capital Territory</span>\n",
      "</div>\n",
      "</a>\n",
      "<ul class=\"vector-toc-list\" id=\"toc-Current_states_and_the_Federal_Capital_Territory-sublist\">\n",
      "</ul>\n",
      "</li>\n",
      "<li class=\"vector-toc-list-item vector-toc-level-1 vector-toc-list-item-expanded\" id=\"toc-Evolution_of_Nigerian_administrative_divisions\">\n",
      "<a class=\"vector-toc-link\" href=\"#Evolution_of_Nigerian_administrative_divisions\">\n",
      "<div class=\"vector-toc-text\">\n",
      "<span class=\"vector-toc-numb\">2</span>\n",
      "<span>Evolution of Nigerian administrative divisions</span>\n",
      "</div>\n",
      "</a>\n",
      "<ul class=\"vector-toc-list\" id=\"toc-Evolution_of_Nigerian_administrative_divisions-sublist\">\n",
      "</ul>\n",
      "</li>\n",
      "<li class=\"vector-toc-list-item vector-toc-level-1 vector-toc-list-item-expanded\" id=\"toc-Government\">\n",
      "<a class=\"vector-toc-link\" href=\"#Government\">\n",
      "<div class=\"vector-toc-text\">\n",
      "<span class=\"vector-toc-numb\">3</span>\n",
      "<span>Government</span>\n",
      "</div>\n",
      "</a>\n",
      "<button aria-controls=\"toc-Government-sublist\" class=\"cdx-button cdx-button--weight-quiet cdx-button--icon-only vector-toc-toggle\">\n",
      "<span class=\"vector-icon mw-ui-icon-wikimedia-expand\"></span>\n",
      "<span>Toggle Government subsection</span>\n",
      "</button>\n",
      "<ul class=\"vector-toc-list\" id=\"toc-Government-sublist\">\n",
      "<li class=\"vector-toc-list-item vector-toc-level-2\" id=\"toc-Legislature\">\n",
      "<a class=\"vector-toc-link\" href=\"#Legislature\">\n",
      "<div class=\"vector-toc-text\">\n",
      "<span class=\"vector-toc-numb\">3.1</span>\n",
      "<span>Legislature</span>\n",
      "</div>\n",
      "</a>\n",
      "<ul class=\"vector-toc-list\" id=\"toc-Legislature-sublist\">\n",
      "</ul>\n",
      "</li>\n",
      "<li class=\"vector-toc-list-item vector-toc-level-2\" id=\"toc-Executive\">\n",
      "<a class=\"vector-toc-link\" href=\"#Executive\">\n",
      "<div class=\"vector-toc-text\">\n",
      "<span class=\"vector-toc-numb\">3.2</span>\n",
      "<span>Executive</span>\n",
      "</div>\n",
      "</a>\n",
      "<ul class=\"vector-toc-list\" id=\"toc-Executive-sublist\">\n",
      "</ul>\n",
      "</li>\n",
      "<li class=\"vector-toc-list-item vector-toc-level-2\" id=\"toc-Judiciary\">\n",
      "<a class=\"vector-toc-link\" href=\"#Judiciary\">\n",
      "<div class=\"vector-toc-text\">\n",
      "<span class=\"vector-toc-numb\">3.3</span>\n",
      "<span>Judiciary</span>\n",
      "</div>\n",
      "</a>\n",
      "<ul class=\"vector-toc-list\" id=\"toc-Judiciary-sublist\">\n",
      "</ul>\n",
      "</li>\n",
      "</ul>\n",
      "</li>\n",
      "<li class=\"vector-toc-list-item vector-toc-level-1 vector-toc-list-item-expanded\" id=\"toc-Chronology\">\n",
      "<a class=\"vector-toc-link\" href=\"#Chronology\">\n",
      "<div class=\"vector-toc-text\">\n",
      "<span class=\"vector-toc-numb\">4</span>\n",
      "<span>Chronology</span>\n",
      "</div>\n",
      "</a>\n",
      "<ul class=\"vector-toc-list\" id=\"toc-Chronology-sublist\">\n",
      "</ul>\n",
      "</li>\n",
      "<li class=\"vector-toc-list-item vector-toc-level-1 vector-toc-list-item-expanded\" id=\"toc-See_also\">\n",
      "<a class=\"vector-toc-link\" href=\"#See_also\">\n",
      "<div class=\"vector-toc-text\">\n",
      "<span class=\"vector-toc-numb\">5</span>\n",
      "<span>See also</span>\n",
      "</div>\n",
      "</a>\n",
      "<ul class=\"vector-toc-list\" id=\"toc-See_also-sublist\">\n",
      "</ul>\n",
      "</li>\n",
      "<li class=\"vector-toc-list-item vector-toc-level-1 vector-toc-list-item-expanded\" id=\"toc-Notes\">\n",
      "<a class=\"vector-toc-link\" href=\"#Notes\">\n",
      "<div class=\"vector-toc-text\">\n",
      "<span class=\"vector-toc-numb\">6</span>\n",
      "<span>Notes</span>\n",
      "</div>\n",
      "</a>\n",
      "<ul class=\"vector-toc-list\" id=\"toc-Notes-sublist\">\n",
      "</ul>\n",
      "</li>\n",
      "<li class=\"vector-toc-list-item vector-toc-level-1 vector-toc-list-item-expanded\" id=\"toc-Sources\">\n",
      "<a class=\"vector-toc-link\" href=\"#Sources\">\n",
      "<div class=\"vector-toc-text\">\n",
      "<span class=\"vector-toc-numb\">7</span>\n",
      "<span>Sources</span>\n",
      "</div>\n",
      "</a>\n",
      "<ul class=\"vector-toc-list\" id=\"toc-Sources-sublist\">\n",
      "</ul>\n",
      "</li>\n",
      "<li class=\"vector-toc-list-item vector-toc-level-1 vector-toc-list-item-expanded\" id=\"toc-External_links\">\n",
      "<a class=\"vector-toc-link\" href=\"#External_links\">\n",
      "<div class=\"vector-toc-text\">\n",
      "<span class=\"vector-toc-numb\">8</span>\n",
      "<span>External links</span>\n",
      "</div>\n",
      "</a>\n",
      "<ul class=\"vector-toc-list\" id=\"toc-External_links-sublist\">\n",
      "</ul>\n",
      "</li>\n",
      "</ul>\n",
      "</div>\n",
      "</div>\n",
      "</nav>\n",
      "</div>\n",
      "</div>\n",
      "<div class=\"mw-content-container\">\n",
      "<main class=\"mw-body\" id=\"content\">\n",
      "<header class=\"mw-body-header vector-page-titlebar\">\n",
      "<nav aria-label=\"Contents\" class=\"vector-toc-landmark\">\n",
      "<div class=\"vector-dropdown vector-page-titlebar-toc vector-button-flush-left\" id=\"vector-page-titlebar-toc\">\n",
      "<input aria-haspopup=\"true\" aria-label=\"Toggle the table of contents\" class=\"vector-dropdown-checkbox\" data-event-name=\"ui.dropdown-vector-page-titlebar-toc\" id=\"vector-page-titlebar-toc-checkbox\" role=\"button\" type=\"checkbox\"/>\n",
      "<label aria-hidden=\"true\" class=\"vector-dropdown-label cdx-button cdx-button--fake-button cdx-button--fake-button--enabled cdx-button--weight-quiet cdx-button--icon-only\" for=\"vector-page-titlebar-toc-checkbox\" id=\"vector-page-titlebar-toc-label\"><span class=\"vector-icon mw-ui-icon-listBullet mw-ui-icon-wikimedia-listBullet\"></span>\n",
      "<span class=\"vector-dropdown-label-text\">Toggle the table of contents</span>\n",
      "</label>\n",
      "<div class=\"vector-dropdown-content\">\n",
      "<div class=\"vector-unpinned-container\" id=\"vector-page-titlebar-toc-unpinned-container\">\n",
      "</div>\n",
      "</div>\n",
      "</div>\n",
      "</nav>\n",
      "<h1 class=\"firstHeading mw-first-heading\" id=\"firstHeading\"><span class=\"mw-page-title-main\">States of Nigeria</span></h1>\n",
      "<div class=\"vector-dropdown mw-portlet mw-portlet-lang\" id=\"p-lang-btn\">\n",
      "<input aria-haspopup=\"true\" aria-label=\"Go to an article in another language. Available in 34 languages\" class=\"vector-dropdown-checkbox mw-interlanguage-selector\" data-event-name=\"ui.dropdown-p-lang-btn\" id=\"p-lang-btn-checkbox\" role=\"button\" type=\"checkbox\"/>\n",
      "<label aria-hidden=\"true\" class=\"vector-dropdown-label cdx-button cdx-button--fake-button cdx-button--fake-button--enabled cdx-button--weight-quiet cdx-button--action-progressive mw-portlet-lang-heading-34\" for=\"p-lang-btn-checkbox\" id=\"p-lang-btn-label\"><span class=\"vector-icon mw-ui-icon-language-progressive mw-ui-icon-wikimedia-language-progressive\"></span>\n",
      "<span class=\"vector-dropdown-label-text\">34 languages</span>\n",
      "</label>\n",
      "<div class=\"vector-dropdown-content\">\n",
      "<div class=\"vector-menu-content\">\n",
      "<ul class=\"vector-menu-content-list\">\n",
      "<li class=\"interlanguage-link interwiki-ar mw-list-item\"><a class=\"interlanguage-link-target\" data-language-autonym=\"العربية\" data-language-local-name=\"Arabic\" data-title=\"ولايات نيجيريا\" href=\"https://ar.wikipedia.org/wiki/%D9%88%D9%84%D8%A7%D9%8A%D8%A7%D8%AA_%D9%86%D9%8A%D8%AC%D9%8A%D8%B1%D9%8A%D8%A7\" hreflang=\"ar\" lang=\"ar\" title=\"ولايات نيجيريا – Arabic\"><span>العربية</span></a></li><li class=\"interlanguage-link interwiki-bn mw-list-item\"><a class=\"interlanguage-link-target\" data-language-autonym=\"বাংলা\" data-language-local-name=\"Bangla\" data-title=\"নাইজেরিয়ার রাজ্য\" href=\"https://bn.wikipedia.org/wiki/%E0%A6%A8%E0%A6%BE%E0%A6%87%E0%A6%9C%E0%A7%87%E0%A6%B0%E0%A6%BF%E0%A6%AF%E0%A6%BC%E0%A6%BE%E0%A6%B0_%E0%A6%B0%E0%A6%BE%E0%A6%9C%E0%A7%8D%E0%A6%AF\" hreflang=\"bn\" lang=\"bn\" title=\"নাইজেরিয়ার রাজ্য – Bangla\"><span>বাংলা</span></a></li><li class=\"interlanguage-link interwiki-bar mw-list-item\"><a class=\"interlanguage-link-target\" data-language-autonym=\"Boarisch\" data-language-local-name=\"Bavarian\" data-title=\"Bundesstootn vo Nigeria\" href=\"https://bar.wikipedia.org/wiki/Bundesstootn_vo_Nigeria\" hreflang=\"bar\" lang=\"bar\" title=\"Bundesstootn vo Nigeria – Bavarian\"><span>Boarisch</span></a></li><li class=\"interlanguage-link interwiki-ca mw-list-item\"><a class=\"interlanguage-link-target\" data-language-autonym=\"Català\" data-language-local-name=\"Catalan\" data-title=\"Estats de Nigèria\" href=\"https://ca.wikipedia.org/wiki/Estats_de_Nig%C3%A8ria\" hreflang=\"ca\" lang=\"ca\" title=\"Estats de Nigèria – Catalan\"><span>Català</span></a></li><li class=\"interlanguage-link interwiki-da mw-list-item\"><a class=\"interlanguage-link-target\" data-language-autonym=\"Dansk\" data-language-local-name=\"Danish\" data-title=\"Nigerias delstater\" href=\"https://da.wikipedia.org/wiki/Nigerias_delstater\" hreflang=\"da\" lang=\"da\" title=\"Nigerias delstater – Danish\"><span>Dansk</span></a></li><li class=\"interlanguage-link interwiki-et mw-list-item\"><a class=\"interlanguage-link-target\" data-language-autonym=\"Eesti\" data-language-local-name=\"Estonian\" data-title=\"Osariik (Nigeeria)\" href=\"https://et.wikipedia.org/wiki/Osariik_(Nigeeria)\" hreflang=\"et\" lang=\"et\" title=\"Osariik (Nigeeria) – Estonian\"><span>Eesti</span></a></li><li class=\"interlanguage-link interwiki-es mw-list-item\"><a class=\"interlanguage-link-target\" data-language-autonym=\"Español\" data-language-local-name=\"Spanish\" data-title=\"Estados y territorios de Nigeria\" href=\"https://es.wikipedia.org/wiki/Estados_y_territorios_de_Nigeria\" hreflang=\"es\" lang=\"es\" title=\"Estados y territorios de Nigeria – Spanish\"><span>Español</span></a></li><li class=\"interlanguage-link interwiki-eo mw-list-item\"><a class=\"interlanguage-link-target\" data-language-autonym=\"Esperanto\" data-language-local-name=\"Esperanto\" data-title=\"Subŝtatoj de Niĝerio\" href=\"https://eo.wikipedia.org/wiki/Sub%C5%9Dtatoj_de_Ni%C4%9Derio\" hreflang=\"eo\" lang=\"eo\" title=\"Subŝtatoj de Niĝerio – Esperanto\"><span>Esperanto</span></a></li><li class=\"interlanguage-link interwiki-fa mw-list-item\"><a class=\"interlanguage-link-target\" data-language-autonym=\"فارسی\" data-language-local-name=\"Persian\" data-title=\"ایالت‌های نیجریه\" href=\"https://fa.wikipedia.org/wiki/%D8%A7%DB%8C%D8%A7%D9%84%D8%AA%E2%80%8C%D9%87%D8%A7%DB%8C_%D9%86%DB%8C%D8%AC%D8%B1%DB%8C%D9%87\" hreflang=\"fa\" lang=\"fa\" title=\"ایالت‌های نیجریه – Persian\"><span>فارسی</span></a></li><li class=\"interlanguage-link interwiki-fr mw-list-item\"><a class=\"interlanguage-link-target\" data-language-autonym=\"Français\" data-language-local-name=\"French\" data-title=\"États du Nigeria\" href=\"https://fr.wikipedia.org/wiki/%C3%89tats_du_Nigeria\" hreflang=\"fr\" lang=\"fr\" title=\"États du Nigeria – French\"><span>Français</span></a></li><li class=\"interlanguage-link interwiki-ha mw-list-item\"><a class=\"interlanguage-link-target\" data-language-autonym=\"Hausa\" data-language-local-name=\"Hausa\" data-title=\"Jerin jihohi a Nijeriya\" href=\"https://ha.wikipedia.org/wiki/Jerin_jihohi_a_Nijeriya\" hreflang=\"ha\" lang=\"ha\" title=\"Jerin jihohi a Nijeriya – Hausa\"><span>Hausa</span></a></li><li class=\"interlanguage-link interwiki-hi mw-list-item\"><a class=\"interlanguage-link-target\" data-language-autonym=\"हिन्दी\" data-language-local-name=\"Hindi\" data-title=\"नाइजीरिया के राज्य\" href=\"https://hi.wikipedia.org/wiki/%E0%A4%A8%E0%A4%BE%E0%A4%87%E0%A4%9C%E0%A5%80%E0%A4%B0%E0%A4%BF%E0%A4%AF%E0%A4%BE_%E0%A4%95%E0%A5%87_%E0%A4%B0%E0%A4%BE%E0%A4%9C%E0%A5%8D%E0%A4%AF\" hreflang=\"hi\" lang=\"hi\" title=\"नाइजीरिया के राज्य – Hindi\"><span>हिन्दी</span></a></li><li class=\"interlanguage-link interwiki-ig mw-list-item\"><a class=\"interlanguage-link-target\" data-language-autonym=\"Igbo\" data-language-local-name=\"Igbo\" data-title=\"Ora no na ime Naijiria\" href=\"https://ig.wikipedia.org/wiki/Ora_no_na_ime_Naijiria\" hreflang=\"ig\" lang=\"ig\" title=\"Ora no na ime Naijiria – Igbo\"><span>Igbo</span></a></li><li class=\"interlanguage-link interwiki-id mw-list-item\"><a class=\"interlanguage-link-target\" data-language-autonym=\"Bahasa Indonesia\" data-language-local-name=\"Indonesian\" data-title=\"Negara bagian di Nigeria\" href=\"https://id.wikipedia.org/wiki/Negara_bagian_di_Nigeria\" hreflang=\"id\" lang=\"id\" title=\"Negara bagian di Nigeria – Indonesian\"><span>Bahasa Indonesia</span></a></li><li class=\"interlanguage-link interwiki-it mw-list-item\"><a class=\"interlanguage-link-target\" data-language-autonym=\"Italiano\" data-language-local-name=\"Italian\" data-title=\"Stati federati della Nigeria\" href=\"https://it.wikipedia.org/wiki/Stati_federati_della_Nigeria\" hreflang=\"it\" lang=\"it\" title=\"Stati federati della Nigeria – Italian\"><span>Italiano</span></a></li><li class=\"interlanguage-link interwiki-he mw-list-item\"><a class=\"interlanguage-link-target\" data-language-autonym=\"עברית\" data-language-local-name=\"Hebrew\" data-title=\"מדינות ניגריה\" href=\"https://he.wikipedia.org/wiki/%D7%9E%D7%93%D7%99%D7%A0%D7%95%D7%AA_%D7%A0%D7%99%D7%92%D7%A8%D7%99%D7%94\" hreflang=\"he\" lang=\"he\" title=\"מדינות ניגריה – Hebrew\"><span>עברית</span></a></li><li class=\"interlanguage-link interwiki-ku mw-list-item\"><a class=\"interlanguage-link-target\" data-language-autonym=\"Kurdî\" data-language-local-name=\"Kurdish\" data-title=\"Parêzgehên Nîjeryayê\" href=\"https://ku.wikipedia.org/wiki/Par%C3%AAzgeh%C3%AAn_N%C3%AEjeryay%C3%AA\" hreflang=\"ku\" lang=\"ku\" title=\"Parêzgehên Nîjeryayê – Kurdish\"><span>Kurdî</span></a></li><li class=\"interlanguage-link interwiki-mrj mw-list-item\"><a class=\"interlanguage-link-target\" data-language-autonym=\"Кырык мары\" data-language-local-name=\"Western Mari\" data-title=\"Нигерин штатвлӓжӹ\" href=\"https://mrj.wikipedia.org/wiki/%D0%9D%D0%B8%D0%B3%D0%B5%D1%80%D0%B8%D0%BD_%D1%88%D1%82%D0%B0%D1%82%D0%B2%D0%BB%D3%93%D0%B6%D3%B9\" hreflang=\"mrj\" lang=\"mrj\" title=\"Нигерин штатвлӓжӹ – Western Mari\"><span>Кырык мары</span></a></li><li class=\"interlanguage-link interwiki-lt mw-list-item\"><a class=\"interlanguage-link-target\" data-language-autonym=\"Lietuvių\" data-language-local-name=\"Lithuanian\" data-title=\"Nigerijos valstijos\" href=\"https://lt.wikipedia.org/wiki/Nigerijos_valstijos\" hreflang=\"lt\" lang=\"lt\" title=\"Nigerijos valstijos – Lithuanian\"><span>Lietuvių</span></a></li><li class=\"interlanguage-link interwiki-mk mw-list-item\"><a class=\"interlanguage-link-target\" data-language-autonym=\"Македонски\" data-language-local-name=\"Macedonian\" data-title=\"Сојузни држави на Нигерија\" href=\"https://mk.wikipedia.org/wiki/%D0%A1%D0%BE%D1%98%D1%83%D0%B7%D0%BD%D0%B8_%D0%B4%D1%80%D0%B6%D0%B0%D0%B2%D0%B8_%D0%BD%D0%B0_%D0%9D%D0%B8%D0%B3%D0%B5%D1%80%D0%B8%D1%98%D0%B0\" hreflang=\"mk\" lang=\"mk\" title=\"Сојузни држави на Нигерија – Macedonian\"><span>Македонски</span></a></li><li class=\"interlanguage-link interwiki-ja mw-list-item\"><a class=\"interlanguage-link-target\" data-language-autonym=\"日本語\" data-language-local-name=\"Japanese\" data-title=\"ナイジェリアの州\" href=\"https://ja.wikipedia.org/wiki/%E3%83%8A%E3%82%A4%E3%82%B8%E3%82%A7%E3%83%AA%E3%82%A2%E3%81%AE%E5%B7%9E\" hreflang=\"ja\" lang=\"ja\" title=\"ナイジェリアの州 – Japanese\"><span>日本語</span></a></li><li class=\"interlanguage-link interwiki-no mw-list-item\"><a class=\"interlanguage-link-target\" data-language-autonym=\"Norsk bokmål\" data-language-local-name=\"Norwegian Bokmål\" data-title=\"Nigerias delstater\" href=\"https://no.wikipedia.org/wiki/Nigerias_delstater\" hreflang=\"nb\" lang=\"nb\" title=\"Nigerias delstater – Norwegian Bokmål\"><span>Norsk bokmål</span></a></li><li class=\"interlanguage-link interwiki-nn mw-list-item\"><a class=\"interlanguage-link-target\" data-language-autonym=\"Norsk nynorsk\" data-language-local-name=\"Norwegian Nynorsk\" data-title=\"Delstatar i Nigeria\" href=\"https://nn.wikipedia.org/wiki/Delstatar_i_Nigeria\" hreflang=\"nn\" lang=\"nn\" title=\"Delstatar i Nigeria – Norwegian Nynorsk\"><span>Norsk nynorsk</span></a></li><li class=\"interlanguage-link interwiki-pnb mw-list-item\"><a class=\"interlanguage-link-target\" data-language-autonym=\"پنجابی\" data-language-local-name=\"Western Punjabi\" data-title=\"نائجیریا دیاں ریاستاں\" href=\"https://pnb.wikipedia.org/wiki/%D9%86%D8%A7%D8%A6%D8%AC%DB%8C%D8%B1%DB%8C%D8%A7_%D8%AF%DB%8C%D8%A7%DA%BA_%D8%B1%DB%8C%D8%A7%D8%B3%D8%AA%D8%A7%DA%BA\" hreflang=\"pnb\" lang=\"pnb\" title=\"نائجیریا دیاں ریاستاں – Western Punjabi\"><span>پنجابی</span></a></li><li class=\"interlanguage-link interwiki-pt mw-list-item\"><a class=\"interlanguage-link-target\" data-language-autonym=\"Português\" data-language-local-name=\"Portuguese\" data-title=\"Estados da Nigéria\" href=\"https://pt.wikipedia.org/wiki/Estados_da_Nig%C3%A9ria\" hreflang=\"pt\" lang=\"pt\" title=\"Estados da Nigéria – Portuguese\"><span>Português</span></a></li><li class=\"interlanguage-link interwiki-sd mw-list-item\"><a class=\"interlanguage-link-target\" data-language-autonym=\"سنڌي\" data-language-local-name=\"Sindhi\" data-title=\"نائجيريا جون رياستون\" href=\"https://sd.wikipedia.org/wiki/%D9%86%D8%A7%D8%A6%D8%AC%D9%8A%D8%B1%D9%8A%D8%A7_%D8%AC%D9%88%D9%86_%D8%B1%D9%8A%D8%A7%D8%B3%D8%AA%D9%88%D9%86\" hreflang=\"sd\" lang=\"sd\" title=\"نائجيريا جون رياستون – Sindhi\"><span>سنڌي</span></a></li><li class=\"interlanguage-link interwiki-sr mw-list-item\"><a class=\"interlanguage-link-target\" data-language-autonym=\"Српски / srpski\" data-language-local-name=\"Serbian\" data-title=\"Државе Нигерије\" href=\"https://sr.wikipedia.org/wiki/%D0%94%D1%80%D0%B6%D0%B0%D0%B2%D0%B5_%D0%9D%D0%B8%D0%B3%D0%B5%D1%80%D0%B8%D1%98%D0%B5\" hreflang=\"sr\" lang=\"sr\" title=\"Државе Нигерије – Serbian\"><span>Српски / srpski</span></a></li><li class=\"interlanguage-link interwiki-fi mw-list-item\"><a class=\"interlanguage-link-target\" data-language-autonym=\"Suomi\" data-language-local-name=\"Finnish\" data-title=\"Nigerian osavaltiot\" href=\"https://fi.wikipedia.org/wiki/Nigerian_osavaltiot\" hreflang=\"fi\" lang=\"fi\" title=\"Nigerian osavaltiot – Finnish\"><span>Suomi</span></a></li><li class=\"interlanguage-link interwiki-sv mw-list-item\"><a class=\"interlanguage-link-target\" data-language-autonym=\"Svenska\" data-language-local-name=\"Swedish\" data-title=\"Nigerias delstater\" href=\"https://sv.wikipedia.org/wiki/Nigerias_delstater\" hreflang=\"sv\" lang=\"sv\" title=\"Nigerias delstater – Swedish\"><span>Svenska</span></a></li><li class=\"interlanguage-link interwiki-tr mw-list-item\"><a class=\"interlanguage-link-target\" data-language-autonym=\"Türkçe\" data-language-local-name=\"Turkish\" data-title=\"Nijerya'nın eyaletleri\" href=\"https://tr.wikipedia.org/wiki/Nijerya%27n%C4%B1n_eyaletleri\" hreflang=\"tr\" lang=\"tr\" title=\"Nijerya'nın eyaletleri – Turkish\"><span>Türkçe</span></a></li><li class=\"interlanguage-link interwiki-ur mw-list-item\"><a class=\"interlanguage-link-target\" data-language-autonym=\"اردو\" data-language-local-name=\"Urdu\" data-title=\"نائجیریا کی ریاستیں\" href=\"https://ur.wikipedia.org/wiki/%D9%86%D8%A7%D8%A6%D8%AC%DB%8C%D8%B1%DB%8C%D8%A7_%DA%A9%DB%8C_%D8%B1%DB%8C%D8%A7%D8%B3%D8%AA%DB%8C%DA%BA\" hreflang=\"ur\" lang=\"ur\" title=\"نائجیریا کی ریاستیں – Urdu\"><span>اردو</span></a></li><li class=\"interlanguage-link interwiki-vi mw-list-item\"><a class=\"interlanguage-link-target\" data-language-autonym=\"Tiếng Việt\" data-language-local-name=\"Vietnamese\" data-title=\"Bang của Nigeria\" href=\"https://vi.wikipedia.org/wiki/Bang_c%E1%BB%A7a_Nigeria\" hreflang=\"vi\" lang=\"vi\" title=\"Bang của Nigeria – Vietnamese\"><span>Tiếng Việt</span></a></li><li class=\"interlanguage-link interwiki-yo mw-list-item\"><a class=\"interlanguage-link-target\" data-language-autonym=\"Yorùbá\" data-language-local-name=\"Yoruba\" data-title=\"Àwọn Ìpínlẹ̀ Nàìjíríà\" href=\"https://yo.wikipedia.org/wiki/%C3%80w%E1%BB%8Dn_%C3%8Cp%C3%ADnl%E1%BA%B9%CC%80_N%C3%A0%C3%ACj%C3%ADr%C3%AD%C3%A0\" hreflang=\"yo\" lang=\"yo\" title=\"Àwọn Ìpínlẹ̀ Nàìjíríà – Yoruba\"><span>Yorùbá</span></a></li><li class=\"interlanguage-link interwiki-zh mw-list-item\"><a class=\"interlanguage-link-target\" data-language-autonym=\"中文\" data-language-local-name=\"Chinese\" data-title=\"尼日利亚州份\" href=\"https://zh.wikipedia.org/wiki/%E5%B0%BC%E6%97%A5%E5%88%A9%E4%BA%9A%E5%B7%9E%E4%BB%BD\" hreflang=\"zh\" lang=\"zh\" title=\"尼日利亚州份 – Chinese\"><span>中文</span></a></li>\n",
      "</ul>\n",
      "<div class=\"after-portlet after-portlet-lang\"><span class=\"wb-langlinks-edit wb-langlinks-link\"><a class=\"wbc-editpage\" href=\"https://www.wikidata.org/wiki/Special:EntityPage/Q465842#sitelinks-wikipedia\" title=\"Edit interlanguage links\">Edit links</a></span></div>\n",
      "</div>\n",
      "</div>\n",
      "</div>\n",
      "</header>\n",
      "<div class=\"vector-page-toolbar\">\n",
      "<div class=\"vector-page-toolbar-container\">\n",
      "<div id=\"left-navigation\">\n",
      "<nav aria-label=\"Namespaces\">\n",
      "<div class=\"vector-menu vector-menu-tabs mw-portlet mw-portlet-associated-pages\" id=\"p-associated-pages\">\n",
      "<div class=\"vector-menu-content\">\n",
      "<ul class=\"vector-menu-content-list\">\n",
      "<li class=\"selected vector-tab-noicon mw-list-item\" id=\"ca-nstab-main\"><a accesskey=\"c\" href=\"/wiki/States_of_Nigeria\" title=\"View the content page [c]\"><span>Article</span></a></li><li class=\"vector-tab-noicon mw-list-item\" id=\"ca-talk\"><a accesskey=\"t\" href=\"/wiki/Talk:States_of_Nigeria\" rel=\"discussion\" title=\"Discuss improvements to the content page [t]\"><span>Talk</span></a></li>\n",
      "</ul>\n",
      "</div>\n",
      "</div>\n",
      "<div class=\"vector-dropdown emptyPortlet\" id=\"vector-variants-dropdown\">\n",
      "<input aria-haspopup=\"true\" aria-label=\"Change language variant\" class=\"vector-dropdown-checkbox\" data-event-name=\"ui.dropdown-vector-variants-dropdown\" id=\"vector-variants-dropdown-checkbox\" role=\"button\" type=\"checkbox\"/>\n",
      "<label aria-hidden=\"true\" class=\"vector-dropdown-label cdx-button cdx-button--fake-button cdx-button--fake-button--enabled cdx-button--weight-quiet\" for=\"vector-variants-dropdown-checkbox\" id=\"vector-variants-dropdown-label\"><span class=\"vector-dropdown-label-text\">English</span>\n",
      "</label>\n",
      "<div class=\"vector-dropdown-content\">\n",
      "<div class=\"vector-menu mw-portlet mw-portlet-variants emptyPortlet\" id=\"p-variants\">\n",
      "<div class=\"vector-menu-content\">\n",
      "<ul class=\"vector-menu-content-list\">\n",
      "</ul>\n",
      "</div>\n",
      "</div>\n",
      "</div>\n",
      "</div>\n",
      "</nav>\n",
      "</div>\n",
      "<div class=\"vector-collapsible\" id=\"right-navigation\">\n",
      "<nav aria-label=\"Views\">\n",
      "<div class=\"vector-menu vector-menu-tabs mw-portlet mw-portlet-views\" id=\"p-views\">\n",
      "<div class=\"vector-menu-content\">\n",
      "<ul class=\"vector-menu-content-list\">\n",
      "<li class=\"selected vector-tab-noicon mw-list-item\" id=\"ca-view\"><a href=\"/wiki/States_of_Nigeria\"><span>Read</span></a></li><li class=\"vector-tab-noicon mw-list-item\" id=\"ca-edit\"><a accesskey=\"e\" href=\"/w/index.php?title=States_of_Nigeria&amp;action=edit\" title=\"Edit this page [e]\"><span>Edit</span></a></li><li class=\"vector-tab-noicon mw-list-item\" id=\"ca-history\"><a accesskey=\"h\" href=\"/w/index.php?title=States_of_Nigeria&amp;action=history\" title=\"Past revisions of this page [h]\"><span>View history</span></a></li>\n",
      "</ul>\n",
      "</div>\n",
      "</div>\n",
      "</nav>\n",
      "<nav aria-label=\"Page tools\" class=\"vector-page-tools-landmark\">\n",
      "<div class=\"vector-dropdown vector-page-tools-dropdown\" id=\"vector-page-tools-dropdown\">\n",
      "<input aria-haspopup=\"true\" aria-label=\"Tools\" class=\"vector-dropdown-checkbox\" data-event-name=\"ui.dropdown-vector-page-tools-dropdown\" id=\"vector-page-tools-dropdown-checkbox\" role=\"button\" type=\"checkbox\"/>\n",
      "<label aria-hidden=\"true\" class=\"vector-dropdown-label cdx-button cdx-button--fake-button cdx-button--fake-button--enabled cdx-button--weight-quiet\" for=\"vector-page-tools-dropdown-checkbox\" id=\"vector-page-tools-dropdown-label\"><span class=\"vector-dropdown-label-text\">Tools</span>\n",
      "</label>\n",
      "<div class=\"vector-dropdown-content\">\n",
      "<div class=\"vector-unpinned-container\" id=\"vector-page-tools-unpinned-container\">\n",
      "<div class=\"vector-page-tools vector-pinnable-element\" id=\"vector-page-tools\">\n",
      "<div class=\"vector-pinnable-header vector-page-tools-pinnable-header vector-pinnable-header-unpinned\" data-feature-name=\"page-tools-pinned\" data-pinnable-element-id=\"vector-page-tools\" data-pinned-container-id=\"vector-page-tools-pinned-container\" data-unpinned-container-id=\"vector-page-tools-unpinned-container\">\n",
      "<div class=\"vector-pinnable-header-label\">Tools</div>\n",
      "<button class=\"vector-pinnable-header-toggle-button vector-pinnable-header-pin-button\" data-event-name=\"pinnable-header.vector-page-tools.pin\">move to sidebar</button>\n",
      "<button class=\"vector-pinnable-header-toggle-button vector-pinnable-header-unpin-button\" data-event-name=\"pinnable-header.vector-page-tools.unpin\">hide</button>\n",
      "</div>\n",
      "<div class=\"vector-menu mw-portlet mw-portlet-cactions emptyPortlet vector-has-collapsible-items\" id=\"p-cactions\" title=\"More options\">\n",
      "<div class=\"vector-menu-heading\">\n",
      "\t\tActions\n",
      "\t</div>\n",
      "<div class=\"vector-menu-content\">\n",
      "<ul class=\"vector-menu-content-list\">\n",
      "<li class=\"selected vector-more-collapsible-item mw-list-item\" id=\"ca-more-view\"><a href=\"/wiki/States_of_Nigeria\"><span>Read</span></a></li><li class=\"vector-more-collapsible-item mw-list-item\" id=\"ca-more-edit\"><a accesskey=\"e\" href=\"/w/index.php?title=States_of_Nigeria&amp;action=edit\" title=\"Edit this page [e]\"><span>Edit</span></a></li><li class=\"vector-more-collapsible-item mw-list-item\" id=\"ca-more-history\"><a href=\"/w/index.php?title=States_of_Nigeria&amp;action=history\"><span>View history</span></a></li>\n",
      "</ul>\n",
      "</div>\n",
      "</div>\n",
      "<div class=\"vector-menu mw-portlet mw-portlet-tb\" id=\"p-tb\">\n",
      "<div class=\"vector-menu-heading\">\n",
      "\t\tGeneral\n",
      "\t</div>\n",
      "<div class=\"vector-menu-content\">\n",
      "<ul class=\"vector-menu-content-list\">\n",
      "<li class=\"mw-list-item\" id=\"t-whatlinkshere\"><a accesskey=\"j\" href=\"/wiki/Special:WhatLinksHere/States_of_Nigeria\" title=\"List of all English Wikipedia pages containing links to this page [j]\"><span>What links here</span></a></li><li class=\"mw-list-item\" id=\"t-recentchangeslinked\"><a accesskey=\"k\" href=\"/wiki/Special:RecentChangesLinked/States_of_Nigeria\" rel=\"nofollow\" title=\"Recent changes in pages linked from this page [k]\"><span>Related changes</span></a></li><li class=\"mw-list-item\" id=\"t-upload\"><a accesskey=\"u\" href=\"/wiki/Wikipedia:File_Upload_Wizard\" title=\"Upload files [u]\"><span>Upload file</span></a></li><li class=\"mw-list-item\" id=\"t-specialpages\"><a accesskey=\"q\" href=\"/wiki/Special:SpecialPages\" title=\"A list of all special pages [q]\"><span>Special pages</span></a></li><li class=\"mw-list-item\" id=\"t-permalink\"><a href=\"/w/index.php?title=States_of_Nigeria&amp;oldid=1263230821\" title=\"Permanent link to this revision of this page\"><span>Permanent link</span></a></li><li class=\"mw-list-item\" id=\"t-info\"><a href=\"/w/index.php?title=States_of_Nigeria&amp;action=info\" title=\"More information about this page\"><span>Page information</span></a></li><li class=\"mw-list-item\" id=\"t-cite\"><a href=\"/w/index.php?title=Special:CiteThisPage&amp;page=States_of_Nigeria&amp;id=1263230821&amp;wpFormIdentifier=titleform\" title=\"Information on how to cite this page\"><span>Cite this page</span></a></li><li class=\"mw-list-item\" id=\"t-urlshortener\"><a href=\"/w/index.php?title=Special:UrlQ%C4%B1sald%C4%B1c%C4%B1s%C4%B1&amp;url=https%3A%2F%2Fen.wikipedia.org%2Fwiki%2FStates_of_Nigeria\"><span>Get shortened URL</span></a></li><li class=\"mw-list-item\" id=\"t-urlshortener-qrcode\"><a href=\"/w/index.php?title=Special:QrKodu&amp;url=https%3A%2F%2Fen.wikipedia.org%2Fwiki%2FStates_of_Nigeria\"><span>Download QR code</span></a></li>\n",
      "</ul>\n",
      "</div>\n",
      "</div>\n",
      "<div class=\"vector-menu mw-portlet mw-portlet-coll-print_export\" id=\"p-coll-print_export\">\n",
      "<div class=\"vector-menu-heading\">\n",
      "\t\tPrint/export\n",
      "\t</div>\n",
      "<div class=\"vector-menu-content\">\n",
      "<ul class=\"vector-menu-content-list\">\n",
      "<li class=\"mw-list-item\" id=\"coll-download-as-rl\"><a href=\"/w/index.php?title=Special:DownloadAsPdf&amp;page=States_of_Nigeria&amp;action=show-download-screen\" title=\"Download this page as a PDF file\"><span>Download as PDF</span></a></li><li class=\"mw-list-item\" id=\"t-print\"><a accesskey=\"p\" href=\"/w/index.php?title=States_of_Nigeria&amp;printable=yes\" title=\"Printable version of this page [p]\"><span>Printable version</span></a></li>\n",
      "</ul>\n",
      "</div>\n",
      "</div>\n",
      "<div class=\"vector-menu mw-portlet mw-portlet-wikibase-otherprojects\" id=\"p-wikibase-otherprojects\">\n",
      "<div class=\"vector-menu-heading\">\n",
      "\t\tIn other projects\n",
      "\t</div>\n",
      "<div class=\"vector-menu-content\">\n",
      "<ul class=\"vector-menu-content-list\">\n",
      "<li class=\"wb-otherproject-link wb-otherproject-commons mw-list-item\"><a href=\"https://commons.wikimedia.org/wiki/Category:States_of_Nigeria\" hreflang=\"en\"><span>Wikimedia Commons</span></a></li><li class=\"wb-otherproject-link wb-otherproject-wikibase-dataitem mw-list-item\" id=\"t-wikibase\"><a accesskey=\"g\" href=\"https://www.wikidata.org/wiki/Special:EntityPage/Q465842\" title=\"Structured data on this page hosted by Wikidata [g]\"><span>Wikidata item</span></a></li>\n",
      "</ul>\n",
      "</div>\n",
      "</div>\n",
      "</div>\n",
      "</div>\n",
      "</div>\n",
      "</div>\n",
      "</nav>\n",
      "</div>\n",
      "</div>\n",
      "</div>\n",
      "<div class=\"vector-column-end\">\n",
      "<div class=\"vector-sticky-pinned-container\">\n",
      "<nav aria-label=\"Page tools\" class=\"vector-page-tools-landmark\">\n",
      "<div class=\"vector-pinned-container\" id=\"vector-page-tools-pinned-container\">\n",
      "</div>\n",
      "</nav>\n",
      "<nav aria-label=\"Appearance\" class=\"vector-appearance-landmark\">\n",
      "<div class=\"vector-pinned-container\" id=\"vector-appearance-pinned-container\">\n",
      "<div class=\"vector-appearance vector-pinnable-element\" id=\"vector-appearance\">\n",
      "<div class=\"vector-pinnable-header vector-appearance-pinnable-header vector-pinnable-header-pinned\" data-feature-name=\"appearance-pinned\" data-pinnable-element-id=\"vector-appearance\" data-pinned-container-id=\"vector-appearance-pinned-container\" data-unpinned-container-id=\"vector-appearance-unpinned-container\">\n",
      "<div class=\"vector-pinnable-header-label\">Appearance</div>\n",
      "<button class=\"vector-pinnable-header-toggle-button vector-pinnable-header-pin-button\" data-event-name=\"pinnable-header.vector-appearance.pin\">move to sidebar</button>\n",
      "<button class=\"vector-pinnable-header-toggle-button vector-pinnable-header-unpin-button\" data-event-name=\"pinnable-header.vector-appearance.unpin\">hide</button>\n",
      "</div>\n",
      "</div>\n",
      "</div>\n",
      "</nav>\n",
      "</div>\n",
      "</div>\n",
      "<div aria-labelledby=\"firstHeading\" class=\"vector-body\" data-mw-ve-target-container=\"\" id=\"bodyContent\">\n",
      "<div class=\"vector-body-before-content\">\n",
      "<div class=\"mw-indicators\">\n",
      "</div>\n",
      "<div class=\"noprint\" id=\"siteSub\">From Wikipedia, the free encyclopedia</div>\n",
      "</div>\n",
      "<div id=\"contentSub\"><div id=\"mw-content-subtitle\"></div></div>\n",
      "<div class=\"mw-body-content\" id=\"mw-content-text\"><div class=\"mw-content-ltr mw-parser-output\" dir=\"ltr\" lang=\"en\"><div class=\"shortdescription nomobile noexcerpt noprint searchaux\" style=\"display:none\">First-level administrative divisions of Nigeria</div>\n",
      "<p class=\"mw-empty-elt\">\n",
      "</p>\n",
      "<style data-mw-deduplicate=\"TemplateStyles:r1257001546\">.mw-parser-output .infobox-subbox{padding:0;border:none;margin:-3px;width:auto;min-width:100%;font-size:100%;clear:none;float:none;background-color:transparent}.mw-parser-output .infobox-3cols-child{margin:auto}.mw-parser-output .infobox .navbar{font-size:100%}@media screen{html.skin-theme-clientpref-night .mw-parser-output .infobox-full-data:not(.notheme)>div:not(.notheme)[style]{background:#1f1f23!important;color:#f8f9fa}}@media screen and (prefers-color-scheme:dark){html.skin-theme-clientpref-os .mw-parser-output .infobox-full-data:not(.notheme) div:not(.notheme){background:#1f1f23!important;color:#f8f9fa}}@media(min-width:640px){body.skin--responsive .mw-parser-output .infobox-table{display:table!important}body.skin--responsive .mw-parser-output .infobox-table>caption{display:table-caption!important}body.skin--responsive .mw-parser-output .infobox-table>tbody{display:table-row-group}body.skin--responsive .mw-parser-output .infobox-table tr{display:table-row!important}body.skin--responsive .mw-parser-output .infobox-table th,body.skin--responsive .mw-parser-output .infobox-table td{padding-left:inherit;padding-right:inherit}}</style><table class=\"infobox vevent\" style=\"float: right; width: ;\"><tbody><tr><th class=\"infobox-above summary\" colspan=\"2\" style=\"font-size: 125%; background-color: #F0F0F0; vertical-align: middle\">States of Nigeria</th></tr><tr><td class=\"infobox-image\" colspan=\"2\"><span typeof=\"mw:File\"><a class=\"mw-file-description\" href=\"/wiki/File:Nigeria_location_map.svg\"><img class=\"mw-file-element\" data-file-height=\"734\" data-file-width=\"954\" decoding=\"async\" height=\"231\" src=\"//upload.wikimedia.org/wikipedia/commons/thumb/1/18/Nigeria_location_map.svg/300px-Nigeria_location_map.svg.png\" srcset=\"//upload.wikimedia.org/wikipedia/commons/thumb/1/18/Nigeria_location_map.svg/450px-Nigeria_location_map.svg.png 1.5x, //upload.wikimedia.org/wikipedia/commons/thumb/1/18/Nigeria_location_map.svg/600px-Nigeria_location_map.svg.png 2x\" width=\"300\"/></a></span></td></tr><tr><th class=\"infobox-label\" scope=\"row\" style=\"white-space:nowrap;padding-right:0.65em;\">Category</th><td class=\"infobox-data\" style=\"line-height:1.3em;\"><a href=\"/wiki/Federated_state\" title=\"Federated state\">Federated states</a></td></tr><tr><th class=\"infobox-label\" scope=\"row\" style=\"white-space:nowrap;padding-right:0.65em;\">Location</th><td class=\"infobox-data\" style=\"line-height:1.3em;\"><a href=\"/wiki/Nigeria\" title=\"Nigeria\">Federal Republic of Nigeria</a></td></tr><tr><th class=\"infobox-label\" scope=\"row\" style=\"white-space:nowrap;padding-right:0.65em;\">Number</th><td class=\"infobox-data\" style=\"line-height:1.3em;\">36</td></tr><tr><th class=\"infobox-label\" scope=\"row\" style=\"white-space:nowrap;padding-right:0.65em;\">Populations</th><td class=\"infobox-data\" style=\"line-height:1.3em;\">1,704,358 (<a href=\"/wiki/Bayelsa_State\" title=\"Bayelsa State\">Bayelsa State</a>) – 9,401,288 (<a href=\"/wiki/Lagos_State\" title=\"Lagos State\">Lagos State</a>)<br/>Mean: 5,300,000</td></tr><tr><th class=\"infobox-label\" scope=\"row\" style=\"white-space:nowrap;padding-right:0.65em;\">Areas</th><td class=\"infobox-data\" style=\"line-height:1.3em;\">3,580 km<sup>2</sup> (1,381 sq mi) (<a href=\"/wiki/Lagos_State\" title=\"Lagos State\">Lagos State</a>) – 76,360 km<sup>2</sup> (29,484 sq mi) (<a href=\"/wiki/Niger_State\" title=\"Niger State\">Niger State</a>)<br/>Mean: 25,660 km<sup>2</sup> (9,907 sq mi)</td></tr><tr><th class=\"infobox-label\" scope=\"row\" style=\"white-space:nowrap;padding-right:0.65em;\">Government</th><td class=\"infobox-data\" style=\"line-height:1.3em;\"><style data-mw-deduplicate=\"TemplateStyles:r1126788409\">.mw-parser-output .plainlist ol,.mw-parser-output .plainlist ul{line-height:inherit;list-style:none;margin:0;padding:0}.mw-parser-output .plainlist ol li,.mw-parser-output .plainlist ul li{margin-bottom:0}</style><div class=\"plainlist\"><ul><li><a href=\"/wiki/State_government\" title=\"State government\">State government</a></li></ul></div></td></tr><tr><th class=\"infobox-label\" scope=\"row\" style=\"white-space:nowrap;padding-right:0.65em;\">Subdivisions</th><td class=\"infobox-data\" style=\"line-height:1.3em;\"><link href=\"mw-data:TemplateStyles:r1126788409\" rel=\"mw-deduplicated-inline-style\"/><div class=\"plainlist\"><ul><li><a href=\"/wiki/Local_government_areas_of_Nigeria\" title=\"Local government areas of Nigeria\">Local government area</a> (LGA)</li></ul></div></td></tr></tbody></table>\n",
      "<style data-mw-deduplicate=\"TemplateStyles:r1129693374\">.mw-parser-output .hlist dl,.mw-parser-output .hlist ol,.mw-parser-output .hlist ul{margin:0;padding:0}.mw-parser-output .hlist dd,.mw-parser-output .hlist dt,.mw-parser-output .hlist li{margin:0;display:inline}.mw-parser-output .hlist.inline,.mw-parser-output .hlist.inline dl,.mw-parser-output .hlist.inline ol,.mw-parser-output .hlist.inline ul,.mw-parser-output .hlist dl dl,.mw-parser-output .hlist dl ol,.mw-parser-output .hlist dl ul,.mw-parser-output .hlist ol dl,.mw-parser-output .hlist ol ol,.mw-parser-output .hlist ol ul,.mw-parser-output .hlist ul dl,.mw-parser-output .hlist ul ol,.mw-parser-output .hlist ul ul{display:inline}.mw-parser-output .hlist .mw-empty-li{display:none}.mw-parser-output .hlist dt::after{content:\": \"}.mw-parser-output .hlist dd::after,.mw-parser-output .hlist li::after{content:\" · \";font-weight:bold}.mw-parser-output .hlist dd:last-child::after,.mw-parser-output .hlist dt:last-child::after,.mw-parser-output .hlist li:last-child::after{content:none}.mw-parser-output .hlist dd dd:first-child::before,.mw-parser-output .hlist dd dt:first-child::before,.mw-parser-output .hlist dd li:first-child::before,.mw-parser-output .hlist dt dd:first-child::before,.mw-parser-output .hlist dt dt:first-child::before,.mw-parser-output .hlist dt li:first-child::before,.mw-parser-output .hlist li dd:first-child::before,.mw-parser-output .hlist li dt:first-child::before,.mw-parser-output .hlist li li:first-child::before{content:\" (\";font-weight:normal}.mw-parser-output .hlist dd dd:last-child::after,.mw-parser-output .hlist dd dt:last-child::after,.mw-parser-output .hlist dd li:last-child::after,.mw-parser-output .hlist dt dd:last-child::after,.mw-parser-output .hlist dt dt:last-child::after,.mw-parser-output .hlist dt li:last-child::after,.mw-parser-output .hlist li dd:last-child::after,.mw-parser-output .hlist li dt:last-child::after,.mw-parser-output .hlist li li:last-child::after{content:\")\";font-weight:normal}.mw-parser-output .hlist ol{counter-reset:listitem}.mw-parser-output .hlist ol>li{counter-increment:listitem}.mw-parser-output .hlist ol>li::before{content:\" \"counter(listitem)\"\\a0 \"}.mw-parser-output .hlist dd ol>li:first-child::before,.mw-parser-output .hlist dt ol>li:first-child::before,.mw-parser-output .hlist li ol>li:first-child::before{content:\" (\"counter(listitem)\"\\a0 \"}</style><style data-mw-deduplicate=\"TemplateStyles:r1246091330\">.mw-parser-output .sidebar{width:22em;float:right;clear:right;margin:0.5em 0 1em 1em;background:var(--background-color-neutral-subtle,#f8f9fa);border:1px solid var(--border-color-base,#a2a9b1);padding:0.2em;text-align:center;line-height:1.4em;font-size:88%;border-collapse:collapse;display:table}body.skin-minerva .mw-parser-output .sidebar{display:table!important;float:right!important;margin:0.5em 0 1em 1em!important}.mw-parser-output .sidebar-subgroup{width:100%;margin:0;border-spacing:0}.mw-parser-output .sidebar-left{float:left;clear:left;margin:0.5em 1em 1em 0}.mw-parser-output .sidebar-none{float:none;clear:both;margin:0.5em 1em 1em 0}.mw-parser-output .sidebar-outer-title{padding:0 0.4em 0.2em;font-size:125%;line-height:1.2em;font-weight:bold}.mw-parser-output .sidebar-top-image{padding:0.4em}.mw-parser-output .sidebar-top-caption,.mw-parser-output .sidebar-pretitle-with-top-image,.mw-parser-output .sidebar-caption{padding:0.2em 0.4em 0;line-height:1.2em}.mw-parser-output .sidebar-pretitle{padding:0.4em 0.4em 0;line-height:1.2em}.mw-parser-output .sidebar-title,.mw-parser-output .sidebar-title-with-pretitle{padding:0.2em 0.8em;font-size:145%;line-height:1.2em}.mw-parser-output .sidebar-title-with-pretitle{padding:0.1em 0.4em}.mw-parser-output .sidebar-image{padding:0.2em 0.4em 0.4em}.mw-parser-output .sidebar-heading{padding:0.1em 0.4em}.mw-parser-output .sidebar-content{padding:0 0.5em 0.4em}.mw-parser-output .sidebar-content-with-subgroup{padding:0.1em 0.4em 0.2em}.mw-parser-output .sidebar-above,.mw-parser-output .sidebar-below{padding:0.3em 0.8em;font-weight:bold}.mw-parser-output .sidebar-collapse .sidebar-above,.mw-parser-output .sidebar-collapse .sidebar-below{border-top:1px solid #aaa;border-bottom:1px solid #aaa}.mw-parser-output .sidebar-navbar{text-align:right;font-size:115%;padding:0 0.4em 0.4em}.mw-parser-output .sidebar-list-title{padding:0 0.4em;text-align:left;font-weight:bold;line-height:1.6em;font-size:105%}.mw-parser-output .sidebar-list-title-c{padding:0 0.4em;text-align:center;margin:0 3.3em}@media(max-width:640px){body.mediawiki .mw-parser-output .sidebar{width:100%!important;clear:both;float:none!important;margin-left:0!important;margin-right:0!important}}body.skin--responsive .mw-parser-output .sidebar a>img{max-width:none!important}@media screen{html.skin-theme-clientpref-night .mw-parser-output .sidebar:not(.notheme) .sidebar-list-title,html.skin-theme-clientpref-night .mw-parser-output .sidebar:not(.notheme) .sidebar-title-with-pretitle{background:transparent!important}html.skin-theme-clientpref-night .mw-parser-output .sidebar:not(.notheme) .sidebar-title-with-pretitle a{color:var(--color-progressive)!important}}@media screen and (prefers-color-scheme:dark){html.skin-theme-clientpref-os .mw-parser-output .sidebar:not(.notheme) .sidebar-list-title,html.skin-theme-clientpref-os .mw-parser-output .sidebar:not(.notheme) .sidebar-title-with-pretitle{background:transparent!important}html.skin-theme-clientpref-os .mw-parser-output .sidebar:not(.notheme) .sidebar-title-with-pretitle a{color:var(--color-progressive)!important}}@media print{body.ns-0 .mw-parser-output .sidebar{display:none!important}}</style><link href=\"mw-data:TemplateStyles:r1129693374\" rel=\"mw-deduplicated-inline-style\"/><link href=\"mw-data:TemplateStyles:r1129693374\" rel=\"mw-deduplicated-inline-style\"/><link href=\"mw-data:TemplateStyles:r1129693374\" rel=\"mw-deduplicated-inline-style\"/><table class=\"sidebar sidebar-collapse nomobile vcard hlist\"><tbody><tr><th class=\"sidebar-title\"><div class=\"adr\"><a href=\"/wiki/Politics_of_Nigeria\" title=\"Politics of Nigeria\">Politics of Nigeria</a></div></th></tr><tr><th><span typeof=\"mw:File\"><a class=\"mw-file-description\" href=\"/wiki/File:Coat_of_arms_of_Nigeria.svg\"><img class=\"mw-file-element\" data-file-height=\"1276\" data-file-width=\"1505\" decoding=\"async\" height=\"106\" src=\"//upload.wikimedia.org/wikipedia/commons/thumb/b/bc/Coat_of_arms_of_Nigeria.svg/125px-Coat_of_arms_of_Nigeria.svg.png\" srcset=\"//upload.wikimedia.org/wikipedia/commons/thumb/b/bc/Coat_of_arms_of_Nigeria.svg/188px-Coat_of_arms_of_Nigeria.svg.png 1.5x, //upload.wikimedia.org/wikipedia/commons/thumb/b/bc/Coat_of_arms_of_Nigeria.svg/250px-Coat_of_arms_of_Nigeria.svg.png 2x\" width=\"125\"/></a></span></th></tr><tr><th style=\"border-bottom: #aaa 1px solid\"></th></tr><tr><td class=\"sidebar-content\">\n",
      "<div class=\"sidebar-list mw-collapsible mw-collapsed\"><div class=\"sidebar-list-title\" style=\"text-align:left; background:lavender;;color: var(--color-base)\"><a href=\"/wiki/Constitution_of_Nigeria\" title=\"Constitution of Nigeria\">Constitution</a></div><div class=\"sidebar-list-content mw-collapsible-content\" style=\"text-align:center; background:none;\">\n",
      "<ul><li><a href=\"/wiki/Human_rights_in_Nigeria\" title=\"Human rights in Nigeria\">Human rights</a></li></ul></div></div></td>\n",
      "</tr><tr><td class=\"sidebar-content\">\n",
      "<div class=\"sidebar-list mw-collapsible mw-collapsed\"><div class=\"sidebar-list-title\" style=\"text-align:left; background:lavender;;color: var(--color-base)\">Government</div><div class=\"sidebar-list-content mw-collapsible-content\" style=\"text-align:center; background:none;\">\n",
      "<ul><li><a href=\"/wiki/President_of_Nigeria\" title=\"President of Nigeria\">President</a> (<a href=\"/wiki/List_of_heads_of_state_of_Nigeria\" title=\"List of heads of state of Nigeria\">list</a>)\n",
      "<dl><dd><a href=\"/wiki/Bola_Tinubu\" title=\"Bola Tinubu\">Bola Tinubu</a></dd></dl></li>\n",
      "<li><a href=\"/wiki/Vice_President_of_Nigeria\" title=\"Vice President of Nigeria\">Vice President</a>\n",
      "<dl><dd><a href=\"/wiki/Kashim_Shettima\" title=\"Kashim Shettima\">Kashim Shettima</a></dd></dl></li>\n",
      "<li><a href=\"/wiki/Cabinet_of_Nigeria\" title=\"Cabinet of Nigeria\">Cabinet</a></li>\n",
      "<li><a class=\"mw-redirect\" href=\"/wiki/List_of_Nigerian_agencies\" title=\"List of Nigerian agencies\">Federal Parastatals</a></li></ul></div></div></td>\n",
      "</tr><tr><td class=\"sidebar-content\">\n",
      "<div class=\"sidebar-list mw-collapsible mw-collapsed\"><div class=\"sidebar-list-title\" style=\"text-align:left; background:lavender;;color: var(--color-base)\"><a href=\"/wiki/National_Assembly_(Nigeria)\" title=\"National Assembly (Nigeria)\">Legislature</a></div><div class=\"sidebar-list-content mw-collapsible-content\" style=\"text-align:center; background:none;\">\n",
      "<ul><li><b><a class=\"mw-redirect\" href=\"/wiki/National_Assembly_of_Nigeria\" title=\"National Assembly of Nigeria\">National Assembly of Nigeria</a></b></li></ul>\n",
      "<hr/>\n",
      "<ul><li><b><a class=\"mw-redirect\" href=\"/wiki/Senate_(Nigeria)\" title=\"Senate (Nigeria)\">Senate</a></b></li></ul>\n",
      "<hr/>\n",
      "<ul><li><a class=\"mw-redirect\" href=\"/wiki/President_of_the_Nigerian_Senate\" title=\"President of the Nigerian Senate\">President</a> <a href=\"/wiki/Godswill_Akpabio\" title=\"Godswill Akpabio\">Godswill Akpabio</a> (<a href=\"/wiki/All_Progressives_Congress\" title=\"All Progressives Congress\">APC</a>) <br/></li>\n",
      "<li><a href=\"/wiki/Deputy_President_of_the_Nigerian_Senate\" title=\"Deputy President of the Nigerian Senate\">Deputy President</a> <a href=\"/wiki/Barau_Jibrin\" title=\"Barau Jibrin\">Barau Jibrin</a> (APC)</li>\n",
      "<li><a href=\"/wiki/Nigerian_senators_of_the_10th_National_Assembly\" title=\"Nigerian senators of the 10th National Assembly\">(List of members of the Senate)</a></li></ul>\n",
      "<hr/>\n",
      "<ul><li><b><a href=\"/wiki/House_of_Representatives_(Nigeria)\" title=\"House of Representatives (Nigeria)\">House of Representatives</a></b></li></ul>\n",
      "<hr/>\n",
      "<ul><li><a class=\"mw-redirect\" href=\"/wiki/Speaker_of_the_Nigerian_House_of_Representatives\" title=\"Speaker of the Nigerian House of Representatives\">Speaker</a> <a href=\"/wiki/Tajudeen_Abbas\" title=\"Tajudeen Abbas\">Tajudeen Abbas</a> (APC) <br/></li>\n",
      "<li>Deputy Speaker <a href=\"/wiki/Benjamin_Kalu\" title=\"Benjamin Kalu\">Benjamin Kalu</a> (APC)</li>\n",
      "<li>(<a href=\"/wiki/List_of_members_of_the_House_of_Representatives_of_Nigeria,_2019%E2%80%932023\" title=\"List of members of the House of Representatives of Nigeria, 2019–2023\">List of members of the House</a>)</li></ul>\n",
      "<hr/>\n",
      "<ul><li><b>State delegations</b></li></ul>\n",
      "<hr/>\n",
      "<ul><li><a href=\"/wiki/Nigerian_National_Assembly_delegation_from_Abia\" title=\"Nigerian National Assembly delegation from Abia\">Abia</a></li>\n",
      "<li><a href=\"/wiki/Nigerian_National_Assembly_delegation_from_Adamawa\" title=\"Nigerian National Assembly delegation from Adamawa\">Adamawa</a></li>\n",
      "<li><a href=\"/wiki/Nigerian_National_Assembly_delegation_from_Akwa_Ibom\" title=\"Nigerian National Assembly delegation from Akwa Ibom\">Akwa Ibom</a></li>\n",
      "<li><a href=\"/wiki/Nigerian_National_Assembly_delegation_from_Anambra\" title=\"Nigerian National Assembly delegation from Anambra\">Anambra</a></li>\n",
      "<li><a href=\"/wiki/Nigerian_National_Assembly_delegation_from_Bauchi\" title=\"Nigerian National Assembly delegation from Bauchi\">Bauchi</a></li>\n",
      "<li><a href=\"/wiki/Nigerian_National_Assembly_delegation_from_Bayelsa\" title=\"Nigerian National Assembly delegation from Bayelsa\">Bayelsa</a></li>\n",
      "<li><a href=\"/wiki/Nigerian_National_Assembly_delegation_from_Benue\" title=\"Nigerian National Assembly delegation from Benue\">Benue</a></li>\n",
      "<li><a href=\"/wiki/Nigerian_National_Assembly_delegation_from_Borno\" title=\"Nigerian National Assembly delegation from Borno\">Borno</a></li>\n",
      "<li><a href=\"/wiki/Nigerian_National_Assembly_delegation_from_Cross_River\" title=\"Nigerian National Assembly delegation from Cross River\">Cross River</a></li>\n",
      "<li><a href=\"/wiki/Nigerian_National_Assembly_delegation_from_Delta\" title=\"Nigerian National Assembly delegation from Delta\">Delta</a></li>\n",
      "<li><a href=\"/wiki/Nigerian_National_Assembly_delegation_from_Ebonyi\" title=\"Nigerian National Assembly delegation from Ebonyi\">Ebonyi</a></li>\n",
      "<li><a href=\"/wiki/Nigerian_National_Assembly_delegation_from_Edo\" title=\"Nigerian National Assembly delegation from Edo\">Edo</a></li>\n",
      "<li><a href=\"/wiki/Nigerian_National_Assembly_delegation_from_Ekiti\" title=\"Nigerian National Assembly delegation from Ekiti\">Ekiti</a></li>\n",
      "<li><a href=\"/wiki/Nigerian_National_Assembly_delegation_from_Enugu\" title=\"Nigerian National Assembly delegation from Enugu\">Enugu</a></li>\n",
      "<li><a href=\"/wiki/Nigerian_National_Assembly_delegation_from_Gombe\" title=\"Nigerian National Assembly delegation from Gombe\">Gombe</a></li>\n",
      "<li><a href=\"/wiki/Nigerian_National_Assembly_delegation_from_Imo\" title=\"Nigerian National Assembly delegation from Imo\">Imo</a></li>\n",
      "<li><a href=\"/wiki/Nigerian_National_Assembly_delegation_from_Jigawa\" title=\"Nigerian National Assembly delegation from Jigawa\">Jigawa</a></li>\n",
      "<li><a href=\"/wiki/Nigerian_National_Assembly_delegation_from_Kaduna\" title=\"Nigerian National Assembly delegation from Kaduna\">Kaduna</a></li>\n",
      "<li><a href=\"/wiki/Nigerian_National_Assembly_delegation_from_Kano\" title=\"Nigerian National Assembly delegation from Kano\">Kano</a></li>\n",
      "<li><a href=\"/wiki/Nigerian_National_Assembly_delegation_from_Katsina\" title=\"Nigerian National Assembly delegation from Katsina\">Katsina</a></li>\n",
      "<li><a href=\"/wiki/Nigerian_National_Assembly_delegation_from_Kebbi\" title=\"Nigerian National Assembly delegation from Kebbi\">Kebbi</a></li>\n",
      "<li><a href=\"/wiki/Nigerian_National_Assembly_delegation_from_Kogi\" title=\"Nigerian National Assembly delegation from Kogi\">Kogi</a></li>\n",
      "<li><a href=\"/wiki/Nigerian_National_Assembly_delegation_from_Kwara\" title=\"Nigerian National Assembly delegation from Kwara\">Kwara</a></li>\n",
      "<li><a href=\"/wiki/Nigerian_National_Assembly_delegation_from_Lagos\" title=\"Nigerian National Assembly delegation from Lagos\">Lagos</a></li>\n",
      "<li><a href=\"/wiki/Nigerian_National_Assembly_delegation_from_Nasarawa\" title=\"Nigerian National Assembly delegation from Nasarawa\">Nasarawa</a></li>\n",
      "<li><a class=\"mw-redirect\" href=\"/wiki/Nigerian_National_Assembly_delegation_from_Niger\" title=\"Nigerian National Assembly delegation from Niger\">Niger</a></li>\n",
      "<li><a href=\"/wiki/Nigerian_National_Assembly_delegation_from_Ogun\" title=\"Nigerian National Assembly delegation from Ogun\">Ogun</a></li>\n",
      "<li><a href=\"/wiki/Nigerian_National_Assembly_delegation_from_Ondo\" title=\"Nigerian National Assembly delegation from Ondo\">Ondo</a></li>\n",
      "<li><a href=\"/wiki/Nigerian_National_Assembly_delegation_from_Osun\" title=\"Nigerian National Assembly delegation from Osun\">Osun</a></li>\n",
      "<li><a href=\"/wiki/Nigerian_National_Assembly_delegation_from_Oyo\" title=\"Nigerian National Assembly delegation from Oyo\">Oyo</a></li>\n",
      "<li><a href=\"/wiki/Nigerian_National_Assembly_delegation_from_Plateau\" title=\"Nigerian National Assembly delegation from Plateau\">Plateau</a></li>\n",
      "<li><a href=\"/wiki/Nigerian_National_Assembly_delegation_from_Rivers\" title=\"Nigerian National Assembly delegation from Rivers\">Rivers</a></li>\n",
      "<li><a href=\"/wiki/Nigerian_National_Assembly_delegation_from_Sokoto\" title=\"Nigerian National Assembly delegation from Sokoto\">Sokoto</a></li>\n",
      "<li><a href=\"/wiki/Nigerian_National_Assembly_delegation_from_Taraba\" title=\"Nigerian National Assembly delegation from Taraba\">Taraba</a></li>\n",
      "<li><a href=\"/wiki/Nigerian_National_Assembly_delegation_from_Yobe\" title=\"Nigerian National Assembly delegation from Yobe\">Yobe</a></li>\n",
      "<li><a href=\"/wiki/Nigerian_National_Assembly_delegation_from_Zamfara\" title=\"Nigerian National Assembly delegation from Zamfara\">Zamfara</a></li>\n",
      "<li><a href=\"/wiki/Nigerian_National_Assembly_delegation_from_the_Federal_Capital_Territory\" title=\"Nigerian National Assembly delegation from the Federal Capital Territory\">FCT</a></li></ul></div></div></td>\n",
      "</tr><tr><td class=\"sidebar-content\">\n",
      "<div class=\"sidebar-list mw-collapsible mw-collapsed\"><div class=\"sidebar-list-title\" style=\"text-align:left; background:lavender;;color: var(--color-base)\">Judiciary</div><div class=\"sidebar-list-content mw-collapsible-content\" style=\"text-align:center; background:none;\">\n",
      "<ul><li><a href=\"/wiki/Supreme_Court_of_Nigeria\" title=\"Supreme Court of Nigeria\">Supreme Court</a></li></ul></div></div></td>\n",
      "</tr><tr><td class=\"sidebar-content\">\n",
      "<div class=\"sidebar-list mw-collapsible mw-collapsed\"><div class=\"sidebar-list-title\" style=\"text-align:left; background:lavender;;color: var(--color-base)\"><a href=\"/wiki/Subdivisions_of_Nigeria\" title=\"Subdivisions of Nigeria\">Subdivisions</a></div><div class=\"sidebar-list-content mw-collapsible-content\" style=\"text-align:center; background:none;\">\n",
      "<ul><li><a class=\"mw-selflink selflink\">States</a>\n",
      "<dl><dd><a class=\"mw-redirect\" href=\"/wiki/List_of_state_governors_of_Nigeria\" title=\"List of state governors of Nigeria\">State governors</a></dd></dl></li>\n",
      "<li><a href=\"/wiki/Local_government_areas_of_Nigeria\" title=\"Local government areas of Nigeria\">Local Government Areas</a></li></ul></div></div></td>\n",
      "</tr><tr><td class=\"sidebar-content\">\n",
      "<div class=\"sidebar-list mw-collapsible mw-collapsed\"><div class=\"sidebar-list-title\" style=\"text-align:left; background:lavender;;color: var(--color-base)\"><a href=\"/wiki/Elections_in_Nigeria\" title=\"Elections in Nigeria\">Elections</a></div><div class=\"sidebar-list-content mw-collapsible-content\" style=\"text-align:center; background:none;\">\n",
      "<ul><li>Recent elections\n",
      "<dl><dd><div class=\"hlist\"><ul><li>Parliamentary:<a href=\"/wiki/2015_Nigerian_general_election\" title=\"2015 Nigerian general election\">2015</a></li><li><a href=\"/wiki/2019_Nigerian_general_election\" title=\"2019 Nigerian general election\">2019</a></li><li><a href=\"/wiki/2023_Nigerian_general_election\" title=\"2023 Nigerian general election\">2023</a></li></ul></div></dd></dl></li>\n",
      "<li><a href=\"/wiki/List_of_political_parties_in_Nigeria\" title=\"List of political parties in Nigeria\">Political parties</a></li></ul></div></div></td>\n",
      "</tr><tr><td class=\"sidebar-content\">\n",
      "<div class=\"sidebar-list mw-collapsible mw-collapsed\"><div class=\"sidebar-list-title\" style=\"text-align:left; background:lavender;;color: var(--color-base)\"><a href=\"/wiki/Foreign_relations_of_Nigeria\" title=\"Foreign relations of Nigeria\">Foreign relations</a></div><div class=\"sidebar-list-content mw-collapsible-content\" style=\"text-align:center; background:none;\">\n",
      "<ul><li>Ministry of Foreign Affairs\n",
      "<dl><dd><a class=\"mw-redirect\" href=\"/wiki/Minister_of_Foreign_Affairs_(Nigeria)\" title=\"Minister of Foreign Affairs (Nigeria)\">Minister</a>: <a href=\"/wiki/Yusuf_Tuggar\" title=\"Yusuf Tuggar\">Yusuf Tuggar</a></dd></dl></li></ul>\n",
      "<hr/>\n",
      "<ul><li><a href=\"/wiki/List_of_diplomatic_missions_of_Nigeria\" title=\"List of diplomatic missions of Nigeria\">Diplomatic missions of</a> / <a href=\"/wiki/List_of_diplomatic_missions_in_Nigeria\" title=\"List of diplomatic missions in Nigeria\">in Nigeria</a></li></ul>\n",
      "<hr/>\n",
      "<ul><li><a href=\"/wiki/Nigerian_nationality_law\" title=\"Nigerian nationality law\">Nationality law</a></li>\n",
      "<li><a href=\"/wiki/Nigerian_passport\" title=\"Nigerian passport\">Passport</a></li>\n",
      "<li><a href=\"/wiki/Visa_requirements_for_Nigerian_citizens\" title=\"Visa requirements for Nigerian citizens\">Visa requirements</a></li>\n",
      "<li><a href=\"/wiki/Visa_policy_of_Nigeria\" title=\"Visa policy of Nigeria\">Visa policy</a></li></ul></div></div></td>\n",
      "</tr><tr><td class=\"sidebar-below\">\n",
      "<span class=\"nowrap\"><span class=\"mw-image-border noviewer\" typeof=\"mw:File\"><span><img alt=\"flag\" class=\"mw-file-element\" data-file-height=\"600\" data-file-width=\"1200\" decoding=\"async\" height=\"16\" src=\"//upload.wikimedia.org/wikipedia/commons/thumb/7/79/Flag_of_Nigeria.svg/32px-Flag_of_Nigeria.svg.png\" srcset=\"//upload.wikimedia.org/wikipedia/commons/thumb/7/79/Flag_of_Nigeria.svg/48px-Flag_of_Nigeria.svg.png 1.5x, //upload.wikimedia.org/wikipedia/commons/thumb/7/79/Flag_of_Nigeria.svg/64px-Flag_of_Nigeria.svg.png 2x\" width=\"32\"/></span></span> </span><a href=\"/wiki/Portal:Nigeria\" title=\"Portal:Nigeria\">Nigeria portal</a> <div class=\"hlist\" style=\"text-align:center;font-weight:normal;\">\n",
      "<ul><li><a href=\"/wiki/Outline_of_political_science#Politics_by_region\" title=\"Outline of political science\">Other countries</a></li></ul>\n",
      "</div></td></tr><tr><td class=\"sidebar-navbar\"><link href=\"mw-data:TemplateStyles:r1129693374\" rel=\"mw-deduplicated-inline-style\"/><style data-mw-deduplicate=\"TemplateStyles:r1239400231\">.mw-parser-output .navbar{display:inline;font-size:88%;font-weight:normal}.mw-parser-output .navbar-collapse{float:left;text-align:left}.mw-parser-output .navbar-boxtext{word-spacing:0}.mw-parser-output .navbar ul{display:inline-block;white-space:nowrap;line-height:inherit}.mw-parser-output .navbar-brackets::before{margin-right:-0.125em;content:\"[ \"}.mw-parser-output .navbar-brackets::after{margin-left:-0.125em;content:\" ]\"}.mw-parser-output .navbar li{word-spacing:-0.125em}.mw-parser-output .navbar a>span,.mw-parser-output .navbar a>abbr{text-decoration:inherit}.mw-parser-output .navbar-mini abbr{font-variant:small-caps;border-bottom:none;text-decoration:none;cursor:inherit}.mw-parser-output .navbar-ct-full{font-size:114%;margin:0 7em}.mw-parser-output .navbar-ct-mini{font-size:114%;margin:0 4em}html.skin-theme-clientpref-night .mw-parser-output .navbar li a abbr{color:var(--color-base)!important}@media(prefers-color-scheme:dark){html.skin-theme-clientpref-os .mw-parser-output .navbar li a abbr{color:var(--color-base)!important}}@media print{.mw-parser-output .navbar{display:none!important}}</style><div class=\"navbar plainlinks hlist navbar-mini\"><ul><li class=\"nv-view\"><a href=\"/wiki/Template:Politics_of_Nigeria\" title=\"Template:Politics of Nigeria\"><abbr title=\"View this template\">v</abbr></a></li><li class=\"nv-talk\"><a href=\"/wiki/Template_talk:Politics_of_Nigeria\" title=\"Template talk:Politics of Nigeria\"><abbr title=\"Discuss this template\">t</abbr></a></li><li class=\"nv-edit\"><a href=\"/wiki/Special:EditPage/Template:Politics_of_Nigeria\" title=\"Special:EditPage/Template:Politics of Nigeria\"><abbr title=\"Edit this template\">e</abbr></a></li></ul></div></td></tr></tbody></table>\n",
      "<p><a href=\"/wiki/Nigeria\" title=\"Nigeria\">Nigeria</a> is a <a href=\"/wiki/Federation\" title=\"Federation\">federation</a> of 36 states, each of which is a semi-autonomous political unit that shares power with the federal government as enumerated under the <a href=\"/wiki/Constitution_of_Nigeria\" title=\"Constitution of Nigeria\">Constitution of the Federal Republic of Nigeria</a>. In addition to the states, there is the <a href=\"/wiki/Federal_Capital_Territory_(Nigeria)\" title=\"Federal Capital Territory (Nigeria)\">Federal Capital Territory</a> (FCT), in which the capital city of <a href=\"/wiki/Abuja\" title=\"Abuja\">Abuja</a> is located.<sup class=\"reference\" id=\"cite_ref-1\"><a href=\"#cite_note-1\"><span class=\"cite-bracket\">[</span>1<span class=\"cite-bracket\">]</span></a></sup> The FCT is not a state, but a territory of the federal government, governed by <a href=\"/wiki/Federal_Capital_Territory_Administration\" title=\"Federal Capital Territory Administration\">an administration</a> headed by <a href=\"/wiki/List_of_ministers_of_the_Federal_Capital_Territory_(Nigeria)\" title=\"List of ministers of the Federal Capital Territory (Nigeria)\">a minister</a>. Each state is subdivided into <a href=\"/wiki/Local_government_areas_of_Nigeria\" title=\"Local government areas of Nigeria\">local government areas</a> (LGAs). There are 774 local governments in Nigeria.<sup class=\"reference\" id=\"cite_ref-2\"><a href=\"#cite_note-2\"><span class=\"cite-bracket\">[</span>2<span class=\"cite-bracket\">]</span></a></sup> Under the Nigerian Constitution, the 36 states enjoy substantial autonomy but are not sovereign entities, as ultimate authority lies with the federal government. Amendments to the constitution can be proposed by the National Assembly, but for an amendment to be valid, it must be approved by a two-third majority of the 36 state legislatures, as required under Section 9 of the 1999 Constitution of Nigeria.<sup class=\"reference\" id=\"cite_ref-3\"><a href=\"#cite_note-3\"><span class=\"cite-bracket\">[</span>3<span class=\"cite-bracket\">]</span></a></sup>\n",
      "</p>\n",
      "<meta property=\"mw:PageProp/toc\">\n",
      "<div class=\"mw-heading mw-heading2\"><h2 id=\"Current_states_and_the_Federal_Capital_Territory\">Current states and the Federal Capital Territory</h2><span class=\"mw-editsection\"><span class=\"mw-editsection-bracket\">[</span><a href=\"/w/index.php?title=States_of_Nigeria&amp;action=edit&amp;section=1\" title=\"Edit section: Current states and the Federal Capital Territory\"><span>edit</span></a><span class=\"mw-editsection-bracket\">]</span></span></div>\n",
      "<div style=\"display: flex; flex-wrap: wrap;\">\n",
      "<div style=\"float: left;\"><div class=\"center\"><small>A clickable map of Nigeria showing its 36 states and the federal capital territory.</small></div>\n",
      "<figure class=\"mw-halign-center noresize mw-ext-imagemap-desc-bottom-left\" typeof=\"mw:File\"><span title=\"A clickable map of Nigeria exhibiting its 36 states and the federal capital territory.\"><img alt=\"A clickable map of Nigeria exhibiting its 36 states and the federal capital territory.\" class=\"mw-file-element\" data-file-height=\"482\" data-file-width=\"567\" decoding=\"async\" height=\"482\" resource=\"/wiki/File:Nigeria_political.png\" src=\"//upload.wikimedia.org/wikipedia/commons/d/d2/Nigeria_political.png\" usemap=\"#ImageMap_7507d038b4e74b0d\" width=\"567\"/></span><map name=\"ImageMap_7507d038b4e74b0d\"><area alt=\"Niger\" coords=\"207,8,267,35\" href=\"/wiki/Niger\" shape=\"rect\" title=\"Niger\"/><area alt=\"Zinder\" coords=\"298,11,350,32\" href=\"/wiki/Zinder\" shape=\"rect\" title=\"Zinder\"/><area alt=\"Niamey\" coords=\"3,18,58,41\" href=\"/wiki/Niamey\" shape=\"rect\" title=\"Niamey\"/><area alt=\"Burkina Faso\" coords=\"2,99,44,129\" href=\"/wiki/Burkina_Faso\" shape=\"rect\" title=\"Burkina Faso\"/><area alt=\"Benin\" coords=\"4,158,51,182\" href=\"/wiki/Benin\" shape=\"rect\" title=\"Benin\"/><area alt=\"Atlantic Ocean\" coords=\"4,402,128,422\" href=\"/wiki/Atlantic_Ocean\" shape=\"rect\" title=\"Atlantic Ocean\"/><area alt=\"Cameroon\" coords=\"333,380,432,405\" href=\"/wiki/Cameroon\" shape=\"rect\" title=\"Cameroon\"/><area alt=\"Porto Novo\" coords=\"2,359,36,387\" href=\"/wiki/Porto_Novo\" shape=\"rect\" title=\"Porto Novo\"/><area alt=\"Garoua\" coords=\"502,207,541,222\" href=\"/wiki/Garoua\" shape=\"rect\" title=\"Garoua\"/><area alt=\"Chad\" coords=\"541,194,562,208\" href=\"/wiki/Chad\" shape=\"rect\" title=\"Chad\"/><area alt=\"Chad\" coords=\"526,3,563,17\" href=\"/wiki/Chad\" shape=\"rect\" title=\"Chad\"/><area alt=\"Lake Chad\" coords=\"526,24,560,46\" href=\"/wiki/Lake_Chad\" shape=\"rect\" title=\"Lake Chad\"/><area alt=\"Abuja\" coords=\"192,229,242,247\" href=\"/wiki/Abuja\" shape=\"rect\" title=\"Abuja\"/><area alt=\"Sokoto State\" coords=\"124,29,183,52\" href=\"/wiki/Sokoto_State\" shape=\"rect\" title=\"Sokoto State\"/><area alt=\"Kebbi State\" coords=\"67,95,110,122\" href=\"/wiki/Kebbi_State\" shape=\"rect\" title=\"Kebbi State\"/><area alt=\"Zamfara State\" coords=\"153,82,208,107\" href=\"/wiki/Zamfara_State\" shape=\"rect\" title=\"Zamfara State\"/><area alt=\"Katsina State\" coords=\"221,67,271,87\" href=\"/wiki/Katsina_State\" shape=\"rect\" title=\"Katsina State\"/><area alt=\"Jigawa State\" coords=\"308,65,358,93\" href=\"/wiki/Jigawa_State\" shape=\"rect\" title=\"Jigawa State\"/><area alt=\"Yobe State\" coords=\"402,85,438,110\" href=\"/wiki/Yobe_State\" shape=\"rect\" title=\"Yobe State\"/><area alt=\"Borno State\" coords=\"475,77,520,100\" href=\"/wiki/Borno_State\" shape=\"rect\" title=\"Borno State\"/><area alt=\"Kano State\" coords=\"274,116,316,137\" href=\"/wiki/Kano_State\" shape=\"rect\" title=\"Kano State\"/><area alt=\"Bauchi State\" coords=\"318,165,371,190\" href=\"/wiki/Bauchi_State\" shape=\"rect\" title=\"Bauchi State\"/><area alt=\"Gombe State\" coords=\"386,182,433,202\" href=\"/wiki/Gombe_State\" shape=\"rect\" title=\"Gombe State\"/><area alt=\"Adamawa State\" coords=\"437,204,493,219\" href=\"/wiki/Adamawa_State\" shape=\"rect\" title=\"Adamawa State\"/><area alt=\"Plateau State\" coords=\"316,224,365,248\" href=\"/wiki/Plateau_State\" shape=\"rect\" title=\"Plateau State\"/><area alt=\"Taraba State\" coords=\"360,288,404,313\" href=\"/wiki/Taraba_State\" shape=\"rect\" title=\"Taraba State\"/><area alt=\"Kaduna State\" coords=\"233,182,288,205\" href=\"/wiki/Kaduna_State\" shape=\"rect\" title=\"Kaduna State\"/><area alt=\"Nasarawa State\" coords=\"239,260,316,286\" href=\"/wiki/Nasarawa_State\" shape=\"rect\" title=\"Nasarawa State\"/><area alt=\"Benue State\" coords=\"270,308,318,331\" href=\"/wiki/Benue_State\" shape=\"rect\" title=\"Benue State\"/><area alt=\"Niger State\" coords=\"134,183,183,210\" href=\"/wiki/Niger_State\" shape=\"rect\" title=\"Niger State\"/><area alt=\"Kwara State\" coords=\"93,244,139,269\" href=\"/wiki/Kwara_State\" shape=\"rect\" title=\"Kwara State\"/><area alt=\"Oyo State\" coords=\"43,260,76,283\" href=\"/wiki/Oyo_State\" shape=\"rect\" title=\"Oyo State\"/><area alt=\"Ogun State\" coords=\"28,318,63,334\" href=\"/wiki/Ogun_State\" shape=\"rect\" title=\"Ogun State\"/><area alt=\"Lagos State\" coords=\"54,357,92,372\" href=\"/wiki/Lagos_State\" shape=\"rect\" title=\"Lagos State\"/><area alt=\"Kogi State\" coords=\"187,293,223,316\" href=\"/wiki/Kogi_State\" shape=\"rect\" title=\"Kogi State\"/><area alt=\"Osun State\" coords=\"84,290,119,312\" href=\"/wiki/Osun_State\" shape=\"rect\" title=\"Osun State\"/><area alt=\"Ekiti State\" coords=\"122,284,154,309\" href=\"/wiki/Ekiti_State\" shape=\"rect\" title=\"Ekiti State\"/><area alt=\"Ondo State\" coords=\"118,319,157,339\" href=\"/wiki/Ondo_State\" shape=\"rect\" title=\"Ondo State\"/><area alt=\"Edo State\" coords=\"162,344,186,359\" href=\"/wiki/Edo_State\" shape=\"rect\" title=\"Edo State\"/><area alt=\"Ebonyi State\" coords=\"254,350,300,375\" href=\"/wiki/Ebonyi_State\" shape=\"rect\" title=\"Ebonyi State\"/><area alt=\"Delta State\" coords=\"151,390,183,408\" href=\"/wiki/Delta_State\" shape=\"rect\" title=\"Delta State\"/><area alt=\"Bayelsa State\" coords=\"118,428,169,445\" href=\"/wiki/Bayelsa_State\" shape=\"rect\" title=\"Bayelsa State\"/><area alt=\"Rivers State\" coords=\"184,412,224,427\" href=\"/wiki/Rivers_State\" shape=\"rect\" title=\"Rivers State\"/><area alt=\"Imo State\" coords=\"201,391,227,407\" href=\"/wiki/Imo_State\" shape=\"rect\" title=\"Imo State\"/><area alt=\"Abia State\" coords=\"231,383,255,398\" href=\"/wiki/Abia_State\" shape=\"rect\" title=\"Abia State\"/><area alt=\"Cross River State\" coords=\"262,381,299,415\" href=\"/wiki/Cross_River_State\" shape=\"rect\" title=\"Cross River State\"/><area alt=\"Federal Capital Territory (Nigeria)\" coords=\"451,365,538,381\" href=\"/wiki/Federal_Capital_Territory_(Nigeria)\" shape=\"rect\" title=\"Federal Capital Territory (Nigeria)\"/><area alt=\"Federal Capital Territory (Nigeria)\" coords=\"215,251,226,264\" href=\"/wiki/Federal_Capital_Territory_(Nigeria)\" shape=\"rect\" title=\"Federal Capital Territory (Nigeria)\"/><area alt=\"Anambra State\" coords=\"450,382,508,394\" href=\"/wiki/Anambra_State\" shape=\"rect\" title=\"Anambra State\"/><area alt=\"Anambra State\" coords=\"202,355,220,379\" href=\"/wiki/Anambra_State\" shape=\"rect\" title=\"Anambra State\"/><area alt=\"Enugu State\" coords=\"450,396,494,402\" href=\"/wiki/Enugu_State\" shape=\"rect\" title=\"Enugu State\"/><area alt=\"Enugu State\" coords=\"228,343,247,367\" href=\"/wiki/Enugu_State\" shape=\"rect\" title=\"Enugu State\"/><area alt=\"Akwa Ibom State\" coords=\"449,405,517,415\" href=\"/wiki/Akwa_Ibom_State\" shape=\"rect\" title=\"Akwa Ibom State\"/><area alt=\"Akwa Ibom State\" coords=\"247,416,260,440\" href=\"/wiki/Akwa_Ibom_State\" shape=\"rect\" title=\"Akwa Ibom State\"/><area alt=\"Port Harcourt\" coords=\"204,437,252,462\" href=\"/wiki/Port_Harcourt\" shape=\"rect\" title=\"Port Harcourt\"/><area alt=\"Benin City\" coords=\"98,366,157,377\" href=\"/wiki/Benin_City\" shape=\"rect\" title=\"Benin City\"/><area alt=\"Lagos\" coords=\"24,343,53,349\" href=\"/wiki/Lagos\" shape=\"rect\" title=\"Lagos\"/><area alt=\"Ibadan\" coords=\"40,297,71,307\" href=\"/wiki/Ibadan\" shape=\"rect\" title=\"Ibadan\"/><area alt=\"Kaduna\" coords=\"214,151,257,168\" href=\"/wiki/Kaduna\" shape=\"rect\" title=\"Kaduna\"/><area alt=\"Kano\" coords=\"270,90,298,105\" href=\"/wiki/Kano_(city)\" shape=\"rect\" title=\"Kano\"/><area alt=\"Maiduguri\" coords=\"476,114,536,125\" href=\"/wiki/Maiduguri\" shape=\"rect\" title=\"Maiduguri\"/></map><figcaption>A clickable map of Nigeria exhibiting its 36 states and the federal capital territory.</figcaption></figure>\n",
      "</div>\n",
      "<table align=\"right\">\n",
      "<tbody><tr>\n",
      "<td>\n",
      "<table align=\"right\" style=\"padding-top:1.0em;\">\n",
      "<tbody><tr>\n",
      "<th colspan=\"3\" style=\"font-size:120%;\">States\n",
      "</th></tr>\n",
      "<tr>\n",
      "<td>\n",
      "<ul>\n",
      "<li><a href=\"/wiki/Abia_State\" title=\"Abia State\">Abia</a></li>\n",
      "<li><a href=\"/wiki/Adamawa_State\" title=\"Adamawa State\">Adamawa</a></li>\n",
      "<li><a href=\"/wiki/Akwa_Ibom_State\" title=\"Akwa Ibom State\">Akwa Ibom</a></li>\n",
      "<li><a href=\"/wiki/Anambra_State\" title=\"Anambra State\">Anambra</a></li>\n",
      "<li><a href=\"/wiki/Bauchi_State\" title=\"Bauchi State\">Bauchi</a></li>\n",
      "<li><a href=\"/wiki/Bayelsa_State\" title=\"Bayelsa State\">Bayelsa</a></li>\n",
      "<li><a href=\"/wiki/Benue_State\" title=\"Benue State\">Benue</a></li>\n",
      "<li><a href=\"/wiki/Borno_State\" title=\"Borno State\">Borno</a></li>\n",
      "<li><a href=\"/wiki/Cross_River_State\" title=\"Cross River State\">Cross River</a></li>\n",
      "<li><a href=\"/wiki/Delta_State\" title=\"Delta State\">Delta</a></li>\n",
      "<li><a href=\"/wiki/Ebonyi_State\" title=\"Ebonyi State\">Ebonyi</a></li>\n",
      "<li><a href=\"/wiki/Edo_State\" title=\"Edo State\">Edo</a></li>\n",
      "</ul>\n",
      "</td>\n",
      "<td>\n",
      "<ul>\n",
      "<li> <a href=\"/wiki/Ekiti_State\" title=\"Ekiti State\">Ekiti</a> </li>\n",
      "<li> <a href=\"/wiki/Enugu_State\" title=\"Enugu State\">Enugu</a> </li>\n",
      "<li> <a href=\"/wiki/Gombe_State\" title=\"Gombe State\">Gombe</a> </li>\n",
      "<li> <a href=\"/wiki/Imo_State\" title=\"Imo State\">Imo</a> </li>\n",
      "<li> <a href=\"/wiki/Jigawa_State\" title=\"Jigawa State\">Jigawa</a> </li>\n",
      "<li> <a href=\"/wiki/Kaduna_State\" title=\"Kaduna State\">Kaduna</a> </li>\n",
      "<li> <a href=\"/wiki/Kano_State\" title=\"Kano State\">Kano</a> </li>\n",
      "<li> <a href=\"/wiki/Katsina_State\" title=\"Katsina State\">Katsina</a> </li>\n",
      "<li> <a href=\"/wiki/Kebbi_State\" title=\"Kebbi State\">Kebbi</a> </li>\n",
      "<li> <a href=\"/wiki/Kogi_State\" title=\"Kogi State\">Kogi</a> </li>\n",
      "<li> <a href=\"/wiki/Kwara_State\" title=\"Kwara State\">Kwara</a> </li>\n",
      "<li> <a href=\"/wiki/Lagos_State\" title=\"Lagos State\">Lagos</a> </li>\n",
      "</ul>\n",
      "</td>\n",
      "<td>\n",
      "<ul>\n",
      "<li> <a href=\"/wiki/Nasarawa_State\" title=\"Nasarawa State\">Nasarawa</a> </li>\n",
      "<li> <a href=\"/wiki/Niger_State\" title=\"Niger State\">Niger</a> </li>\n",
      "<li> <a href=\"/wiki/Ogun_State\" title=\"Ogun State\">Ogun</a> </li>\n",
      "<li> <a href=\"/wiki/Ondo_State\" title=\"Ondo State\">Ondo</a> </li>\n",
      "<li> <a href=\"/wiki/Osun_State\" title=\"Osun State\">Osun</a> </li>\n",
      "<li> <a href=\"/wiki/Oyo_State\" title=\"Oyo State\">Oyo</a> </li>\n",
      "<li> <a href=\"/wiki/Plateau_State\" title=\"Plateau State\">Plateau</a> </li>\n",
      "<li> <a href=\"/wiki/Rivers_State\" title=\"Rivers State\">Rivers</a> </li>\n",
      "<li> <a href=\"/wiki/Sokoto_State\" title=\"Sokoto State\">Sokoto</a> </li>\n",
      "<li> <a href=\"/wiki/Taraba_State\" title=\"Taraba State\">Taraba</a> </li>\n",
      "<li> <a href=\"/wiki/Yobe_State\" title=\"Yobe State\">Yobe</a> </li>\n",
      "<li> <a href=\"/wiki/Zamfara_State\" title=\"Zamfara State\">Zamfara</a> </li>\n",
      "</ul>\n",
      "</td></tr>\n",
      "<tr>\n",
      "<th colspan=\"3\" style=\"padding-top:0.8em;font-size:120%;\">Territory\n",
      "</th></tr>\n",
      "<tr>\n",
      "<td colspan=\"3\" style=\"text-align:center;\"><a href=\"/wiki/Federal_Capital_Territory_(Nigeria)\" title=\"Federal Capital Territory (Nigeria)\">Federal Capital Territory</a>\n",
      "</td></tr>\n",
      "</tbody></table>\n",
      "</td></tr></tbody></table></div>\n",
      "<p><br/>\n",
      "</p>\n",
      "<table class=\"wikitable sortable plainrowheaders\" style=\"text-align:center;\">\n",
      "<caption>States of Nigeria\n",
      "</caption>\n",
      "<tbody><tr style=\"line-height:1.3\">\n",
      "<th rowspan=\"2\" scope=\"col\">Name\n",
      "</th>\n",
      "<th rowspan=\"2\" scope=\"col\"><a href=\"/wiki/ISO_3166-2:NG\" title=\"ISO 3166-2:NG\">ISO<br/>3166-2<br/>code</a>\n",
      "</th>\n",
      "<th class=\"unsortable\" rowspan=\"2\" scope=\"col\">Seal\n",
      "</th>\n",
      "<th class=\"unsortable\" rowspan=\"2\" scope=\"col\">Location\n",
      "</th>\n",
      "<th colspan=\"2\" scope=\"col\">City\n",
      "</th>\n",
      "<th rowspan=\"2\" scope=\"col\"><a href=\"/wiki/Geopolitical_zones_of_Nigeria\" title=\"Geopolitical zones of Nigeria\">Geopolitical<br/>zone</a>\n",
      "</th>\n",
      "<th rowspan=\"2\" scope=\"col\">Area\n",
      "</th>\n",
      "<th rowspan=\"2\" scope=\"col\">Population<br/>(2019<br/>estimate)<sup class=\"reference\" id=\"cite_ref-4\"><a href=\"#cite_note-4\"><span class=\"cite-bracket\">[</span>4<span class=\"cite-bracket\">]</span></a></sup>\n",
      "</th></tr>\n",
      "<tr>\n",
      "<th scope=\"col\">Capital\n",
      "</th>\n",
      "<th scope=\"col\">Largest\n",
      "</th></tr>\n",
      "<tr>\n",
      "<th scope=\"row\"><a href=\"/wiki/Abia_State\" title=\"Abia State\">Abia</a>\n",
      "</th>\n",
      "<td>AB\n",
      "</td>\n",
      "<td><span typeof=\"mw:File\"><a class=\"mw-file-description\" href=\"/wiki/File:Abia_State_Coat_of_Arms.gif\"><img class=\"mw-file-element\" data-file-height=\"216\" data-file-width=\"181\" decoding=\"async\" height=\"60\" src=\"//upload.wikimedia.org/wikipedia/commons/thumb/a/a8/Abia_State_Coat_of_Arms.gif/50px-Abia_State_Coat_of_Arms.gif\" srcset=\"//upload.wikimedia.org/wikipedia/commons/thumb/a/a8/Abia_State_Coat_of_Arms.gif/75px-Abia_State_Coat_of_Arms.gif 1.5x, //upload.wikimedia.org/wikipedia/commons/thumb/a/a8/Abia_State_Coat_of_Arms.gif/100px-Abia_State_Coat_of_Arms.gif 2x\" width=\"50\"/></a></span>\n",
      "</td>\n",
      "<td><span typeof=\"mw:File\"><a class=\"mw-file-description\" href=\"/wiki/File:Nigeria_-_Abia.svg\"><img class=\"mw-file-element\" data-file-height=\"734\" data-file-width=\"954\" decoding=\"async\" height=\"62\" src=\"//upload.wikimedia.org/wikipedia/commons/thumb/d/df/Nigeria_-_Abia.svg/80px-Nigeria_-_Abia.svg.png\" srcset=\"//upload.wikimedia.org/wikipedia/commons/thumb/d/df/Nigeria_-_Abia.svg/120px-Nigeria_-_Abia.svg.png 1.5x, //upload.wikimedia.org/wikipedia/commons/thumb/d/df/Nigeria_-_Abia.svg/160px-Nigeria_-_Abia.svg.png 2x\" width=\"80\"/></a></span>\n",
      "</td>\n",
      "<td><a href=\"/wiki/Umuahia\" title=\"Umuahia\">Umuahia</a>\n",
      "</td>\n",
      "<td><a href=\"/wiki/Aba,_Nigeria\" title=\"Aba, Nigeria\">Aba</a>\n",
      "</td>\n",
      "<td><a href=\"/wiki/South_East_(Nigeria)\" title=\"South East (Nigeria)\">South East</a>\n",
      "</td>\n",
      "<td><span data-sort-value=\"7009632000000000000♠\"></span>6,320 km<sup>2</sup> (2,440 sq mi)\n",
      "</td>\n",
      "<td>3,841,943\n",
      "</td></tr>\n",
      "<tr>\n",
      "<th scope=\"row\"><a href=\"/wiki/Adamawa_State\" title=\"Adamawa State\">Adamawa</a>\n",
      "</th>\n",
      "<td>AD\n",
      "</td>\n",
      "<td><span typeof=\"mw:File\"><a class=\"mw-file-description\" href=\"/wiki/File:Seal_of_Adamawa_State.png\"><img class=\"mw-file-element\" data-file-height=\"328\" data-file-width=\"325\" decoding=\"async\" height=\"50\" src=\"//upload.wikimedia.org/wikipedia/commons/thumb/7/7d/Seal_of_Adamawa_State.png/50px-Seal_of_Adamawa_State.png\" srcset=\"//upload.wikimedia.org/wikipedia/commons/thumb/7/7d/Seal_of_Adamawa_State.png/75px-Seal_of_Adamawa_State.png 1.5x, //upload.wikimedia.org/wikipedia/commons/thumb/7/7d/Seal_of_Adamawa_State.png/100px-Seal_of_Adamawa_State.png 2x\" width=\"50\"/></a></span>\n",
      "</td>\n",
      "<td><span typeof=\"mw:File\"><a class=\"mw-file-description\" href=\"/wiki/File:Nigeria_-_Adamawa.svg\"><img class=\"mw-file-element\" data-file-height=\"734\" data-file-width=\"954\" decoding=\"async\" height=\"62\" src=\"//upload.wikimedia.org/wikipedia/commons/thumb/f/f5/Nigeria_-_Adamawa.svg/80px-Nigeria_-_Adamawa.svg.png\" srcset=\"//upload.wikimedia.org/wikipedia/commons/thumb/f/f5/Nigeria_-_Adamawa.svg/120px-Nigeria_-_Adamawa.svg.png 1.5x, //upload.wikimedia.org/wikipedia/commons/thumb/f/f5/Nigeria_-_Adamawa.svg/160px-Nigeria_-_Adamawa.svg.png 2x\" width=\"80\"/></a></span>\n",
      "</td>\n",
      "<td colspan=\"2\"><a href=\"/wiki/Yola,_Nigeria\" title=\"Yola, Nigeria\">Yola</a>\n",
      "</td>\n",
      "<td><a href=\"/wiki/North_East_(Nigeria)\" title=\"North East (Nigeria)\">North East</a>\n",
      "</td>\n",
      "<td><span data-sort-value=\"7010369170000000000♠\"></span>36,917 km<sup>2</sup> (14,254 sq mi)\n",
      "</td>\n",
      "<td>4,536,948\n",
      "</td></tr>\n",
      "<tr>\n",
      "<th scope=\"row\"><a href=\"/wiki/Akwa_Ibom_State\" title=\"Akwa Ibom State\">Akwa Ibom</a>\n",
      "</th>\n",
      "<td>AK\n",
      "</td>\n",
      "<td><span typeof=\"mw:File\"><a class=\"mw-file-description\" href=\"/wiki/File:The_Emblem_of_Akwa_Ibom_State.jpg\"><img class=\"mw-file-element\" data-file-height=\"779\" data-file-width=\"720\" decoding=\"async\" height=\"54\" src=\"//upload.wikimedia.org/wikipedia/commons/thumb/4/44/The_Emblem_of_Akwa_Ibom_State.jpg/50px-The_Emblem_of_Akwa_Ibom_State.jpg\" srcset=\"//upload.wikimedia.org/wikipedia/commons/thumb/4/44/The_Emblem_of_Akwa_Ibom_State.jpg/75px-The_Emblem_of_Akwa_Ibom_State.jpg 1.5x, //upload.wikimedia.org/wikipedia/commons/thumb/4/44/The_Emblem_of_Akwa_Ibom_State.jpg/100px-The_Emblem_of_Akwa_Ibom_State.jpg 2x\" width=\"50\"/></a></span>\n",
      "</td>\n",
      "<td><span typeof=\"mw:File\"><a class=\"mw-file-description\" href=\"/wiki/File:Nigeria_-_Akwa_Ibom.svg\"><img class=\"mw-file-element\" data-file-height=\"734\" data-file-width=\"954\" decoding=\"async\" height=\"62\" src=\"//upload.wikimedia.org/wikipedia/commons/thumb/d/dd/Nigeria_-_Akwa_Ibom.svg/80px-Nigeria_-_Akwa_Ibom.svg.png\" srcset=\"//upload.wikimedia.org/wikipedia/commons/thumb/d/dd/Nigeria_-_Akwa_Ibom.svg/120px-Nigeria_-_Akwa_Ibom.svg.png 1.5x, //upload.wikimedia.org/wikipedia/commons/thumb/d/dd/Nigeria_-_Akwa_Ibom.svg/160px-Nigeria_-_Akwa_Ibom.svg.png 2x\" width=\"80\"/></a></span>\n",
      "</td>\n",
      "<td colspan=\"2\"><a href=\"/wiki/Uyo\" title=\"Uyo\">Uyo</a>\n",
      "</td>\n",
      "<td><a href=\"/wiki/South_South\" title=\"South South\">South South</a>\n",
      "</td>\n",
      "<td><span data-sort-value=\"7009708100000000000♠\"></span>7,081 km<sup>2</sup> (2,734 sq mi)\n",
      "</td>\n",
      "<td>4,780,581\n",
      "</td></tr>\n",
      "<tr>\n",
      "<th scope=\"row\"><a href=\"/wiki/Anambra_State\" title=\"Anambra State\">Anambra</a>\n",
      "</th>\n",
      "<td>AN\n",
      "</td>\n",
      "<td>\n",
      "</td>\n",
      "<td><span typeof=\"mw:File\"><a class=\"mw-file-description\" href=\"/wiki/File:Nigeria_-_Anambra.svg\"><img class=\"mw-file-element\" data-file-height=\"734\" data-file-width=\"954\" decoding=\"async\" height=\"62\" src=\"//upload.wikimedia.org/wikipedia/commons/thumb/f/f0/Nigeria_-_Anambra.svg/80px-Nigeria_-_Anambra.svg.png\" srcset=\"//upload.wikimedia.org/wikipedia/commons/thumb/f/f0/Nigeria_-_Anambra.svg/120px-Nigeria_-_Anambra.svg.png 1.5x, //upload.wikimedia.org/wikipedia/commons/thumb/f/f0/Nigeria_-_Anambra.svg/160px-Nigeria_-_Anambra.svg.png 2x\" width=\"80\"/></a></span>\n",
      "</td>\n",
      "<td><a href=\"/wiki/Awka\" title=\"Awka\">Awka</a>\n",
      "</td>\n",
      "<td><a href=\"/wiki/Onitsha\" title=\"Onitsha\">Onitsha</a>\n",
      "</td>\n",
      "<td><a href=\"/wiki/South_East_(Nigeria)\" title=\"South East (Nigeria)\">South East</a>\n",
      "</td>\n",
      "<td><span data-sort-value=\"7009484400000000000♠\"></span>4,844 km<sup>2</sup> (1,870 sq mi)\n",
      "</td>\n",
      "<td>5,599,910\n",
      "</td></tr>\n",
      "<tr>\n",
      "<th scope=\"row\"><a href=\"/wiki/Bauchi_State\" title=\"Bauchi State\">Bauchi</a>\n",
      "</th>\n",
      "<td>BA\n",
      "</td>\n",
      "<td><span typeof=\"mw:File\"><a class=\"mw-file-description\" href=\"/wiki/File:BAUCHI_state_coat.png\"><img class=\"mw-file-element\" data-file-height=\"623\" data-file-width=\"622\" decoding=\"async\" height=\"50\" src=\"//upload.wikimedia.org/wikipedia/commons/thumb/5/56/BAUCHI_state_coat.png/50px-BAUCHI_state_coat.png\" srcset=\"//upload.wikimedia.org/wikipedia/commons/thumb/5/56/BAUCHI_state_coat.png/75px-BAUCHI_state_coat.png 1.5x, //upload.wikimedia.org/wikipedia/commons/thumb/5/56/BAUCHI_state_coat.png/100px-BAUCHI_state_coat.png 2x\" width=\"50\"/></a></span>\n",
      "</td>\n",
      "<td><span typeof=\"mw:File\"><a class=\"mw-file-description\" href=\"/wiki/File:Nigeria_-_Bauchi.svg\"><img class=\"mw-file-element\" data-file-height=\"734\" data-file-width=\"954\" decoding=\"async\" height=\"62\" src=\"//upload.wikimedia.org/wikipedia/commons/thumb/9/9f/Nigeria_-_Bauchi.svg/80px-Nigeria_-_Bauchi.svg.png\" srcset=\"//upload.wikimedia.org/wikipedia/commons/thumb/9/9f/Nigeria_-_Bauchi.svg/120px-Nigeria_-_Bauchi.svg.png 1.5x, //upload.wikimedia.org/wikipedia/commons/thumb/9/9f/Nigeria_-_Bauchi.svg/160px-Nigeria_-_Bauchi.svg.png 2x\" width=\"80\"/></a></span>\n",
      "</td>\n",
      "<td colspan=\"2\"><a href=\"/wiki/Bauchi\" title=\"Bauchi\">Bauchi</a>\n",
      "</td>\n",
      "<td><a href=\"/wiki/North_East_(Nigeria)\" title=\"North East (Nigeria)\">North East</a>\n",
      "</td>\n",
      "<td><span data-sort-value=\"7010458930000000000♠\"></span>45,893 km<sup>2</sup> (17,719 sq mi)\n",
      "</td>\n",
      "<td>7,540,663\n",
      "</td></tr>\n",
      "<tr>\n",
      "<th scope=\"row\"><a href=\"/wiki/Bayelsa_State\" title=\"Bayelsa State\">Bayelsa</a>\n",
      "</th>\n",
      "<td>BY\n",
      "</td>\n",
      "<td>\n",
      "</td>\n",
      "<td><span typeof=\"mw:File\"><a class=\"mw-file-description\" href=\"/wiki/File:Nigeria_-_Bayelsa.svg\"><img class=\"mw-file-element\" data-file-height=\"734\" data-file-width=\"954\" decoding=\"async\" height=\"62\" src=\"//upload.wikimedia.org/wikipedia/commons/thumb/e/e6/Nigeria_-_Bayelsa.svg/80px-Nigeria_-_Bayelsa.svg.png\" srcset=\"//upload.wikimedia.org/wikipedia/commons/thumb/e/e6/Nigeria_-_Bayelsa.svg/120px-Nigeria_-_Bayelsa.svg.png 1.5x, //upload.wikimedia.org/wikipedia/commons/thumb/e/e6/Nigeria_-_Bayelsa.svg/160px-Nigeria_-_Bayelsa.svg.png 2x\" width=\"80\"/></a></span>\n",
      "</td>\n",
      "<td colspan=\"2\"><a href=\"/wiki/Yenagoa\" title=\"Yenagoa\">Yenagoa</a>\n",
      "</td>\n",
      "<td><a href=\"/wiki/South_South\" title=\"South South\">South South</a>\n",
      "</td>\n",
      "<td><span data-sort-value=\"7010107730000000000♠\"></span>10,773 km<sup>2</sup> (4,159 sq mi)\n",
      "</td>\n",
      "<td>2,394,725\n",
      "</td></tr>\n",
      "<tr>\n",
      "<th scope=\"row\"><a href=\"/wiki/Benue_State\" title=\"Benue State\">Benue</a>\n",
      "</th>\n",
      "<td>BE\n",
      "</td>\n",
      "<td><span typeof=\"mw:File\"><a class=\"mw-file-description\" href=\"/wiki/File:Seal_of_Benue_State.png\"><img class=\"mw-file-element\" data-file-height=\"1279\" data-file-width=\"1279\" decoding=\"async\" height=\"50\" src=\"//upload.wikimedia.org/wikipedia/commons/thumb/6/62/Seal_of_Benue_State.png/50px-Seal_of_Benue_State.png\" srcset=\"//upload.wikimedia.org/wikipedia/commons/thumb/6/62/Seal_of_Benue_State.png/75px-Seal_of_Benue_State.png 1.5x, //upload.wikimedia.org/wikipedia/commons/thumb/6/62/Seal_of_Benue_State.png/100px-Seal_of_Benue_State.png 2x\" width=\"50\"/></a></span>\n",
      "</td>\n",
      "<td><span typeof=\"mw:File\"><a class=\"mw-file-description\" href=\"/wiki/File:Nigeria_-_Benue.svg\"><img class=\"mw-file-element\" data-file-height=\"734\" data-file-width=\"954\" decoding=\"async\" height=\"62\" src=\"//upload.wikimedia.org/wikipedia/commons/thumb/1/18/Nigeria_-_Benue.svg/80px-Nigeria_-_Benue.svg.png\" srcset=\"//upload.wikimedia.org/wikipedia/commons/thumb/1/18/Nigeria_-_Benue.svg/120px-Nigeria_-_Benue.svg.png 1.5x, //upload.wikimedia.org/wikipedia/commons/thumb/1/18/Nigeria_-_Benue.svg/160px-Nigeria_-_Benue.svg.png 2x\" width=\"80\"/></a></span>\n",
      "</td>\n",
      "<td colspan=\"2\"><a href=\"/wiki/Makurdi\" title=\"Makurdi\">Makurdi</a>\n",
      "</td>\n",
      "<td><a href=\"/wiki/North_Central_(Nigeria)\" title=\"North Central (Nigeria)\">North Central</a>\n",
      "</td>\n",
      "<td><span data-sort-value=\"7010340590000000000♠\"></span>34,059 km<sup>2</sup> (13,150 sq mi)\n",
      "</td>\n",
      "<td>5,787,706\n",
      "</td></tr>\n",
      "<tr>\n",
      "<th scope=\"row\"><a href=\"/wiki/Borno_State\" title=\"Borno State\">Borno</a>\n",
      "</th>\n",
      "<td>BO\n",
      "</td>\n",
      "<td><span typeof=\"mw:File\"><a class=\"mw-file-description\" href=\"/wiki/File:Seal_of_Borno_State.png\"><img class=\"mw-file-element\" data-file-height=\"231\" data-file-width=\"226\" decoding=\"async\" height=\"51\" src=\"//upload.wikimedia.org/wikipedia/commons/thumb/4/4c/Seal_of_Borno_State.png/50px-Seal_of_Borno_State.png\" srcset=\"//upload.wikimedia.org/wikipedia/commons/thumb/4/4c/Seal_of_Borno_State.png/75px-Seal_of_Borno_State.png 1.5x, //upload.wikimedia.org/wikipedia/commons/thumb/4/4c/Seal_of_Borno_State.png/100px-Seal_of_Borno_State.png 2x\" width=\"50\"/></a></span>\n",
      "</td>\n",
      "<td><span typeof=\"mw:File\"><a class=\"mw-file-description\" href=\"/wiki/File:Nigeria_-_Borno.svg\"><img class=\"mw-file-element\" data-file-height=\"734\" data-file-width=\"954\" decoding=\"async\" height=\"62\" src=\"//upload.wikimedia.org/wikipedia/commons/thumb/0/06/Nigeria_-_Borno.svg/80px-Nigeria_-_Borno.svg.png\" srcset=\"//upload.wikimedia.org/wikipedia/commons/thumb/0/06/Nigeria_-_Borno.svg/120px-Nigeria_-_Borno.svg.png 1.5x, //upload.wikimedia.org/wikipedia/commons/thumb/0/06/Nigeria_-_Borno.svg/160px-Nigeria_-_Borno.svg.png 2x\" width=\"80\"/></a></span>\n",
      "</td>\n",
      "<td colspan=\"2\"><a href=\"/wiki/Maiduguri\" title=\"Maiduguri\">Maiduguri</a>\n",
      "</td>\n",
      "<td><a href=\"/wiki/North_East_(Nigeria)\" title=\"North East (Nigeria)\">North East</a>\n",
      "</td>\n",
      "<td><span data-sort-value=\"7010708980000000000♠\"></span>70,898 km<sup>2</sup> (27,374 sq mi)\n",
      "</td>\n",
      "<td>5,751,590\n",
      "</td></tr>\n",
      "<tr>\n",
      "<th scope=\"row\"><a href=\"/wiki/Cross_River_State\" title=\"Cross River State\">Cross River</a>\n",
      "</th>\n",
      "<td>CR\n",
      "</td>\n",
      "<td><span typeof=\"mw:File\"><a class=\"mw-file-description\" href=\"/wiki/File:Coat_of_arms_state_Cross_River.jpg\"><img class=\"mw-file-element\" data-file-height=\"315\" data-file-width=\"358\" decoding=\"async\" height=\"44\" src=\"//upload.wikimedia.org/wikipedia/commons/thumb/7/76/Coat_of_arms_state_Cross_River.jpg/50px-Coat_of_arms_state_Cross_River.jpg\" srcset=\"//upload.wikimedia.org/wikipedia/commons/thumb/7/76/Coat_of_arms_state_Cross_River.jpg/75px-Coat_of_arms_state_Cross_River.jpg 1.5x, //upload.wikimedia.org/wikipedia/commons/thumb/7/76/Coat_of_arms_state_Cross_River.jpg/100px-Coat_of_arms_state_Cross_River.jpg 2x\" width=\"50\"/></a></span>\n",
      "</td>\n",
      "<td><span typeof=\"mw:File\"><a class=\"mw-file-description\" href=\"/wiki/File:Nigeria_-_Cross_River.svg\"><img class=\"mw-file-element\" data-file-height=\"734\" data-file-width=\"954\" decoding=\"async\" height=\"62\" src=\"//upload.wikimedia.org/wikipedia/commons/thumb/a/ad/Nigeria_-_Cross_River.svg/80px-Nigeria_-_Cross_River.svg.png\" srcset=\"//upload.wikimedia.org/wikipedia/commons/thumb/a/ad/Nigeria_-_Cross_River.svg/120px-Nigeria_-_Cross_River.svg.png 1.5x, //upload.wikimedia.org/wikipedia/commons/thumb/a/ad/Nigeria_-_Cross_River.svg/160px-Nigeria_-_Cross_River.svg.png 2x\" width=\"80\"/></a></span>\n",
      "</td>\n",
      "<td colspan=\"2\"><a href=\"/wiki/Calabar\" title=\"Calabar\">Calabar</a>\n",
      "</td>\n",
      "<td><a href=\"/wiki/South_South\" title=\"South South\">South South</a>\n",
      "</td>\n",
      "<td><span data-sort-value=\"7010201560000000000♠\"></span>20,156 km<sup>2</sup> (7,782 sq mi)\n",
      "</td>\n",
      "<td>4,175,020\n",
      "</td></tr>\n",
      "<tr>\n",
      "<th scope=\"row\"><a href=\"/wiki/Delta_State\" title=\"Delta State\">Delta</a>\n",
      "</th>\n",
      "<td>DE\n",
      "</td>\n",
      "<td>\n",
      "</td>\n",
      "<td><span typeof=\"mw:File\"><a class=\"mw-file-description\" href=\"/wiki/File:Nigeria_-_Delta.svg\"><img class=\"mw-file-element\" data-file-height=\"734\" data-file-width=\"954\" decoding=\"async\" height=\"62\" src=\"//upload.wikimedia.org/wikipedia/commons/thumb/3/3a/Nigeria_-_Delta.svg/80px-Nigeria_-_Delta.svg.png\" srcset=\"//upload.wikimedia.org/wikipedia/commons/thumb/3/3a/Nigeria_-_Delta.svg/120px-Nigeria_-_Delta.svg.png 1.5x, //upload.wikimedia.org/wikipedia/commons/thumb/3/3a/Nigeria_-_Delta.svg/160px-Nigeria_-_Delta.svg.png 2x\" width=\"80\"/></a></span>\n",
      "</td>\n",
      "<td colspan=\"2\"><a href=\"/wiki/Asaba\" title=\"Asaba\">Asaba</a>\n",
      "</td>\n",
      "<td><a href=\"/wiki/South_South\" title=\"South South\">South South</a>\n",
      "</td>\n",
      "<td><span data-sort-value=\"7010176980000000000♠\"></span>17,698 km<sup>2</sup> (6,833 sq mi)\n",
      "</td>\n",
      "<td>5,307,543\n",
      "</td></tr>\n",
      "<tr>\n",
      "<th scope=\"row\"><a href=\"/wiki/Ebonyi_State\" title=\"Ebonyi State\">Ebonyi</a>\n",
      "</th>\n",
      "<td>EB\n",
      "</td>\n",
      "<td>\n",
      "</td>\n",
      "<td><span typeof=\"mw:File\"><a class=\"mw-file-description\" href=\"/wiki/File:Nigeria_-_Ebonyi.svg\"><img class=\"mw-file-element\" data-file-height=\"734\" data-file-width=\"954\" decoding=\"async\" height=\"62\" src=\"//upload.wikimedia.org/wikipedia/commons/thumb/0/0a/Nigeria_-_Ebonyi.svg/80px-Nigeria_-_Ebonyi.svg.png\" srcset=\"//upload.wikimedia.org/wikipedia/commons/thumb/0/0a/Nigeria_-_Ebonyi.svg/120px-Nigeria_-_Ebonyi.svg.png 1.5x, //upload.wikimedia.org/wikipedia/commons/thumb/0/0a/Nigeria_-_Ebonyi.svg/160px-Nigeria_-_Ebonyi.svg.png 2x\" width=\"80\"/></a></span>\n",
      "</td>\n",
      "<td colspan=\"2\"><a href=\"/wiki/Abakaliki\" title=\"Abakaliki\">Abakaliki</a>\n",
      "</td>\n",
      "<td><a href=\"/wiki/South_East_(Nigeria)\" title=\"South East (Nigeria)\">South East</a>\n",
      "</td>\n",
      "<td><span data-sort-value=\"7009640000000000000♠\"></span>6,400 km<sup>2</sup> (2,500 sq mi)\n",
      "</td>\n",
      "<td>3,007,155\n",
      "</td></tr>\n",
      "<tr>\n",
      "<th scope=\"row\"><a href=\"/wiki/Edo_State\" title=\"Edo State\">Edo</a>\n",
      "</th>\n",
      "<td>ED\n",
      "</td>\n",
      "<td><span typeof=\"mw:File\"><a class=\"mw-file-description\" href=\"/wiki/File:Seal_of_Edo_State.png\"><img class=\"mw-file-element\" data-file-height=\"240\" data-file-width=\"240\" decoding=\"async\" height=\"50\" src=\"//upload.wikimedia.org/wikipedia/commons/thumb/e/eb/Seal_of_Edo_State.png/50px-Seal_of_Edo_State.png\" srcset=\"//upload.wikimedia.org/wikipedia/commons/thumb/e/eb/Seal_of_Edo_State.png/75px-Seal_of_Edo_State.png 1.5x, //upload.wikimedia.org/wikipedia/commons/thumb/e/eb/Seal_of_Edo_State.png/100px-Seal_of_Edo_State.png 2x\" width=\"50\"/></a></span>\n",
      "</td>\n",
      "<td><span typeof=\"mw:File\"><a class=\"mw-file-description\" href=\"/wiki/File:Nigeria_-_Edo.svg\"><img class=\"mw-file-element\" data-file-height=\"734\" data-file-width=\"954\" decoding=\"async\" height=\"62\" src=\"//upload.wikimedia.org/wikipedia/commons/thumb/5/54/Nigeria_-_Edo.svg/80px-Nigeria_-_Edo.svg.png\" srcset=\"//upload.wikimedia.org/wikipedia/commons/thumb/5/54/Nigeria_-_Edo.svg/120px-Nigeria_-_Edo.svg.png 1.5x, //upload.wikimedia.org/wikipedia/commons/thumb/5/54/Nigeria_-_Edo.svg/160px-Nigeria_-_Edo.svg.png 2x\" width=\"80\"/></a></span>\n",
      "</td>\n",
      "<td colspan=\"2\"><a href=\"/wiki/Benin_City\" title=\"Benin City\">Benin City</a>\n",
      "</td>\n",
      "<td><a href=\"/wiki/South_South\" title=\"South South\">South South</a>\n",
      "</td>\n",
      "<td><span data-sort-value=\"7010195590000000000♠\"></span>19,559 km<sup>2</sup> (7,552 sq mi)\n",
      "</td>\n",
      "<td>4,461,137\n",
      "</td></tr>\n",
      "<tr>\n",
      "<th scope=\"row\"><a href=\"/wiki/Ekiti_State\" title=\"Ekiti State\">Ekiti</a>\n",
      "</th>\n",
      "<td>EK\n",
      "</td>\n",
      "<td>\n",
      "</td>\n",
      "<td><span typeof=\"mw:File\"><a class=\"mw-file-description\" href=\"/wiki/File:Nigeria_-_Ekiti.svg\"><img class=\"mw-file-element\" data-file-height=\"734\" data-file-width=\"954\" decoding=\"async\" height=\"62\" src=\"//upload.wikimedia.org/wikipedia/commons/thumb/6/66/Nigeria_-_Ekiti.svg/80px-Nigeria_-_Ekiti.svg.png\" srcset=\"//upload.wikimedia.org/wikipedia/commons/thumb/6/66/Nigeria_-_Ekiti.svg/120px-Nigeria_-_Ekiti.svg.png 1.5x, //upload.wikimedia.org/wikipedia/commons/thumb/6/66/Nigeria_-_Ekiti.svg/160px-Nigeria_-_Ekiti.svg.png 2x\" width=\"80\"/></a></span>\n",
      "</td>\n",
      "<td colspan=\"2\"><a href=\"/wiki/Ado_Ekiti\" title=\"Ado Ekiti\">Ado Ekiti</a>\n",
      "</td>\n",
      "<td><a href=\"/wiki/South_West_(Nigeria)\" title=\"South West (Nigeria)\">South West</a>\n",
      "</td>\n",
      "<td><span data-sort-value=\"7009635300000000000♠\"></span>6,353 km<sup>2</sup> (2,453 sq mi)\n",
      "</td>\n",
      "<td>3,350,401\n",
      "</td></tr>\n",
      "<tr>\n",
      "<th scope=\"row\"><a href=\"/wiki/Enugu_State\" title=\"Enugu State\">Enugu</a>\n",
      "</th>\n",
      "<td>EN\n",
      "</td>\n",
      "<td><span typeof=\"mw:File\"><a class=\"mw-file-description\" href=\"/wiki/File:Enugu_state_Coat_of_Arms.jpg\"><img class=\"mw-file-element\" data-file-height=\"426\" data-file-width=\"426\" decoding=\"async\" height=\"50\" src=\"//upload.wikimedia.org/wikipedia/commons/thumb/9/9b/Enugu_state_Coat_of_Arms.jpg/50px-Enugu_state_Coat_of_Arms.jpg\" srcset=\"//upload.wikimedia.org/wikipedia/commons/thumb/9/9b/Enugu_state_Coat_of_Arms.jpg/75px-Enugu_state_Coat_of_Arms.jpg 1.5x, //upload.wikimedia.org/wikipedia/commons/thumb/9/9b/Enugu_state_Coat_of_Arms.jpg/100px-Enugu_state_Coat_of_Arms.jpg 2x\" width=\"50\"/></a></span>\n",
      "</td>\n",
      "<td><span typeof=\"mw:File\"><a class=\"mw-file-description\" href=\"/wiki/File:Nigeria_-_Enugu.svg\"><img class=\"mw-file-element\" data-file-height=\"734\" data-file-width=\"954\" decoding=\"async\" height=\"62\" src=\"//upload.wikimedia.org/wikipedia/commons/thumb/d/d7/Nigeria_-_Enugu.svg/80px-Nigeria_-_Enugu.svg.png\" srcset=\"//upload.wikimedia.org/wikipedia/commons/thumb/d/d7/Nigeria_-_Enugu.svg/120px-Nigeria_-_Enugu.svg.png 1.5x, //upload.wikimedia.org/wikipedia/commons/thumb/d/d7/Nigeria_-_Enugu.svg/160px-Nigeria_-_Enugu.svg.png 2x\" width=\"80\"/></a></span>\n",
      "</td>\n",
      "<td colspan=\"2\"><a href=\"/wiki/Enugu\" title=\"Enugu\">Enugu</a>\n",
      "</td>\n",
      "<td><a href=\"/wiki/South_East_(Nigeria)\" title=\"South East (Nigeria)\">South East</a>\n",
      "</td>\n",
      "<td><span data-sort-value=\"7010131610000000000♠\"></span>13,161 km<sup>2</sup> (5,081 sq mi)\n",
      "</td>\n",
      "<td>4,396,098\n",
      "</td></tr>\n",
      "<tr>\n",
      "<th scope=\"row\"><a href=\"/wiki/Federal_Capital_Territory_(Nigeria)\" title=\"Federal Capital Territory (Nigeria)\">Federal Capital Territory</a>\n",
      "</th>\n",
      "<td>FC\n",
      "</td>\n",
      "<td>\n",
      "</td>\n",
      "<td><span typeof=\"mw:File\"><a class=\"mw-file-description\" href=\"/wiki/File:Nigeria_Federal_Capital_Territory_map.png\"><img class=\"mw-file-element\" data-file-height=\"599\" data-file-width=\"777\" decoding=\"async\" height=\"62\" src=\"//upload.wikimedia.org/wikipedia/commons/thumb/f/f8/Nigeria_Federal_Capital_Territory_map.png/80px-Nigeria_Federal_Capital_Territory_map.png\" srcset=\"//upload.wikimedia.org/wikipedia/commons/thumb/f/f8/Nigeria_Federal_Capital_Territory_map.png/120px-Nigeria_Federal_Capital_Territory_map.png 1.5x, //upload.wikimedia.org/wikipedia/commons/thumb/f/f8/Nigeria_Federal_Capital_Territory_map.png/160px-Nigeria_Federal_Capital_Territory_map.png 2x\" width=\"80\"/></a></span>\n",
      "</td>\n",
      "<td colspan=\"2\"><a href=\"/wiki/Abuja\" title=\"Abuja\">Abuja</a>\n",
      "</td>\n",
      "<td><a href=\"/wiki/North_Central_(Nigeria)\" title=\"North Central (Nigeria)\">North Central</a>\n",
      "</td>\n",
      "<td><span data-sort-value=\"7009731500000000000♠\"></span>7,315 km<sup>2</sup> (2,824 sq mi)\n",
      "</td>\n",
      "<td>1,406,239\n",
      "</td></tr>\n",
      "<tr>\n",
      "<th scope=\"row\"><a href=\"/wiki/Gombe_State\" title=\"Gombe State\">Gombe</a>\n",
      "</th>\n",
      "<td>GO\n",
      "</td>\n",
      "<td>\n",
      "</td>\n",
      "<td><span typeof=\"mw:File\"><a class=\"mw-file-description\" href=\"/wiki/File:Nigeria_-_Gombe.svg\"><img class=\"mw-file-element\" data-file-height=\"734\" data-file-width=\"954\" decoding=\"async\" height=\"62\" src=\"//upload.wikimedia.org/wikipedia/commons/thumb/4/4e/Nigeria_-_Gombe.svg/80px-Nigeria_-_Gombe.svg.png\" srcset=\"//upload.wikimedia.org/wikipedia/commons/thumb/4/4e/Nigeria_-_Gombe.svg/120px-Nigeria_-_Gombe.svg.png 1.5x, //upload.wikimedia.org/wikipedia/commons/thumb/4/4e/Nigeria_-_Gombe.svg/160px-Nigeria_-_Gombe.svg.png 2x\" width=\"80\"/></a></span>\n",
      "</td>\n",
      "<td colspan=\"2\"><a href=\"/wiki/Gombe,_Nigeria\" title=\"Gombe, Nigeria\">Gombe</a>\n",
      "</td>\n",
      "<td><a href=\"/wiki/North_East_(Nigeria)\" title=\"North East (Nigeria)\">North East</a>\n",
      "</td>\n",
      "<td><span data-sort-value=\"7010187680000000000♠\"></span>18,768 km<sup>2</sup> (7,246 sq mi)\n",
      "</td>\n",
      "<td>3,623,462\n",
      "</td></tr>\n",
      "<tr>\n",
      "<th scope=\"row\"><a href=\"/wiki/Imo_State\" title=\"Imo State\">Imo</a>\n",
      "</th>\n",
      "<td>IM\n",
      "</td>\n",
      "<td><span typeof=\"mw:File\"><a class=\"mw-file-description\" href=\"/wiki/File:Seal_2014-06-25_00-44.jpg\"><img class=\"mw-file-element\" data-file-height=\"333\" data-file-width=\"333\" decoding=\"async\" height=\"50\" src=\"//upload.wikimedia.org/wikipedia/commons/thumb/7/7d/Seal_2014-06-25_00-44.jpg/50px-Seal_2014-06-25_00-44.jpg\" srcset=\"//upload.wikimedia.org/wikipedia/commons/thumb/7/7d/Seal_2014-06-25_00-44.jpg/75px-Seal_2014-06-25_00-44.jpg 1.5x, //upload.wikimedia.org/wikipedia/commons/thumb/7/7d/Seal_2014-06-25_00-44.jpg/100px-Seal_2014-06-25_00-44.jpg 2x\" width=\"50\"/></a></span>\n",
      "</td>\n",
      "<td><span typeof=\"mw:File\"><a class=\"mw-file-description\" href=\"/wiki/File:Nigeria_-_Imo.svg\"><img class=\"mw-file-element\" data-file-height=\"734\" data-file-width=\"954\" decoding=\"async\" height=\"62\" src=\"//upload.wikimedia.org/wikipedia/commons/thumb/0/0e/Nigeria_-_Imo.svg/80px-Nigeria_-_Imo.svg.png\" srcset=\"//upload.wikimedia.org/wikipedia/commons/thumb/0/0e/Nigeria_-_Imo.svg/120px-Nigeria_-_Imo.svg.png 1.5x, //upload.wikimedia.org/wikipedia/commons/thumb/0/0e/Nigeria_-_Imo.svg/160px-Nigeria_-_Imo.svg.png 2x\" width=\"80\"/></a></span>\n",
      "</td>\n",
      "<td colspan=\"2\"><a href=\"/wiki/Owerri\" title=\"Owerri\">Owerri</a>\n",
      "</td>\n",
      "<td><a href=\"/wiki/South_East_(Nigeria)\" title=\"South East (Nigeria)\">South East</a>\n",
      "</td>\n",
      "<td><span data-sort-value=\"7009553000000000000♠\"></span>5,530 km<sup>2</sup> (2,140 sq mi)\n",
      "</td>\n",
      "<td>5,167,722\n",
      "</td></tr>\n",
      "<tr>\n",
      "<th scope=\"row\"><a href=\"/wiki/Jigawa_State\" title=\"Jigawa State\">Jigawa</a>\n",
      "</th>\n",
      "<td>JI\n",
      "</td>\n",
      "<td><span typeof=\"mw:File\"><a class=\"mw-file-description\" href=\"/wiki/File:Coats_of_arms_of_None.svg\"><img class=\"mw-file-element\" data-file-height=\"150\" data-file-width=\"125\" decoding=\"async\" height=\"60\" src=\"//upload.wikimedia.org/wikipedia/commons/thumb/c/c1/Coats_of_arms_of_None.svg/50px-Coats_of_arms_of_None.svg.png\" srcset=\"//upload.wikimedia.org/wikipedia/commons/thumb/c/c1/Coats_of_arms_of_None.svg/75px-Coats_of_arms_of_None.svg.png 1.5x, //upload.wikimedia.org/wikipedia/commons/thumb/c/c1/Coats_of_arms_of_None.svg/100px-Coats_of_arms_of_None.svg.png 2x\" width=\"50\"/></a></span>\n",
      "</td>\n",
      "<td><span typeof=\"mw:File\"><a class=\"mw-file-description\" href=\"/wiki/File:Nigeria_-_Jigawa.svg\"><img class=\"mw-file-element\" data-file-height=\"734\" data-file-width=\"954\" decoding=\"async\" height=\"62\" src=\"//upload.wikimedia.org/wikipedia/commons/thumb/c/cf/Nigeria_-_Jigawa.svg/80px-Nigeria_-_Jigawa.svg.png\" srcset=\"//upload.wikimedia.org/wikipedia/commons/thumb/c/cf/Nigeria_-_Jigawa.svg/120px-Nigeria_-_Jigawa.svg.png 1.5x, //upload.wikimedia.org/wikipedia/commons/thumb/c/cf/Nigeria_-_Jigawa.svg/160px-Nigeria_-_Jigawa.svg.png 2x\" width=\"80\"/></a></span>\n",
      "</td>\n",
      "<td colspan=\"2\"><a href=\"/wiki/Dutse\" title=\"Dutse\">Dutse</a>\n",
      "</td>\n",
      "<td><a href=\"/wiki/North_West_(Nigeria)\" title=\"North West (Nigeria)\">North West</a>\n",
      "</td>\n",
      "<td><span data-sort-value=\"7010231540000000000♠\"></span>23,154 km<sup>2</sup> (8,940 sq mi)\n",
      "</td>\n",
      "<td>6,779,080\n",
      "</td></tr>\n",
      "<tr>\n",
      "<th scope=\"row\"><a href=\"/wiki/Kaduna_State\" title=\"Kaduna State\">Kaduna</a>\n",
      "</th>\n",
      "<td>KD\n",
      "</td>\n",
      "<td>\n",
      "</td>\n",
      "<td><span typeof=\"mw:File\"><a class=\"mw-file-description\" href=\"/wiki/File:Nigeria_-_Kaduna.svg\"><img class=\"mw-file-element\" data-file-height=\"734\" data-file-width=\"954\" decoding=\"async\" height=\"62\" src=\"//upload.wikimedia.org/wikipedia/commons/thumb/e/ee/Nigeria_-_Kaduna.svg/80px-Nigeria_-_Kaduna.svg.png\" srcset=\"//upload.wikimedia.org/wikipedia/commons/thumb/e/ee/Nigeria_-_Kaduna.svg/120px-Nigeria_-_Kaduna.svg.png 1.5x, //upload.wikimedia.org/wikipedia/commons/thumb/e/ee/Nigeria_-_Kaduna.svg/160px-Nigeria_-_Kaduna.svg.png 2x\" width=\"80\"/></a></span>\n",
      "</td>\n",
      "<td colspan=\"2\"><a href=\"/wiki/Kaduna\" title=\"Kaduna\">Kaduna</a>\n",
      "</td>\n",
      "<td><a href=\"/wiki/North_West_(Nigeria)\" title=\"North West (Nigeria)\">North West</a>\n",
      "</td>\n",
      "<td><span data-sort-value=\"7010460530000000000♠\"></span>46,053 km<sup>2</sup> (17,781 sq mi)\n",
      "</td>\n",
      "<td>8,324,285\n",
      "</td></tr>\n",
      "<tr>\n",
      "<th scope=\"row\"><a href=\"/wiki/Kano_State\" title=\"Kano State\">Kano</a>\n",
      "</th>\n",
      "<td>KN\n",
      "</td>\n",
      "<td><span typeof=\"mw:File\"><a class=\"mw-file-description\" href=\"/wiki/File:Seal_of_Kano.png\"><img class=\"mw-file-element\" data-file-height=\"1553\" data-file-width=\"2000\" decoding=\"async\" height=\"39\" src=\"//upload.wikimedia.org/wikipedia/commons/thumb/f/ff/Seal_of_Kano.png/50px-Seal_of_Kano.png\" srcset=\"//upload.wikimedia.org/wikipedia/commons/thumb/f/ff/Seal_of_Kano.png/75px-Seal_of_Kano.png 1.5x, //upload.wikimedia.org/wikipedia/commons/thumb/f/ff/Seal_of_Kano.png/100px-Seal_of_Kano.png 2x\" width=\"50\"/></a></span>\n",
      "</td>\n",
      "<td><span typeof=\"mw:File\"><a class=\"mw-file-description\" href=\"/wiki/File:Nigeria_-_Kano.svg\"><img class=\"mw-file-element\" data-file-height=\"734\" data-file-width=\"954\" decoding=\"async\" height=\"62\" src=\"//upload.wikimedia.org/wikipedia/commons/thumb/0/02/Nigeria_-_Kano.svg/80px-Nigeria_-_Kano.svg.png\" srcset=\"//upload.wikimedia.org/wikipedia/commons/thumb/0/02/Nigeria_-_Kano.svg/120px-Nigeria_-_Kano.svg.png 1.5x, //upload.wikimedia.org/wikipedia/commons/thumb/0/02/Nigeria_-_Kano.svg/160px-Nigeria_-_Kano.svg.png 2x\" width=\"80\"/></a></span>\n",
      "</td>\n",
      "<td colspan=\"2\"><a href=\"/wiki/Kano_(city)\" title=\"Kano (city)\">Kano</a>\n",
      "</td>\n",
      "<td><a href=\"/wiki/North_West_(Nigeria)\" title=\"North West (Nigeria)\">North West</a>\n",
      "</td>\n",
      "<td><span data-sort-value=\"7010201310000000000♠\"></span>20,131 km<sup>2</sup> (7,773 sq mi)\n",
      "</td>\n",
      "<td>14,253,549\n",
      "</td></tr>\n",
      "<tr>\n",
      "<th scope=\"row\"><a href=\"/wiki/Katsina_State\" title=\"Katsina State\">Katsina</a>\n",
      "</th>\n",
      "<td>KT\n",
      "</td>\n",
      "<td>\n",
      "</td>\n",
      "<td><span typeof=\"mw:File\"><a class=\"mw-file-description\" href=\"/wiki/File:Nigeria_-_Katsina.svg\"><img class=\"mw-file-element\" data-file-height=\"734\" data-file-width=\"954\" decoding=\"async\" height=\"62\" src=\"//upload.wikimedia.org/wikipedia/commons/thumb/a/a5/Nigeria_-_Katsina.svg/80px-Nigeria_-_Katsina.svg.png\" srcset=\"//upload.wikimedia.org/wikipedia/commons/thumb/a/a5/Nigeria_-_Katsina.svg/120px-Nigeria_-_Katsina.svg.png 1.5x, //upload.wikimedia.org/wikipedia/commons/thumb/a/a5/Nigeria_-_Katsina.svg/160px-Nigeria_-_Katsina.svg.png 2x\" width=\"80\"/></a></span>\n",
      "</td>\n",
      "<td colspan=\"2\"><a href=\"/wiki/Katsina\" title=\"Katsina\">Katsina</a>\n",
      "</td>\n",
      "<td><a href=\"/wiki/North_West_(Nigeria)\" title=\"North West (Nigeria)\">North West</a>\n",
      "</td>\n",
      "<td><span data-sort-value=\"7010241920000000000♠\"></span>24,192 km<sup>2</sup> (9,341 sq mi)\n",
      "</td>\n",
      "<td>9,300,382\n",
      "</td></tr>\n",
      "<tr>\n",
      "<th scope=\"row\"><a href=\"/wiki/Kebbi_State\" title=\"Kebbi State\">Kebbi</a>\n",
      "</th>\n",
      "<td>KE\n",
      "</td>\n",
      "<td><span typeof=\"mw:File\"><a class=\"mw-file-description\" href=\"/wiki/File:Seal_of_Kebbi_State.png\"><img class=\"mw-file-element\" data-file-height=\"400\" data-file-width=\"400\" decoding=\"async\" height=\"50\" src=\"//upload.wikimedia.org/wikipedia/commons/thumb/2/2c/Seal_of_Kebbi_State.png/50px-Seal_of_Kebbi_State.png\" srcset=\"//upload.wikimedia.org/wikipedia/commons/thumb/2/2c/Seal_of_Kebbi_State.png/75px-Seal_of_Kebbi_State.png 1.5x, //upload.wikimedia.org/wikipedia/commons/thumb/2/2c/Seal_of_Kebbi_State.png/100px-Seal_of_Kebbi_State.png 2x\" width=\"50\"/></a></span>\n",
      "</td>\n",
      "<td><span typeof=\"mw:File\"><a class=\"mw-file-description\" href=\"/wiki/File:Nigeria_-_Kebbi.svg\"><img class=\"mw-file-element\" data-file-height=\"734\" data-file-width=\"954\" decoding=\"async\" height=\"62\" src=\"//upload.wikimedia.org/wikipedia/commons/thumb/f/f2/Nigeria_-_Kebbi.svg/80px-Nigeria_-_Kebbi.svg.png\" srcset=\"//upload.wikimedia.org/wikipedia/commons/thumb/f/f2/Nigeria_-_Kebbi.svg/120px-Nigeria_-_Kebbi.svg.png 1.5x, //upload.wikimedia.org/wikipedia/commons/thumb/f/f2/Nigeria_-_Kebbi.svg/160px-Nigeria_-_Kebbi.svg.png 2x\" width=\"80\"/></a></span>\n",
      "</td>\n",
      "<td colspan=\"2\"><a href=\"/wiki/Birnin_Kebbi\" title=\"Birnin Kebbi\">Birnin Kebbi</a>\n",
      "</td>\n",
      "<td><a href=\"/wiki/North_West_(Nigeria)\" title=\"North West (Nigeria)\">North West</a>\n",
      "</td>\n",
      "<td><span data-sort-value=\"7010368000000000000♠\"></span>36,800 km<sup>2</sup> (14,200 sq mi)\n",
      "</td>\n",
      "<td>5,001,610\n",
      "</td></tr>\n",
      "<tr>\n",
      "<th scope=\"row\"><a href=\"/wiki/Kogi_State\" title=\"Kogi State\">Kogi</a>\n",
      "</th>\n",
      "<td>KO\n",
      "</td>\n",
      "<td>\n",
      "</td>\n",
      "<td><span typeof=\"mw:File\"><a class=\"mw-file-description\" href=\"/wiki/File:Nigeria_-_Kogi.svg\"><img class=\"mw-file-element\" data-file-height=\"734\" data-file-width=\"954\" decoding=\"async\" height=\"62\" src=\"//upload.wikimedia.org/wikipedia/commons/thumb/1/15/Nigeria_-_Kogi.svg/80px-Nigeria_-_Kogi.svg.png\" srcset=\"//upload.wikimedia.org/wikipedia/commons/thumb/1/15/Nigeria_-_Kogi.svg/120px-Nigeria_-_Kogi.svg.png 1.5x, //upload.wikimedia.org/wikipedia/commons/thumb/1/15/Nigeria_-_Kogi.svg/160px-Nigeria_-_Kogi.svg.png 2x\" width=\"80\"/></a></span>\n",
      "</td>\n",
      "<td colspan=\"2\"><a href=\"/wiki/Lokoja\" title=\"Lokoja\">Lokoja</a>\n",
      "</td>\n",
      "<td><a href=\"/wiki/North_Central_(Nigeria)\" title=\"North Central (Nigeria)\">North Central</a>\n",
      "</td>\n",
      "<td><span data-sort-value=\"7010298330000000000♠\"></span>29,833 km<sup>2</sup> (11,519 sq mi)\n",
      "</td>\n",
      "<td>4,153,734\n",
      "</td></tr>\n",
      "<tr>\n",
      "<th scope=\"row\"><a href=\"/wiki/Kwara_State\" title=\"Kwara State\">Kwara</a>\n",
      "</th>\n",
      "<td>KW\n",
      "</td>\n",
      "<td>\n",
      "</td>\n",
      "<td><span typeof=\"mw:File\"><a class=\"mw-file-description\" href=\"/wiki/File:Nigeria_-_Kwara.svg\"><img class=\"mw-file-element\" data-file-height=\"734\" data-file-width=\"954\" decoding=\"async\" height=\"62\" src=\"//upload.wikimedia.org/wikipedia/commons/thumb/6/6e/Nigeria_-_Kwara.svg/80px-Nigeria_-_Kwara.svg.png\" srcset=\"//upload.wikimedia.org/wikipedia/commons/thumb/6/6e/Nigeria_-_Kwara.svg/120px-Nigeria_-_Kwara.svg.png 1.5x, //upload.wikimedia.org/wikipedia/commons/thumb/6/6e/Nigeria_-_Kwara.svg/160px-Nigeria_-_Kwara.svg.png 2x\" width=\"80\"/></a></span>\n",
      "</td>\n",
      "<td colspan=\"2\"><a href=\"/wiki/Ilorin\" title=\"Ilorin\">Ilorin</a>\n",
      "</td>\n",
      "<td><a href=\"/wiki/North_Central_(Nigeria)\" title=\"North Central (Nigeria)\">North Central</a>\n",
      "</td>\n",
      "<td><span data-sort-value=\"7010368250000000000♠\"></span>36,825 km<sup>2</sup> (14,218 sq mi)\n",
      "</td>\n",
      "<td>3,259,613\n",
      "</td></tr>\n",
      "<tr>\n",
      "<th scope=\"row\"><a href=\"/wiki/Lagos_State\" title=\"Lagos State\">Lagos</a>\n",
      "</th>\n",
      "<td>LA\n",
      "</td>\n",
      "<td><span typeof=\"mw:File\"><a class=\"mw-file-description\" href=\"/wiki/File:Lagos_Seal.png\"><img class=\"mw-file-element\" data-file-height=\"384\" data-file-width=\"384\" decoding=\"async\" height=\"50\" src=\"//upload.wikimedia.org/wikipedia/commons/thumb/4/45/Lagos_Seal.png/50px-Lagos_Seal.png\" srcset=\"//upload.wikimedia.org/wikipedia/commons/thumb/4/45/Lagos_Seal.png/75px-Lagos_Seal.png 1.5x, //upload.wikimedia.org/wikipedia/commons/thumb/4/45/Lagos_Seal.png/100px-Lagos_Seal.png 2x\" width=\"50\"/></a></span>\n",
      "</td>\n",
      "<td><span typeof=\"mw:File\"><a class=\"mw-file-description\" href=\"/wiki/File:Nigeria_-_Lagos.svg\"><img class=\"mw-file-element\" data-file-height=\"734\" data-file-width=\"954\" decoding=\"async\" height=\"62\" src=\"//upload.wikimedia.org/wikipedia/commons/thumb/8/80/Nigeria_-_Lagos.svg/80px-Nigeria_-_Lagos.svg.png\" srcset=\"//upload.wikimedia.org/wikipedia/commons/thumb/8/80/Nigeria_-_Lagos.svg/120px-Nigeria_-_Lagos.svg.png 1.5x, //upload.wikimedia.org/wikipedia/commons/thumb/8/80/Nigeria_-_Lagos.svg/160px-Nigeria_-_Lagos.svg.png 2x\" width=\"80\"/></a></span>\n",
      "</td>\n",
      "<td><a href=\"/wiki/Ikeja\" title=\"Ikeja\">Ikeja</a>\n",
      "</td>\n",
      "<td><a href=\"/wiki/Lagos\" title=\"Lagos\">Lagos</a>\n",
      "</td>\n",
      "<td><a href=\"/wiki/South_West_(Nigeria)\" title=\"South West (Nigeria)\">South West</a>\n",
      "</td>\n",
      "<td><span data-sort-value=\"7009357700000000000♠\"></span>3,577 km<sup>2</sup> (1,381 sq mi)\n",
      "</td>\n",
      "<td>12,772,884\n",
      "</td></tr>\n",
      "<tr>\n",
      "<th scope=\"row\"><a href=\"/wiki/Nasarawa_State\" title=\"Nasarawa State\">Nasarawa</a>\n",
      "</th>\n",
      "<td>NA\n",
      "</td>\n",
      "<td><span typeof=\"mw:File\"><a class=\"mw-file-description\" href=\"/wiki/File:Seal_of_Nasarawa_State.svg\"><img class=\"mw-file-element\" data-file-height=\"638\" data-file-width=\"638\" decoding=\"async\" height=\"50\" src=\"//upload.wikimedia.org/wikipedia/commons/thumb/8/8f/Seal_of_Nasarawa_State.svg/50px-Seal_of_Nasarawa_State.svg.png\" srcset=\"//upload.wikimedia.org/wikipedia/commons/thumb/8/8f/Seal_of_Nasarawa_State.svg/75px-Seal_of_Nasarawa_State.svg.png 1.5x, //upload.wikimedia.org/wikipedia/commons/thumb/8/8f/Seal_of_Nasarawa_State.svg/100px-Seal_of_Nasarawa_State.svg.png 2x\" width=\"50\"/></a></span>\n",
      "</td>\n",
      "<td><span typeof=\"mw:File\"><a class=\"mw-file-description\" href=\"/wiki/File:Nigeria_-_Nasarawa.svg\"><img class=\"mw-file-element\" data-file-height=\"734\" data-file-width=\"954\" decoding=\"async\" height=\"62\" src=\"//upload.wikimedia.org/wikipedia/commons/thumb/0/0b/Nigeria_-_Nasarawa.svg/80px-Nigeria_-_Nasarawa.svg.png\" srcset=\"//upload.wikimedia.org/wikipedia/commons/thumb/0/0b/Nigeria_-_Nasarawa.svg/120px-Nigeria_-_Nasarawa.svg.png 1.5x, //upload.wikimedia.org/wikipedia/commons/thumb/0/0b/Nigeria_-_Nasarawa.svg/160px-Nigeria_-_Nasarawa.svg.png 2x\" width=\"80\"/></a></span>\n",
      "</td>\n",
      "<td colspan=\"2\"><a href=\"/wiki/Lafia\" title=\"Lafia\">Lafia</a>\n",
      "</td>\n",
      "<td><a href=\"/wiki/North_Central_(Nigeria)\" title=\"North Central (Nigeria)\">North Central</a>\n",
      "</td>\n",
      "<td><span data-sort-value=\"7010262560000000000♠\"></span>26,256 km<sup>2</sup> (10,137 sq mi)\n",
      "</td>\n",
      "<td>2,632,239\n",
      "</td></tr>\n",
      "<tr>\n",
      "<th scope=\"row\"><a href=\"/wiki/Niger_State\" title=\"Niger State\">Niger</a>\n",
      "</th>\n",
      "<td>NI\n",
      "</td>\n",
      "<td>\n",
      "</td>\n",
      "<td><span typeof=\"mw:File\"><a class=\"mw-file-description\" href=\"/wiki/File:Nigeria_-_Niger.svg\"><img class=\"mw-file-element\" data-file-height=\"734\" data-file-width=\"954\" decoding=\"async\" height=\"62\" src=\"//upload.wikimedia.org/wikipedia/commons/thumb/f/f0/Nigeria_-_Niger.svg/80px-Nigeria_-_Niger.svg.png\" srcset=\"//upload.wikimedia.org/wikipedia/commons/thumb/f/f0/Nigeria_-_Niger.svg/120px-Nigeria_-_Niger.svg.png 1.5x, //upload.wikimedia.org/wikipedia/commons/thumb/f/f0/Nigeria_-_Niger.svg/160px-Nigeria_-_Niger.svg.png 2x\" width=\"80\"/></a></span>\n",
      "</td>\n",
      "<td colspan=\"2\"><a href=\"/wiki/Minna\" title=\"Minna\">Minna</a>\n",
      "</td>\n",
      "<td><a href=\"/wiki/North_Central_(Nigeria)\" title=\"North Central (Nigeria)\">North Central</a>\n",
      "</td>\n",
      "<td><span data-sort-value=\"7010763630000000000♠\"></span>76,363 km<sup>2</sup> (29,484 sq mi)\n",
      "</td>\n",
      "<td>6,220,617\n",
      "</td></tr>\n",
      "<tr>\n",
      "<th scope=\"row\"><a href=\"/wiki/Ogun_State\" title=\"Ogun State\">Ogun</a>\n",
      "</th>\n",
      "<td>OG\n",
      "</td>\n",
      "<td>\n",
      "</td>\n",
      "<td><span typeof=\"mw:File\"><a class=\"mw-file-description\" href=\"/wiki/File:Nigeria_-_Ogun.svg\"><img class=\"mw-file-element\" data-file-height=\"734\" data-file-width=\"954\" decoding=\"async\" height=\"62\" src=\"//upload.wikimedia.org/wikipedia/commons/thumb/1/19/Nigeria_-_Ogun.svg/80px-Nigeria_-_Ogun.svg.png\" srcset=\"//upload.wikimedia.org/wikipedia/commons/thumb/1/19/Nigeria_-_Ogun.svg/120px-Nigeria_-_Ogun.svg.png 1.5x, //upload.wikimedia.org/wikipedia/commons/thumb/1/19/Nigeria_-_Ogun.svg/160px-Nigeria_-_Ogun.svg.png 2x\" width=\"80\"/></a></span>\n",
      "</td>\n",
      "<td colspan=\"2\"><a href=\"/wiki/Abeokuta\" title=\"Abeokuta\">Abeokuta</a>\n",
      "</td>\n",
      "<td><a href=\"/wiki/South_West_(Nigeria)\" title=\"South West (Nigeria)\">South West</a>\n",
      "</td>\n",
      "<td><span data-sort-value=\"7010169810000000000♠\"></span>16,981 km<sup>2</sup> (6,556 sq mi)\n",
      "</td>\n",
      "<td>5,945,275\n",
      "</td></tr>\n",
      "<tr>\n",
      "<th scope=\"row\"><a href=\"/wiki/Ondo_State\" title=\"Ondo State\">Ondo</a>\n",
      "</th>\n",
      "<td>ON\n",
      "</td>\n",
      "<td><span typeof=\"mw:File\"><a class=\"mw-file-description\" href=\"/wiki/File:Seal_of_Ondo_State.png\"><img class=\"mw-file-element\" data-file-height=\"2048\" data-file-width=\"2046\" decoding=\"async\" height=\"50\" src=\"//upload.wikimedia.org/wikipedia/commons/thumb/e/eb/Seal_of_Ondo_State.png/50px-Seal_of_Ondo_State.png\" srcset=\"//upload.wikimedia.org/wikipedia/commons/thumb/e/eb/Seal_of_Ondo_State.png/75px-Seal_of_Ondo_State.png 1.5x, //upload.wikimedia.org/wikipedia/commons/thumb/e/eb/Seal_of_Ondo_State.png/100px-Seal_of_Ondo_State.png 2x\" width=\"50\"/></a></span>\n",
      "</td>\n",
      "<td><span typeof=\"mw:File\"><a class=\"mw-file-description\" href=\"/wiki/File:Nigeria_-_Ondo.svg\"><img class=\"mw-file-element\" data-file-height=\"734\" data-file-width=\"954\" decoding=\"async\" height=\"62\" src=\"//upload.wikimedia.org/wikipedia/commons/thumb/5/5b/Nigeria_-_Ondo.svg/80px-Nigeria_-_Ondo.svg.png\" srcset=\"//upload.wikimedia.org/wikipedia/commons/thumb/5/5b/Nigeria_-_Ondo.svg/120px-Nigeria_-_Ondo.svg.png 1.5x, //upload.wikimedia.org/wikipedia/commons/thumb/5/5b/Nigeria_-_Ondo.svg/160px-Nigeria_-_Ondo.svg.png 2x\" width=\"80\"/></a></span>\n",
      "</td>\n",
      "<td colspan=\"2\"><a href=\"/wiki/Akure\" title=\"Akure\">Akure</a>\n",
      "</td>\n",
      "<td><a href=\"/wiki/South_West_(Nigeria)\" title=\"South West (Nigeria)\">South West</a>\n",
      "</td>\n",
      "<td><span data-sort-value=\"7010155000000000000♠\"></span>15,500 km<sup>2</sup> (6,000 sq mi)\n",
      "</td>\n",
      "<td>4,969,707\n",
      "</td></tr>\n",
      "<tr>\n",
      "<th scope=\"row\"><a href=\"/wiki/Osun_State\" title=\"Osun State\">Osun</a>\n",
      "</th>\n",
      "<td>OS\n",
      "</td>\n",
      "<td>\n",
      "</td>\n",
      "<td><span typeof=\"mw:File\"><a class=\"mw-file-description\" href=\"/wiki/File:Nigeria_-_Osun.svg\"><img class=\"mw-file-element\" data-file-height=\"734\" data-file-width=\"954\" decoding=\"async\" height=\"62\" src=\"//upload.wikimedia.org/wikipedia/commons/thumb/8/88/Nigeria_-_Osun.svg/80px-Nigeria_-_Osun.svg.png\" srcset=\"//upload.wikimedia.org/wikipedia/commons/thumb/8/88/Nigeria_-_Osun.svg/120px-Nigeria_-_Osun.svg.png 1.5x, //upload.wikimedia.org/wikipedia/commons/thumb/8/88/Nigeria_-_Osun.svg/160px-Nigeria_-_Osun.svg.png 2x\" width=\"80\"/></a></span>\n",
      "</td>\n",
      "<td colspan=\"2\"><a href=\"/wiki/Osogbo\" title=\"Osogbo\">Osogbo</a>\n",
      "</td>\n",
      "<td><a href=\"/wiki/South_West_(Nigeria)\" title=\"South West (Nigeria)\">South West</a>\n",
      "</td>\n",
      "<td><span data-sort-value=\"7009925100000000000♠\"></span>9,251 km<sup>2</sup> (3,572 sq mi)\n",
      "</td>\n",
      "<td>4,237,396\n",
      "</td></tr>\n",
      "<tr>\n",
      "<th scope=\"row\"><a href=\"/wiki/Oyo_State\" title=\"Oyo State\">Oyo</a>\n",
      "</th>\n",
      "<td>OY\n",
      "</td>\n",
      "<td><span typeof=\"mw:File\"><a class=\"mw-file-description\" href=\"/wiki/File:Oyo_State_Coat_of_Arms.png\"><img class=\"mw-file-element\" data-file-height=\"248\" data-file-width=\"254\" decoding=\"async\" height=\"49\" src=\"//upload.wikimedia.org/wikipedia/commons/thumb/8/85/Oyo_State_Coat_of_Arms.png/50px-Oyo_State_Coat_of_Arms.png\" srcset=\"//upload.wikimedia.org/wikipedia/commons/thumb/8/85/Oyo_State_Coat_of_Arms.png/75px-Oyo_State_Coat_of_Arms.png 1.5x, //upload.wikimedia.org/wikipedia/commons/thumb/8/85/Oyo_State_Coat_of_Arms.png/100px-Oyo_State_Coat_of_Arms.png 2x\" width=\"50\"/></a></span>\n",
      "</td>\n",
      "<td><span typeof=\"mw:File\"><a class=\"mw-file-description\" href=\"/wiki/File:Nigeria_-_Oyo.svg\"><img class=\"mw-file-element\" data-file-height=\"734\" data-file-width=\"954\" decoding=\"async\" height=\"62\" src=\"//upload.wikimedia.org/wikipedia/commons/thumb/0/00/Nigeria_-_Oyo.svg/80px-Nigeria_-_Oyo.svg.png\" srcset=\"//upload.wikimedia.org/wikipedia/commons/thumb/0/00/Nigeria_-_Oyo.svg/120px-Nigeria_-_Oyo.svg.png 1.5x, //upload.wikimedia.org/wikipedia/commons/thumb/0/00/Nigeria_-_Oyo.svg/160px-Nigeria_-_Oyo.svg.png 2x\" width=\"80\"/></a></span>\n",
      "</td>\n",
      "<td colspan=\"2\"><a href=\"/wiki/Ibadan\" title=\"Ibadan\">Ibadan</a>\n",
      "</td>\n",
      "<td><a href=\"/wiki/South_West_(Nigeria)\" title=\"South West (Nigeria)\">South West</a>\n",
      "</td>\n",
      "<td><span data-sort-value=\"7010284540000000000♠\"></span>28,454 km<sup>2</sup> (10,986 sq mi)\n",
      "</td>\n",
      "<td>7,512,855\n",
      "</td></tr>\n",
      "<tr>\n",
      "<th scope=\"row\"><a href=\"/wiki/Plateau_State\" title=\"Plateau State\">Plateau</a>\n",
      "</th>\n",
      "<td>PL\n",
      "</td>\n",
      "<td><span typeof=\"mw:File\"><a class=\"mw-file-description\" href=\"/wiki/File:Plateau_State_Coat_of_arms.jpg\"><img class=\"mw-file-element\" data-file-height=\"465\" data-file-width=\"489\" decoding=\"async\" height=\"48\" src=\"//upload.wikimedia.org/wikipedia/commons/thumb/3/3b/Plateau_State_Coat_of_arms.jpg/50px-Plateau_State_Coat_of_arms.jpg\" srcset=\"//upload.wikimedia.org/wikipedia/commons/thumb/3/3b/Plateau_State_Coat_of_arms.jpg/75px-Plateau_State_Coat_of_arms.jpg 1.5x, //upload.wikimedia.org/wikipedia/commons/thumb/3/3b/Plateau_State_Coat_of_arms.jpg/100px-Plateau_State_Coat_of_arms.jpg 2x\" width=\"50\"/></a></span>\n",
      "</td>\n",
      "<td><span typeof=\"mw:File\"><a class=\"mw-file-description\" href=\"/wiki/File:Nigeria_-_Plateau.svg\"><img class=\"mw-file-element\" data-file-height=\"734\" data-file-width=\"954\" decoding=\"async\" height=\"62\" src=\"//upload.wikimedia.org/wikipedia/commons/thumb/5/50/Nigeria_-_Plateau.svg/80px-Nigeria_-_Plateau.svg.png\" srcset=\"//upload.wikimedia.org/wikipedia/commons/thumb/5/50/Nigeria_-_Plateau.svg/120px-Nigeria_-_Plateau.svg.png 1.5x, //upload.wikimedia.org/wikipedia/commons/thumb/5/50/Nigeria_-_Plateau.svg/160px-Nigeria_-_Plateau.svg.png 2x\" width=\"80\"/></a></span>\n",
      "</td>\n",
      "<td colspan=\"2\"><a href=\"/wiki/Jos\" title=\"Jos\">Jos</a>\n",
      "</td>\n",
      "<td><a href=\"/wiki/North_Central_(Nigeria)\" title=\"North Central (Nigeria)\">North Central</a>\n",
      "</td>\n",
      "<td><span data-sort-value=\"7010309130000000000♠\"></span>30,913 km<sup>2</sup> (11,936 sq mi)\n",
      "</td>\n",
      "<td>4,400,974\n",
      "</td></tr>\n",
      "<tr>\n",
      "<th scope=\"row\"><a href=\"/wiki/Rivers_State\" title=\"Rivers State\">Rivers</a>\n",
      "</th>\n",
      "<td>RI\n",
      "</td>\n",
      "<td>\n",
      "</td>\n",
      "<td><span typeof=\"mw:File\"><a class=\"mw-file-description\" href=\"/wiki/File:Nigeria_-_Rivers.svg\"><img class=\"mw-file-element\" data-file-height=\"734\" data-file-width=\"954\" decoding=\"async\" height=\"62\" src=\"//upload.wikimedia.org/wikipedia/commons/thumb/9/9f/Nigeria_-_Rivers.svg/80px-Nigeria_-_Rivers.svg.png\" srcset=\"//upload.wikimedia.org/wikipedia/commons/thumb/9/9f/Nigeria_-_Rivers.svg/120px-Nigeria_-_Rivers.svg.png 1.5x, //upload.wikimedia.org/wikipedia/commons/thumb/9/9f/Nigeria_-_Rivers.svg/160px-Nigeria_-_Rivers.svg.png 2x\" width=\"80\"/></a></span>\n",
      "</td>\n",
      "<td colspan=\"2\"><a href=\"/wiki/Port_Harcourt\" title=\"Port Harcourt\">Port Harcourt</a>\n",
      "</td>\n",
      "<td><a href=\"/wiki/South_South\" title=\"South South\">South South</a>\n",
      "</td>\n",
      "<td><span data-sort-value=\"7010110770000000000♠\"></span>11,077 km<sup>2</sup> (4,277 sq mi)\n",
      "</td>\n",
      "<td>7,034,973\n",
      "</td></tr>\n",
      "<tr>\n",
      "<th scope=\"row\"><a href=\"/wiki/Sokoto_State\" title=\"Sokoto State\">Sokoto</a>\n",
      "</th>\n",
      "<td>SO\n",
      "</td>\n",
      "<td>\n",
      "</td>\n",
      "<td><span typeof=\"mw:File\"><a class=\"mw-file-description\" href=\"/wiki/File:Nigeria_-_Sokoto.svg\"><img class=\"mw-file-element\" data-file-height=\"734\" data-file-width=\"954\" decoding=\"async\" height=\"62\" src=\"//upload.wikimedia.org/wikipedia/commons/thumb/f/fc/Nigeria_-_Sokoto.svg/80px-Nigeria_-_Sokoto.svg.png\" srcset=\"//upload.wikimedia.org/wikipedia/commons/thumb/f/fc/Nigeria_-_Sokoto.svg/120px-Nigeria_-_Sokoto.svg.png 1.5x, //upload.wikimedia.org/wikipedia/commons/thumb/f/fc/Nigeria_-_Sokoto.svg/160px-Nigeria_-_Sokoto.svg.png 2x\" width=\"80\"/></a></span>\n",
      "</td>\n",
      "<td colspan=\"2\"><a href=\"/wiki/Sokoto\" title=\"Sokoto\">Sokoto</a>\n",
      "</td>\n",
      "<td><a href=\"/wiki/North_West_(Nigeria)\" title=\"North West (Nigeria)\">North West</a>\n",
      "</td>\n",
      "<td><span data-sort-value=\"7010259730000000000♠\"></span>25,973 km<sup>2</sup> (10,028 sq mi)\n",
      "</td>\n",
      "<td>5,863,187\n",
      "</td></tr>\n",
      "<tr>\n",
      "<th scope=\"row\"><a href=\"/wiki/Taraba_State\" title=\"Taraba State\">Taraba</a>\n",
      "</th>\n",
      "<td>TA\n",
      "</td>\n",
      "<td><span typeof=\"mw:File\"><a class=\"mw-file-description\" href=\"/wiki/File:Taraba_State_Coat_of_Arms.png\"><img class=\"mw-file-element\" data-file-height=\"204\" data-file-width=\"203\" decoding=\"async\" height=\"50\" src=\"//upload.wikimedia.org/wikipedia/commons/thumb/0/0b/Taraba_State_Coat_of_Arms.png/50px-Taraba_State_Coat_of_Arms.png\" srcset=\"//upload.wikimedia.org/wikipedia/commons/thumb/0/0b/Taraba_State_Coat_of_Arms.png/75px-Taraba_State_Coat_of_Arms.png 1.5x, //upload.wikimedia.org/wikipedia/commons/thumb/0/0b/Taraba_State_Coat_of_Arms.png/100px-Taraba_State_Coat_of_Arms.png 2x\" width=\"50\"/></a></span>\n",
      "</td>\n",
      "<td><span typeof=\"mw:File\"><a class=\"mw-file-description\" href=\"/wiki/File:Nigeria_-_Taraba.svg\"><img class=\"mw-file-element\" data-file-height=\"734\" data-file-width=\"954\" decoding=\"async\" height=\"62\" src=\"//upload.wikimedia.org/wikipedia/commons/thumb/d/d8/Nigeria_-_Taraba.svg/80px-Nigeria_-_Taraba.svg.png\" srcset=\"//upload.wikimedia.org/wikipedia/commons/thumb/d/d8/Nigeria_-_Taraba.svg/120px-Nigeria_-_Taraba.svg.png 1.5x, //upload.wikimedia.org/wikipedia/commons/thumb/d/d8/Nigeria_-_Taraba.svg/160px-Nigeria_-_Taraba.svg.png 2x\" width=\"80\"/></a></span>\n",
      "</td>\n",
      "<td colspan=\"2\"><a href=\"/wiki/Jalingo\" title=\"Jalingo\">Jalingo</a>\n",
      "</td>\n",
      "<td><a href=\"/wiki/North_East_(Nigeria)\" title=\"North East (Nigeria)\">North East</a>\n",
      "</td>\n",
      "<td><span data-sort-value=\"7010544730000000000♠\"></span>54,473 km<sup>2</sup> (21,032 sq mi)\n",
      "</td>\n",
      "<td>3,331,885\n",
      "</td></tr>\n",
      "<tr>\n",
      "<th scope=\"row\"><a href=\"/wiki/Yobe_State\" title=\"Yobe State\">Yobe</a>\n",
      "</th>\n",
      "<td>YO\n",
      "</td>\n",
      "<td><span typeof=\"mw:File\"><a class=\"mw-file-description\" href=\"/wiki/File:Yobe_State_Government.png\"><img class=\"mw-file-element\" data-file-height=\"460\" data-file-width=\"460\" decoding=\"async\" height=\"50\" src=\"//upload.wikimedia.org/wikipedia/commons/thumb/6/6b/Yobe_State_Government.png/50px-Yobe_State_Government.png\" srcset=\"//upload.wikimedia.org/wikipedia/commons/thumb/6/6b/Yobe_State_Government.png/75px-Yobe_State_Government.png 1.5x, //upload.wikimedia.org/wikipedia/commons/thumb/6/6b/Yobe_State_Government.png/100px-Yobe_State_Government.png 2x\" width=\"50\"/></a></span>\n",
      "</td>\n",
      "<td><span typeof=\"mw:File\"><a class=\"mw-file-description\" href=\"/wiki/File:Nigeria_-_Yobe.svg\"><img class=\"mw-file-element\" data-file-height=\"734\" data-file-width=\"954\" decoding=\"async\" height=\"62\" src=\"//upload.wikimedia.org/wikipedia/commons/thumb/5/55/Nigeria_-_Yobe.svg/80px-Nigeria_-_Yobe.svg.png\" srcset=\"//upload.wikimedia.org/wikipedia/commons/thumb/5/55/Nigeria_-_Yobe.svg/120px-Nigeria_-_Yobe.svg.png 1.5x, //upload.wikimedia.org/wikipedia/commons/thumb/5/55/Nigeria_-_Yobe.svg/160px-Nigeria_-_Yobe.svg.png 2x\" width=\"80\"/></a></span>\n",
      "</td>\n",
      "<td><a href=\"/wiki/Damaturu\" title=\"Damaturu\">Damaturu</a>\n",
      "</td>\n",
      "<td><a href=\"/wiki/Potiskum\" title=\"Potiskum\">Potiskum</a>\n",
      "</td>\n",
      "<td><a href=\"/wiki/North_East_(Nigeria)\" title=\"North East (Nigeria)\">North East</a>\n",
      "</td>\n",
      "<td><span data-sort-value=\"7010455020000000000♠\"></span>45,502 km<sup>2</sup> (17,568 sq mi)\n",
      "</td>\n",
      "<td>3,398,177\n",
      "</td></tr>\n",
      "<tr>\n",
      "<th scope=\"row\"><a href=\"/wiki/Zamfara_State\" title=\"Zamfara State\">Zamfara</a>\n",
      "</th>\n",
      "<td>ZA\n",
      "</td>\n",
      "<td><span typeof=\"mw:File\"><a class=\"mw-file-description\" href=\"/wiki/File:Seal_of_Zamfara_State_Government.jpg\"><img class=\"mw-file-element\" data-file-height=\"719\" data-file-width=\"720\" decoding=\"async\" height=\"50\" src=\"//upload.wikimedia.org/wikipedia/commons/thumb/f/fc/Seal_of_Zamfara_State_Government.jpg/50px-Seal_of_Zamfara_State_Government.jpg\" srcset=\"//upload.wikimedia.org/wikipedia/commons/thumb/f/fc/Seal_of_Zamfara_State_Government.jpg/75px-Seal_of_Zamfara_State_Government.jpg 1.5x, //upload.wikimedia.org/wikipedia/commons/thumb/f/fc/Seal_of_Zamfara_State_Government.jpg/100px-Seal_of_Zamfara_State_Government.jpg 2x\" width=\"50\"/></a></span>\n",
      "</td>\n",
      "<td><span typeof=\"mw:File\"><a class=\"mw-file-description\" href=\"/wiki/File:Nigeria_-_Zamfara.svg\"><img class=\"mw-file-element\" data-file-height=\"734\" data-file-width=\"954\" decoding=\"async\" height=\"62\" src=\"//upload.wikimedia.org/wikipedia/commons/thumb/c/c0/Nigeria_-_Zamfara.svg/80px-Nigeria_-_Zamfara.svg.png\" srcset=\"//upload.wikimedia.org/wikipedia/commons/thumb/c/c0/Nigeria_-_Zamfara.svg/120px-Nigeria_-_Zamfara.svg.png 1.5x, //upload.wikimedia.org/wikipedia/commons/thumb/c/c0/Nigeria_-_Zamfara.svg/160px-Nigeria_-_Zamfara.svg.png 2x\" width=\"80\"/></a></span>\n",
      "</td>\n",
      "<td colspan=\"2\"><a href=\"/wiki/Gusau\" title=\"Gusau\">Gusau</a>\n",
      "</td>\n",
      "<td><a href=\"/wiki/North_West_(Nigeria)\" title=\"North West (Nigeria)\">North West</a>\n",
      "</td>\n",
      "<td><span data-sort-value=\"7010397620000000000♠\"></span>39,762 km<sup>2</sup> (15,352 sq mi)\n",
      "</td>\n",
      "<td>5,317,793\n",
      "</td></tr></tbody></table>\n",
      "<div class=\"mw-heading mw-heading2\"><h2 id=\"Evolution_of_Nigerian_administrative_divisions\">Evolution of Nigerian administrative divisions</h2><span class=\"mw-editsection\"><span class=\"mw-editsection-bracket\">[</span><a href=\"/w/index.php?title=States_of_Nigeria&amp;action=edit&amp;section=2\" title=\"Edit section: Evolution of Nigerian administrative divisions\"><span>edit</span></a><span class=\"mw-editsection-bracket\">]</span></span></div>\n",
      "<table class=\"wikitable\">\n",
      "<tbody><tr>\n",
      "<th>Date</th>\n",
      "<th>Events</th>\n",
      "<th>Map\n",
      "</th></tr>\n",
      "<tr>\n",
      "<td><b>1960–1963</b></td>\n",
      "<td>At the time of independence in 1960, Nigeria was a <a class=\"mw-redirect\" href=\"/wiki/Federal_state\" title=\"Federal state\">federal state</a> of three regions: <a href=\"/wiki/Northern_Region,_Nigeria\" title=\"Northern Region, Nigeria\">Northern</a>, <a class=\"mw-redirect\" href=\"/wiki/Western_Region,_Nigeria\" title=\"Western Region, Nigeria\">Western</a>, and <a href=\"/wiki/Eastern_Region,_Nigeria\" title=\"Eastern Region, Nigeria\">Eastern</a>. Additionally, <a href=\"/wiki/Provinces_of_Nigeria\" title=\"Provinces of Nigeria\">provinces</a>, which were a legacy of <a href=\"/wiki/Colonial_Nigeria\" title=\"Colonial Nigeria\">colonial and protectorate times</a>, remained extant until they were abolished in 1976.</td>\n",
      "<td><figure class=\"mw-halign-right\" typeof=\"mw:File\"><a class=\"mw-file-description\" href=\"/wiki/File:Nigeria_1960-1963.png\"><img class=\"mw-file-element\" data-file-height=\"1658\" data-file-width=\"1869\" decoding=\"async\" height=\"266\" src=\"//upload.wikimedia.org/wikipedia/commons/thumb/d/de/Nigeria_1960-1963.png/300px-Nigeria_1960-1963.png\" srcset=\"//upload.wikimedia.org/wikipedia/commons/thumb/d/de/Nigeria_1960-1963.png/450px-Nigeria_1960-1963.png 1.5x, //upload.wikimedia.org/wikipedia/commons/thumb/d/de/Nigeria_1960-1963.png/600px-Nigeria_1960-1963.png 2x\" width=\"300\"/></a><figcaption></figcaption></figure>\n",
      "</td></tr>\n",
      "<tr>\n",
      "<td><b>1963–1967</b></td>\n",
      "<td>In 1963, a new region, the <a class=\"mw-redirect\" href=\"/wiki/Mid-Western_Region_(Nigeria)\" title=\"Mid-Western Region (Nigeria)\">Mid-Western Region</a>, was created from the Western Region.\n",
      "</td>\n",
      "<td><figure class=\"mw-halign-right\" typeof=\"mw:File\"><a class=\"mw-file-description\" href=\"/wiki/File:Nigeria_1963-1967.png\"><img class=\"mw-file-element\" data-file-height=\"1658\" data-file-width=\"1869\" decoding=\"async\" height=\"266\" src=\"//upload.wikimedia.org/wikipedia/commons/thumb/2/2b/Nigeria_1963-1967.png/300px-Nigeria_1963-1967.png\" srcset=\"//upload.wikimedia.org/wikipedia/commons/thumb/2/2b/Nigeria_1963-1967.png/450px-Nigeria_1963-1967.png 1.5x, //upload.wikimedia.org/wikipedia/commons/thumb/2/2b/Nigeria_1963-1967.png/600px-Nigeria_1963-1967.png 2x\" width=\"300\"/></a><figcaption></figcaption></figure>\n",
      "</td></tr>\n",
      "<tr>\n",
      "<td><b>1967–1976</b></td>\n",
      "<td>In 1967, the regions were replaced by 12 states by military decree. From 1967 to 1970 the Eastern Region attempted to secede, as a nation called <a href=\"/wiki/Biafra\" title=\"Biafra\">Biafra</a> during the <a href=\"/wiki/Nigerian_Civil_War\" title=\"Nigerian Civil War\">Nigerian civil war</a>. The Mid-Western Region was renamed to the State of Bendel during this period.</td>\n",
      "<td><figure class=\"mw-halign-right\" typeof=\"mw:File\"><a class=\"mw-file-description\" href=\"/wiki/File:Nigeria_states-1967-1976.png\"><img class=\"mw-file-element\" data-file-height=\"1658\" data-file-width=\"1869\" decoding=\"async\" height=\"266\" src=\"//upload.wikimedia.org/wikipedia/commons/thumb/9/9a/Nigeria_states-1967-1976.png/300px-Nigeria_states-1967-1976.png\" srcset=\"//upload.wikimedia.org/wikipedia/commons/thumb/9/9a/Nigeria_states-1967-1976.png/450px-Nigeria_states-1967-1976.png 1.5x, //upload.wikimedia.org/wikipedia/commons/thumb/9/9a/Nigeria_states-1967-1976.png/600px-Nigeria_states-1967-1976.png 2x\" width=\"300\"/></a><figcaption></figcaption></figure>\n",
      "</td></tr>\n",
      "<tr>\n",
      "<td><b>1976–1987</b></td>\n",
      "<td>In 1976, seven new states were created, making 19 altogether.<sup class=\"reference\" id=\"cite_ref-Kraxberger_5-0\"><a href=\"#cite_note-Kraxberger-5\"><span class=\"cite-bracket\">[</span>5<span class=\"cite-bracket\">]</span></a></sup></td>\n",
      "<td><figure class=\"mw-halign-right\" typeof=\"mw:File\"><a class=\"mw-file-description\" href=\"/wiki/File:Nigeria_states-1976-1987.png\"><img class=\"mw-file-element\" data-file-height=\"1658\" data-file-width=\"1869\" decoding=\"async\" height=\"266\" src=\"//upload.wikimedia.org/wikipedia/commons/thumb/5/53/Nigeria_states-1976-1987.png/300px-Nigeria_states-1976-1987.png\" srcset=\"//upload.wikimedia.org/wikipedia/commons/thumb/5/53/Nigeria_states-1976-1987.png/450px-Nigeria_states-1976-1987.png 1.5x, //upload.wikimedia.org/wikipedia/commons/thumb/5/53/Nigeria_states-1976-1987.png/600px-Nigeria_states-1976-1987.png 2x\" width=\"300\"/></a><figcaption></figcaption></figure>\n",
      "</td></tr>\n",
      "<tr>\n",
      "<td><b>1987–1991</b></td>\n",
      "<td>During this period, there were 21 states and the <a href=\"/wiki/Federal_Capital_Territory_(Nigeria)\" title=\"Federal Capital Territory (Nigeria)\">Federal Capital Territory</a>.</td>\n",
      "<td><figure class=\"mw-halign-right\" typeof=\"mw:File\"><a class=\"mw-file-description\" href=\"/wiki/File:Nigeria_states_1987-1991.png\"><img class=\"mw-file-element\" data-file-height=\"1658\" data-file-width=\"1869\" decoding=\"async\" height=\"266\" src=\"//upload.wikimedia.org/wikipedia/commons/thumb/a/a2/Nigeria_states_1987-1991.png/300px-Nigeria_states_1987-1991.png\" srcset=\"//upload.wikimedia.org/wikipedia/commons/thumb/a/a2/Nigeria_states_1987-1991.png/450px-Nigeria_states_1987-1991.png 1.5x, //upload.wikimedia.org/wikipedia/commons/thumb/a/a2/Nigeria_states_1987-1991.png/600px-Nigeria_states_1987-1991.png 2x\" width=\"300\"/></a><figcaption></figcaption></figure>\n",
      "</td></tr>\n",
      "<tr>\n",
      "<td><b>1991–1996</b></td>\n",
      "<td>During this period, there were 30 states and the <a href=\"/wiki/Federal_Capital_Territory_(Nigeria)\" title=\"Federal Capital Territory (Nigeria)\">Federal Capital Territory</a>. The Federal Capital Territory was established in 1991. In 1987 two new states were established, followed by another nine in 1991, bringing the total to 30. The latest change, in 1996, resulted in the present number of 36 states.</td>\n",
      "<td><figure class=\"mw-halign-right\" typeof=\"mw:File\"><a class=\"mw-file-description\" href=\"/wiki/File:Nigeria_1991-1996.png\"><img class=\"mw-file-element\" data-file-height=\"1658\" data-file-width=\"1869\" decoding=\"async\" height=\"266\" src=\"//upload.wikimedia.org/wikipedia/commons/thumb/5/5c/Nigeria_1991-1996.png/300px-Nigeria_1991-1996.png\" srcset=\"//upload.wikimedia.org/wikipedia/commons/thumb/5/5c/Nigeria_1991-1996.png/450px-Nigeria_1991-1996.png 1.5x, //upload.wikimedia.org/wikipedia/commons/thumb/5/5c/Nigeria_1991-1996.png/600px-Nigeria_1991-1996.png 2x\" width=\"300\"/></a><figcaption></figcaption></figure>\n",
      "</td></tr>\n",
      "</tbody></table>\n",
      "<div class=\"mw-heading mw-heading2\"><h2 id=\"Government\">Government</h2><span class=\"mw-editsection\"><span class=\"mw-editsection-bracket\">[</span><a href=\"/w/index.php?title=States_of_Nigeria&amp;action=edit&amp;section=3\" title=\"Edit section: Government\"><span>edit</span></a><span class=\"mw-editsection-bracket\">]</span></span></div>\n",
      "<p>States of <a href=\"/wiki/Nigeria\" title=\"Nigeria\">Nigeria</a> have the right to organize and structure their individual governments in any way within the parameters set by the <a href=\"/wiki/Constitution_of_Nigeria\" title=\"Constitution of Nigeria\">Constitution of Nigeria</a>.\n",
      "</p>\n",
      "<div class=\"mw-heading mw-heading3\"><h3 id=\"Legislature\">Legislature</h3><span class=\"mw-editsection\"><span class=\"mw-editsection-bracket\">[</span><a href=\"/w/index.php?title=States_of_Nigeria&amp;action=edit&amp;section=4\" title=\"Edit section: Legislature\"><span>edit</span></a><span class=\"mw-editsection-bracket\">]</span></span></div>\n",
      "<p>At the state level, the legislature is <a href=\"/wiki/Unicameralism\" title=\"Unicameralism\">unicameral</a>, with the number of its members equal to three times the number of legislators it has in the <a href=\"/wiki/House_of_Representatives_(Nigeria)\" title=\"House of Representatives (Nigeria)\">Federal House of Representatives</a>. It has the power to legislate on matters on the concurrent list.\n",
      "</p>\n",
      "<div class=\"mw-heading mw-heading3\"><h3 id=\"Executive\">Executive</h3><span class=\"mw-editsection\"><span class=\"mw-editsection-bracket\">[</span><a href=\"/w/index.php?title=States_of_Nigeria&amp;action=edit&amp;section=5\" title=\"Edit section: Executive\"><span>edit</span></a><span class=\"mw-editsection-bracket\">]</span></span></div>\n",
      "<p>At the state level, the head of the executive is the governor, who has the power to appoint people to the state executive council, subject to the advice and consent of the state house of assembly (legislature). The head of a ministry at the state level is the commissioner, who is assisted by a permanent secretary, who is also a senior civil servant of the state.\n",
      "</p>\n",
      "<div class=\"mw-heading mw-heading3\"><h3 id=\"Judiciary\">Judiciary</h3><span class=\"mw-editsection\"><span class=\"mw-editsection-bracket\">[</span><a href=\"/w/index.php?title=States_of_Nigeria&amp;action=edit&amp;section=6\" title=\"Edit section: Judiciary\"><span>edit</span></a><span class=\"mw-editsection-bracket\">]</span></span></div>\n",
      "<p>The Judiciary is one of the co-equal arms of the state government concerned with the interpretation of the laws of the state government. The judiciary is headed by the chief justice of the state appointed by the president subject to the approval of the state house of assembly.<sup class=\"reference\" id=\"cite_ref-6\"><a href=\"#cite_note-6\"><span class=\"cite-bracket\">[</span>6<span class=\"cite-bracket\">]</span></a></sup>\n",
      "</p>\n",
      "<div class=\"mw-heading mw-heading2\"><h2 id=\"Chronology\">Chronology</h2><span class=\"mw-editsection\"><span class=\"mw-editsection-bracket\">[</span><a href=\"/w/index.php?title=States_of_Nigeria&amp;action=edit&amp;section=7\" title=\"Edit section: Chronology\"><span>edit</span></a><span class=\"mw-editsection-bracket\">]</span></span></div>\n",
      "<table class=\"wikitable\" style=\"text-align:left\">\n",
      "<tbody><tr>\n",
      "<th colspan=\"2\">Regions\n",
      "</th>\n",
      "<th colspan=\"5\">States\n",
      "</th></tr>\n",
      "<tr>\n",
      "<td style=\"width:6em\"><b>1960</b>\n",
      "</td>\n",
      "<td style=\"width:6em\"><b>1963</b>\n",
      "</td>\n",
      "<td style=\"width:6em\"><b>1967</b>\n",
      "</td>\n",
      "<td style=\"width:6em\"><b>1976</b>\n",
      "</td>\n",
      "<td style=\"width:6em\"><b>1987</b>\n",
      "</td>\n",
      "<td style=\"width:6em\"><b>1991</b>\n",
      "</td>\n",
      "<td style=\"width:6em\"><b>1996</b>\n",
      "</td></tr>\n",
      "<tr>\n",
      "<td colspan=\"2\" rowspan=\"9\"><a href=\"/wiki/Eastern_Region,_Nigeria\" title=\"Eastern Region, Nigeria\">Eastern</a>\n",
      "</td>\n",
      "<td colspan=\"1\" rowspan=\"2\"><a class=\"mw-redirect\" href=\"/wiki/South-Eastern_State,_Nigeria\" title=\"South-Eastern State, Nigeria\">South-Eastern</a>\n",
      "</td>\n",
      "<td colspan=\"1\" rowspan=\"2\"><a href=\"/wiki/Cross_River_State\" title=\"Cross River State\">Cross River</a>\n",
      "</td>\n",
      "<td colspan=\"3\"><a href=\"/wiki/Akwa_Ibom_State\" title=\"Akwa Ibom State\">Akwa Ibom</a>\n",
      "</td></tr>\n",
      "<tr>\n",
      "<td colspan=\"3\"><a href=\"/wiki/Cross_River_State\" title=\"Cross River State\">Cross River</a>\n",
      "</td></tr>\n",
      "<tr>\n",
      "<td rowspan=\"5\"><a class=\"mw-redirect\" href=\"/wiki/East_Central_State,_Nigeria\" title=\"East Central State, Nigeria\">East Central</a>\n",
      "</td>\n",
      "<td colspan=\"2\" rowspan=\"2\"><a href=\"/wiki/Imo_State\" title=\"Imo State\">Imo</a>\n",
      "</td>\n",
      "<td colspan=\"2\"><a href=\"/wiki/Imo_State\" title=\"Imo State\">Imo</a>\n",
      "</td></tr>\n",
      "<tr>\n",
      "<td colspan=\"2\"><a href=\"/wiki/Abia_State\" title=\"Abia State\">Abia</a>\n",
      "</td></tr>\n",
      "<tr>\n",
      "<td colspan=\"2\" rowspan=\"3\"><a href=\"/wiki/Anambra_State\" title=\"Anambra State\">Anambra</a>\n",
      "</td>\n",
      "<td rowspan=\"2\"><a href=\"/wiki/Enugu_State\" title=\"Enugu State\">Enugu</a>\n",
      "</td>\n",
      "<td rowspan=\"1\"><a href=\"/wiki/Ebonyi_State\" title=\"Ebonyi State\">Ebonyi</a>\n",
      "</td></tr>\n",
      "<tr>\n",
      "<td><a href=\"/wiki/Enugu_State\" title=\"Enugu State\">Enugu</a>\n",
      "</td></tr>\n",
      "<tr>\n",
      "<td colspan=\"2\"><a href=\"/wiki/Anambra_State\" title=\"Anambra State\">Anambra</a>\n",
      "</td></tr>\n",
      "<tr>\n",
      "<td colspan=\"4\" rowspan=\"2\"><a href=\"/wiki/Rivers_State\" title=\"Rivers State\">Rivers</a>\n",
      "</td>\n",
      "<td><a href=\"/wiki/Bayelsa_State\" title=\"Bayelsa State\">Bayelsa</a>\n",
      "</td></tr>\n",
      "<tr>\n",
      "<td><a href=\"/wiki/Rivers_State\" title=\"Rivers State\">Rivers</a>\n",
      "</td></tr>\n",
      "<tr>\n",
      "<td rowspan=\"8\"><a class=\"mw-redirect\" href=\"/wiki/Western_Region,_Nigeria\" title=\"Western Region, Nigeria\">Western</a>\n",
      "</td>\n",
      "<td colspan=\"2\" rowspan=\"2\"><a href=\"/wiki/Mid-Western_Region,_Nigeria\" title=\"Mid-Western Region, Nigeria\">Mid-Western</a>\n",
      "</td>\n",
      "<td colspan=\"2\" rowspan=\"2\"><a class=\"mw-redirect\" href=\"/wiki/Bendel_State\" title=\"Bendel State\">Bendel</a>\n",
      "</td>\n",
      "<td colspan=\"2\"><a href=\"/wiki/Delta_State\" title=\"Delta State\">Delta</a>\n",
      "</td></tr>\n",
      "<tr>\n",
      "<td colspan=\"2\"><a href=\"/wiki/Edo_State\" title=\"Edo State\">Edo</a>\n",
      "</td></tr>\n",
      "<tr>\n",
      "<td rowspan=\"6\"><a class=\"mw-redirect\" href=\"/wiki/Western_Region,_Nigeria\" title=\"Western Region, Nigeria\">Western</a>\n",
      "</td>\n",
      "<td colspan=\"5\"><a href=\"/wiki/Lagos_State\" title=\"Lagos State\">Lagos</a>\n",
      "</td></tr>\n",
      "<tr>\n",
      "<td rowspan=\"5\"><a class=\"mw-redirect\" href=\"/wiki/Western_Region,_Nigeria\" title=\"Western Region, Nigeria\">Western</a>\n",
      "</td>\n",
      "<td colspan=\"4\"><a href=\"/wiki/Ogun_State\" title=\"Ogun State\">Ogun</a>\n",
      "</td></tr>\n",
      "<tr>\n",
      "<td colspan=\"3\" rowspan=\"2\"><a href=\"/wiki/Ondo_State\" title=\"Ondo State\">Ondo</a>\n",
      "</td>\n",
      "<td><a href=\"/wiki/Ekiti_State\" title=\"Ekiti State\">Ekiti</a>\n",
      "</td></tr>\n",
      "<tr>\n",
      "<td><a href=\"/wiki/Ondo_State\" title=\"Ondo State\">Ondo</a>\n",
      "</td></tr>\n",
      "<tr>\n",
      "<td colspan=\"2\" rowspan=\"2\"><a href=\"/wiki/Oyo_State\" title=\"Oyo State\">Oyo</a>\n",
      "</td>\n",
      "<td colspan=\"2\"><a href=\"/wiki/Osun_State\" title=\"Osun State\">Osun</a>\n",
      "</td></tr>\n",
      "<tr>\n",
      "<td colspan=\"2\"><a href=\"/wiki/Oyo_State\" title=\"Oyo State\">Oyo</a>\n",
      "</td></tr>\n",
      "<tr>\n",
      "<td colspan=\"2\" rowspan=\"20\"><a href=\"/wiki/Northern_Region,_Nigeria\" title=\"Northern Region, Nigeria\">Northern</a>\n",
      "</td>\n",
      "<td rowspan=\"4\"><a href=\"/wiki/Benue-Plateau_State\" title=\"Benue-Plateau State\">Benue-Plateau</a>\n",
      "</td>\n",
      "<td colspan=\"3\" rowspan=\"2\"><a href=\"/wiki/Plateau_State\" title=\"Plateau State\">Plateau</a>\n",
      "</td>\n",
      "<td><a href=\"/wiki/Nasarawa_State\" title=\"Nasarawa State\">Nasarawa</a>\n",
      "</td></tr>\n",
      "<tr>\n",
      "<td><a href=\"/wiki/Plateau_State\" title=\"Plateau State\">Plateau</a>\n",
      "</td></tr>\n",
      "<tr>\n",
      "<td colspan=\"2\" rowspan=\"2\"><a href=\"/wiki/Benue_State\" title=\"Benue State\">Benue</a>\n",
      "</td>\n",
      "<td colspan=\"2\"><a href=\"/wiki/Benue_State\" title=\"Benue State\">Benue</a>\n",
      "</td></tr>\n",
      "<tr>\n",
      "<td colspan=\"2\" rowspan=\"2\"><a href=\"/wiki/Kogi_State\" title=\"Kogi State\">Kogi</a>\n",
      "</td></tr>\n",
      "<tr>\n",
      "<td colspan=\"3\" rowspan=\"2\"><a href=\"/wiki/Kwara_State\" title=\"Kwara State\">Kwara</a>\n",
      "</td></tr>\n",
      "<tr>\n",
      "<td colspan=\"2\"><a href=\"/wiki/Kwara_State\" title=\"Kwara State\">Kwara</a>\n",
      "</td></tr>\n",
      "<tr>\n",
      "<td colspan=\"3\" rowspan=\"2\"><a href=\"/wiki/Kano_State\" title=\"Kano State\">Kano</a>\n",
      "</td>\n",
      "<td colspan=\"2\"><a href=\"/wiki/Jigawa_State\" title=\"Jigawa State\">Jigawa</a>\n",
      "</td></tr>\n",
      "<tr>\n",
      "<td colspan=\"2\"><a href=\"/wiki/Kano_State\" title=\"Kano State\">Kano</a>\n",
      "</td></tr>\n",
      "<tr>\n",
      "<td rowspan=\"2\"><a href=\"/wiki/Kaduna_State\" title=\"Kaduna State\">North Central</a>\n",
      "</td>\n",
      "<td colspan=\"1\" rowspan=\"2\"><a href=\"/wiki/Kaduna_State\" title=\"Kaduna State\">Kaduna</a>\n",
      "</td>\n",
      "<td colspan=\"3\"><a href=\"/wiki/Kaduna_State\" title=\"Kaduna State\">Kaduna</a>\n",
      "</td></tr>\n",
      "<tr>\n",
      "<td colspan=\"3\"><a href=\"/wiki/Katsina_State\" title=\"Katsina State\">Katsina</a>\n",
      "</td></tr>\n",
      "<tr>\n",
      "<td rowspan=\"4\"><a href=\"/wiki/North-Western_State\" title=\"North-Western State\">North Western</a>\n",
      "</td>\n",
      "<td colspan=\"4\"><a href=\"/wiki/Niger_State\" title=\"Niger State\">Niger</a>\n",
      "</td></tr>\n",
      "<tr>\n",
      "<td colspan=\"2\" rowspan=\"3\"><a href=\"/wiki/Sokoto_State\" title=\"Sokoto State\">Sokoto</a>\n",
      "</td>\n",
      "<td colspan=\"2\"><a href=\"/wiki/Kebbi_State\" title=\"Kebbi State\">Kebbi</a>\n",
      "</td></tr>\n",
      "<tr>\n",
      "<td rowspan=\"2\"><a href=\"/wiki/Sokoto_State\" title=\"Sokoto State\">Sokoto</a>\n",
      "</td>\n",
      "<td><a href=\"/wiki/Sokoto_State\" title=\"Sokoto State\">Sokoto</a>\n",
      "</td></tr>\n",
      "<tr>\n",
      "<td><a href=\"/wiki/Zamfara_State\" title=\"Zamfara State\">Zamfara</a>\n",
      "</td></tr>\n",
      "<tr>\n",
      "<td rowspan=\"6\"><a href=\"/wiki/North-Eastern_State\" title=\"North-Eastern State\">North Eastern</a>\n",
      "</td>\n",
      "<td colspan=\"3\" rowspan=\"2\"><a href=\"/wiki/Bauchi_State\" title=\"Bauchi State\">Bauchi</a>\n",
      "</td>\n",
      "<td><a href=\"/wiki/Bauchi_State\" title=\"Bauchi State\">Bauchi</a>\n",
      "</td></tr>\n",
      "<tr>\n",
      "<td><a href=\"/wiki/Gombe_State\" title=\"Gombe State\">Gombe</a>\n",
      "</td></tr>\n",
      "<tr>\n",
      "<td colspan=\"2\" rowspan=\"2\"><a href=\"/wiki/Borno_State\" title=\"Borno State\">Borno</a>\n",
      "</td>\n",
      "<td colspan=\"2\"><a href=\"/wiki/Borno_State\" title=\"Borno State\">Borno</a>\n",
      "</td></tr>\n",
      "<tr>\n",
      "<td colspan=\"2\"><a href=\"/wiki/Yobe_State\" title=\"Yobe State\">Yobe</a>\n",
      "</td></tr>\n",
      "<tr>\n",
      "<td colspan=\"2\" rowspan=\"2\"><a href=\"/wiki/Gongola_State\" title=\"Gongola State\">Gongola</a>\n",
      "</td>\n",
      "<td colspan=\"2\"><a href=\"/wiki/Adamawa_State\" title=\"Adamawa State\">Adamawa</a>\n",
      "</td></tr>\n",
      "<tr>\n",
      "<td colspan=\"2\"><a href=\"/wiki/Taraba_State\" title=\"Taraba State\">Taraba</a>\n",
      "</td></tr>\n",
      "</tbody></table>\n",
      "<div class=\"mw-heading mw-heading2\"><h2 id=\"See_also\">See also</h2><span class=\"mw-editsection\"><span class=\"mw-editsection-bracket\">[</span><a href=\"/w/index.php?title=States_of_Nigeria&amp;action=edit&amp;section=8\" title=\"Edit section: See also\"><span>edit</span></a><span class=\"mw-editsection-bracket\">]</span></span></div>\n",
      "<style data-mw-deduplicate=\"TemplateStyles:r1259569809\">.mw-parser-output .portalbox{padding:0;margin:0.5em 0;display:table;box-sizing:border-box;max-width:175px;list-style:none}.mw-parser-output .portalborder{border:1px solid var(--border-color-base,#a2a9b1);padding:0.1em;background:var(--background-color-neutral-subtle,#f8f9fa)}.mw-parser-output .portalbox-entry{display:table-row;font-size:85%;line-height:110%;height:1.9em;font-style:italic;font-weight:bold}.mw-parser-output .portalbox-image{display:table-cell;padding:0.2em;vertical-align:middle;text-align:center}.mw-parser-output .portalbox-link{display:table-cell;padding:0.2em 0.2em 0.2em 0.3em;vertical-align:middle}@media(min-width:720px){.mw-parser-output .portalleft{clear:left;float:left;margin:0.5em 1em 0.5em 0}.mw-parser-output .portalright{clear:right;float:right;margin:0.5em 0 0.5em 1em}}</style><ul aria-label=\"Portals\" class=\"noprint portalbox portalborder portalright\" role=\"navigation\">\n",
      "<li class=\"portalbox-entry\"><span class=\"portalbox-image\"><span class=\"mw-image-border noviewer\" typeof=\"mw:File\"><span><img alt=\"flag\" class=\"mw-file-element\" data-file-height=\"600\" data-file-width=\"1200\" decoding=\"async\" height=\"16\" src=\"//upload.wikimedia.org/wikipedia/commons/thumb/7/79/Flag_of_Nigeria.svg/32px-Flag_of_Nigeria.svg.png\" srcset=\"//upload.wikimedia.org/wikipedia/commons/thumb/7/79/Flag_of_Nigeria.svg/48px-Flag_of_Nigeria.svg.png 1.5x, //upload.wikimedia.org/wikipedia/commons/thumb/7/79/Flag_of_Nigeria.svg/64px-Flag_of_Nigeria.svg.png 2x\" width=\"32\"/></span></span></span><span class=\"portalbox-link\"><a href=\"/wiki/Portal:Nigeria\" title=\"Portal:Nigeria\">Nigeria portal</a></span></li></ul>\n",
      "<ul><li><a href=\"/wiki/List_of_Nigerian_states_by_population\" title=\"List of Nigerian states by population\">List of Nigerian states by population</a></li>\n",
      "<li><a href=\"/wiki/ISO_3166-2:NG\" title=\"ISO 3166-2:NG\">ISO 3166-2:NG</a></li>\n",
      "<li><a class=\"mw-redirect\" href=\"/wiki/List_of_state_governors_of_Nigeria\" title=\"List of state governors of Nigeria\">List of state governors of Nigeria</a></li></ul>\n",
      "<div class=\"mw-heading mw-heading2\"><h2 id=\"Notes\">Notes</h2><span class=\"mw-editsection\"><span class=\"mw-editsection-bracket\">[</span><a href=\"/w/index.php?title=States_of_Nigeria&amp;action=edit&amp;section=9\" title=\"Edit section: Notes\"><span>edit</span></a><span class=\"mw-editsection-bracket\">]</span></span></div>\n",
      "<style data-mw-deduplicate=\"TemplateStyles:r1239543626\">.mw-parser-output .reflist{margin-bottom:0.5em;list-style-type:decimal}@media screen{.mw-parser-output .reflist{font-size:90%}}.mw-parser-output .reflist .references{font-size:100%;margin-bottom:0;list-style-type:inherit}.mw-parser-output .reflist-columns-2{column-width:30em}.mw-parser-output .reflist-columns-3{column-width:25em}.mw-parser-output .reflist-columns{margin-top:0.3em}.mw-parser-output .reflist-columns ol{margin-top:0}.mw-parser-output .reflist-columns li{page-break-inside:avoid;break-inside:avoid-column}.mw-parser-output .reflist-upper-alpha{list-style-type:upper-alpha}.mw-parser-output .reflist-upper-roman{list-style-type:upper-roman}.mw-parser-output .reflist-lower-alpha{list-style-type:lower-alpha}.mw-parser-output .reflist-lower-greek{list-style-type:lower-greek}.mw-parser-output .reflist-lower-roman{list-style-type:lower-roman}</style><div class=\"reflist\">\n",
      "<div class=\"mw-references-wrap\"><ol class=\"references\">\n",
      "<li id=\"cite_note-1\"><span class=\"mw-cite-backlink\"><b><a href=\"#cite_ref-1\">^</a></b></span> <span class=\"reference-text\"><style data-mw-deduplicate=\"TemplateStyles:r1238218222\">.mw-parser-output cite.citation{font-style:inherit;word-wrap:break-word}.mw-parser-output .citation q{quotes:\"\\\"\"\"\\\"\"\"'\"\"'\"}.mw-parser-output .citation:target{background-color:rgba(0,127,255,0.133)}.mw-parser-output .id-lock-free.id-lock-free a{background:url(\"//upload.wikimedia.org/wikipedia/commons/6/65/Lock-green.svg\")right 0.1em center/9px no-repeat}.mw-parser-output .id-lock-limited.id-lock-limited a,.mw-parser-output .id-lock-registration.id-lock-registration a{background:url(\"//upload.wikimedia.org/wikipedia/commons/d/d6/Lock-gray-alt-2.svg\")right 0.1em center/9px no-repeat}.mw-parser-output .id-lock-subscription.id-lock-subscription a{background:url(\"//upload.wikimedia.org/wikipedia/commons/a/aa/Lock-red-alt-2.svg\")right 0.1em center/9px no-repeat}.mw-parser-output .cs1-ws-icon a{background:url(\"//upload.wikimedia.org/wikipedia/commons/4/4c/Wikisource-logo.svg\")right 0.1em center/12px no-repeat}body:not(.skin-timeless):not(.skin-minerva) .mw-parser-output .id-lock-free a,body:not(.skin-timeless):not(.skin-minerva) .mw-parser-output .id-lock-limited a,body:not(.skin-timeless):not(.skin-minerva) .mw-parser-output .id-lock-registration a,body:not(.skin-timeless):not(.skin-minerva) .mw-parser-output .id-lock-subscription a,body:not(.skin-timeless):not(.skin-minerva) .mw-parser-output .cs1-ws-icon a{background-size:contain;padding:0 1em 0 0}.mw-parser-output .cs1-code{color:inherit;background:inherit;border:none;padding:inherit}.mw-parser-output .cs1-hidden-error{display:none;color:var(--color-error,#d33)}.mw-parser-output .cs1-visible-error{color:var(--color-error,#d33)}.mw-parser-output .cs1-maint{display:none;color:#085;margin-left:0.3em}.mw-parser-output .cs1-kern-left{padding-left:0.2em}.mw-parser-output .cs1-kern-right{padding-right:0.2em}.mw-parser-output .citation .mw-selflink{font-weight:inherit}@media screen{.mw-parser-output .cs1-format{font-size:95%}html.skin-theme-clientpref-night .mw-parser-output .cs1-maint{color:#18911f}}@media screen and (prefers-color-scheme:dark){html.skin-theme-clientpref-os .mw-parser-output .cs1-maint{color:#18911f}}</style><cite class=\"citation web cs1\"><a class=\"external text\" href=\"https://www.britannica.com/place/Abuja-federal-capital-territory-Nigeria\" rel=\"nofollow\">\"Federal Capital Territory (FCT) | Location &amp; Geography | Britannica\"</a>. <i>www.britannica.com</i><span class=\"reference-accessdate\">. Retrieved <span class=\"nowrap\">7 June</span> 2023</span>.</cite><span class=\"Z3988\" title=\"ctx_ver=Z39.88-2004&amp;rft_val_fmt=info%3Aofi%2Ffmt%3Akev%3Amtx%3Ajournal&amp;rft.genre=unknown&amp;rft.jtitle=www.britannica.com&amp;rft.atitle=Federal+Capital+Territory+%28FCT%29+%7C+Location+%26+Geography+%7C+Britannica&amp;rft_id=https%3A%2F%2Fwww.britannica.com%2Fplace%2FAbuja-federal-capital-territory-Nigeria&amp;rfr_id=info%3Asid%2Fen.wikipedia.org%3AStates+of+Nigeria\"></span></span>\n",
      "</li>\n",
      "<li id=\"cite_note-2\"><span class=\"mw-cite-backlink\"><b><a href=\"#cite_ref-2\">^</a></b></span> <span class=\"reference-text\"><a class=\"external text\" href=\"http://www.usaid.gov/ng/admin_divisions.htm\" rel=\"nofollow\">\"USAID Nigeria mission: Nigeria administrative divisions\"</a> <a class=\"external text\" href=\"https://web.archive.org/web/20070113033138/http://www.usaid.gov/ng/admin_divisions.htm\" rel=\"nofollow\">Archived</a> 2007-01-13 at the <a href=\"/wiki/Wayback_Machine\" title=\"Wayback Machine\">Wayback Machine</a> United States Agency for International Development, October 2004, last accessed 21 April 2010</span>\n",
      "</li>\n",
      "<li id=\"cite_note-3\"><span class=\"mw-cite-backlink\"><b><a href=\"#cite_ref-3\">^</a></b></span> <span class=\"reference-text\"><link href=\"mw-data:TemplateStyles:r1238218222\" rel=\"mw-deduplicated-inline-style\"/><cite class=\"citation web cs1\"><a class=\"external text\" href=\"https://www.constitutionnet.org/sites/default/files/1999_Constitution.pdf\" rel=\"nofollow\">\"1999 Constitution of Nigeria\"</a> <span class=\"cs1-format\">(PDF)</span><span class=\"reference-accessdate\">. Retrieved <span class=\"nowrap\">20 September</span> 2024</span>.</cite><span class=\"Z3988\" title=\"ctx_ver=Z39.88-2004&amp;rft_val_fmt=info%3Aofi%2Ffmt%3Akev%3Amtx%3Abook&amp;rft.genre=unknown&amp;rft.btitle=1999+Constitution+of+Nigeria&amp;rft_id=https%3A%2F%2Fwww.constitutionnet.org%2Fsites%2Fdefault%2Ffiles%2F1999_Constitution.pdf&amp;rfr_id=info%3Asid%2Fen.wikipedia.org%3AStates+of+Nigeria\"></span></span>\n",
      "</li>\n",
      "<li id=\"cite_note-4\"><span class=\"mw-cite-backlink\"><b><a href=\"#cite_ref-4\">^</a></b></span> <span class=\"reference-text\"><a class=\"external text\" href=\"https://nigerianstat.gov.ng/download/1241121\" rel=\"nofollow\">Demographic Statistics Bulletin 2020</a></span>\n",
      "</li>\n",
      "<li id=\"cite_note-Kraxberger-5\"><span class=\"mw-cite-backlink\"><b><a href=\"#cite_ref-Kraxberger_5-0\">^</a></b></span> <span class=\"reference-text\">Kraxberger, Brennan (2005) \"Strangers, Indigenes and Settlers: Contested Geographies of Citizenship in Nigeria\" <i>Space and Polity</i> 9(1): pp. 9–27, pages 10, 11, &amp; 15</span>\n",
      "</li>\n",
      "<li id=\"cite_note-6\"><span class=\"mw-cite-backlink\"><b><a href=\"#cite_ref-6\">^</a></b></span> <span class=\"reference-text\"><link href=\"mw-data:TemplateStyles:r1238218222\" rel=\"mw-deduplicated-inline-style\"/><cite class=\"citation book cs1\" id=\"CITEREFShetreetDeschênes1985\">Shetreet, Shimon; Deschênes, Jules (1 January 1985). <a class=\"external text\" href=\"https://books.google.com/books?id=jEG0KVCu_soC&amp;pg=PA254\" rel=\"nofollow\"><i>Judicial Independence: The Contemporary Debate</i></a>. Martinus Nijhoff Publishers. <a class=\"mw-redirect\" href=\"/wiki/ISBN_(identifier)\" title=\"ISBN (identifier)\">ISBN</a> <a href=\"/wiki/Special:BookSources/978-90-247-3182-4\" title=\"Special:BookSources/978-90-247-3182-4\"><bdi>978-90-247-3182-4</bdi></a>.</cite><span class=\"Z3988\" title=\"ctx_ver=Z39.88-2004&amp;rft_val_fmt=info%3Aofi%2Ffmt%3Akev%3Amtx%3Abook&amp;rft.genre=book&amp;rft.btitle=Judicial+Independence%3A+The+Contemporary+Debate&amp;rft.pub=Martinus+Nijhoff+Publishers&amp;rft.date=1985-01-01&amp;rft.isbn=978-90-247-3182-4&amp;rft.aulast=Shetreet&amp;rft.aufirst=Shimon&amp;rft.au=Desch%C3%AAnes%2C+Jules&amp;rft_id=https%3A%2F%2Fbooks.google.com%2Fbooks%3Fid%3DjEG0KVCu_soC%26pg%3DPA254&amp;rfr_id=info%3Asid%2Fen.wikipedia.org%3AStates+of+Nigeria\"></span></span>\n",
      "</li>\n",
      "</ol></div></div>\n",
      "<div class=\"mw-heading mw-heading2\"><h2 id=\"Sources\">Sources</h2><span class=\"mw-editsection\"><span class=\"mw-editsection-bracket\">[</span><a href=\"/w/index.php?title=States_of_Nigeria&amp;action=edit&amp;section=10\" title=\"Edit section: Sources\"><span>edit</span></a><span class=\"mw-editsection-bracket\">]</span></span></div>\n",
      "<ul><li><link href=\"mw-data:TemplateStyles:r1238218222\" rel=\"mw-deduplicated-inline-style\"/><cite class=\"citation book cs1\" id=\"CITEREFGboyega_Ajayi2007\">Gboyega Ajayi (2007). <i>The military and the Nigerian state, 1966–1993: a study of the strategies of political power control</i>. <a href=\"/wiki/Trenton,_New_Jersey\" title=\"Trenton, New Jersey\">Trenton, New Jersey</a>: Africa World Press. <a class=\"mw-redirect\" href=\"/wiki/ISBN_(identifier)\" title=\"ISBN (identifier)\">ISBN</a> <a href=\"/wiki/Special:BookSources/978-1-59221-568-3\" title=\"Special:BookSources/978-1-59221-568-3\"><bdi>978-1-59221-568-3</bdi></a>.</cite><span class=\"Z3988\" title=\"ctx_ver=Z39.88-2004&amp;rft_val_fmt=info%3Aofi%2Ffmt%3Akev%3Amtx%3Abook&amp;rft.genre=book&amp;rft.btitle=The+military+and+the+Nigerian+state%2C+1966%E2%80%931993%3A+a+study+of+the+strategies+of+political+power+control&amp;rft.place=Trenton%2C+New+Jersey&amp;rft.pub=Africa+World+Press&amp;rft.date=2007&amp;rft.isbn=978-1-59221-568-3&amp;rft.au=Gboyega+Ajayi&amp;rfr_id=info%3Asid%2Fen.wikipedia.org%3AStates+of+Nigeria\"></span></li>\n",
      "<li><link href=\"mw-data:TemplateStyles:r1238218222\" rel=\"mw-deduplicated-inline-style\"/><cite class=\"citation book cs1\" id=\"CITEREFSolomon_Akhere_Benjamin1999\">Solomon Akhere Benjamin (1999). <i>The 1996 state and local government reorganizations in Nigeria</i>. <a href=\"/wiki/Ibadan\" title=\"Ibadan\">Ibadan</a>: Nigerian Institute of Social and Economic Research. <a class=\"mw-redirect\" href=\"/wiki/ISBN_(identifier)\" title=\"ISBN (identifier)\">ISBN</a> <a href=\"/wiki/Special:BookSources/978-181-238-9\" title=\"Special:BookSources/978-181-238-9\"><bdi>978-181-238-9</bdi></a>.</cite><span class=\"Z3988\" title=\"ctx_ver=Z39.88-2004&amp;rft_val_fmt=info%3Aofi%2Ffmt%3Akev%3Amtx%3Abook&amp;rft.genre=book&amp;rft.btitle=The+1996+state+and+local+government+reorganizations+in+Nigeria&amp;rft.place=Ibadan&amp;rft.pub=Nigerian+Institute+of+Social+and+Economic+Research&amp;rft.date=1999&amp;rft.isbn=978-181-238-9&amp;rft.au=Solomon+Akhere+Benjamin&amp;rfr_id=info%3Asid%2Fen.wikipedia.org%3AStates+of+Nigeria\"></span></li>\n",
      "<li><link href=\"mw-data:TemplateStyles:r1238218222\" rel=\"mw-deduplicated-inline-style\"/><cite class=\"citation book cs1\" id=\"CITEREFRotimi_T._Suberu1994\">Rotimi T. Suberu (1994). <i>1991 state and local government reorganizations in Nigeria</i>. <a href=\"/wiki/Ibadan\" title=\"Ibadan\">Ibadan</a>: Institute of African Studies, University of Ibadan. <a class=\"mw-redirect\" href=\"/wiki/ISBN_(identifier)\" title=\"ISBN (identifier)\">ISBN</a> <a href=\"/wiki/Special:BookSources/978-2015-28-8\" title=\"Special:BookSources/978-2015-28-8\"><bdi>978-2015-28-8</bdi></a>.</cite><span class=\"Z3988\" title=\"ctx_ver=Z39.88-2004&amp;rft_val_fmt=info%3Aofi%2Ffmt%3Akev%3Amtx%3Abook&amp;rft.genre=book&amp;rft.btitle=1991+state+and+local+government+reorganizations+in+Nigeria&amp;rft.place=Ibadan&amp;rft.pub=Institute+of+African+Studies%2C+University+of+Ibadan&amp;rft.date=1994&amp;rft.isbn=978-2015-28-8&amp;rft.au=Rotimi+T.+Suberu&amp;rfr_id=info%3Asid%2Fen.wikipedia.org%3AStates+of+Nigeria\"></span></li></ul>\n",
      "<div class=\"mw-heading mw-heading2\"><h2 id=\"External_links\">External links</h2><span class=\"mw-editsection\"><span class=\"mw-editsection-bracket\">[</span><a href=\"/w/index.php?title=States_of_Nigeria&amp;action=edit&amp;section=11\" title=\"Edit section: External links\"><span>edit</span></a><span class=\"mw-editsection-bracket\">]</span></span></div>\n",
      "<ul><li><link href=\"mw-data:TemplateStyles:r1238218222\" rel=\"mw-deduplicated-inline-style\"/><cite class=\"citation web cs1\"><a class=\"external text\" href=\"http://www.statoids.com/ung.html\" rel=\"nofollow\">\"New States of Nigeria\"</a>. <i>Statoids</i>.</cite><span class=\"Z3988\" title=\"ctx_ver=Z39.88-2004&amp;rft_val_fmt=info%3Aofi%2Ffmt%3Akev%3Amtx%3Ajournal&amp;rft.genre=unknown&amp;rft.jtitle=Statoids&amp;rft.atitle=New+States+of+Nigeria&amp;rft_id=http%3A%2F%2Fwww.statoids.com%2Fung.html&amp;rfr_id=info%3Asid%2Fen.wikipedia.org%3AStates+of+Nigeria\"></span></li>\n",
      "<li><a class=\"external text\" href=\"http://www.naijaeforum.com/news/\" rel=\"nofollow\">Headline News in Nigeria</a> <a class=\"external text\" href=\"https://web.archive.org/web/20180820132728/http://naijaeforum.com/news/\" rel=\"nofollow\">Archived</a> 2018-08-20 at the <a href=\"/wiki/Wayback_Machine\" title=\"Wayback Machine\">Wayback Machine</a> States</li></ul>\n",
      "<p><a class=\"external text\" href=\"https://thenigerianinfo.com/states-and-capital-in-nigeria-slogans-current-governors/\" rel=\"nofollow\">States And Capital In Nigeria, Their Slogans &amp; Current Governors</a> A comprehensive list of all states in Nigeria and their current governors.\n",
      "</p>\n",
      "<div class=\"navbox-styles\"><link href=\"mw-data:TemplateStyles:r1129693374\" rel=\"mw-deduplicated-inline-style\"/><style data-mw-deduplicate=\"TemplateStyles:r1236075235\">.mw-parser-output .navbox{box-sizing:border-box;border:1px solid #a2a9b1;width:100%;clear:both;font-size:88%;text-align:center;padding:1px;margin:1em auto 0}.mw-parser-output .navbox .navbox{margin-top:0}.mw-parser-output .navbox+.navbox,.mw-parser-output .navbox+.navbox-styles+.navbox{margin-top:-1px}.mw-parser-output .navbox-inner,.mw-parser-output .navbox-subgroup{width:100%}.mw-parser-output .navbox-group,.mw-parser-output .navbox-title,.mw-parser-output .navbox-abovebelow{padding:0.25em 1em;line-height:1.5em;text-align:center}.mw-parser-output .navbox-group{white-space:nowrap;text-align:right}.mw-parser-output .navbox,.mw-parser-output .navbox-subgroup{background-color:#fdfdfd}.mw-parser-output .navbox-list{line-height:1.5em;border-color:#fdfdfd}.mw-parser-output .navbox-list-with-group{text-align:left;border-left-width:2px;border-left-style:solid}.mw-parser-output tr+tr>.navbox-abovebelow,.mw-parser-output tr+tr>.navbox-group,.mw-parser-output tr+tr>.navbox-image,.mw-parser-output tr+tr>.navbox-list{border-top:2px solid #fdfdfd}.mw-parser-output .navbox-title{background-color:#ccf}.mw-parser-output .navbox-abovebelow,.mw-parser-output .navbox-group,.mw-parser-output .navbox-subgroup .navbox-title{background-color:#ddf}.mw-parser-output .navbox-subgroup .navbox-group,.mw-parser-output .navbox-subgroup .navbox-abovebelow{background-color:#e6e6ff}.mw-parser-output .navbox-even{background-color:#f7f7f7}.mw-parser-output .navbox-odd{background-color:transparent}.mw-parser-output .navbox .hlist td dl,.mw-parser-output .navbox .hlist td ol,.mw-parser-output .navbox .hlist td ul,.mw-parser-output .navbox td.hlist dl,.mw-parser-output .navbox td.hlist ol,.mw-parser-output .navbox td.hlist ul{padding:0.125em 0}.mw-parser-output .navbox .navbar{display:block;font-size:100%}.mw-parser-output .navbox-title .navbar{float:left;text-align:left;margin-right:0.5em}body.skin--responsive .mw-parser-output .navbox-image img{max-width:none!important}@media print{body.ns-0 .mw-parser-output .navbox{display:none!important}}</style></div><div aria-labelledby=\"States_of_Nigeria\" class=\"navbox\" role=\"navigation\" style=\"padding:3px\"><table class=\"nowraplinks hlist mw-collapsible autocollapse navbox-inner\" style=\"border-spacing:0;background:transparent;color:inherit\"><tbody><tr><th class=\"navbox-title\" colspan=\"2\" scope=\"col\"><link href=\"mw-data:TemplateStyles:r1129693374\" rel=\"mw-deduplicated-inline-style\"/><link href=\"mw-data:TemplateStyles:r1239400231\" rel=\"mw-deduplicated-inline-style\"/><div class=\"navbar plainlinks hlist navbar-mini\"><ul><li class=\"nv-view\"><a href=\"/wiki/Template:States_of_Nigeria\" title=\"Template:States of Nigeria\"><abbr title=\"View this template\">v</abbr></a></li><li class=\"nv-talk\"><a href=\"/wiki/Template_talk:States_of_Nigeria\" title=\"Template talk:States of Nigeria\"><abbr title=\"Discuss this template\">t</abbr></a></li><li class=\"nv-edit\"><a href=\"/wiki/Special:EditPage/Template:States_of_Nigeria\" title=\"Special:EditPage/Template:States of Nigeria\"><abbr title=\"Edit this template\">e</abbr></a></li></ul></div><div id=\"States_of_Nigeria\" style=\"font-size:114%;margin:0 4em\"><a class=\"mw-selflink selflink\">States of Nigeria</a></div></th></tr><tr><td class=\"navbox-abovebelow\" colspan=\"2\"><div><b><a href=\"/wiki/Federal_Capital_Territory_(Nigeria)\" title=\"Federal Capital Territory (Nigeria)\">Federal Capital Territory</a></b></div></td></tr><tr><td class=\"navbox-list navbox-odd\" colspan=\"2\" style=\"width:100%;padding:0\"><div style=\"padding:0 0.25em\">\n",
      "<ul><li><a href=\"/wiki/Abia_State\" title=\"Abia State\">Abia</a></li>\n",
      "<li><a href=\"/wiki/Adamawa_State\" title=\"Adamawa State\">Adamawa</a></li>\n",
      "<li><a href=\"/wiki/Akwa_Ibom_State\" title=\"Akwa Ibom State\">Akwa Ibom</a></li>\n",
      "<li><a href=\"/wiki/Anambra_State\" title=\"Anambra State\">Anambra</a></li>\n",
      "<li><a href=\"/wiki/Bauchi_State\" title=\"Bauchi State\">Bauchi</a></li>\n",
      "<li><a href=\"/wiki/Bayelsa_State\" title=\"Bayelsa State\">Bayelsa</a></li>\n",
      "<li><a href=\"/wiki/Benue_State\" title=\"Benue State\">Benue</a></li>\n",
      "<li><a href=\"/wiki/Borno_State\" title=\"Borno State\">Borno</a></li>\n",
      "<li><a href=\"/wiki/Cross_River_State\" title=\"Cross River State\">Cross River</a></li>\n",
      "<li><a href=\"/wiki/Delta_State\" title=\"Delta State\">Delta</a></li>\n",
      "<li><a href=\"/wiki/Ebonyi_State\" title=\"Ebonyi State\">Ebonyi</a></li>\n",
      "<li><a href=\"/wiki/Edo_State\" title=\"Edo State\">Edo</a></li>\n",
      "<li><a href=\"/wiki/Ekiti_State\" title=\"Ekiti State\">Ekiti</a></li>\n",
      "<li><a href=\"/wiki/Enugu_State\" title=\"Enugu State\">Enugu</a></li>\n",
      "<li><a href=\"/wiki/Gombe_State\" title=\"Gombe State\">Gombe</a></li>\n",
      "<li><a href=\"/wiki/Imo_State\" title=\"Imo State\">Imo</a></li>\n",
      "<li><a href=\"/wiki/Jigawa_State\" title=\"Jigawa State\">Jigawa</a></li>\n",
      "<li><a href=\"/wiki/Kaduna_State\" title=\"Kaduna State\">Kaduna</a></li>\n",
      "<li><a href=\"/wiki/Kano_State\" title=\"Kano State\">Kano</a></li>\n",
      "<li><a href=\"/wiki/Katsina_State\" title=\"Katsina State\">Katsina</a></li>\n",
      "<li><a href=\"/wiki/Kebbi_State\" title=\"Kebbi State\">Kebbi</a></li>\n",
      "<li><a href=\"/wiki/Kogi_State\" title=\"Kogi State\">Kogi</a></li>\n",
      "<li><a href=\"/wiki/Kwara_State\" title=\"Kwara State\">Kwara</a></li>\n",
      "<li><a href=\"/wiki/Lagos_State\" title=\"Lagos State\">Lagos</a></li>\n",
      "<li><a href=\"/wiki/Nasarawa_State\" title=\"Nasarawa State\">Nasarawa</a></li>\n",
      "<li><a href=\"/wiki/Niger_State\" title=\"Niger State\">Niger</a></li>\n",
      "<li><a href=\"/wiki/Ogun_State\" title=\"Ogun State\">Ogun</a></li>\n",
      "<li><a href=\"/wiki/Ondo_State\" title=\"Ondo State\">Ondo</a></li>\n",
      "<li><a href=\"/wiki/Osun_State\" title=\"Osun State\">Osun</a></li>\n",
      "<li><a href=\"/wiki/Oyo_State\" title=\"Oyo State\">Oyo</a></li>\n",
      "<li><a href=\"/wiki/Plateau_State\" title=\"Plateau State\">Plateau</a></li>\n",
      "<li><a href=\"/wiki/Rivers_State\" title=\"Rivers State\">Rivers</a></li>\n",
      "<li><a href=\"/wiki/Sokoto_State\" title=\"Sokoto State\">Sokoto</a></li>\n",
      "<li><a href=\"/wiki/Taraba_State\" title=\"Taraba State\">Taraba</a></li>\n",
      "<li><a href=\"/wiki/Yobe_State\" title=\"Yobe State\">Yobe</a></li>\n",
      "<li><a href=\"/wiki/Zamfara_State\" title=\"Zamfara State\">Zamfara</a></li></ul>\n",
      "</div></td></tr><tr><td class=\"navbox-abovebelow\" colspan=\"2\"><div><span class=\"nowrap\"><span class=\"mw-image-border noviewer\" typeof=\"mw:File\"><span><img alt=\"flag\" class=\"mw-file-element\" data-file-height=\"600\" data-file-width=\"1200\" decoding=\"async\" height=\"16\" src=\"//upload.wikimedia.org/wikipedia/commons/thumb/7/79/Flag_of_Nigeria.svg/32px-Flag_of_Nigeria.svg.png\" srcset=\"//upload.wikimedia.org/wikipedia/commons/thumb/7/79/Flag_of_Nigeria.svg/48px-Flag_of_Nigeria.svg.png 1.5x, //upload.wikimedia.org/wikipedia/commons/thumb/7/79/Flag_of_Nigeria.svg/64px-Flag_of_Nigeria.svg.png 2x\" width=\"32\"/></span></span> </span><a href=\"/wiki/Portal:Nigeria\" title=\"Portal:Nigeria\">Nigeria portal</a></div></td></tr></tbody></table></div>\n",
      "<div class=\"navbox-styles\"><link href=\"mw-data:TemplateStyles:r1129693374\" rel=\"mw-deduplicated-inline-style\"/><link href=\"mw-data:TemplateStyles:r1236075235\" rel=\"mw-deduplicated-inline-style\"/></div><div aria-labelledby=\"Lists_of_States_of_Nigeria\" class=\"navbox\" role=\"navigation\" style=\"padding:3px\"><table class=\"nowraplinks mw-collapsible autocollapse navbox-inner\" style=\"border-spacing:0;background:transparent;color:inherit\"><tbody><tr><th class=\"navbox-title\" colspan=\"4\" scope=\"col\"><link href=\"mw-data:TemplateStyles:r1129693374\" rel=\"mw-deduplicated-inline-style\"/><link href=\"mw-data:TemplateStyles:r1239400231\" rel=\"mw-deduplicated-inline-style\"/><div class=\"navbar plainlinks hlist navbar-mini\"><ul><li class=\"nv-view\"><a href=\"/wiki/Template:NigerianStateLists\" title=\"Template:NigerianStateLists\"><abbr title=\"View this template\">v</abbr></a></li><li class=\"nv-talk\"><a href=\"/wiki/Template_talk:NigerianStateLists\" title=\"Template talk:NigerianStateLists\"><abbr title=\"Discuss this template\">t</abbr></a></li><li class=\"nv-edit\"><a href=\"/wiki/Special:EditPage/Template:NigerianStateLists\" title=\"Special:EditPage/Template:NigerianStateLists\"><abbr title=\"Edit this template\">e</abbr></a></li></ul></div><div id=\"Lists_of_States_of_Nigeria\" style=\"font-size:114%;margin:0 4em\">Lists of <a class=\"mw-selflink selflink\">States</a> of <a href=\"/wiki/Nigeria\" title=\"Nigeria\">Nigeria</a></div></th></tr><tr><td class=\"noviewer navbox-image\" rowspan=\"1\" style=\"width:1px;padding:0 2px 0 0\"><div><span typeof=\"mw:File\"><a class=\"mw-file-description\" href=\"/wiki/File:NigeriaNumbered.png\"><img class=\"mw-file-element\" data-file-height=\"1900\" data-file-width=\"2320\" decoding=\"async\" height=\"41\" src=\"//upload.wikimedia.org/wikipedia/commons/thumb/c/c7/NigeriaNumbered.png/50px-NigeriaNumbered.png\" srcset=\"//upload.wikimedia.org/wikipedia/commons/thumb/c/c7/NigeriaNumbered.png/75px-NigeriaNumbered.png 1.5x, //upload.wikimedia.org/wikipedia/commons/thumb/c/c7/NigeriaNumbered.png/100px-NigeriaNumbered.png 2x\" width=\"50\"/></a></span></div></td><td class=\"navbox-list navbox-odd hlist\" colspan=\"2\" style=\"width:100%;padding:0\"><div style=\"padding:0 0.25em\">\n",
      "<ul><li>Listed by: <a href=\"/wiki/List_of_Nigerian_states_by_area\" title=\"List of Nigerian states by area\">area</a></li>\n",
      "<li><a href=\"/wiki/List_of_Nigerian_states_by_population\" title=\"List of Nigerian states by population\">population</a></li>\n",
      "<li><a href=\"/wiki/List_of_Nigerian_states_by_GDP\" title=\"List of Nigerian states by GDP\">GDP</a></li>\n",
      "<li><a href=\"/wiki/List_of_Nigerian_states_by_Human_Development_Index\" title=\"List of Nigerian states by Human Development Index\">HDI</a></li>\n",
      "<li><a href=\"/wiki/List_of_Nigerian_states_by_poverty_rate\" title=\"List of Nigerian states by poverty rate\">poverty rate</a></li>\n",
      "<li><a href=\"/wiki/List_of_Nigerian_states_by_date_of_statehood\" title=\"List of Nigerian states by date of statehood\">date of statehood</a></li>\n",
      "<li><a class=\"mw-redirect\" href=\"/wiki/List_of_Nigerian_state_capitals\" title=\"List of Nigerian state capitals\">capitals</a></li>\n",
      "<li><a class=\"mw-redirect\" href=\"/wiki/List_of_Nigerian_state_governors\" title=\"List of Nigerian state governors\">governors</a></li>\n",
      "<li><a class=\"mw-redirect\" href=\"/wiki/List_of_Nigerian_states%27_nicknames\" title=\"List of Nigerian states' nicknames\">nicknames</a></li>\n",
      "<li><a href=\"/wiki/List_of_Nigerian_states_by_highest_point\" title=\"List of Nigerian states by highest point\">highest point</a></li>\n",
      "<li><a href=\"/wiki/List_of_Nigerian_traditional_states\" title=\"List of Nigerian traditional states\">traditional states</a></li>\n",
      "<li><a href=\"/wiki/Provinces_of_Nigeria\" title=\"Provinces of Nigeria\">provinces</a></li></ul>\n",
      "</div></td><td class=\"noviewer navbox-image\" rowspan=\"1\" style=\"width:1px;padding:0 0 0 2px\"><div><span typeof=\"mw:File\"><a class=\"mw-file-description\" href=\"/wiki/File:Flag_of_Nigeria.svg\"><img class=\"mw-file-element\" data-file-height=\"600\" data-file-width=\"1200\" decoding=\"async\" height=\"35\" src=\"//upload.wikimedia.org/wikipedia/commons/thumb/7/79/Flag_of_Nigeria.svg/70px-Flag_of_Nigeria.svg.png\" srcset=\"//upload.wikimedia.org/wikipedia/commons/thumb/7/79/Flag_of_Nigeria.svg/105px-Flag_of_Nigeria.svg.png 1.5x, //upload.wikimedia.org/wikipedia/commons/thumb/7/79/Flag_of_Nigeria.svg/140px-Flag_of_Nigeria.svg.png 2x\" width=\"70\"/></a></span></div></td></tr></tbody></table></div>\n",
      "<div class=\"navbox-styles\"><link href=\"mw-data:TemplateStyles:r1129693374\" rel=\"mw-deduplicated-inline-style\"/><link href=\"mw-data:TemplateStyles:r1236075235\" rel=\"mw-deduplicated-inline-style\"/></div><div aria-labelledby=\"Articles_on_first-level_administrative_divisions_of_African_countries\" class=\"navbox\" role=\"navigation\" style=\"padding:3px\"><table class=\"nowraplinks mw-collapsible autocollapse navbox-inner\" style=\"border-spacing:0;background:transparent;color:inherit\"><tbody><tr><th class=\"navbox-title\" colspan=\"2\" scope=\"col\"><link href=\"mw-data:TemplateStyles:r1129693374\" rel=\"mw-deduplicated-inline-style\"/><link href=\"mw-data:TemplateStyles:r1239400231\" rel=\"mw-deduplicated-inline-style\"/><div class=\"navbar plainlinks hlist navbar-mini\"><ul><li class=\"nv-view\"><a href=\"/wiki/Template:Articles_on_first-level_administrative_divisions_of_African_countries\" title=\"Template:Articles on first-level administrative divisions of African countries\"><abbr title=\"View this template\">v</abbr></a></li><li class=\"nv-talk\"><a href=\"/wiki/Template_talk:Articles_on_first-level_administrative_divisions_of_African_countries\" title=\"Template talk:Articles on first-level administrative divisions of African countries\"><abbr title=\"Discuss this template\">t</abbr></a></li><li class=\"nv-edit\"><a href=\"/wiki/Special:EditPage/Template:Articles_on_first-level_administrative_divisions_of_African_countries\" title=\"Special:EditPage/Template:Articles on first-level administrative divisions of African countries\"><abbr title=\"Edit this template\">e</abbr></a></li></ul></div><div id=\"Articles_on_first-level_administrative_divisions_of_African_countries\" style=\"font-size:114%;margin:0 4em\">Articles on first-level <a href=\"/wiki/Administrative_division\" title=\"Administrative division\">administrative divisions</a> of <a href=\"/wiki/Africa\" title=\"Africa\">African</a> countries</div></th></tr><tr><td class=\"navbox-list navbox-odd hlist\" colspan=\"2\" style=\"width:100%;padding:0\"><div style=\"padding:0 0.25em\">\n",
      "<ul><li><a href=\"/wiki/Provinces_of_Algeria\" title=\"Provinces of Algeria\">Algeria</a></li>\n",
      "<li><a href=\"/wiki/Provinces_of_Angola\" title=\"Provinces of Angola\">Angola</a></li>\n",
      "<li><a href=\"/wiki/Departments_of_Benin\" title=\"Departments of Benin\">Benin</a></li>\n",
      "<li><a href=\"/wiki/Districts_of_Botswana\" title=\"Districts of Botswana\">Botswana</a></li>\n",
      "<li><a href=\"/wiki/Regions_of_Burkina_Faso\" title=\"Regions of Burkina Faso\">Burkina Faso</a></li>\n",
      "<li><a href=\"/wiki/Provinces_of_Burundi\" title=\"Provinces of Burundi\">Burundi</a></li>\n",
      "<li><a href=\"/wiki/Regions_of_Cameroon\" title=\"Regions of Cameroon\">Cameroon</a></li>\n",
      "<li><a href=\"/wiki/Administrative_divisions_of_Cape_Verde\" title=\"Administrative divisions of Cape Verde\">Cape Verde</a></li>\n",
      "<li><a href=\"/wiki/Prefectures_of_the_Central_African_Republic\" title=\"Prefectures of the Central African Republic\">Central African Republic</a></li>\n",
      "<li><a href=\"/wiki/Regions_of_Chad\" title=\"Regions of Chad\">Chad</a></li>\n",
      "<li><a href=\"/wiki/List_of_islands_of_the_Comoros\" title=\"List of islands of the Comoros\">Comoros</a></li>\n",
      "<li><a href=\"/wiki/Provinces_of_the_Democratic_Republic_of_the_Congo\" title=\"Provinces of the Democratic Republic of the Congo\">Democratic Republic of the Congo</a></li>\n",
      "<li><a href=\"/wiki/Departments_of_the_Republic_of_the_Congo\" title=\"Departments of the Republic of the Congo\">Republic of the Congo</a></li>\n",
      "<li><a href=\"/wiki/Districts_of_Ivory_Coast\" title=\"Districts of Ivory Coast\">Côte d'Ivoire (Ivory Coast)</a></li>\n",
      "<li><a href=\"/wiki/Regions_of_Djibouti\" title=\"Regions of Djibouti\">Djibouti</a></li>\n",
      "<li><a class=\"mw-redirect\" href=\"/wiki/Governorates_of_Egypt\" title=\"Governorates of Egypt\">Egypt</a></li>\n",
      "<li><a href=\"/wiki/Provinces_of_Equatorial_Guinea\" title=\"Provinces of Equatorial Guinea\">Equatorial Guinea</a></li>\n",
      "<li><a href=\"/wiki/Regions_of_Eritrea\" title=\"Regions of Eritrea\">Eritrea</a></li>\n",
      "<li><a href=\"/wiki/Regions_of_Eswatini\" title=\"Regions of Eswatini\">Eswatini</a></li>\n",
      "<li><a href=\"/wiki/Regions_of_Ethiopia\" title=\"Regions of Ethiopia\">Ethiopia</a></li>\n",
      "<li><a href=\"/wiki/Subdivisions_of_Gabon\" title=\"Subdivisions of Gabon\">Gabon</a></li>\n",
      "<li><a href=\"/wiki/Subdivisions_of_the_Gambia\" title=\"Subdivisions of the Gambia\">The Gambia</a></li>\n",
      "<li><a href=\"/wiki/Regions_of_Ghana\" title=\"Regions of Ghana\">Ghana</a></li>\n",
      "<li><a href=\"/wiki/Regions_of_Guinea\" title=\"Regions of Guinea\">Guinea</a></li>\n",
      "<li><a href=\"/wiki/Regions_of_Guinea-Bissau\" title=\"Regions of Guinea-Bissau\">Guinea-Bissau</a></li>\n",
      "<li><a href=\"/wiki/Counties_of_Kenya\" title=\"Counties of Kenya\">Kenya</a></li>\n",
      "<li><a href=\"/wiki/Districts_of_Lesotho\" title=\"Districts of Lesotho\">Lesotho</a></li>\n",
      "<li><a href=\"/wiki/Counties_of_Liberia\" title=\"Counties of Liberia\">Liberia</a></li>\n",
      "<li><a href=\"/wiki/Districts_of_Libya\" title=\"Districts of Libya\">Libya</a></li>\n",
      "<li><a href=\"/wiki/Regions_of_Madagascar\" title=\"Regions of Madagascar\">Madagascar</a></li>\n",
      "<li><a href=\"/wiki/Districts_of_Malawi\" title=\"Districts of Malawi\">Malawi</a></li>\n",
      "<li><a href=\"/wiki/Regions_of_Mali\" title=\"Regions of Mali\">Mali</a></li>\n",
      "<li><a href=\"/wiki/Regions_of_Mauritania\" title=\"Regions of Mauritania\">Mauritania</a></li>\n",
      "<li><a href=\"/wiki/Outer_Islands_of_Mauritius\" title=\"Outer Islands of Mauritius\">Mauritius</a></li>\n",
      "<li><a href=\"/wiki/Regions_of_Morocco\" title=\"Regions of Morocco\">Morocco</a></li>\n",
      "<li><a href=\"/wiki/Provinces_of_Mozambique\" title=\"Provinces of Mozambique\">Mozambique</a></li>\n",
      "<li><a href=\"/wiki/Regions_of_Namibia\" title=\"Regions of Namibia\">Namibia</a></li>\n",
      "<li><a href=\"/wiki/Regions_of_Niger\" title=\"Regions of Niger\">Niger</a></li>\n",
      "<li><a class=\"mw-selflink selflink\">Nigeria</a></li>\n",
      "<li><a href=\"/wiki/Provinces_of_Rwanda\" title=\"Provinces of Rwanda\">Rwanda</a></li>\n",
      "<li><a href=\"/wiki/Districts_of_S%C3%A3o_Tom%C3%A9_and_Pr%C3%ADncipe\" title=\"Districts of São Tomé and Príncipe\">São Tomé and Príncipe</a></li>\n",
      "<li><a href=\"/wiki/Regions_of_Senegal\" title=\"Regions of Senegal\">Senegal</a></li>\n",
      "<li><a href=\"/wiki/Districts_of_Seychelles\" title=\"Districts of Seychelles\">Seychelles</a></li>\n",
      "<li><a href=\"/wiki/Provinces_of_Sierra_Leone\" title=\"Provinces of Sierra Leone\">Sierra Leone</a></li>\n",
      "<li><a href=\"/wiki/Administrative_divisions_of_Somalia\" title=\"Administrative divisions of Somalia\">Somalia</a></li>\n",
      "<li><a href=\"/wiki/Regions_of_Somaliland\" title=\"Regions of Somaliland\">Somaliland</a></li>\n",
      "<li><a href=\"/wiki/Provinces_of_South_Africa\" title=\"Provinces of South Africa\">South Africa</a></li>\n",
      "<li><a href=\"/wiki/States_of_South_Sudan\" title=\"States of South Sudan\">South Sudan</a></li>\n",
      "<li><a href=\"/wiki/States_of_Sudan\" title=\"States of Sudan\">Sudan</a></li>\n",
      "<li><a href=\"/wiki/Regions_of_Tanzania\" title=\"Regions of Tanzania\">Tanzania</a></li>\n",
      "<li><a href=\"/wiki/Regions_of_Togo\" title=\"Regions of Togo\">Togo</a></li>\n",
      "<li><a href=\"/wiki/Governorates_of_Tunisia\" title=\"Governorates of Tunisia\">Tunisia</a></li>\n",
      "<li><a href=\"/wiki/Districts_of_Uganda\" title=\"Districts of Uganda\">Uganda</a></li>\n",
      "<li><a class=\"mw-redirect\" href=\"/wiki/Regions_of_Western_Sahara\" title=\"Regions of Western Sahara\">Western Sahara</a></li>\n",
      "<li><a href=\"/wiki/Provinces_of_Zambia\" title=\"Provinces of Zambia\">Zambia</a></li>\n",
      "<li><a href=\"/wiki/Provinces_of_Zimbabwe\" title=\"Provinces of Zimbabwe\">Zimbabwe</a></li></ul>\n",
      "</div></td></tr><tr><td class=\"navbox-abovebelow\" colspan=\"2\"><div><a href=\"/wiki/List_of_administrative_divisions_by_country\" title=\"List of administrative divisions by country\">Table of administrative country subdivisions by country</a></div></td></tr></tbody></table></div>\n",
      "<!-- \n",
      "NewPP limit report\n",
      "Parsed by mw‐web.eqiad.main‐56cb5d5667‐6whf5\n",
      "Cached time: 20241215132236\n",
      "Cache expiry: 2592000\n",
      "Reduced expiry: false\n",
      "Complications: [vary‐revision‐sha1, show‐toc]\n",
      "CPU time usage: 0.479 seconds\n",
      "Real time usage: 0.691 seconds\n",
      "Preprocessor visited node count: 2331/1000000\n",
      "Post‐expand include size: 82619/2097152 bytes\n",
      "Template argument size: 1984/2097152 bytes\n",
      "Highest expansion depth: 12/100\n",
      "Expensive parser function count: 4/500\n",
      "Unstrip recursion depth: 1/20\n",
      "Unstrip post‐expand size: 73045/5000000 bytes\n",
      "Lua time usage: 0.253/10.000 seconds\n",
      "Lua memory usage: 7961283/52428800 bytes\n",
      "Number of Wikibase entities loaded: 0/400\n",
      "-->\n",
      "<!--\n",
      "Transclusion expansion time report (%,ms,calls,template)\n",
      "100.00%  496.126      1 -total\n",
      " 20.60%  102.219      1 Template:Politics_of_Nigeria\n",
      " 20.17%  100.059      1 Template:Sidebar_with_collapsible_lists\n",
      " 18.77%   93.114      1 Template:Reflist\n",
      " 15.91%   78.939      1 Template:Infobox_subdivision_type\n",
      " 15.37%   76.258      1 Template:Infobox\n",
      " 13.87%   68.832      3 Template:Cite_web\n",
      " 12.63%   62.681      1 Template:Short_description\n",
      "  9.89%   49.077     40 Template:Convert\n",
      "  8.30%   41.191      1 Template:Nigeria_states_map\n",
      "-->\n",
      "<!-- Saved in parser cache with key enwiki:pcache:226734:|#|:idhash:canonical and timestamp 20241215132236 and revision id 1263230821. Rendering was triggered because: page-view\n",
      " -->\n",
      "</meta></div><!--esi <esi:include src=\"/esitest-fa8a495983347898/content\" /> --><noscript><img alt=\"\" height=\"1\" src=\"https://login.wikimedia.org/wiki/Special:CentralAutoLogin/start?useformat=desktop&amp;type=1x1&amp;usesul3=0\" style=\"border: none; position: absolute;\" width=\"1\"/></noscript>\n",
      "<div class=\"printfooter\" data-nosnippet=\"\">Retrieved from \"<a dir=\"ltr\" href=\"https://en.wikipedia.org/w/index.php?title=States_of_Nigeria&amp;oldid=1263230821\">https://en.wikipedia.org/w/index.php?title=States_of_Nigeria&amp;oldid=1263230821</a>\"</div></div>\n",
      "<div class=\"catlinks\" data-mw=\"interface\" id=\"catlinks\"><div class=\"mw-normal-catlinks\" id=\"mw-normal-catlinks\"><a href=\"/wiki/Help:Category\" title=\"Help:Category\">Categories</a>: <ul><li><a href=\"/wiki/Category:States_of_Nigeria\" title=\"Category:States of Nigeria\">States of Nigeria</a></li><li><a href=\"/wiki/Category:Subdivisions_of_Nigeria\" title=\"Category:Subdivisions of Nigeria\">Subdivisions of Nigeria</a></li><li><a href=\"/wiki/Category:Lists_of_subdivisions_of_Nigeria\" title=\"Category:Lists of subdivisions of Nigeria\">Lists of subdivisions of Nigeria</a></li><li><a href=\"/wiki/Category:Administrative_divisions_in_Africa\" title=\"Category:Administrative divisions in Africa\">Administrative divisions in Africa</a></li><li><a href=\"/wiki/Category:First-level_administrative_divisions_by_country\" title=\"Category:First-level administrative divisions by country\">First-level administrative divisions by country</a></li><li><a href=\"/wiki/Category:States_of_Nigeria-related_lists\" title=\"Category:States of Nigeria-related lists\">States of Nigeria-related lists</a></li></ul></div><div class=\"mw-hidden-catlinks mw-hidden-cats-hidden\" id=\"mw-hidden-catlinks\">Hidden categories: <ul><li><a href=\"/wiki/Category:Webarchive_template_wayback_links\" title=\"Category:Webarchive template wayback links\">Webarchive template wayback links</a></li><li><a href=\"/wiki/Category:Articles_with_short_description\" title=\"Category:Articles with short description\">Articles with short description</a></li><li><a href=\"/wiki/Category:Short_description_is_different_from_Wikidata\" title=\"Category:Short description is different from Wikidata\">Short description is different from Wikidata</a></li><li><a href=\"/wiki/Category:Use_Nigerian_English_from_September_2022\" title=\"Category:Use Nigerian English from September 2022\">Use Nigerian English from September 2022</a></li><li><a href=\"/wiki/Category:All_Wikipedia_articles_written_in_Nigerian_English\" title=\"Category:All Wikipedia articles written in Nigerian English\">All Wikipedia articles written in Nigerian English</a></li><li><a href=\"/wiki/Category:Use_dmy_dates_from_May_2024\" title=\"Category:Use dmy dates from May 2024\">Use dmy dates from May 2024</a></li></ul></div></div>\n",
      "</div>\n",
      "</main>\n",
      "</div>\n",
      "<div class=\"mw-footer-container\">\n",
      "<footer class=\"mw-footer\" id=\"footer\">\n",
      "<ul id=\"footer-info\">\n",
      "<li id=\"footer-info-lastmod\"> This page was last edited on 15 December 2024, at 13:22<span class=\"anonymous-show\"> (UTC)</span>.</li>\n",
      "<li id=\"footer-info-copyright\">Text is available under the <a href=\"/wiki/Wikipedia:Text_of_the_Creative_Commons_Attribution-ShareAlike_4.0_International_License\" title=\"Wikipedia:Text of the Creative Commons Attribution-ShareAlike 4.0 International License\">Creative Commons Attribution-ShareAlike 4.0 License</a>;\n",
      "additional terms may apply. By using this site, you agree to the <a class=\"extiw\" href=\"https://foundation.wikimedia.org/wiki/Special:MyLanguage/Policy:Terms_of_Use\" title=\"foundation:Special:MyLanguage/Policy:Terms of Use\">Terms of Use</a> and <a class=\"extiw\" href=\"https://foundation.wikimedia.org/wiki/Special:MyLanguage/Policy:Privacy_policy\" title=\"foundation:Special:MyLanguage/Policy:Privacy policy\">Privacy Policy</a>. Wikipedia® is a registered trademark of the <a class=\"external text\" href=\"https://wikimediafoundation.org/\" rel=\"nofollow\">Wikimedia Foundation, Inc.</a>, a non-profit organization.</li>\n",
      "</ul>\n",
      "<ul id=\"footer-places\">\n",
      "<li id=\"footer-places-privacy\"><a href=\"https://foundation.wikimedia.org/wiki/Special:MyLanguage/Policy:Privacy_policy\">Privacy policy</a></li>\n",
      "<li id=\"footer-places-about\"><a href=\"/wiki/Wikipedia:About\">About Wikipedia</a></li>\n",
      "<li id=\"footer-places-disclaimers\"><a href=\"/wiki/Wikipedia:General_disclaimer\">Disclaimers</a></li>\n",
      "<li id=\"footer-places-contact\"><a href=\"//en.wikipedia.org/wiki/Wikipedia:Contact_us\">Contact Wikipedia</a></li>\n",
      "<li id=\"footer-places-wm-codeofconduct\"><a href=\"https://foundation.wikimedia.org/wiki/Special:MyLanguage/Policy:Universal_Code_of_Conduct\">Code of Conduct</a></li>\n",
      "<li id=\"footer-places-developers\"><a href=\"https://developer.wikimedia.org\">Developers</a></li>\n",
      "<li id=\"footer-places-statslink\"><a href=\"https://stats.wikimedia.org/#/en.wikipedia.org\">Statistics</a></li>\n",
      "<li id=\"footer-places-cookiestatement\"><a href=\"https://foundation.wikimedia.org/wiki/Special:MyLanguage/Policy:Cookie_statement\">Cookie statement</a></li>\n",
      "<li id=\"footer-places-mobileview\"><a class=\"noprint stopMobileRedirectToggle\" href=\"//en.m.wikipedia.org/w/index.php?title=States_of_Nigeria&amp;mobileaction=toggle_view_mobile\">Mobile view</a></li>\n",
      "</ul>\n",
      "<ul class=\"noprint\" id=\"footer-icons\">\n",
      "<li id=\"footer-copyrightico\"><a class=\"cdx-button cdx-button--fake-button cdx-button--size-large cdx-button--fake-button--enabled\" href=\"https://wikimediafoundation.org/\"><img alt=\"Wikimedia Foundation\" height=\"29\" loading=\"lazy\" src=\"/static/images/footer/wikimedia-button.svg\" width=\"84\"/></a></li>\n",
      "<li id=\"footer-poweredbyico\"><a class=\"cdx-button cdx-button--fake-button cdx-button--size-large cdx-button--fake-button--enabled\" href=\"https://www.mediawiki.org/\"><img alt=\"Powered by MediaWiki\" height=\"31\" loading=\"lazy\" src=\"/w/resources/assets/poweredby_mediawiki.svg\" width=\"88\"/></a></li>\n",
      "</ul>\n",
      "</footer>\n",
      "</div>\n",
      "</div>\n",
      "</div>\n",
      "<div class=\"vector-settings\" id=\"p-dock-bottom\">\n",
      "<ul></ul>\n",
      "</div><script>(RLQ=window.RLQ||[]).push(function(){mw.config.set({\"wgHostname\":\"mw-web.eqiad.main-56cb5d5667-b2mgw\",\"wgBackendResponseTime\":154,\"wgPageParseReport\":{\"limitreport\":{\"cputime\":\"0.479\",\"walltime\":\"0.691\",\"ppvisitednodes\":{\"value\":2331,\"limit\":1000000},\"postexpandincludesize\":{\"value\":82619,\"limit\":2097152},\"templateargumentsize\":{\"value\":1984,\"limit\":2097152},\"expansiondepth\":{\"value\":12,\"limit\":100},\"expensivefunctioncount\":{\"value\":4,\"limit\":500},\"unstrip-depth\":{\"value\":1,\"limit\":20},\"unstrip-size\":{\"value\":73045,\"limit\":5000000},\"entityaccesscount\":{\"value\":0,\"limit\":400},\"timingprofile\":[\"100.00%  496.126      1 -total\",\" 20.60%  102.219      1 Template:Politics_of_Nigeria\",\" 20.17%  100.059      1 Template:Sidebar_with_collapsible_lists\",\" 18.77%   93.114      1 Template:Reflist\",\" 15.91%   78.939      1 Template:Infobox_subdivision_type\",\" 15.37%   76.258      1 Template:Infobox\",\" 13.87%   68.832      3 Template:Cite_web\",\" 12.63%   62.681      1 Template:Short_description\",\"  9.89%   49.077     40 Template:Convert\",\"  8.30%   41.191      1 Template:Nigeria_states_map\"]},\"scribunto\":{\"limitreport-timeusage\":{\"value\":\"0.253\",\"limit\":\"10.000\"},\"limitreport-memusage\":{\"value\":7961283,\"limit\":52428800},\"limitreport-logs\":\"table#1 {\\n}\\ntable#1 {\\n}\\n\"},\"cachereport\":{\"origin\":\"mw-web.eqiad.main-56cb5d5667-6whf5\",\"timestamp\":\"20241215132236\",\"ttl\":2592000,\"transientcontent\":false}}});});</script>\n",
      "<script type=\"application/ld+json\">{\"@context\":\"https:\\/\\/schema.org\",\"@type\":\"Article\",\"name\":\"States of Nigeria\",\"url\":\"https:\\/\\/en.wikipedia.org\\/wiki\\/States_of_Nigeria\",\"sameAs\":\"http:\\/\\/www.wikidata.org\\/entity\\/Q465842\",\"mainEntity\":\"http:\\/\\/www.wikidata.org\\/entity\\/Q465842\",\"author\":{\"@type\":\"Organization\",\"name\":\"Contributors to Wikimedia projects\"},\"publisher\":{\"@type\":\"Organization\",\"name\":\"Wikimedia Foundation, Inc.\",\"logo\":{\"@type\":\"ImageObject\",\"url\":\"https:\\/\\/www.wikimedia.org\\/static\\/images\\/wmf-hor-googpub.png\"}},\"datePublished\":\"2003-05-14T02:27:56Z\",\"dateModified\":\"2024-12-15T13:22:32Z\",\"image\":\"https:\\/\\/upload.wikimedia.org\\/wikipedia\\/commons\\/1\\/18\\/Nigeria_location_map.svg\",\"headline\":\"federally recognized polity in the Federal Republic of Nigeria\"}</script>\n",
      "</body>\n",
      "</html>\n"
     ]
    }
   ],
   "source": [
    "soup = BeautifulSoup(html_content, 'html.parser')\n",
    "print(soup)\n"
   ]
  },
  {
   "cell_type": "code",
   "execution_count": 13,
   "id": "0e7ae76b-3683-499d-8f04-3406844f995c",
   "metadata": {
    "jupyter": {
     "source_hidden": true
    }
   },
   "outputs": [],
   "source": [
    "table = soup.find('table', {'class': 'wikitable sortable'})\n"
   ]
  },
  {
   "cell_type": "code",
   "execution_count": 35,
   "id": "b6488344-52f4-43a5-bb50-253f64106317",
   "metadata": {
    "collapsed": true,
    "jupyter": {
     "outputs_hidden": true,
     "source_hidden": true
    },
    "scrolled": true
   },
   "outputs": [
    {
     "data": {
      "text/plain": [
       "<table class=\"infobox vevent\" style=\"float: right; width: ;\"><tbody><tr><th class=\"infobox-above summary\" colspan=\"2\" style=\"font-size: 125%; background-color: #F0F0F0; vertical-align: middle\">States of Nigeria</th></tr><tr><td class=\"infobox-image\" colspan=\"2\"><span typeof=\"mw:File\"><a class=\"mw-file-description\" href=\"/wiki/File:Nigeria_location_map.svg\"><img class=\"mw-file-element\" data-file-height=\"734\" data-file-width=\"954\" decoding=\"async\" height=\"231\" src=\"//upload.wikimedia.org/wikipedia/commons/thumb/1/18/Nigeria_location_map.svg/300px-Nigeria_location_map.svg.png\" srcset=\"//upload.wikimedia.org/wikipedia/commons/thumb/1/18/Nigeria_location_map.svg/450px-Nigeria_location_map.svg.png 1.5x, //upload.wikimedia.org/wikipedia/commons/thumb/1/18/Nigeria_location_map.svg/600px-Nigeria_location_map.svg.png 2x\" width=\"300\"/></a></span></td></tr><tr><th class=\"infobox-label\" scope=\"row\" style=\"white-space:nowrap;padding-right:0.65em;\">Category</th><td class=\"infobox-data\" style=\"line-height:1.3em;\"><a href=\"/wiki/Federated_state\" title=\"Federated state\">Federated states</a></td></tr><tr><th class=\"infobox-label\" scope=\"row\" style=\"white-space:nowrap;padding-right:0.65em;\">Location</th><td class=\"infobox-data\" style=\"line-height:1.3em;\"><a href=\"/wiki/Nigeria\" title=\"Nigeria\">Federal Republic of Nigeria</a></td></tr><tr><th class=\"infobox-label\" scope=\"row\" style=\"white-space:nowrap;padding-right:0.65em;\">Number</th><td class=\"infobox-data\" style=\"line-height:1.3em;\">36</td></tr><tr><th class=\"infobox-label\" scope=\"row\" style=\"white-space:nowrap;padding-right:0.65em;\">Populations</th><td class=\"infobox-data\" style=\"line-height:1.3em;\">1,704,358 (<a href=\"/wiki/Bayelsa_State\" title=\"Bayelsa State\">Bayelsa State</a>) – 9,401,288 (<a href=\"/wiki/Lagos_State\" title=\"Lagos State\">Lagos State</a>)<br/>Mean: 5,300,000</td></tr><tr><th class=\"infobox-label\" scope=\"row\" style=\"white-space:nowrap;padding-right:0.65em;\">Areas</th><td class=\"infobox-data\" style=\"line-height:1.3em;\">3,580 km<sup>2</sup> (1,381 sq mi) (<a href=\"/wiki/Lagos_State\" title=\"Lagos State\">Lagos State</a>) – 76,360 km<sup>2</sup> (29,484 sq mi) (<a href=\"/wiki/Niger_State\" title=\"Niger State\">Niger State</a>)<br/>Mean: 25,660 km<sup>2</sup> (9,907 sq mi)</td></tr><tr><th class=\"infobox-label\" scope=\"row\" style=\"white-space:nowrap;padding-right:0.65em;\">Government</th><td class=\"infobox-data\" style=\"line-height:1.3em;\"><style data-mw-deduplicate=\"TemplateStyles:r1126788409\">.mw-parser-output .plainlist ol,.mw-parser-output .plainlist ul{line-height:inherit;list-style:none;margin:0;padding:0}.mw-parser-output .plainlist ol li,.mw-parser-output .plainlist ul li{margin-bottom:0}</style><div class=\"plainlist\"><ul><li><a href=\"/wiki/State_government\" title=\"State government\">State government</a></li></ul></div></td></tr><tr><th class=\"infobox-label\" scope=\"row\" style=\"white-space:nowrap;padding-right:0.65em;\">Subdivisions</th><td class=\"infobox-data\" style=\"line-height:1.3em;\"><link href=\"mw-data:TemplateStyles:r1126788409\" rel=\"mw-deduplicated-inline-style\"/><div class=\"plainlist\"><ul><li><a href=\"/wiki/Local_government_areas_of_Nigeria\" title=\"Local government areas of Nigeria\">Local government area</a> (LGA)</li></ul></div></td></tr></tbody></table>"
      ]
     },
     "execution_count": 35,
     "metadata": {},
     "output_type": "execute_result"
    }
   ],
   "source": [
    "first_table"
   ]
  },
  {
   "cell_type": "code",
   "execution_count": 15,
   "id": "fb0cfb37-ec3e-4eb4-8632-6e89ad832cbe",
   "metadata": {
    "jupyter": {
     "source_hidden": true
    }
   },
   "outputs": [
    {
     "name": "stdout",
     "output_type": "stream",
     "text": [
      "Number of tables found: 10\n"
     ]
    }
   ],
   "source": [
    "# Find all tables in the HTML\n",
    "tables = soup.find_all('table')\n",
    "print(f\"Number of tables found: {len(tables)}\")\n"
   ]
  },
  {
   "cell_type": "code",
   "execution_count": 85,
   "id": "f0ec2575-a352-4995-8f0b-d8879d66c5de",
   "metadata": {
    "collapsed": true,
    "jupyter": {
     "outputs_hidden": true,
     "source_hidden": true
    }
   },
   "outputs": [
    {
     "name": "stdout",
     "output_type": "stream",
     "text": [
      "First table converted to DataFrame:\n",
      "                         Name ISO 3166-2 code Seal Location           City  \\\n",
      "                         Name ISO 3166-2 code Seal Location        Capital   \n",
      "0                        Abia              AB  NaN      NaN        Umuahia   \n",
      "1                     Adamawa              AD  NaN      NaN           Yola   \n",
      "2                   Akwa Ibom              AK  NaN      NaN            Uyo   \n",
      "3                     Anambra              AN  NaN      NaN           Awka   \n",
      "4                      Bauchi              BA  NaN      NaN         Bauchi   \n",
      "5                     Bayelsa              BY  NaN      NaN        Yenagoa   \n",
      "6                       Benue              BE  NaN      NaN        Makurdi   \n",
      "7                       Borno              BO  NaN      NaN      Maiduguri   \n",
      "8                 Cross River              CR  NaN      NaN        Calabar   \n",
      "9                       Delta              DE  NaN      NaN          Asaba   \n",
      "10                     Ebonyi              EB  NaN      NaN      Abakaliki   \n",
      "11                        Edo              ED  NaN      NaN     Benin City   \n",
      "12                      Ekiti              EK  NaN      NaN      Ado Ekiti   \n",
      "13                      Enugu              EN  NaN      NaN          Enugu   \n",
      "14  Federal Capital Territory              FC  NaN      NaN          Abuja   \n",
      "15                      Gombe              GO  NaN      NaN          Gombe   \n",
      "16                        Imo              IM  NaN      NaN         Owerri   \n",
      "17                     Jigawa              JI  NaN      NaN          Dutse   \n",
      "18                     Kaduna              KD  NaN      NaN         Kaduna   \n",
      "19                       Kano              KN  NaN      NaN           Kano   \n",
      "20                    Katsina              KT  NaN      NaN        Katsina   \n",
      "21                      Kebbi              KE  NaN      NaN   Birnin Kebbi   \n",
      "22                       Kogi              KO  NaN      NaN         Lokoja   \n",
      "23                      Kwara              KW  NaN      NaN         Ilorin   \n",
      "24                      Lagos              LA  NaN      NaN          Ikeja   \n",
      "25                   Nasarawa             NaN  NaN      NaN          Lafia   \n",
      "26                      Niger              NI  NaN      NaN          Minna   \n",
      "27                       Ogun              OG  NaN      NaN       Abeokuta   \n",
      "28                       Ondo              ON  NaN      NaN          Akure   \n",
      "29                       Osun              OS  NaN      NaN         Osogbo   \n",
      "30                        Oyo              OY  NaN      NaN         Ibadan   \n",
      "31                    Plateau              PL  NaN      NaN            Jos   \n",
      "32                     Rivers              RI  NaN      NaN  Port Harcourt   \n",
      "33                     Sokoto              SO  NaN      NaN         Sokoto   \n",
      "34                     Taraba              TA  NaN      NaN        Jalingo   \n",
      "35                       Yobe              YO  NaN      NaN       Damaturu   \n",
      "36                    Zamfara              ZA  NaN      NaN          Gusau   \n",
      "\n",
      "                  Geopolitical zone                       Area  \\\n",
      "          Largest Geopolitical zone                       Area   \n",
      "0             Aba        South East    6,320 km2 (2,440 sq mi)   \n",
      "1            Yola        North East  36,917 km2 (14,254 sq mi)   \n",
      "2             Uyo       South South    7,081 km2 (2,734 sq mi)   \n",
      "3         Onitsha        South East    4,844 km2 (1,870 sq mi)   \n",
      "4          Bauchi        North East  45,893 km2 (17,719 sq mi)   \n",
      "5         Yenagoa       South South   10,773 km2 (4,159 sq mi)   \n",
      "6         Makurdi     North Central  34,059 km2 (13,150 sq mi)   \n",
      "7       Maiduguri        North East  70,898 km2 (27,374 sq mi)   \n",
      "8         Calabar       South South   20,156 km2 (7,782 sq mi)   \n",
      "9           Asaba       South South   17,698 km2 (6,833 sq mi)   \n",
      "10      Abakaliki        South East    6,400 km2 (2,500 sq mi)   \n",
      "11     Benin City       South South   19,559 km2 (7,552 sq mi)   \n",
      "12      Ado Ekiti        South West    6,353 km2 (2,453 sq mi)   \n",
      "13          Enugu        South East   13,161 km2 (5,081 sq mi)   \n",
      "14          Abuja     North Central    7,315 km2 (2,824 sq mi)   \n",
      "15          Gombe        North East   18,768 km2 (7,246 sq mi)   \n",
      "16         Owerri        South East    5,530 km2 (2,140 sq mi)   \n",
      "17          Dutse        North West   23,154 km2 (8,940 sq mi)   \n",
      "18         Kaduna        North West  46,053 km2 (17,781 sq mi)   \n",
      "19           Kano        North West   20,131 km2 (7,773 sq mi)   \n",
      "20        Katsina        North West   24,192 km2 (9,341 sq mi)   \n",
      "21   Birnin Kebbi        North West  36,800 km2 (14,200 sq mi)   \n",
      "22         Lokoja     North Central  29,833 km2 (11,519 sq mi)   \n",
      "23         Ilorin     North Central  36,825 km2 (14,218 sq mi)   \n",
      "24          Lagos        South West    3,577 km2 (1,381 sq mi)   \n",
      "25          Lafia     North Central  26,256 km2 (10,137 sq mi)   \n",
      "26          Minna     North Central  76,363 km2 (29,484 sq mi)   \n",
      "27       Abeokuta        South West   16,981 km2 (6,556 sq mi)   \n",
      "28          Akure        South West   15,500 km2 (6,000 sq mi)   \n",
      "29         Osogbo        South West    9,251 km2 (3,572 sq mi)   \n",
      "30         Ibadan        South West  28,454 km2 (10,986 sq mi)   \n",
      "31            Jos     North Central  30,913 km2 (11,936 sq mi)   \n",
      "32  Port Harcourt       South South   11,077 km2 (4,277 sq mi)   \n",
      "33         Sokoto        North West  25,973 km2 (10,028 sq mi)   \n",
      "34        Jalingo        North East  54,473 km2 (21,032 sq mi)   \n",
      "35       Potiskum        North East  45,502 km2 (17,568 sq mi)   \n",
      "36          Gusau        North West  39,762 km2 (15,352 sq mi)   \n",
      "\n",
      "   Population (2019 estimate)[4]  \n",
      "   Population (2019 estimate)[4]  \n",
      "0                        3841943  \n",
      "1                        4536948  \n",
      "2                        4780581  \n",
      "3                        5599910  \n",
      "4                        7540663  \n",
      "5                        2394725  \n",
      "6                        5787706  \n",
      "7                        5751590  \n",
      "8                        4175020  \n",
      "9                        5307543  \n",
      "10                       3007155  \n",
      "11                       4461137  \n",
      "12                       3350401  \n",
      "13                       4396098  \n",
      "14                       1406239  \n",
      "15                       3623462  \n",
      "16                       5167722  \n",
      "17                       6779080  \n",
      "18                       8324285  \n",
      "19                      14253549  \n",
      "20                       9300382  \n",
      "21                       5001610  \n",
      "22                       4153734  \n",
      "23                       3259613  \n",
      "24                      12772884  \n",
      "25                       2632239  \n",
      "26                       6220617  \n",
      "27                       5945275  \n",
      "28                       4969707  \n",
      "29                       4237396  \n",
      "30                       7512855  \n",
      "31                       4400974  \n",
      "32                       7034973  \n",
      "33                       5863187  \n",
      "34                       3331885  \n",
      "35                       3398177  \n",
      "36                       5317793  \n"
     ]
    },
    {
     "name": "stderr",
     "output_type": "stream",
     "text": [
      "C:\\Users\\NCC\\AppData\\Local\\Temp\\ipykernel_732\\3280367345.py:4: FutureWarning: Passing literal html to 'read_html' is deprecated and will be removed in a future version. To read from a literal string, wrap it in a 'StringIO' object.\n",
      "  df = pd.read_html(str(first_table))[0]  # Use pandas to read the table\n"
     ]
    }
   ],
   "source": [
    "# Convert the first table to a DataFrame if a table exists\n",
    "if tables:\n",
    "    first_table = tables[4]  # Access the first table\n",
    "    df = pd.read_html(str(first_table))[0]  # Use pandas to read the table\n",
    "    print(\"First table converted to DataFrame:\")\n",
    "    print(df)\n"
   ]
  },
  {
   "cell_type": "code",
   "execution_count": 87,
   "id": "a05493e5-9981-4590-a31d-1886543028f2",
   "metadata": {
    "collapsed": true,
    "jupyter": {
     "outputs_hidden": true,
     "source_hidden": true
    },
    "scrolled": true
   },
   "outputs": [
    {
     "name": "stdout",
     "output_type": "stream",
     "text": [
      "MultiIndex([(                         'Name',                          'Name'),\n",
      "            (              'ISO 3166-2 code',               'ISO 3166-2 code'),\n",
      "            (                         'Seal',                          'Seal'),\n",
      "            (                     'Location',                      'Location'),\n",
      "            (                         'City',                       'Capital'),\n",
      "            (                         'City',                       'Largest'),\n",
      "            (            'Geopolitical zone',             'Geopolitical zone'),\n",
      "            (                         'Area',                          'Area'),\n",
      "            ('Population (2019 estimate)[4]', 'Population (2019 estimate)[4]')],\n",
      "           )\n"
     ]
    }
   ],
   "source": [
    "print(df.columns)  # Display the column names\n"
   ]
  },
  {
   "cell_type": "code",
   "execution_count": 89,
   "id": "5059872e-129d-40ae-bba5-a60d392028cd",
   "metadata": {
    "collapsed": true,
    "jupyter": {
     "outputs_hidden": true,
     "source_hidden": true
    },
    "scrolled": true
   },
   "outputs": [
    {
     "name": "stdout",
     "output_type": "stream",
     "text": [
      "Name                           Name                              0\n",
      "ISO 3166-2 code                ISO 3166-2 code                   1\n",
      "Seal                           Seal                             37\n",
      "Location                       Location                         37\n",
      "City                           Capital                           0\n",
      "                               Largest                           0\n",
      "Geopolitical zone              Geopolitical zone                 0\n",
      "Area                           Area                              0\n",
      "Population (2019 estimate)[4]  Population (2019 estimate)[4]     0\n",
      "dtype: int64\n"
     ]
    }
   ],
   "source": [
    "print(df.isnull().sum())  # Count missing values in each column\n"
   ]
  },
  {
   "cell_type": "code",
   "execution_count": 31,
   "id": "742b2d72-2b1f-42ea-ae36-340c2e155164",
   "metadata": {},
   "outputs": [
    {
     "data": {
      "text/plain": [
       "Index(['States of Nigeria', 'States of Nigeria.1'], dtype='object')"
      ]
     },
     "execution_count": 31,
     "metadata": {},
     "output_type": "execute_result"
    }
   ],
   "source": [
    "df.columns"
   ]
  },
  {
   "cell_type": "code",
   "execution_count": 91,
   "id": "8db88e90-cf40-456e-b335-e6d31da8fee1",
   "metadata": {
    "collapsed": true,
    "jupyter": {
     "outputs_hidden": true
    },
    "scrolled": true
   },
   "outputs": [
    {
     "data": {
      "text/html": [
       "<div>\n",
       "<style scoped>\n",
       "    .dataframe tbody tr th:only-of-type {\n",
       "        vertical-align: middle;\n",
       "    }\n",
       "\n",
       "    .dataframe tbody tr th {\n",
       "        vertical-align: top;\n",
       "    }\n",
       "\n",
       "    .dataframe thead tr th {\n",
       "        text-align: left;\n",
       "    }\n",
       "</style>\n",
       "<table border=\"1\" class=\"dataframe\">\n",
       "  <thead>\n",
       "    <tr>\n",
       "      <th></th>\n",
       "      <th>Name</th>\n",
       "      <th>ISO 3166-2 code</th>\n",
       "      <th>Seal</th>\n",
       "      <th>Location</th>\n",
       "      <th colspan=\"2\" halign=\"left\">City</th>\n",
       "      <th>Geopolitical zone</th>\n",
       "      <th>Area</th>\n",
       "      <th>Population (2019 estimate)[4]</th>\n",
       "    </tr>\n",
       "    <tr>\n",
       "      <th></th>\n",
       "      <th>Name</th>\n",
       "      <th>ISO 3166-2 code</th>\n",
       "      <th>Seal</th>\n",
       "      <th>Location</th>\n",
       "      <th>Capital</th>\n",
       "      <th>Largest</th>\n",
       "      <th>Geopolitical zone</th>\n",
       "      <th>Area</th>\n",
       "      <th>Population (2019 estimate)[4]</th>\n",
       "    </tr>\n",
       "  </thead>\n",
       "  <tbody>\n",
       "    <tr>\n",
       "      <th>0</th>\n",
       "      <td>Abia</td>\n",
       "      <td>AB</td>\n",
       "      <td>NaN</td>\n",
       "      <td>NaN</td>\n",
       "      <td>Umuahia</td>\n",
       "      <td>Aba</td>\n",
       "      <td>South East</td>\n",
       "      <td>6,320 km2 (2,440 sq mi)</td>\n",
       "      <td>3841943</td>\n",
       "    </tr>\n",
       "    <tr>\n",
       "      <th>1</th>\n",
       "      <td>Adamawa</td>\n",
       "      <td>AD</td>\n",
       "      <td>NaN</td>\n",
       "      <td>NaN</td>\n",
       "      <td>Yola</td>\n",
       "      <td>Yola</td>\n",
       "      <td>North East</td>\n",
       "      <td>36,917 km2 (14,254 sq mi)</td>\n",
       "      <td>4536948</td>\n",
       "    </tr>\n",
       "    <tr>\n",
       "      <th>2</th>\n",
       "      <td>Akwa Ibom</td>\n",
       "      <td>AK</td>\n",
       "      <td>NaN</td>\n",
       "      <td>NaN</td>\n",
       "      <td>Uyo</td>\n",
       "      <td>Uyo</td>\n",
       "      <td>South South</td>\n",
       "      <td>7,081 km2 (2,734 sq mi)</td>\n",
       "      <td>4780581</td>\n",
       "    </tr>\n",
       "    <tr>\n",
       "      <th>3</th>\n",
       "      <td>Anambra</td>\n",
       "      <td>AN</td>\n",
       "      <td>NaN</td>\n",
       "      <td>NaN</td>\n",
       "      <td>Awka</td>\n",
       "      <td>Onitsha</td>\n",
       "      <td>South East</td>\n",
       "      <td>4,844 km2 (1,870 sq mi)</td>\n",
       "      <td>5599910</td>\n",
       "    </tr>\n",
       "    <tr>\n",
       "      <th>4</th>\n",
       "      <td>Bauchi</td>\n",
       "      <td>BA</td>\n",
       "      <td>NaN</td>\n",
       "      <td>NaN</td>\n",
       "      <td>Bauchi</td>\n",
       "      <td>Bauchi</td>\n",
       "      <td>North East</td>\n",
       "      <td>45,893 km2 (17,719 sq mi)</td>\n",
       "      <td>7540663</td>\n",
       "    </tr>\n",
       "  </tbody>\n",
       "</table>\n",
       "</div>"
      ],
      "text/plain": [
       "        Name ISO 3166-2 code Seal Location     City           \\\n",
       "        Name ISO 3166-2 code Seal Location  Capital  Largest   \n",
       "0       Abia              AB  NaN      NaN  Umuahia      Aba   \n",
       "1    Adamawa              AD  NaN      NaN     Yola     Yola   \n",
       "2  Akwa Ibom              AK  NaN      NaN      Uyo      Uyo   \n",
       "3    Anambra              AN  NaN      NaN     Awka  Onitsha   \n",
       "4     Bauchi              BA  NaN      NaN   Bauchi   Bauchi   \n",
       "\n",
       "  Geopolitical zone                       Area Population (2019 estimate)[4]  \n",
       "  Geopolitical zone                       Area Population (2019 estimate)[4]  \n",
       "0        South East    6,320 km2 (2,440 sq mi)                       3841943  \n",
       "1        North East  36,917 km2 (14,254 sq mi)                       4536948  \n",
       "2       South South    7,081 km2 (2,734 sq mi)                       4780581  \n",
       "3        South East    4,844 km2 (1,870 sq mi)                       5599910  \n",
       "4        North East  45,893 km2 (17,719 sq mi)                       7540663  "
      ]
     },
     "execution_count": 91,
     "metadata": {},
     "output_type": "execute_result"
    }
   ],
   "source": [
    "df.head()"
   ]
  },
  {
   "cell_type": "code",
   "execution_count": 99,
   "id": "64f7adc6-5354-4597-b1f5-e391c727a135",
   "metadata": {
    "collapsed": true,
    "jupyter": {
     "outputs_hidden": true,
     "source_hidden": true
    }
   },
   "outputs": [
    {
     "name": "stdout",
     "output_type": "stream",
     "text": [
      "                         Name Geopolitical zone Population (2019 estimate)[4]\n",
      "                         Name Geopolitical zone Population (2019 estimate)[4]\n",
      "0                        Abia        South East                       3841943\n",
      "1                     Adamawa        North East                       4536948\n",
      "2                   Akwa Ibom       South South                       4780581\n",
      "3                     Anambra        South East                       5599910\n",
      "4                      Bauchi        North East                       7540663\n",
      "5                     Bayelsa       South South                       2394725\n",
      "6                       Benue     North Central                       5787706\n",
      "7                       Borno        North East                       5751590\n",
      "8                 Cross River       South South                       4175020\n",
      "9                       Delta       South South                       5307543\n",
      "10                     Ebonyi        South East                       3007155\n",
      "11                        Edo       South South                       4461137\n",
      "12                      Ekiti        South West                       3350401\n",
      "13                      Enugu        South East                       4396098\n",
      "14  Federal Capital Territory     North Central                       1406239\n",
      "15                      Gombe        North East                       3623462\n",
      "16                        Imo        South East                       5167722\n",
      "17                     Jigawa        North West                       6779080\n",
      "18                     Kaduna        North West                       8324285\n",
      "19                       Kano        North West                      14253549\n",
      "20                    Katsina        North West                       9300382\n",
      "21                      Kebbi        North West                       5001610\n",
      "22                       Kogi     North Central                       4153734\n",
      "23                      Kwara     North Central                       3259613\n",
      "24                      Lagos        South West                      12772884\n",
      "25                   Nasarawa     North Central                       2632239\n",
      "26                      Niger     North Central                       6220617\n",
      "27                       Ogun        South West                       5945275\n",
      "28                       Ondo        South West                       4969707\n",
      "29                       Osun        South West                       4237396\n",
      "30                        Oyo        South West                       7512855\n",
      "31                    Plateau     North Central                       4400974\n",
      "32                     Rivers       South South                       7034973\n",
      "33                     Sokoto        North West                       5863187\n",
      "34                     Taraba        North East                       3331885\n",
      "35                       Yobe        North East                       3398177\n",
      "36                    Zamfara        North West                       5317793\n"
     ]
    },
    {
     "name": "stderr",
     "output_type": "stream",
     "text": [
      "C:\\Users\\NCC\\AppData\\Local\\Temp\\ipykernel_732\\1974262539.py:5: PerformanceWarning: dropping on a non-lexsorted multi-index without a level parameter may impact performance.\n",
      "  df = df.drop(columns=columns_to_drop)\n"
     ]
    }
   ],
   "source": [
    "#import pandas as pd\n",
    "\n",
    "# Assuming your dataset is loaded into a DataFrame named `df`\n",
    "columns_to_drop = ['ISO 3166-2 code', 'Seal', 'Location', 'City', 'Area']\n",
    "df = df.drop(columns=columns_to_drop)\n",
    "\n",
    "# Display the resulting DataFrame\n",
    "print(df)\n"
   ]
  },
  {
   "cell_type": "code",
   "execution_count": 101,
   "id": "6fc6e66e-8419-485a-8c34-d12f08e7308f",
   "metadata": {
    "collapsed": true,
    "jupyter": {
     "outputs_hidden": true
    },
    "scrolled": true
   },
   "outputs": [
    {
     "data": {
      "text/html": [
       "<div>\n",
       "<style scoped>\n",
       "    .dataframe tbody tr th:only-of-type {\n",
       "        vertical-align: middle;\n",
       "    }\n",
       "\n",
       "    .dataframe tbody tr th {\n",
       "        vertical-align: top;\n",
       "    }\n",
       "\n",
       "    .dataframe thead tr th {\n",
       "        text-align: left;\n",
       "    }\n",
       "</style>\n",
       "<table border=\"1\" class=\"dataframe\">\n",
       "  <thead>\n",
       "    <tr>\n",
       "      <th></th>\n",
       "      <th>Name</th>\n",
       "      <th>Geopolitical zone</th>\n",
       "      <th>Population (2019 estimate)[4]</th>\n",
       "    </tr>\n",
       "    <tr>\n",
       "      <th></th>\n",
       "      <th>Name</th>\n",
       "      <th>Geopolitical zone</th>\n",
       "      <th>Population (2019 estimate)[4]</th>\n",
       "    </tr>\n",
       "  </thead>\n",
       "  <tbody>\n",
       "    <tr>\n",
       "      <th>0</th>\n",
       "      <td>Abia</td>\n",
       "      <td>South East</td>\n",
       "      <td>3841943</td>\n",
       "    </tr>\n",
       "    <tr>\n",
       "      <th>1</th>\n",
       "      <td>Adamawa</td>\n",
       "      <td>North East</td>\n",
       "      <td>4536948</td>\n",
       "    </tr>\n",
       "    <tr>\n",
       "      <th>2</th>\n",
       "      <td>Akwa Ibom</td>\n",
       "      <td>South South</td>\n",
       "      <td>4780581</td>\n",
       "    </tr>\n",
       "    <tr>\n",
       "      <th>3</th>\n",
       "      <td>Anambra</td>\n",
       "      <td>South East</td>\n",
       "      <td>5599910</td>\n",
       "    </tr>\n",
       "    <tr>\n",
       "      <th>4</th>\n",
       "      <td>Bauchi</td>\n",
       "      <td>North East</td>\n",
       "      <td>7540663</td>\n",
       "    </tr>\n",
       "  </tbody>\n",
       "</table>\n",
       "</div>"
      ],
      "text/plain": [
       "        Name Geopolitical zone Population (2019 estimate)[4]\n",
       "        Name Geopolitical zone Population (2019 estimate)[4]\n",
       "0       Abia        South East                       3841943\n",
       "1    Adamawa        North East                       4536948\n",
       "2  Akwa Ibom       South South                       4780581\n",
       "3    Anambra        South East                       5599910\n",
       "4     Bauchi        North East                       7540663"
      ]
     },
     "execution_count": 101,
     "metadata": {},
     "output_type": "execute_result"
    }
   ],
   "source": [
    "df.head()"
   ]
  },
  {
   "cell_type": "code",
   "execution_count": 103,
   "id": "d630afb7-85e5-40a5-8e80-dc70894f57d2",
   "metadata": {},
   "outputs": [
    {
     "data": {
      "text/plain": [
       "pandas.core.frame.DataFrame"
      ]
     },
     "execution_count": 103,
     "metadata": {},
     "output_type": "execute_result"
    }
   ],
   "source": [
    "type(df)"
   ]
  },
  {
   "cell_type": "code",
   "execution_count": 117,
   "id": "1c750572-b5d8-47b5-81df-8ad302f63bd8",
   "metadata": {
    "collapsed": true,
    "jupyter": {
     "outputs_hidden": true,
     "source_hidden": true
    },
    "scrolled": true
   },
   "outputs": [
    {
     "name": "stdout",
     "output_type": "stream",
     "text": [
      "                        State Geopolitical zone  Population\n",
      "0                        Abia        South East     3841943\n",
      "1                     Adamawa        North East     4536948\n",
      "2                   Akwa Ibom       South South     4780581\n",
      "3                     Anambra        South East     5599910\n",
      "4                      Bauchi        North East     7540663\n",
      "5                     Bayelsa       South South     2394725\n",
      "6                       Benue     North Central     5787706\n",
      "7                       Borno        North East     5751590\n",
      "8                 Cross River       South South     4175020\n",
      "9                       Delta       South South     5307543\n",
      "10                     Ebonyi        South East     3007155\n",
      "11                        Edo       South South     4461137\n",
      "12                      Ekiti        South West     3350401\n",
      "13                      Enugu        South East     4396098\n",
      "14  Federal Capital Territory     North Central     1406239\n",
      "15                      Gombe        North East     3623462\n",
      "16                        Imo        South East     5167722\n",
      "17                     Jigawa        North West     6779080\n",
      "18                     Kaduna        North West     8324285\n",
      "19                       Kano        North West    14253549\n",
      "20                    Katsina        North West     9300382\n",
      "21                      Kebbi        North West     5001610\n",
      "22                       Kogi     North Central     4153734\n",
      "23                      Kwara     North Central     3259613\n",
      "24                      Lagos        South West    12772884\n",
      "25                   Nasarawa     North Central     2632239\n",
      "26                      Niger     North Central     6220617\n",
      "27                       Ogun        South West     5945275\n",
      "28                       Ondo        South West     4969707\n",
      "29                       Osun        South West     4237396\n",
      "30                        Oyo        South West     7512855\n",
      "31                    Plateau     North Central     4400974\n",
      "32                     Rivers       South South     7034973\n",
      "33                     Sokoto        North West     5863187\n",
      "34                     Taraba        North East     3331885\n",
      "35                       Yobe        North East     3398177\n",
      "36                    Zamfara        North West     5317793\n"
     ]
    }
   ],
   "source": [
    "# Manually set column names\n",
    "df.columns = ['State', 'Geopolitical zone', 'Population']\n",
    "\n",
    "# Display the updated DataFrame\n",
    "print(df)\n"
   ]
  },
  {
   "cell_type": "code",
   "execution_count": 11,
   "id": "a7166dcc-37f0-431f-9d9a-d61cf27205d4",
   "metadata": {
    "collapsed": true,
    "jupyter": {
     "outputs_hidden": true,
     "source_hidden": true
    },
    "scrolled": true
   },
   "outputs": [
    {
     "name": "stdout",
     "output_type": "stream",
     "text": [
      "                        State Geopolitical zone  Population\n",
      "1                        Abia        South East     3841943\n",
      "2                     Adamawa        North East     4536948\n",
      "3                   Akwa Ibom       South South     4780581\n",
      "4                     Anambra        South East     5599910\n",
      "5                      Bauchi        North East     7540663\n",
      "6                     Bayelsa       South South     2394725\n",
      "7                       Benue     North Central     5787706\n",
      "8                       Borno        North East     5751590\n",
      "9                 Cross River       South South     4175020\n",
      "10                      Delta       South South     5307543\n",
      "11                     Ebonyi        South East     3007155\n",
      "12                        Edo       South South     4461137\n",
      "13                      Ekiti        South West     3350401\n",
      "14                      Enugu        South East     4396098\n",
      "15  Federal Capital Territory     North Central     1406239\n",
      "16                      Gombe        North East     3623462\n",
      "17                        Imo        South East     5167722\n",
      "18                     Jigawa        North West     6779080\n",
      "19                     Kaduna        North West     8324285\n",
      "20                       Kano        North West    14253549\n",
      "21                    Katsina        North West     9300382\n",
      "22                      Kebbi        North West     5001610\n",
      "23                       Kogi     North Central     4153734\n",
      "24                      Kwara     North Central     3259613\n",
      "25                      Lagos        South West    12772884\n",
      "26                   Nasarawa     North Central     2632239\n",
      "27                      Niger     North Central     6220617\n",
      "28                       Ogun        South West     5945275\n",
      "29                       Ondo        South West     4969707\n",
      "30                       Osun        South West     4237396\n",
      "31                        Oyo        South West     7512855\n",
      "32                    Plateau     North Central     4400974\n",
      "33                     Rivers       South South     7034973\n",
      "34                     Sokoto        North West     5863187\n",
      "35                     Taraba        North East     3331885\n",
      "36                       Yobe        North East     3398177\n",
      "37                    Zamfara        North West     5317793\n"
     ]
    }
   ],
   "source": [
    "# Sample DataFrame based on your dataset\n",
    "data = {\n",
    "    'State': ['Abia', 'Adamawa', 'Akwa Ibom', 'Anambra', 'Bauchi', 'Bayelsa', 'Benue', 'Borno', 'Cross River', 'Delta',\n",
    "              'Ebonyi', 'Edo', 'Ekiti', 'Enugu', 'Federal Capital Territory', 'Gombe', 'Imo', 'Jigawa', 'Kaduna', 'Kano',\n",
    "              'Katsina', 'Kebbi', 'Kogi', 'Kwara', 'Lagos', 'Nasarawa', 'Niger', 'Ogun', 'Ondo', 'Osun', 'Oyo', 'Plateau',\n",
    "              'Rivers', 'Sokoto', 'Taraba', 'Yobe', 'Zamfara'],\n",
    "    'Geopolitical zone': ['South East', 'North East', 'South South', 'South East', 'North East', 'South South', \n",
    "                          'North Central', 'North East', 'South South', 'South South', 'South East', 'South South', \n",
    "                          'South West', 'South East', 'North Central', 'North East', 'South East', 'North West', \n",
    "                          'North West', 'North West', 'North West', 'North West', 'North Central', 'North Central', \n",
    "                          'South West', 'North Central', 'North Central', 'South West', 'South West', 'South West', \n",
    "                          'South West', 'North Central', 'South South', 'North West', 'North East', 'North East', \n",
    "                          'North West'],\n",
    "    'Population': [3841943, 4536948, 4780581, 5599910, 7540663, 2394725, 5787706, 5751590, 4175020, 5307543, 3007155,\n",
    "                   4461137, 3350401, 4396098, 1406239, 3623462, 5167722, 6779080, 8324285, 14253549, 9300382, 5001610, \n",
    "                   4153734, 3259613, 12772884, 2632239, 6220617, 5945275, 4969707, 4237396, 7512855, 4400974, 7034973, \n",
    "                   5863187, 3331885, 3398177, 5317793]\n",
    "}\n",
    "df = pd.DataFrame(data)\n",
    "\n",
    "# Adjust index to start from 1\n",
    "df.index = df.index + 1\n",
    "\n",
    "# Display the DataFrame\n",
    "print(df)\n"
   ]
  },
  {
   "cell_type": "code",
   "execution_count": 13,
   "id": "7bca35c2-c150-4664-9d6f-5ed83db9f28e",
   "metadata": {
    "jupyter": {
     "source_hidden": true
    },
    "scrolled": true
   },
   "outputs": [
    {
     "data": {
      "text/plain": [
       "<Figure size 1000x600 with 0 Axes>"
      ]
     },
     "metadata": {},
     "output_type": "display_data"
    },
    {
     "data": {
      "image/png": "[encoded data removed]",
      "text/plain": [
       "<Figure size 640x480 with 1 Axes>"
      ]
     },
     "metadata": {},
     "output_type": "display_data"
    }
   ],
   "source": [
    "import pandas as pd\n",
    "import matplotlib.pyplot as plt\n",
    "\n",
    "# Assuming the DataFrame `df` is already created\n",
    "# Get the top 10 states by population\n",
    "top_ten_states = df.sort_values('Population', ascending=False).head(10)\n",
    "\n",
    "# Plot the top 10 states\n",
    "plt.figure(figsize=(10, 6))\n",
    "top_ten_states.plot(\n",
    "    x='State', \n",
    "    y='Population', \n",
    "    kind='bar', \n",
    "    color='skyblue', \n",
    "    edgecolor='black', \n",
    "    legend=False\n",
    ")\n",
    "plt.title('Top 10 States by Population', fontsize=14)\n",
    "plt.ylabel('Population', fontsize=12)\n",
    "plt.xticks(rotation=45)\n",
    "plt.tight_layout()\n",
    "plt.show()\n"
   ]
  },
  {
   "cell_type": "code",
   "execution_count": 3,
   "id": "e373e6e2-bd29-4f4e-95be-6377250a7428",
   "metadata": {
    "jupyter": {
     "source_hidden": true
    },
    "scrolled": true
   },
   "outputs": [
    {
     "data": {
      "image/png": "[encoded data removed]",
      "text/plain": [
       "<Figure size 1000x600 with 1 Axes>"
      ]
     },
     "metadata": {},
     "output_type": "display_data"
    }
   ],
   "source": [
    "import pandas as pd\n",
    "import matplotlib.pyplot as plt\n",
    "\n",
    "# Create the DataFrame\n",
    "data = {\n",
    "    \"State\": [\n",
    "        \"Abia\", \"Adamawa\", \"Akwa Ibom\", \"Anambra\", \"Bauchi\", \"Bayelsa\", \"Benue\", \"Borno\",\n",
    "        \"Cross River\", \"Delta\", \"Ebonyi\", \"Edo\", \"Ekiti\", \"Enugu\", \"Federal Capital Territory\",\n",
    "        \"Gombe\", \"Imo\", \"Jigawa\", \"Kaduna\", \"Kano\", \"Katsina\", \"Kebbi\", \"Kogi\", \"Kwara\",\n",
    "        \"Lagos\", \"Nasarawa\", \"Niger\", \"Ogun\", \"Ondo\", \"Osun\", \"Oyo\", \"Plateau\", \"Rivers\",\n",
    "        \"Sokoto\", \"Taraba\", \"Yobe\", \"Zamfara\"\n",
    "    ],\n",
    "    \"Geopolitical zone\": [\n",
    "        \"South East\", \"North East\", \"South South\", \"South East\", \"North East\", \"South South\",\n",
    "        \"North Central\", \"North East\", \"South South\", \"South South\", \"South East\", \"South South\",\n",
    "        \"South West\", \"South East\", \"North Central\", \"North East\", \"South East\", \"North West\",\n",
    "        \"North West\", \"North West\", \"North West\", \"North West\", \"North Central\", \"North Central\",\n",
    "        \"South West\", \"North Central\", \"North Central\", \"South West\", \"South West\", \"South West\",\n",
    "        \"South West\", \"North Central\", \"South South\", \"North West\", \"North East\", \"North East\",\n",
    "        \"North West\"\n",
    "    ],\n",
    "    \"Population\": [\n",
    "        3841943, 4536948, 4780581, 5599910, 7540663, 2394725, 5787706, 5751590, 4175020,\n",
    "        5307543, 3007155, 4461137, 3350401, 4396098, 1406239, 3623462, 5167722, 6779080,\n",
    "        8324285, 14253549, 9300382, 5001610, 4153734, 3259613, 12772884, 2632239, 6220617,\n",
    "        5945275, 4969707, 4237396, 7512855, 4400974, 7034973, 5863187, 3331885, 3398177, 5317793\n",
    "    ]\n",
    "}\n",
    "\n",
    "df = pd.DataFrame(data)\n",
    "\n",
    "# Group by Geopolitical zone and sum the Population\n",
    "grouped_data = df.groupby(\"Geopolitical zone\")[\"Population\"].sum().sort_values(ascending=False)\n",
    "\n",
    "# Plot the data with different colors for each bar and add a legend and labels\n",
    "plt.figure(figsize=(10, 6))\n",
    "bars = plt.bar(grouped_data.index, grouped_data.values, color=plt.cm.tab10.colors[:len(grouped_data)], edgecolor=\"black\")\n",
    "\n",
    "# Add labels to each bar\n",
    "for bar in bars:\n",
    "    plt.text(\n",
    "        bar.get_x() + bar.get_width() / 2,\n",
    "        bar.get_height(),\n",
    "        f'{int(bar.get_height()):,}',\n",
    "        ha='center',\n",
    "        va='bottom',\n",
    "        fontsize=10\n",
    "    )\n",
    "\n",
    "# Add title, labels, and legend\n",
    "plt.title(\"Population by Geopolitical Zone\", fontsize=14)\n",
    "plt.xlabel(\"Geopolitical Zone\", fontsize=12)\n",
    "plt.ylabel(\"Total Population\", fontsize=12)\n",
    "plt.xticks(rotation=45, fontsize=10)\n",
    "plt.legend(bars, grouped_data.index, title=\"Geopolitical Zone\", bbox_to_anchor=(1.05, 1), loc=\"upper left\")\n",
    "plt.tight_layout()\n",
    "plt.show()\n"
   ]
  },
  {
   "cell_type": "code",
   "execution_count": 47,
   "id": "be40064b-c7ff-42de-b4cc-5ee4d3cb88d6",
   "metadata": {},
   "outputs": [],
   "source": [
    "# df= pd.read_html('https://en.wikipedia.org/wiki/States_of_Nigeria')\n",
    "# df= df[4]"
   ]
  },
  {
   "cell_type": "code",
   "execution_count": 48,
   "id": "1a376c3e-779b-4d1d-9103-88862c0b30a5",
   "metadata": {
    "collapsed": true,
    "jupyter": {
     "outputs_hidden": true
    },
    "scrolled": true
   },
   "outputs": [
    {
     "data": {
      "text/html": [
       "<div>\n",
       "<style scoped>\n",
       "    .dataframe tbody tr th:only-of-type {\n",
       "        vertical-align: middle;\n",
       "    }\n",
       "\n",
       "    .dataframe tbody tr th {\n",
       "        vertical-align: top;\n",
       "    }\n",
       "\n",
       "    .dataframe thead tr th {\n",
       "        text-align: left;\n",
       "    }\n",
       "</style>\n",
       "<table border=\"1\" class=\"dataframe\">\n",
       "  <thead>\n",
       "    <tr>\n",
       "      <th></th>\n",
       "      <th>Name</th>\n",
       "      <th>ISO 3166-2 code</th>\n",
       "      <th>Seal</th>\n",
       "      <th>Location</th>\n",
       "      <th colspan=\"2\" halign=\"left\">City</th>\n",
       "      <th>Geopolitical zone</th>\n",
       "      <th>Area</th>\n",
       "      <th>Population (2019 estimate)[4]</th>\n",
       "    </tr>\n",
       "    <tr>\n",
       "      <th></th>\n",
       "      <th>Name</th>\n",
       "      <th>ISO 3166-2 code</th>\n",
       "      <th>Seal</th>\n",
       "      <th>Location</th>\n",
       "      <th>Capital</th>\n",
       "      <th>Largest</th>\n",
       "      <th>Geopolitical zone</th>\n",
       "      <th>Area</th>\n",
       "      <th>Population (2019 estimate)[4]</th>\n",
       "    </tr>\n",
       "  </thead>\n",
       "  <tbody>\n",
       "    <tr>\n",
       "      <th>0</th>\n",
       "      <td>Abia</td>\n",
       "      <td>AB</td>\n",
       "      <td>NaN</td>\n",
       "      <td>NaN</td>\n",
       "      <td>Umuahia</td>\n",
       "      <td>Aba</td>\n",
       "      <td>South East</td>\n",
       "      <td>6,320 km2 (2,440 sq mi)</td>\n",
       "      <td>3841943</td>\n",
       "    </tr>\n",
       "    <tr>\n",
       "      <th>1</th>\n",
       "      <td>Adamawa</td>\n",
       "      <td>AD</td>\n",
       "      <td>NaN</td>\n",
       "      <td>NaN</td>\n",
       "      <td>Yola</td>\n",
       "      <td>Yola</td>\n",
       "      <td>North East</td>\n",
       "      <td>36,917 km2 (14,254 sq mi)</td>\n",
       "      <td>4536948</td>\n",
       "    </tr>\n",
       "    <tr>\n",
       "      <th>2</th>\n",
       "      <td>Akwa Ibom</td>\n",
       "      <td>AK</td>\n",
       "      <td>NaN</td>\n",
       "      <td>NaN</td>\n",
       "      <td>Uyo</td>\n",
       "      <td>Uyo</td>\n",
       "      <td>South South</td>\n",
       "      <td>7,081 km2 (2,734 sq mi)</td>\n",
       "      <td>4780581</td>\n",
       "    </tr>\n",
       "    <tr>\n",
       "      <th>3</th>\n",
       "      <td>Anambra</td>\n",
       "      <td>AN</td>\n",
       "      <td>NaN</td>\n",
       "      <td>NaN</td>\n",
       "      <td>Awka</td>\n",
       "      <td>Onitsha</td>\n",
       "      <td>South East</td>\n",
       "      <td>4,844 km2 (1,870 sq mi)</td>\n",
       "      <td>5599910</td>\n",
       "    </tr>\n",
       "    <tr>\n",
       "      <th>4</th>\n",
       "      <td>Bauchi</td>\n",
       "      <td>BA</td>\n",
       "      <td>NaN</td>\n",
       "      <td>NaN</td>\n",
       "      <td>Bauchi</td>\n",
       "      <td>Bauchi</td>\n",
       "      <td>North East</td>\n",
       "      <td>45,893 km2 (17,719 sq mi)</td>\n",
       "      <td>7540663</td>\n",
       "    </tr>\n",
       "  </tbody>\n",
       "</table>\n",
       "</div>"
      ],
      "text/plain": [
       "        Name ISO 3166-2 code Seal Location     City           \\\n",
       "        Name ISO 3166-2 code Seal Location  Capital  Largest   \n",
       "0       Abia              AB  NaN      NaN  Umuahia      Aba   \n",
       "1    Adamawa              AD  NaN      NaN     Yola     Yola   \n",
       "2  Akwa Ibom              AK  NaN      NaN      Uyo      Uyo   \n",
       "3    Anambra              AN  NaN      NaN     Awka  Onitsha   \n",
       "4     Bauchi              BA  NaN      NaN   Bauchi   Bauchi   \n",
       "\n",
       "  Geopolitical zone                       Area Population (2019 estimate)[4]  \n",
       "  Geopolitical zone                       Area Population (2019 estimate)[4]  \n",
       "0        South East    6,320 km2 (2,440 sq mi)                       3841943  \n",
       "1        North East  36,917 km2 (14,254 sq mi)                       4536948  \n",
       "2       South South    7,081 km2 (2,734 sq mi)                       4780581  \n",
       "3        South East    4,844 km2 (1,870 sq mi)                       5599910  \n",
       "4        North East  45,893 km2 (17,719 sq mi)                       7540663  "
      ]
     },
     "execution_count": 48,
     "metadata": {},
     "output_type": "execute_result"
    }
   ],
   "source": [
    "# df.head()"
   ]
  },
  {
   "cell_type": "code",
   "execution_count": 7,
   "id": "7b101614-e1da-4f8b-9352-fb4c010935bc",
   "metadata": {
    "jupyter": {
     "source_hidden": true
    }
   },
   "outputs": [
    {
     "data": {
      "application/vnd.plotly.v1+json": {
       "config": {
        "plotlyServerURL": "https://plot.ly"
       },
       "data": [
        {
         "hovertemplate": "<b>%{hovertext}</b><br><br>State=%{x}<br>Population=%{marker.size}<extra></extra>",
         "hovertext": [
          "Kano"
         ],
         "legendgroup": "Kano",
         "marker": {
          "color": "#636efa",
          "size": [
           14253549
          ],
          "sizemode": "area",
          "sizeref": 3959.3191666666667,
          "symbol": "circle"
         },
         "mode": "markers",
         "name": "Kano",
         "orientation": "v",
         "showlegend": true,
         "type": "scatter",
         "x": [
          "Kano"
         ],
         "xaxis": "x",
         "y": [
          14253549
         ],
         "yaxis": "y"
        },
        {
         "hovertemplate": "<b>%{hovertext}</b><br><br>State=%{x}<br>Population=%{marker.size}<extra></extra>",
         "hovertext": [
          "Lagos"
         ],
         "legendgroup": "Lagos",
         "marker": {
          "color": "#EF553B",
          "size": [
           12772884
          ],
          "sizemode": "area",
          "sizeref": 3959.3191666666667,
          "symbol": "circle"
         },
         "mode": "markers",
         "name": "Lagos",
         "orientation": "v",
         "showlegend": true,
         "type": "scatter",
         "x": [
          "Lagos"
         ],
         "xaxis": "x",
         "y": [
          12772884
         ],
         "yaxis": "y"
        },
        {
         "hovertemplate": "<b>%{hovertext}</b><br><br>State=%{x}<br>Population=%{marker.size}<extra></extra>",
         "hovertext": [
          "Katsina"
         ],
         "legendgroup": "Katsina",
         "marker": {
          "color": "#00cc96",
          "size": [
           9300382
          ],
          "sizemode": "area",
          "sizeref": 3959.3191666666667,
          "symbol": "circle"
         },
         "mode": "markers",
         "name": "Katsina",
         "orientation": "v",
         "showlegend": true,
         "type": "scatter",
         "x": [
          "Katsina"
         ],
         "xaxis": "x",
         "y": [
          9300382
         ],
         "yaxis": "y"
        },
        {
         "hovertemplate": "<b>%{hovertext}</b><br><br>State=%{x}<br>Population=%{marker.size}<extra></extra>",
         "hovertext": [
          "Kaduna"
         ],
         "legendgroup": "Kaduna",
         "marker": {
          "color": "#ab63fa",
          "size": [
           8324285
          ],
          "sizemode": "area",
          "sizeref": 3959.3191666666667,
          "symbol": "circle"
         },
         "mode": "markers",
         "name": "Kaduna",
         "orientation": "v",
         "showlegend": true,
         "type": "scatter",
         "x": [
          "Kaduna"
         ],
         "xaxis": "x",
         "y": [
          8324285
         ],
         "yaxis": "y"
        },
        {
         "hovertemplate": "<b>%{hovertext}</b><br><br>State=%{x}<br>Population=%{marker.size}<extra></extra>",
         "hovertext": [
          "Bauchi"
         ],
         "legendgroup": "Bauchi",
         "marker": {
          "color": "#FFA15A",
          "size": [
           7540663
          ],
          "sizemode": "area",
          "sizeref": 3959.3191666666667,
          "symbol": "circle"
         },
         "mode": "markers",
         "name": "Bauchi",
         "orientation": "v",
         "showlegend": true,
         "type": "scatter",
         "x": [
          "Bauchi"
         ],
         "xaxis": "x",
         "y": [
          7540663
         ],
         "yaxis": "y"
        },
        {
         "hovertemplate": "<b>%{hovertext}</b><br><br>State=%{x}<br>Population=%{marker.size}<extra></extra>",
         "hovertext": [
          "Oyo"
         ],
         "legendgroup": "Oyo",
         "marker": {
          "color": "#19d3f3",
          "size": [
           7512855
          ],
          "sizemode": "area",
          "sizeref": 3959.3191666666667,
          "symbol": "circle"
         },
         "mode": "markers",
         "name": "Oyo",
         "orientation": "v",
         "showlegend": true,
         "type": "scatter",
         "x": [
          "Oyo"
         ],
         "xaxis": "x",
         "y": [
          7512855
         ],
         "yaxis": "y"
        },
        {
         "hovertemplate": "<b>%{hovertext}</b><br><br>State=%{x}<br>Population=%{marker.size}<extra></extra>",
         "hovertext": [
          "Rivers"
         ],
         "legendgroup": "Rivers",
         "marker": {
          "color": "#FF6692",
          "size": [
           7034973
          ],
          "sizemode": "area",
          "sizeref": 3959.3191666666667,
          "symbol": "circle"
         },
         "mode": "markers",
         "name": "Rivers",
         "orientation": "v",
         "showlegend": true,
         "type": "scatter",
         "x": [
          "Rivers"
         ],
         "xaxis": "x",
         "y": [
          7034973
         ],
         "yaxis": "y"
        },
        {
         "hovertemplate": "<b>%{hovertext}</b><br><br>State=%{x}<br>Population=%{marker.size}<extra></extra>",
         "hovertext": [
          "Jigawa"
         ],
         "legendgroup": "Jigawa",
         "marker": {
          "color": "#B6E880",
          "size": [
           6779080
          ],
          "sizemode": "area",
          "sizeref": 3959.3191666666667,
          "symbol": "circle"
         },
         "mode": "markers",
         "name": "Jigawa",
         "orientation": "v",
         "showlegend": true,
         "type": "scatter",
         "x": [
          "Jigawa"
         ],
         "xaxis": "x",
         "y": [
          6779080
         ],
         "yaxis": "y"
        },
        {
         "hovertemplate": "<b>%{hovertext}</b><br><br>State=%{x}<br>Population=%{marker.size}<extra></extra>",
         "hovertext": [
          "Niger"
         ],
         "legendgroup": "Niger",
         "marker": {
          "color": "#FF97FF",
          "size": [
           6220617
          ],
          "sizemode": "area",
          "sizeref": 3959.3191666666667,
          "symbol": "circle"
         },
         "mode": "markers",
         "name": "Niger",
         "orientation": "v",
         "showlegend": true,
         "type": "scatter",
         "x": [
          "Niger"
         ],
         "xaxis": "x",
         "y": [
          6220617
         ],
         "yaxis": "y"
        },
        {
         "hovertemplate": "<b>%{hovertext}</b><br><br>State=%{x}<br>Population=%{marker.size}<extra></extra>",
         "hovertext": [
          "Ogun"
         ],
         "legendgroup": "Ogun",
         "marker": {
          "color": "#FECB52",
          "size": [
           5945275
          ],
          "sizemode": "area",
          "sizeref": 3959.3191666666667,
          "symbol": "circle"
         },
         "mode": "markers",
         "name": "Ogun",
         "orientation": "v",
         "showlegend": true,
         "type": "scatter",
         "x": [
          "Ogun"
         ],
         "xaxis": "x",
         "y": [
          5945275
         ],
         "yaxis": "y"
        }
       ],
       "layout": {
        "autosize": true,
        "legend": {
         "itemsizing": "constant",
         "title": {
          "text": "State"
         },
         "tracegroupgap": 0
        },
        "template": {
         "data": {
          "bar": [
           {
            "error_x": {
             "color": "#2a3f5f"
            },
            "error_y": {
             "color": "#2a3f5f"
            },
            "marker": {
             "line": {
              "color": "#E5ECF6",
              "width": 0.5
             },
             "pattern": {
              "fillmode": "overlay",
              "size": 10,
              "solidity": 0.2
             }
            },
            "type": "bar"
           }
          ],
          "barpolar": [
           {
            "marker": {
             "line": {
              "color": "#E5ECF6",
              "width": 0.5
             },
             "pattern": {
              "fillmode": "overlay",
              "size": 10,
              "solidity": 0.2
             }
            },
            "type": "barpolar"
           }
          ],
          "carpet": [
           {
            "aaxis": {
             "endlinecolor": "#2a3f5f",
             "gridcolor": "white",
             "linecolor": "white",
             "minorgridcolor": "white",
             "startlinecolor": "#2a3f5f"
            },
            "baxis": {
             "endlinecolor": "#2a3f5f",
             "gridcolor": "white",
             "linecolor": "white",
             "minorgridcolor": "white",
             "startlinecolor": "#2a3f5f"
            },
            "type": "carpet"
           }
          ],
          "choropleth": [
           {
            "colorbar": {
             "outlinewidth": 0,
             "ticks": ""
            },
            "type": "choropleth"
           }
          ],
          "contour": [
           {
            "colorbar": {
             "outlinewidth": 0,
             "ticks": ""
            },
            "colorscale": [
             [
              0,
              "#0d0887"
             ],
             [
              0.1111111111111111,
              "#46039f"
             ],
             [
              0.2222222222222222,
              "#7201a8"
             ],
             [
              0.3333333333333333,
              "#9c179e"
             ],
             [
              0.4444444444444444,
              "#bd3786"
             ],
             [
              0.5555555555555556,
              "#d8576b"
             ],
             [
              0.6666666666666666,
              "#ed7953"
             ],
             [
              0.7777777777777778,
              "#fb9f3a"
             ],
             [
              0.8888888888888888,
              "#fdca26"
             ],
             [
              1,
              "#f0f921"
             ]
            ],
            "type": "contour"
           }
          ],
          "contourcarpet": [
           {
            "colorbar": {
             "outlinewidth": 0,
             "ticks": ""
            },
            "type": "contourcarpet"
           }
          ],
          "heatmap": [
           {
            "colorbar": {
             "outlinewidth": 0,
             "ticks": ""
            },
            "colorscale": [
             [
              0,
              "#0d0887"
             ],
             [
              0.1111111111111111,
              "#46039f"
             ],
             [
              0.2222222222222222,
              "#7201a8"
             ],
             [
              0.3333333333333333,
              "#9c179e"
             ],
             [
              0.4444444444444444,
              "#bd3786"
             ],
             [
              0.5555555555555556,
              "#d8576b"
             ],
             [
              0.6666666666666666,
              "#ed7953"
             ],
             [
              0.7777777777777778,
              "#fb9f3a"
             ],
             [
              0.8888888888888888,
              "#fdca26"
             ],
             [
              1,
              "#f0f921"
             ]
            ],
            "type": "heatmap"
           }
          ],
          "heatmapgl": [
           {
            "colorbar": {
             "outlinewidth": 0,
             "ticks": ""
            },
            "colorscale": [
             [
              0,
              "#0d0887"
             ],
             [
              0.1111111111111111,
              "#46039f"
             ],
             [
              0.2222222222222222,
              "#7201a8"
             ],
             [
              0.3333333333333333,
              "#9c179e"
             ],
             [
              0.4444444444444444,
              "#bd3786"
             ],
             [
              0.5555555555555556,
              "#d8576b"
             ],
             [
              0.6666666666666666,
              "#ed7953"
             ],
             [
              0.7777777777777778,
              "#fb9f3a"
             ],
             [
              0.8888888888888888,
              "#fdca26"
             ],
             [
              1,
              "#f0f921"
             ]
            ],
            "type": "heatmapgl"
           }
          ],
          "histogram": [
           {
            "marker": {
             "pattern": {
              "fillmode": "overlay",
              "size": 10,
              "solidity": 0.2
             }
            },
            "type": "histogram"
           }
          ],
          "histogram2d": [
           {
            "colorbar": {
             "outlinewidth": 0,
             "ticks": ""
            },
            "colorscale": [
             [
              0,
              "#0d0887"
             ],
             [
              0.1111111111111111,
              "#46039f"
             ],
             [
              0.2222222222222222,
              "#7201a8"
             ],
             [
              0.3333333333333333,
              "#9c179e"
             ],
             [
              0.4444444444444444,
              "#bd3786"
             ],
             [
              0.5555555555555556,
              "#d8576b"
             ],
             [
              0.6666666666666666,
              "#ed7953"
             ],
             [
              0.7777777777777778,
              "#fb9f3a"
             ],
             [
              0.8888888888888888,
              "#fdca26"
             ],
             [
              1,
              "#f0f921"
             ]
            ],
            "type": "histogram2d"
           }
          ],
          "histogram2dcontour": [
           {
            "colorbar": {
             "outlinewidth": 0,
             "ticks": ""
            },
            "colorscale": [
             [
              0,
              "#0d0887"
             ],
             [
              0.1111111111111111,
              "#46039f"
             ],
             [
              0.2222222222222222,
              "#7201a8"
             ],
             [
              0.3333333333333333,
              "#9c179e"
             ],
             [
              0.4444444444444444,
              "#bd3786"
             ],
             [
              0.5555555555555556,
              "#d8576b"
             ],
             [
              0.6666666666666666,
              "#ed7953"
             ],
             [
              0.7777777777777778,
              "#fb9f3a"
             ],
             [
              0.8888888888888888,
              "#fdca26"
             ],
             [
              1,
              "#f0f921"
             ]
            ],
            "type": "histogram2dcontour"
           }
          ],
          "mesh3d": [
           {
            "colorbar": {
             "outlinewidth": 0,
             "ticks": ""
            },
            "type": "mesh3d"
           }
          ],
          "parcoords": [
           {
            "line": {
             "colorbar": {
              "outlinewidth": 0,
              "ticks": ""
             }
            },
            "type": "parcoords"
           }
          ],
          "pie": [
           {
            "automargin": true,
            "type": "pie"
           }
          ],
          "scatter": [
           {
            "fillpattern": {
             "fillmode": "overlay",
             "size": 10,
             "solidity": 0.2
            },
            "type": "scatter"
           }
          ],
          "scatter3d": [
           {
            "line": {
             "colorbar": {
              "outlinewidth": 0,
              "ticks": ""
             }
            },
            "marker": {
             "colorbar": {
              "outlinewidth": 0,
              "ticks": ""
             }
            },
            "type": "scatter3d"
           }
          ],
          "scattercarpet": [
           {
            "marker": {
             "colorbar": {
              "outlinewidth": 0,
              "ticks": ""
             }
            },
            "type": "scattercarpet"
           }
          ],
          "scattergeo": [
           {
            "marker": {
             "colorbar": {
              "outlinewidth": 0,
              "ticks": ""
             }
            },
            "type": "scattergeo"
           }
          ],
          "scattergl": [
           {
            "marker": {
             "colorbar": {
              "outlinewidth": 0,
              "ticks": ""
             }
            },
            "type": "scattergl"
           }
          ],
          "scattermapbox": [
           {
            "marker": {
             "colorbar": {
              "outlinewidth": 0,
              "ticks": ""
             }
            },
            "type": "scattermapbox"
           }
          ],
          "scatterpolar": [
           {
            "marker": {
             "colorbar": {
              "outlinewidth": 0,
              "ticks": ""
             }
            },
            "type": "scatterpolar"
           }
          ],
          "scatterpolargl": [
           {
            "marker": {
             "colorbar": {
              "outlinewidth": 0,
              "ticks": ""
             }
            },
            "type": "scatterpolargl"
           }
          ],
          "scatterternary": [
           {
            "marker": {
             "colorbar": {
              "outlinewidth": 0,
              "ticks": ""
             }
            },
            "type": "scatterternary"
           }
          ],
          "surface": [
           {
            "colorbar": {
             "outlinewidth": 0,
             "ticks": ""
            },
            "colorscale": [
             [
              0,
              "#0d0887"
             ],
             [
              0.1111111111111111,
              "#46039f"
             ],
             [
              0.2222222222222222,
              "#7201a8"
             ],
             [
              0.3333333333333333,
              "#9c179e"
             ],
             [
              0.4444444444444444,
              "#bd3786"
             ],
             [
              0.5555555555555556,
              "#d8576b"
             ],
             [
              0.6666666666666666,
              "#ed7953"
             ],
             [
              0.7777777777777778,
              "#fb9f3a"
             ],
             [
              0.8888888888888888,
              "#fdca26"
             ],
             [
              1,
              "#f0f921"
             ]
            ],
            "type": "surface"
           }
          ],
          "table": [
           {
            "cells": {
             "fill": {
              "color": "#EBF0F8"
             },
             "line": {
              "color": "white"
             }
            },
            "header": {
             "fill": {
              "color": "#C8D4E3"
             },
             "line": {
              "color": "white"
             }
            },
            "type": "table"
           }
          ]
         },
         "layout": {
          "annotationdefaults": {
           "arrowcolor": "#2a3f5f",
           "arrowhead": 0,
           "arrowwidth": 1
          },
          "autotypenumbers": "strict",
          "coloraxis": {
           "colorbar": {
            "outlinewidth": 0,
            "ticks": ""
           }
          },
          "colorscale": {
           "diverging": [
            [
             0,
             "#8e0152"
            ],
            [
             0.1,
             "#c51b7d"
            ],
            [
             0.2,
             "#de77ae"
            ],
            [
             0.3,
             "#f1b6da"
            ],
            [
             0.4,
             "#fde0ef"
            ],
            [
             0.5,
             "#f7f7f7"
            ],
            [
             0.6,
             "#e6f5d0"
            ],
            [
             0.7,
             "#b8e186"
            ],
            [
             0.8,
             "#7fbc41"
            ],
            [
             0.9,
             "#4d9221"
            ],
            [
             1,
             "#276419"
            ]
           ],
           "sequential": [
            [
             0,
             "#0d0887"
            ],
            [
             0.1111111111111111,
             "#46039f"
            ],
            [
             0.2222222222222222,
             "#7201a8"
            ],
            [
             0.3333333333333333,
             "#9c179e"
            ],
            [
             0.4444444444444444,
             "#bd3786"
            ],
            [
             0.5555555555555556,
             "#d8576b"
            ],
            [
             0.6666666666666666,
             "#ed7953"
            ],
            [
             0.7777777777777778,
             "#fb9f3a"
            ],
            [
             0.8888888888888888,
             "#fdca26"
            ],
            [
             1,
             "#f0f921"
            ]
           ],
           "sequentialminus": [
            [
             0,
             "#0d0887"
            ],
            [
             0.1111111111111111,
             "#46039f"
            ],
            [
             0.2222222222222222,
             "#7201a8"
            ],
            [
             0.3333333333333333,
             "#9c179e"
            ],
            [
             0.4444444444444444,
             "#bd3786"
            ],
            [
             0.5555555555555556,
             "#d8576b"
            ],
            [
             0.6666666666666666,
             "#ed7953"
            ],
            [
             0.7777777777777778,
             "#fb9f3a"
            ],
            [
             0.8888888888888888,
             "#fdca26"
            ],
            [
             1,
             "#f0f921"
            ]
           ]
          },
          "colorway": [
           "#636efa",
           "#EF553B",
           "#00cc96",
           "#ab63fa",
           "#FFA15A",
           "#19d3f3",
           "#FF6692",
           "#B6E880",
           "#FF97FF",
           "#FECB52"
          ],
          "font": {
           "color": "#2a3f5f"
          },
          "geo": {
           "bgcolor": "white",
           "lakecolor": "white",
           "landcolor": "#E5ECF6",
           "showlakes": true,
           "showland": true,
           "subunitcolor": "white"
          },
          "hoverlabel": {
           "align": "left"
          },
          "hovermode": "closest",
          "mapbox": {
           "style": "light"
          },
          "paper_bgcolor": "white",
          "plot_bgcolor": "#E5ECF6",
          "polar": {
           "angularaxis": {
            "gridcolor": "white",
            "linecolor": "white",
            "ticks": ""
           },
           "bgcolor": "#E5ECF6",
           "radialaxis": {
            "gridcolor": "white",
            "linecolor": "white",
            "ticks": ""
           }
          },
          "scene": {
           "xaxis": {
            "backgroundcolor": "#E5ECF6",
            "gridcolor": "white",
            "gridwidth": 2,
            "linecolor": "white",
            "showbackground": true,
            "ticks": "",
            "zerolinecolor": "white"
           },
           "yaxis": {
            "backgroundcolor": "#E5ECF6",
            "gridcolor": "white",
            "gridwidth": 2,
            "linecolor": "white",
            "showbackground": true,
            "ticks": "",
            "zerolinecolor": "white"
           },
           "zaxis": {
            "backgroundcolor": "#E5ECF6",
            "gridcolor": "white",
            "gridwidth": 2,
            "linecolor": "white",
            "showbackground": true,
            "ticks": "",
            "zerolinecolor": "white"
           }
          },
          "shapedefaults": {
           "line": {
            "color": "#2a3f5f"
           }
          },
          "ternary": {
           "aaxis": {
            "gridcolor": "white",
            "linecolor": "white",
            "ticks": ""
           },
           "baxis": {
            "gridcolor": "white",
            "linecolor": "white",
            "ticks": ""
           },
           "bgcolor": "#E5ECF6",
           "caxis": {
            "gridcolor": "white",
            "linecolor": "white",
            "ticks": ""
           }
          },
          "title": {
           "x": 0.05
          },
          "xaxis": {
           "automargin": true,
           "gridcolor": "white",
           "linecolor": "white",
           "ticks": "",
           "title": {
            "standoff": 15
           },
           "zerolinecolor": "white",
           "zerolinewidth": 2
          },
          "yaxis": {
           "automargin": true,
           "gridcolor": "white",
           "linecolor": "white",
           "ticks": "",
           "title": {
            "standoff": 15
           },
           "zerolinecolor": "white",
           "zerolinewidth": 2
          }
         }
        },
        "title": {
         "text": "Top 10 States by Population"
        },
        "xaxis": {
         "anchor": "y",
         "autorange": true,
         "categoryarray": [
          "Kano",
          "Lagos",
          "Katsina",
          "Kaduna",
          "Bauchi",
          "Oyo",
          "Rivers",
          "Jigawa",
          "Niger",
          "Ogun"
         ],
         "categoryorder": "array",
         "domain": [
          0,
          1
         ],
         "range": [
          -1.1334770369624663,
          9.92791961396294
         ],
         "title": {
          "text": "State"
         },
         "type": "category"
        },
        "yaxis": {
         "anchor": "x",
         "autorange": true,
         "domain": [
          0,
          1
         ],
         "range": [
          2021847.1270561581,
          19839930.381161842
         ],
         "title": {
          "text": "Population"
         },
         "type": "linear"
        }
       }
      },
      "image/png": "[encoded data removed]",
      "text/html": [
       "<div>                            <div id=\"cd4313b4-495f-4d4c-a30d-4cebeb38ac77\" class=\"plotly-graph-div\" style=\"height:525px; width:100%;\"></div>            <script type=\"text/javascript\">                require([\"plotly\"], function(Plotly) {                    window.PLOTLYENV=window.PLOTLYENV || {};                                    if (document.getElementById(\"cd4313b4-495f-4d4c-a30d-4cebeb38ac77\")) {                    Plotly.newPlot(                        \"cd4313b4-495f-4d4c-a30d-4cebeb38ac77\",                        [{\"hovertemplate\":\"\\u003cb\\u003e%{hovertext}\\u003c\\u002fb\\u003e\\u003cbr\\u003e\\u003cbr\\u003eState=%{x}\\u003cbr\\u003ePopulation=%{marker.size}\\u003cextra\\u003e\\u003c\\u002fextra\\u003e\",\"hovertext\":[\"Kano\"],\"legendgroup\":\"Kano\",\"marker\":{\"color\":\"#636efa\",\"size\":[14253549],\"sizemode\":\"area\",\"sizeref\":3959.3191666666667,\"symbol\":\"circle\"},\"mode\":\"markers\",\"name\":\"Kano\",\"orientation\":\"v\",\"showlegend\":true,\"x\":[\"Kano\"],\"xaxis\":\"x\",\"y\":[14253549],\"yaxis\":\"y\",\"type\":\"scatter\"},{\"hovertemplate\":\"\\u003cb\\u003e%{hovertext}\\u003c\\u002fb\\u003e\\u003cbr\\u003e\\u003cbr\\u003eState=%{x}\\u003cbr\\u003ePopulation=%{marker.size}\\u003cextra\\u003e\\u003c\\u002fextra\\u003e\",\"hovertext\":[\"Lagos\"],\"legendgroup\":\"Lagos\",\"marker\":{\"color\":\"#EF553B\",\"size\":[12772884],\"sizemode\":\"area\",\"sizeref\":3959.3191666666667,\"symbol\":\"circle\"},\"mode\":\"markers\",\"name\":\"Lagos\",\"orientation\":\"v\",\"showlegend\":true,\"x\":[\"Lagos\"],\"xaxis\":\"x\",\"y\":[12772884],\"yaxis\":\"y\",\"type\":\"scatter\"},{\"hovertemplate\":\"\\u003cb\\u003e%{hovertext}\\u003c\\u002fb\\u003e\\u003cbr\\u003e\\u003cbr\\u003eState=%{x}\\u003cbr\\u003ePopulation=%{marker.size}\\u003cextra\\u003e\\u003c\\u002fextra\\u003e\",\"hovertext\":[\"Katsina\"],\"legendgroup\":\"Katsina\",\"marker\":{\"color\":\"#00cc96\",\"size\":[9300382],\"sizemode\":\"area\",\"sizeref\":3959.3191666666667,\"symbol\":\"circle\"},\"mode\":\"markers\",\"name\":\"Katsina\",\"orientation\":\"v\",\"showlegend\":true,\"x\":[\"Katsina\"],\"xaxis\":\"x\",\"y\":[9300382],\"yaxis\":\"y\",\"type\":\"scatter\"},{\"hovertemplate\":\"\\u003cb\\u003e%{hovertext}\\u003c\\u002fb\\u003e\\u003cbr\\u003e\\u003cbr\\u003eState=%{x}\\u003cbr\\u003ePopulation=%{marker.size}\\u003cextra\\u003e\\u003c\\u002fextra\\u003e\",\"hovertext\":[\"Kaduna\"],\"legendgroup\":\"Kaduna\",\"marker\":{\"color\":\"#ab63fa\",\"size\":[8324285],\"sizemode\":\"area\",\"sizeref\":3959.3191666666667,\"symbol\":\"circle\"},\"mode\":\"markers\",\"name\":\"Kaduna\",\"orientation\":\"v\",\"showlegend\":true,\"x\":[\"Kaduna\"],\"xaxis\":\"x\",\"y\":[8324285],\"yaxis\":\"y\",\"type\":\"scatter\"},{\"hovertemplate\":\"\\u003cb\\u003e%{hovertext}\\u003c\\u002fb\\u003e\\u003cbr\\u003e\\u003cbr\\u003eState=%{x}\\u003cbr\\u003ePopulation=%{marker.size}\\u003cextra\\u003e\\u003c\\u002fextra\\u003e\",\"hovertext\":[\"Bauchi\"],\"legendgroup\":\"Bauchi\",\"marker\":{\"color\":\"#FFA15A\",\"size\":[7540663],\"sizemode\":\"area\",\"sizeref\":3959.3191666666667,\"symbol\":\"circle\"},\"mode\":\"markers\",\"name\":\"Bauchi\",\"orientation\":\"v\",\"showlegend\":true,\"x\":[\"Bauchi\"],\"xaxis\":\"x\",\"y\":[7540663],\"yaxis\":\"y\",\"type\":\"scatter\"},{\"hovertemplate\":\"\\u003cb\\u003e%{hovertext}\\u003c\\u002fb\\u003e\\u003cbr\\u003e\\u003cbr\\u003eState=%{x}\\u003cbr\\u003ePopulation=%{marker.size}\\u003cextra\\u003e\\u003c\\u002fextra\\u003e\",\"hovertext\":[\"Oyo\"],\"legendgroup\":\"Oyo\",\"marker\":{\"color\":\"#19d3f3\",\"size\":[7512855],\"sizemode\":\"area\",\"sizeref\":3959.3191666666667,\"symbol\":\"circle\"},\"mode\":\"markers\",\"name\":\"Oyo\",\"orientation\":\"v\",\"showlegend\":true,\"x\":[\"Oyo\"],\"xaxis\":\"x\",\"y\":[7512855],\"yaxis\":\"y\",\"type\":\"scatter\"},{\"hovertemplate\":\"\\u003cb\\u003e%{hovertext}\\u003c\\u002fb\\u003e\\u003cbr\\u003e\\u003cbr\\u003eState=%{x}\\u003cbr\\u003ePopulation=%{marker.size}\\u003cextra\\u003e\\u003c\\u002fextra\\u003e\",\"hovertext\":[\"Rivers\"],\"legendgroup\":\"Rivers\",\"marker\":{\"color\":\"#FF6692\",\"size\":[7034973],\"sizemode\":\"area\",\"sizeref\":3959.3191666666667,\"symbol\":\"circle\"},\"mode\":\"markers\",\"name\":\"Rivers\",\"orientation\":\"v\",\"showlegend\":true,\"x\":[\"Rivers\"],\"xaxis\":\"x\",\"y\":[7034973],\"yaxis\":\"y\",\"type\":\"scatter\"},{\"hovertemplate\":\"\\u003cb\\u003e%{hovertext}\\u003c\\u002fb\\u003e\\u003cbr\\u003e\\u003cbr\\u003eState=%{x}\\u003cbr\\u003ePopulation=%{marker.size}\\u003cextra\\u003e\\u003c\\u002fextra\\u003e\",\"hovertext\":[\"Jigawa\"],\"legendgroup\":\"Jigawa\",\"marker\":{\"color\":\"#B6E880\",\"size\":[6779080],\"sizemode\":\"area\",\"sizeref\":3959.3191666666667,\"symbol\":\"circle\"},\"mode\":\"markers\",\"name\":\"Jigawa\",\"orientation\":\"v\",\"showlegend\":true,\"x\":[\"Jigawa\"],\"xaxis\":\"x\",\"y\":[6779080],\"yaxis\":\"y\",\"type\":\"scatter\"},{\"hovertemplate\":\"\\u003cb\\u003e%{hovertext}\\u003c\\u002fb\\u003e\\u003cbr\\u003e\\u003cbr\\u003eState=%{x}\\u003cbr\\u003ePopulation=%{marker.size}\\u003cextra\\u003e\\u003c\\u002fextra\\u003e\",\"hovertext\":[\"Niger\"],\"legendgroup\":\"Niger\",\"marker\":{\"color\":\"#FF97FF\",\"size\":[6220617],\"sizemode\":\"area\",\"sizeref\":3959.3191666666667,\"symbol\":\"circle\"},\"mode\":\"markers\",\"name\":\"Niger\",\"orientation\":\"v\",\"showlegend\":true,\"x\":[\"Niger\"],\"xaxis\":\"x\",\"y\":[6220617],\"yaxis\":\"y\",\"type\":\"scatter\"},{\"hovertemplate\":\"\\u003cb\\u003e%{hovertext}\\u003c\\u002fb\\u003e\\u003cbr\\u003e\\u003cbr\\u003eState=%{x}\\u003cbr\\u003ePopulation=%{marker.size}\\u003cextra\\u003e\\u003c\\u002fextra\\u003e\",\"hovertext\":[\"Ogun\"],\"legendgroup\":\"Ogun\",\"marker\":{\"color\":\"#FECB52\",\"size\":[5945275],\"sizemode\":\"area\",\"sizeref\":3959.3191666666667,\"symbol\":\"circle\"},\"mode\":\"markers\",\"name\":\"Ogun\",\"orientation\":\"v\",\"showlegend\":true,\"x\":[\"Ogun\"],\"xaxis\":\"x\",\"y\":[5945275],\"yaxis\":\"y\",\"type\":\"scatter\"}],                        {\"template\":{\"data\":{\"histogram2dcontour\":[{\"type\":\"histogram2dcontour\",\"colorbar\":{\"outlinewidth\":0,\"ticks\":\"\"},\"colorscale\":[[0.0,\"#0d0887\"],[0.1111111111111111,\"#46039f\"],[0.2222222222222222,\"#7201a8\"],[0.3333333333333333,\"#9c179e\"],[0.4444444444444444,\"#bd3786\"],[0.5555555555555556,\"#d8576b\"],[0.6666666666666666,\"#ed7953\"],[0.7777777777777778,\"#fb9f3a\"],[0.8888888888888888,\"#fdca26\"],[1.0,\"#f0f921\"]]}],\"choropleth\":[{\"type\":\"choropleth\",\"colorbar\":{\"outlinewidth\":0,\"ticks\":\"\"}}],\"histogram2d\":[{\"type\":\"histogram2d\",\"colorbar\":{\"outlinewidth\":0,\"ticks\":\"\"},\"colorscale\":[[0.0,\"#0d0887\"],[0.1111111111111111,\"#46039f\"],[0.2222222222222222,\"#7201a8\"],[0.3333333333333333,\"#9c179e\"],[0.4444444444444444,\"#bd3786\"],[0.5555555555555556,\"#d8576b\"],[0.6666666666666666,\"#ed7953\"],[0.7777777777777778,\"#fb9f3a\"],[0.8888888888888888,\"#fdca26\"],[1.0,\"#f0f921\"]]}],\"heatmap\":[{\"type\":\"heatmap\",\"colorbar\":{\"outlinewidth\":0,\"ticks\":\"\"},\"colorscale\":[[0.0,\"#0d0887\"],[0.1111111111111111,\"#46039f\"],[0.2222222222222222,\"#7201a8\"],[0.3333333333333333,\"#9c179e\"],[0.4444444444444444,\"#bd3786\"],[0.5555555555555556,\"#d8576b\"],[0.6666666666666666,\"#ed7953\"],[0.7777777777777778,\"#fb9f3a\"],[0.8888888888888888,\"#fdca26\"],[1.0,\"#f0f921\"]]}],\"heatmapgl\":[{\"type\":\"heatmapgl\",\"colorbar\":{\"outlinewidth\":0,\"ticks\":\"\"},\"colorscale\":[[0.0,\"#0d0887\"],[0.1111111111111111,\"#46039f\"],[0.2222222222222222,\"#7201a8\"],[0.3333333333333333,\"#9c179e\"],[0.4444444444444444,\"#bd3786\"],[0.5555555555555556,\"#d8576b\"],[0.6666666666666666,\"#ed7953\"],[0.7777777777777778,\"#fb9f3a\"],[0.8888888888888888,\"#fdca26\"],[1.0,\"#f0f921\"]]}],\"contourcarpet\":[{\"type\":\"contourcarpet\",\"colorbar\":{\"outlinewidth\":0,\"ticks\":\"\"}}],\"contour\":[{\"type\":\"contour\",\"colorbar\":{\"outlinewidth\":0,\"ticks\":\"\"},\"colorscale\":[[0.0,\"#0d0887\"],[0.1111111111111111,\"#46039f\"],[0.2222222222222222,\"#7201a8\"],[0.3333333333333333,\"#9c179e\"],[0.4444444444444444,\"#bd3786\"],[0.5555555555555556,\"#d8576b\"],[0.6666666666666666,\"#ed7953\"],[0.7777777777777778,\"#fb9f3a\"],[0.8888888888888888,\"#fdca26\"],[1.0,\"#f0f921\"]]}],\"surface\":[{\"type\":\"surface\",\"colorbar\":{\"outlinewidth\":0,\"ticks\":\"\"},\"colorscale\":[[0.0,\"#0d0887\"],[0.1111111111111111,\"#46039f\"],[0.2222222222222222,\"#7201a8\"],[0.3333333333333333,\"#9c179e\"],[0.4444444444444444,\"#bd3786\"],[0.5555555555555556,\"#d8576b\"],[0.6666666666666666,\"#ed7953\"],[0.7777777777777778,\"#fb9f3a\"],[0.8888888888888888,\"#fdca26\"],[1.0,\"#f0f921\"]]}],\"mesh3d\":[{\"type\":\"mesh3d\",\"colorbar\":{\"outlinewidth\":0,\"ticks\":\"\"}}],\"scatter\":[{\"fillpattern\":{\"fillmode\":\"overlay\",\"size\":10,\"solidity\":0.2},\"type\":\"scatter\"}],\"parcoords\":[{\"type\":\"parcoords\",\"line\":{\"colorbar\":{\"outlinewidth\":0,\"ticks\":\"\"}}}],\"scatterpolargl\":[{\"type\":\"scatterpolargl\",\"marker\":{\"colorbar\":{\"outlinewidth\":0,\"ticks\":\"\"}}}],\"bar\":[{\"error_x\":{\"color\":\"#2a3f5f\"},\"error_y\":{\"color\":\"#2a3f5f\"},\"marker\":{\"line\":{\"color\":\"#E5ECF6\",\"width\":0.5},\"pattern\":{\"fillmode\":\"overlay\",\"size\":10,\"solidity\":0.2}},\"type\":\"bar\"}],\"scattergeo\":[{\"type\":\"scattergeo\",\"marker\":{\"colorbar\":{\"outlinewidth\":0,\"ticks\":\"\"}}}],\"scatterpolar\":[{\"type\":\"scatterpolar\",\"marker\":{\"colorbar\":{\"outlinewidth\":0,\"ticks\":\"\"}}}],\"histogram\":[{\"marker\":{\"pattern\":{\"fillmode\":\"overlay\",\"size\":10,\"solidity\":0.2}},\"type\":\"histogram\"}],\"scattergl\":[{\"type\":\"scattergl\",\"marker\":{\"colorbar\":{\"outlinewidth\":0,\"ticks\":\"\"}}}],\"scatter3d\":[{\"type\":\"scatter3d\",\"line\":{\"colorbar\":{\"outlinewidth\":0,\"ticks\":\"\"}},\"marker\":{\"colorbar\":{\"outlinewidth\":0,\"ticks\":\"\"}}}],\"scattermapbox\":[{\"type\":\"scattermapbox\",\"marker\":{\"colorbar\":{\"outlinewidth\":0,\"ticks\":\"\"}}}],\"scatterternary\":[{\"type\":\"scatterternary\",\"marker\":{\"colorbar\":{\"outlinewidth\":0,\"ticks\":\"\"}}}],\"scattercarpet\":[{\"type\":\"scattercarpet\",\"marker\":{\"colorbar\":{\"outlinewidth\":0,\"ticks\":\"\"}}}],\"carpet\":[{\"aaxis\":{\"endlinecolor\":\"#2a3f5f\",\"gridcolor\":\"white\",\"linecolor\":\"white\",\"minorgridcolor\":\"white\",\"startlinecolor\":\"#2a3f5f\"},\"baxis\":{\"endlinecolor\":\"#2a3f5f\",\"gridcolor\":\"white\",\"linecolor\":\"white\",\"minorgridcolor\":\"white\",\"startlinecolor\":\"#2a3f5f\"},\"type\":\"carpet\"}],\"table\":[{\"cells\":{\"fill\":{\"color\":\"#EBF0F8\"},\"line\":{\"color\":\"white\"}},\"header\":{\"fill\":{\"color\":\"#C8D4E3\"},\"line\":{\"color\":\"white\"}},\"type\":\"table\"}],\"barpolar\":[{\"marker\":{\"line\":{\"color\":\"#E5ECF6\",\"width\":0.5},\"pattern\":{\"fillmode\":\"overlay\",\"size\":10,\"solidity\":0.2}},\"type\":\"barpolar\"}],\"pie\":[{\"automargin\":true,\"type\":\"pie\"}]},\"layout\":{\"autotypenumbers\":\"strict\",\"colorway\":[\"#636efa\",\"#EF553B\",\"#00cc96\",\"#ab63fa\",\"#FFA15A\",\"#19d3f3\",\"#FF6692\",\"#B6E880\",\"#FF97FF\",\"#FECB52\"],\"font\":{\"color\":\"#2a3f5f\"},\"hovermode\":\"closest\",\"hoverlabel\":{\"align\":\"left\"},\"paper_bgcolor\":\"white\",\"plot_bgcolor\":\"#E5ECF6\",\"polar\":{\"bgcolor\":\"#E5ECF6\",\"angularaxis\":{\"gridcolor\":\"white\",\"linecolor\":\"white\",\"ticks\":\"\"},\"radialaxis\":{\"gridcolor\":\"white\",\"linecolor\":\"white\",\"ticks\":\"\"}},\"ternary\":{\"bgcolor\":\"#E5ECF6\",\"aaxis\":{\"gridcolor\":\"white\",\"linecolor\":\"white\",\"ticks\":\"\"},\"baxis\":{\"gridcolor\":\"white\",\"linecolor\":\"white\",\"ticks\":\"\"},\"caxis\":{\"gridcolor\":\"white\",\"linecolor\":\"white\",\"ticks\":\"\"}},\"coloraxis\":{\"colorbar\":{\"outlinewidth\":0,\"ticks\":\"\"}},\"colorscale\":{\"sequential\":[[0.0,\"#0d0887\"],[0.1111111111111111,\"#46039f\"],[0.2222222222222222,\"#7201a8\"],[0.3333333333333333,\"#9c179e\"],[0.4444444444444444,\"#bd3786\"],[0.5555555555555556,\"#d8576b\"],[0.6666666666666666,\"#ed7953\"],[0.7777777777777778,\"#fb9f3a\"],[0.8888888888888888,\"#fdca26\"],[1.0,\"#f0f921\"]],\"sequentialminus\":[[0.0,\"#0d0887\"],[0.1111111111111111,\"#46039f\"],[0.2222222222222222,\"#7201a8\"],[0.3333333333333333,\"#9c179e\"],[0.4444444444444444,\"#bd3786\"],[0.5555555555555556,\"#d8576b\"],[0.6666666666666666,\"#ed7953\"],[0.7777777777777778,\"#fb9f3a\"],[0.8888888888888888,\"#fdca26\"],[1.0,\"#f0f921\"]],\"diverging\":[[0,\"#8e0152\"],[0.1,\"#c51b7d\"],[0.2,\"#de77ae\"],[0.3,\"#f1b6da\"],[0.4,\"#fde0ef\"],[0.5,\"#f7f7f7\"],[0.6,\"#e6f5d0\"],[0.7,\"#b8e186\"],[0.8,\"#7fbc41\"],[0.9,\"#4d9221\"],[1,\"#276419\"]]},\"xaxis\":{\"gridcolor\":\"white\",\"linecolor\":\"white\",\"ticks\":\"\",\"title\":{\"standoff\":15},\"zerolinecolor\":\"white\",\"automargin\":true,\"zerolinewidth\":2},\"yaxis\":{\"gridcolor\":\"white\",\"linecolor\":\"white\",\"ticks\":\"\",\"title\":{\"standoff\":15},\"zerolinecolor\":\"white\",\"automargin\":true,\"zerolinewidth\":2},\"scene\":{\"xaxis\":{\"backgroundcolor\":\"#E5ECF6\",\"gridcolor\":\"white\",\"linecolor\":\"white\",\"showbackground\":true,\"ticks\":\"\",\"zerolinecolor\":\"white\",\"gridwidth\":2},\"yaxis\":{\"backgroundcolor\":\"#E5ECF6\",\"gridcolor\":\"white\",\"linecolor\":\"white\",\"showbackground\":true,\"ticks\":\"\",\"zerolinecolor\":\"white\",\"gridwidth\":2},\"zaxis\":{\"backgroundcolor\":\"#E5ECF6\",\"gridcolor\":\"white\",\"linecolor\":\"white\",\"showbackground\":true,\"ticks\":\"\",\"zerolinecolor\":\"white\",\"gridwidth\":2}},\"shapedefaults\":{\"line\":{\"color\":\"#2a3f5f\"}},\"annotationdefaults\":{\"arrowcolor\":\"#2a3f5f\",\"arrowhead\":0,\"arrowwidth\":1},\"geo\":{\"bgcolor\":\"white\",\"landcolor\":\"#E5ECF6\",\"subunitcolor\":\"white\",\"showland\":true,\"showlakes\":true,\"lakecolor\":\"white\"},\"title\":{\"x\":0.05},\"mapbox\":{\"style\":\"light\"}}},\"xaxis\":{\"anchor\":\"y\",\"domain\":[0.0,1.0],\"title\":{\"text\":\"State\"},\"categoryorder\":\"array\",\"categoryarray\":[\"Kano\",\"Lagos\",\"Katsina\",\"Kaduna\",\"Bauchi\",\"Oyo\",\"Rivers\",\"Jigawa\",\"Niger\",\"Ogun\"]},\"yaxis\":{\"anchor\":\"x\",\"domain\":[0.0,1.0],\"title\":{\"text\":\"Population\"}},\"legend\":{\"title\":{\"text\":\"State\"},\"tracegroupgap\":0,\"itemsizing\":\"constant\"},\"title\":{\"text\":\"Top 10 States by Population\"}},                        {\"responsive\": true}                    ).then(function(){\n",
       "                            \n",
       "var gd = document.getElementById('cd4313b4-495f-4d4c-a30d-4cebeb38ac77');\n",
       "var x = new MutationObserver(function (mutations, observer) {{\n",
       "        var display = window.getComputedStyle(gd).display;\n",
       "        if (!display || display === 'none') {{\n",
       "            console.log([gd, 'removed!']);\n",
       "            Plotly.purge(gd);\n",
       "            observer.disconnect();\n",
       "        }}\n",
       "}});\n",
       "\n",
       "// Listen for the removal of the full notebook cells\n",
       "var notebookContainer = gd.closest('#notebook-container');\n",
       "if (notebookContainer) {{\n",
       "    x.observe(notebookContainer, {childList: true});\n",
       "}}\n",
       "\n",
       "// Listen for the clearing of the current output cell\n",
       "var outputEl = gd.closest('.output');\n",
       "if (outputEl) {{\n",
       "    x.observe(outputEl, {childList: true});\n",
       "}}\n",
       "\n",
       "                        })                };                });            </script>        </div>"
      ]
     },
     "metadata": {},
     "output_type": "display_data"
    }
   ],
   "source": [
    "import pandas as pd\n",
    "import plotly.express as px\n",
    "\n",
    "# Create the DataFrame\n",
    "data = {\n",
    "    \"State\": [\n",
    "        \"Abia\", \"Adamawa\", \"Akwa Ibom\", \"Anambra\", \"Bauchi\", \"Bayelsa\", \"Benue\", \"Borno\",\n",
    "        \"Cross River\", \"Delta\", \"Ebonyi\", \"Edo\", \"Ekiti\", \"Enugu\", \"Federal Capital Territory\",\n",
    "        \"Gombe\", \"Imo\", \"Jigawa\", \"Kaduna\", \"Kano\", \"Katsina\", \"Kebbi\", \"Kogi\", \"Kwara\",\n",
    "        \"Lagos\", \"Nasarawa\", \"Niger\", \"Ogun\", \"Ondo\", \"Osun\", \"Oyo\", \"Plateau\", \"Rivers\",\n",
    "        \"Sokoto\", \"Taraba\", \"Yobe\", \"Zamfara\"\n",
    "    ],\n",
    "    \"Geopolitical zone\": [\n",
    "        \"South East\", \"North East\", \"South South\", \"South East\", \"North East\", \"South South\",\n",
    "        \"North Central\", \"North East\", \"South South\", \"South South\", \"South East\", \"South South\",\n",
    "        \"South West\", \"South East\", \"North Central\", \"North East\", \"South East\", \"North West\",\n",
    "        \"North West\", \"North West\", \"North West\", \"North West\", \"North Central\", \"North Central\",\n",
    "        \"South West\", \"North Central\", \"North Central\", \"South West\", \"South West\", \"South West\",\n",
    "        \"South West\", \"North Central\", \"South South\", \"North West\", \"North East\", \"North East\",\n",
    "        \"North West\"\n",
    "    ],\n",
    "    \"Population\": [\n",
    "        3841943, 4536948, 4780581, 5599910, 7540663, 2394725, 5787706, 5751590, 4175020,\n",
    "        5307543, 3007155, 4461137, 3350401, 4396098, 1406239, 3623462, 5167722, 6779080,\n",
    "        8324285, 14253549, 9300382, 5001610, 4153734, 3259613, 12772884, 2632239, 6220617,\n",
    "        5945275, 4969707, 4237396, 7512855, 4400974, 7034973, 5863187, 3331885, 3398177, 5317793\n",
    "    ]\n",
    "}\n",
    "\n",
    "df = pd.DataFrame(data)\n",
    "\n",
    "# Filter top ten states by population\n",
    "top_ten_states = df.nlargest(10, \"Population\")\n",
    "\n",
    "# Create the scatter plot\n",
    "fig = px.scatter(\n",
    "    top_ten_states,\n",
    "    x=\"State\",\n",
    "    y=\"Population\",\n",
    "    size=\"Population\",\n",
    "    color=\"State\",\n",
    "    hover_name=\"State\",\n",
    "    title=\"Top 10 States by Population\",\n",
    "    size_max=60\n",
    ")\n",
    "fig.show()\n"
   ]
  },
  {
   "cell_type": "code",
   "execution_count": 143,
   "id": "e57eefba-0872-4a2f-947a-b2a33800f92f",
   "metadata": {
    "jupyter": {
     "source_hidden": true
    }
   },
   "outputs": [
    {
     "data": {
      "application/vnd.plotly.v1+json": {
       "config": {
        "plotlyServerURL": "https://plot.ly"
       },
       "data": [
        {
         "branchvalues": "total",
         "customdata": [
          [
           3841943
          ],
          [
           4536948
          ],
          [
           4780581
          ],
          [
           5599910
          ],
          [
           7540663
          ],
          [
           2394725
          ],
          [
           5787706
          ],
          [
           5751590
          ],
          [
           4175020
          ],
          [
           5307543
          ],
          [
           3007155
          ],
          [
           4461137
          ],
          [
           3350401
          ],
          [
           4396098
          ],
          [
           1406239
          ],
          [
           3623462
          ],
          [
           5167722
          ],
          [
           6779080
          ],
          [
           8324285
          ],
          [
           14253549
          ],
          [
           9300382
          ],
          [
           5001610
          ],
          [
           4153734
          ],
          [
           3259613
          ],
          [
           12772884
          ],
          [
           2632239
          ],
          [
           6220617
          ],
          [
           5945275
          ],
          [
           4969707
          ],
          [
           4237396
          ],
          [
           7512855
          ],
          [
           4400974
          ],
          [
           7034973
          ],
          [
           5863187
          ],
          [
           3331885
          ],
          [
           3398177
          ],
          [
           5317793
          ],
          [
           4606668.822690199
          ],
          [
           5191294.4757602755
          ],
          [
           8982192.22463132
          ],
          [
           4597025.31234342
          ],
          [
           5099885.016747828
          ],
          [
           7961493.917905603
          ]
         ],
         "domain": {
          "x": [
           0,
           1
          ],
          "y": [
           0,
           1
          ]
         },
         "hovertemplate": "labels=%{label}<br>Population_sum=%{value}<br>parent=%{parent}<br>id=%{id}<br>Population=%{color}<extra></extra>",
         "ids": [
          "South East/Abia",
          "North East/Adamawa",
          "South South/Akwa Ibom",
          "South East/Anambra",
          "North East/Bauchi",
          "South South/Bayelsa",
          "North Central/Benue",
          "North East/Borno",
          "South South/Cross River",
          "South South/Delta",
          "South East/Ebonyi",
          "South South/Edo",
          "South West/Ekiti",
          "South East/Enugu",
          "North Central/Federal Capital Territory",
          "North East/Gombe",
          "South East/Imo",
          "North West/Jigawa",
          "North West/Kaduna",
          "North West/Kano",
          "North West/Katsina",
          "North West/Kebbi",
          "North Central/Kogi",
          "North Central/Kwara",
          "South West/Lagos",
          "North Central/Nasarawa",
          "North Central/Niger",
          "South West/Ogun",
          "South West/Ondo",
          "South West/Osun",
          "South West/Oyo",
          "North Central/Plateau",
          "South South/Rivers",
          "North West/Sokoto",
          "North East/Taraba",
          "North East/Yobe",
          "North West/Zamfara",
          "North Central",
          "North East",
          "North West",
          "South East",
          "South South",
          "South West"
         ],
         "labels": [
          "Abia",
          "Adamawa",
          "Akwa Ibom",
          "Anambra",
          "Bauchi",
          "Bayelsa",
          "Benue",
          "Borno",
          "Cross River",
          "Delta",
          "Ebonyi",
          "Edo",
          "Ekiti",
          "Enugu",
          "Federal Capital Territory",
          "Gombe",
          "Imo",
          "Jigawa",
          "Kaduna",
          "Kano",
          "Katsina",
          "Kebbi",
          "Kogi",
          "Kwara",
          "Lagos",
          "Nasarawa",
          "Niger",
          "Ogun",
          "Ondo",
          "Osun",
          "Oyo",
          "Plateau",
          "Rivers",
          "Sokoto",
          "Taraba",
          "Yobe",
          "Zamfara",
          "North Central",
          "North East",
          "North West",
          "South East",
          "South South",
          "South West"
         ],
         "marker": {
          "coloraxis": "coloraxis",
          "colors": [
           3841943,
           4536948,
           4780581,
           5599910,
           7540663,
           2394725,
           5787706,
           5751590,
           4175020,
           5307543,
           3007155,
           4461137,
           3350401,
           4396098,
           1406239,
           3623462,
           5167722,
           6779080,
           8324285,
           14253549,
           9300382,
           5001610,
           4153734,
           3259613,
           12772884,
           2632239,
           6220617,
           5945275,
           4969707,
           4237396,
           7512855,
           4400974,
           7034973,
           5863187,
           3331885,
           3398177,
           5317793,
           4606668.822690199,
           5191294.4757602755,
           8982192.22463132,
           4597025.31234342,
           5099885.016747828,
           7961493.917905603
          ]
         },
         "name": "",
         "parents": [
          "South East",
          "North East",
          "South South",
          "South East",
          "North East",
          "South South",
          "North Central",
          "North East",
          "South South",
          "South South",
          "South East",
          "South South",
          "South West",
          "South East",
          "North Central",
          "North East",
          "South East",
          "North West",
          "North West",
          "North West",
          "North West",
          "North West",
          "North Central",
          "North Central",
          "South West",
          "North Central",
          "North Central",
          "South West",
          "South West",
          "South West",
          "South West",
          "North Central",
          "South South",
          "North West",
          "North East",
          "North East",
          "North West",
          "",
          "",
          "",
          "",
          "",
          ""
         ],
         "type": "treemap",
         "values": [
          3841943,
          4536948,
          4780581,
          5599910,
          7540663,
          2394725,
          5787706,
          5751590,
          4175020,
          5307543,
          3007155,
          4461137,
          3350401,
          4396098,
          1406239,
          3623462,
          5167722,
          6779080,
          8324285,
          14253549,
          9300382,
          5001610,
          4153734,
          3259613,
          12772884,
          2632239,
          6220617,
          5945275,
          4969707,
          4237396,
          7512855,
          4400974,
          7034973,
          5863187,
          3331885,
          3398177,
          5317793,
          27861122,
          28182725,
          54839886,
          22012828,
          28153979,
          38788518
         ]
        }
       ],
       "layout": {
        "autosize": true,
        "coloraxis": {
         "colorbar": {
          "title": {
           "text": "Population"
          }
         },
         "colorscale": [
          [
           0,
           "#440154"
          ],
          [
           0.1111111111111111,
           "#482878"
          ],
          [
           0.2222222222222222,
           "#3e4989"
          ],
          [
           0.3333333333333333,
           "#31688e"
          ],
          [
           0.4444444444444444,
           "#26828e"
          ],
          [
           0.5555555555555556,
           "#1f9e89"
          ],
          [
           0.6666666666666666,
           "#35b779"
          ],
          [
           0.7777777777777778,
           "#6ece58"
          ],
          [
           0.8888888888888888,
           "#b5de2b"
          ],
          [
           1,
           "#fde725"
          ]
         ]
        },
        "legend": {
         "tracegroupgap": 0
        },
        "template": {
         "data": {
          "bar": [
           {
            "error_x": {
             "color": "#2a3f5f"
            },
            "error_y": {
             "color": "#2a3f5f"
            },
            "marker": {
             "line": {
              "color": "#E5ECF6",
              "width": 0.5
             },
             "pattern": {
              "fillmode": "overlay",
              "size": 10,
              "solidity": 0.2
             }
            },
            "type": "bar"
           }
          ],
          "barpolar": [
           {
            "marker": {
             "line": {
              "color": "#E5ECF6",
              "width": 0.5
             },
             "pattern": {
              "fillmode": "overlay",
              "size": 10,
              "solidity": 0.2
             }
            },
            "type": "barpolar"
           }
          ],
          "carpet": [
           {
            "aaxis": {
             "endlinecolor": "#2a3f5f",
             "gridcolor": "white",
             "linecolor": "white",
             "minorgridcolor": "white",
             "startlinecolor": "#2a3f5f"
            },
            "baxis": {
             "endlinecolor": "#2a3f5f",
             "gridcolor": "white",
             "linecolor": "white",
             "minorgridcolor": "white",
             "startlinecolor": "#2a3f5f"
            },
            "type": "carpet"
           }
          ],
          "choropleth": [
           {
            "colorbar": {
             "outlinewidth": 0,
             "ticks": ""
            },
            "type": "choropleth"
           }
          ],
          "contour": [
           {
            "colorbar": {
             "outlinewidth": 0,
             "ticks": ""
            },
            "colorscale": [
             [
              0,
              "#0d0887"
             ],
             [
              0.1111111111111111,
              "#46039f"
             ],
             [
              0.2222222222222222,
              "#7201a8"
             ],
             [
              0.3333333333333333,
              "#9c179e"
             ],
             [
              0.4444444444444444,
              "#bd3786"
             ],
             [
              0.5555555555555556,
              "#d8576b"
             ],
             [
              0.6666666666666666,
              "#ed7953"
             ],
             [
              0.7777777777777778,
              "#fb9f3a"
             ],
             [
              0.8888888888888888,
              "#fdca26"
             ],
             [
              1,
              "#f0f921"
             ]
            ],
            "type": "contour"
           }
          ],
          "contourcarpet": [
           {
            "colorbar": {
             "outlinewidth": 0,
             "ticks": ""
            },
            "type": "contourcarpet"
           }
          ],
          "heatmap": [
           {
            "colorbar": {
             "outlinewidth": 0,
             "ticks": ""
            },
            "colorscale": [
             [
              0,
              "#0d0887"
             ],
             [
              0.1111111111111111,
              "#46039f"
             ],
             [
              0.2222222222222222,
              "#7201a8"
             ],
             [
              0.3333333333333333,
              "#9c179e"
             ],
             [
              0.4444444444444444,
              "#bd3786"
             ],
             [
              0.5555555555555556,
              "#d8576b"
             ],
             [
              0.6666666666666666,
              "#ed7953"
             ],
             [
              0.7777777777777778,
              "#fb9f3a"
             ],
             [
              0.8888888888888888,
              "#fdca26"
             ],
             [
              1,
              "#f0f921"
             ]
            ],
            "type": "heatmap"
           }
          ],
          "heatmapgl": [
           {
            "colorbar": {
             "outlinewidth": 0,
             "ticks": ""
            },
            "colorscale": [
             [
              0,
              "#0d0887"
             ],
             [
              0.1111111111111111,
              "#46039f"
             ],
             [
              0.2222222222222222,
              "#7201a8"
             ],
             [
              0.3333333333333333,
              "#9c179e"
             ],
             [
              0.4444444444444444,
              "#bd3786"
             ],
             [
              0.5555555555555556,
              "#d8576b"
             ],
             [
              0.6666666666666666,
              "#ed7953"
             ],
             [
              0.7777777777777778,
              "#fb9f3a"
             ],
             [
              0.8888888888888888,
              "#fdca26"
             ],
             [
              1,
              "#f0f921"
             ]
            ],
            "type": "heatmapgl"
           }
          ],
          "histogram": [
           {
            "marker": {
             "pattern": {
              "fillmode": "overlay",
              "size": 10,
              "solidity": 0.2
             }
            },
            "type": "histogram"
           }
          ],
          "histogram2d": [
           {
            "colorbar": {
             "outlinewidth": 0,
             "ticks": ""
            },
            "colorscale": [
             [
              0,
              "#0d0887"
             ],
             [
              0.1111111111111111,
              "#46039f"
             ],
             [
              0.2222222222222222,
              "#7201a8"
             ],
             [
              0.3333333333333333,
              "#9c179e"
             ],
             [
              0.4444444444444444,
              "#bd3786"
             ],
             [
              0.5555555555555556,
              "#d8576b"
             ],
             [
              0.6666666666666666,
              "#ed7953"
             ],
             [
              0.7777777777777778,
              "#fb9f3a"
             ],
             [
              0.8888888888888888,
              "#fdca26"
             ],
             [
              1,
              "#f0f921"
             ]
            ],
            "type": "histogram2d"
           }
          ],
          "histogram2dcontour": [
           {
            "colorbar": {
             "outlinewidth": 0,
             "ticks": ""
            },
            "colorscale": [
             [
              0,
              "#0d0887"
             ],
             [
              0.1111111111111111,
              "#46039f"
             ],
             [
              0.2222222222222222,
              "#7201a8"
             ],
             [
              0.3333333333333333,
              "#9c179e"
             ],
             [
              0.4444444444444444,
              "#bd3786"
             ],
             [
              0.5555555555555556,
              "#d8576b"
             ],
             [
              0.6666666666666666,
              "#ed7953"
             ],
             [
              0.7777777777777778,
              "#fb9f3a"
             ],
             [
              0.8888888888888888,
              "#fdca26"
             ],
             [
              1,
              "#f0f921"
             ]
            ],
            "type": "histogram2dcontour"
           }
          ],
          "mesh3d": [
           {
            "colorbar": {
             "outlinewidth": 0,
             "ticks": ""
            },
            "type": "mesh3d"
           }
          ],
          "parcoords": [
           {
            "line": {
             "colorbar": {
              "outlinewidth": 0,
              "ticks": ""
             }
            },
            "type": "parcoords"
           }
          ],
          "pie": [
           {
            "automargin": true,
            "type": "pie"
           }
          ],
          "scatter": [
           {
            "fillpattern": {
             "fillmode": "overlay",
             "size": 10,
             "solidity": 0.2
            },
            "type": "scatter"
           }
          ],
          "scatter3d": [
           {
            "line": {
             "colorbar": {
              "outlinewidth": 0,
              "ticks": ""
             }
            },
            "marker": {
             "colorbar": {
              "outlinewidth": 0,
              "ticks": ""
             }
            },
            "type": "scatter3d"
           }
          ],
          "scattercarpet": [
           {
            "marker": {
             "colorbar": {
              "outlinewidth": 0,
              "ticks": ""
             }
            },
            "type": "scattercarpet"
           }
          ],
          "scattergeo": [
           {
            "marker": {
             "colorbar": {
              "outlinewidth": 0,
              "ticks": ""
             }
            },
            "type": "scattergeo"
           }
          ],
          "scattergl": [
           {
            "marker": {
             "colorbar": {
              "outlinewidth": 0,
              "ticks": ""
             }
            },
            "type": "scattergl"
           }
          ],
          "scattermapbox": [
           {
            "marker": {
             "colorbar": {
              "outlinewidth": 0,
              "ticks": ""
             }
            },
            "type": "scattermapbox"
           }
          ],
          "scatterpolar": [
           {
            "marker": {
             "colorbar": {
              "outlinewidth": 0,
              "ticks": ""
             }
            },
            "type": "scatterpolar"
           }
          ],
          "scatterpolargl": [
           {
            "marker": {
             "colorbar": {
              "outlinewidth": 0,
              "ticks": ""
             }
            },
            "type": "scatterpolargl"
           }
          ],
          "scatterternary": [
           {
            "marker": {
             "colorbar": {
              "outlinewidth": 0,
              "ticks": ""
             }
            },
            "type": "scatterternary"
           }
          ],
          "surface": [
           {
            "colorbar": {
             "outlinewidth": 0,
             "ticks": ""
            },
            "colorscale": [
             [
              0,
              "#0d0887"
             ],
             [
              0.1111111111111111,
              "#46039f"
             ],
             [
              0.2222222222222222,
              "#7201a8"
             ],
             [
              0.3333333333333333,
              "#9c179e"
             ],
             [
              0.4444444444444444,
              "#bd3786"
             ],
             [
              0.5555555555555556,
              "#d8576b"
             ],
             [
              0.6666666666666666,
              "#ed7953"
             ],
             [
              0.7777777777777778,
              "#fb9f3a"
             ],
             [
              0.8888888888888888,
              "#fdca26"
             ],
             [
              1,
              "#f0f921"
             ]
            ],
            "type": "surface"
           }
          ],
          "table": [
           {
            "cells": {
             "fill": {
              "color": "#EBF0F8"
             },
             "line": {
              "color": "white"
             }
            },
            "header": {
             "fill": {
              "color": "#C8D4E3"
             },
             "line": {
              "color": "white"
             }
            },
            "type": "table"
           }
          ]
         },
         "layout": {
          "annotationdefaults": {
           "arrowcolor": "#2a3f5f",
           "arrowhead": 0,
           "arrowwidth": 1
          },
          "autotypenumbers": "strict",
          "coloraxis": {
           "colorbar": {
            "outlinewidth": 0,
            "ticks": ""
           }
          },
          "colorscale": {
           "diverging": [
            [
             0,
             "#8e0152"
            ],
            [
             0.1,
             "#c51b7d"
            ],
            [
             0.2,
             "#de77ae"
            ],
            [
             0.3,
             "#f1b6da"
            ],
            [
             0.4,
             "#fde0ef"
            ],
            [
             0.5,
             "#f7f7f7"
            ],
            [
             0.6,
             "#e6f5d0"
            ],
            [
             0.7,
             "#b8e186"
            ],
            [
             0.8,
             "#7fbc41"
            ],
            [
             0.9,
             "#4d9221"
            ],
            [
             1,
             "#276419"
            ]
           ],
           "sequential": [
            [
             0,
             "#0d0887"
            ],
            [
             0.1111111111111111,
             "#46039f"
            ],
            [
             0.2222222222222222,
             "#7201a8"
            ],
            [
             0.3333333333333333,
             "#9c179e"
            ],
            [
             0.4444444444444444,
             "#bd3786"
            ],
            [
             0.5555555555555556,
             "#d8576b"
            ],
            [
             0.6666666666666666,
             "#ed7953"
            ],
            [
             0.7777777777777778,
             "#fb9f3a"
            ],
            [
             0.8888888888888888,
             "#fdca26"
            ],
            [
             1,
             "#f0f921"
            ]
           ],
           "sequentialminus": [
            [
             0,
             "#0d0887"
            ],
            [
             0.1111111111111111,
             "#46039f"
            ],
            [
             0.2222222222222222,
             "#7201a8"
            ],
            [
             0.3333333333333333,
             "#9c179e"
            ],
            [
             0.4444444444444444,
             "#bd3786"
            ],
            [
             0.5555555555555556,
             "#d8576b"
            ],
            [
             0.6666666666666666,
             "#ed7953"
            ],
            [
             0.7777777777777778,
             "#fb9f3a"
            ],
            [
             0.8888888888888888,
             "#fdca26"
            ],
            [
             1,
             "#f0f921"
            ]
           ]
          },
          "colorway": [
           "#636efa",
           "#EF553B",
           "#00cc96",
           "#ab63fa",
           "#FFA15A",
           "#19d3f3",
           "#FF6692",
           "#B6E880",
           "#FF97FF",
           "#FECB52"
          ],
          "font": {
           "color": "#2a3f5f"
          },
          "geo": {
           "bgcolor": "white",
           "lakecolor": "white",
           "landcolor": "#E5ECF6",
           "showlakes": true,
           "showland": true,
           "subunitcolor": "white"
          },
          "hoverlabel": {
           "align": "left"
          },
          "hovermode": "closest",
          "mapbox": {
           "style": "light"
          },
          "paper_bgcolor": "white",
          "plot_bgcolor": "#E5ECF6",
          "polar": {
           "angularaxis": {
            "gridcolor": "white",
            "linecolor": "white",
            "ticks": ""
           },
           "bgcolor": "#E5ECF6",
           "radialaxis": {
            "gridcolor": "white",
            "linecolor": "white",
            "ticks": ""
           }
          },
          "scene": {
           "xaxis": {
            "backgroundcolor": "#E5ECF6",
            "gridcolor": "white",
            "gridwidth": 2,
            "linecolor": "white",
            "showbackground": true,
            "ticks": "",
            "zerolinecolor": "white"
           },
           "yaxis": {
            "backgroundcolor": "#E5ECF6",
            "gridcolor": "white",
            "gridwidth": 2,
            "linecolor": "white",
            "showbackground": true,
            "ticks": "",
            "zerolinecolor": "white"
           },
           "zaxis": {
            "backgroundcolor": "#E5ECF6",
            "gridcolor": "white",
            "gridwidth": 2,
            "linecolor": "white",
            "showbackground": true,
            "ticks": "",
            "zerolinecolor": "white"
           }
          },
          "shapedefaults": {
           "line": {
            "color": "#2a3f5f"
           }
          },
          "ternary": {
           "aaxis": {
            "gridcolor": "white",
            "linecolor": "white",
            "ticks": ""
           },
           "baxis": {
            "gridcolor": "white",
            "linecolor": "white",
            "ticks": ""
           },
           "bgcolor": "#E5ECF6",
           "caxis": {
            "gridcolor": "white",
            "linecolor": "white",
            "ticks": ""
           }
          },
          "title": {
           "x": 0.05
          },
          "xaxis": {
           "automargin": true,
           "gridcolor": "white",
           "linecolor": "white",
           "ticks": "",
           "title": {
            "standoff": 15
           },
           "zerolinecolor": "white",
           "zerolinewidth": 2
          },
          "yaxis": {
           "automargin": true,
           "gridcolor": "white",
           "linecolor": "white",
           "ticks": "",
           "title": {
            "standoff": 15
           },
           "zerolinecolor": "white",
           "zerolinewidth": 2
          }
         }
        },
        "title": {
         "text": "Population Contribution by Zone and State"
        }
       }
      },
      "image/png": "[encoded data removed]",
      "text/html": [
       "<div>                            <div id=\"002d6865-3ff4-41dd-bc41-97c797c73355\" class=\"plotly-graph-div\" style=\"height:525px; width:100%;\"></div>            <script type=\"text/javascript\">                require([\"plotly\"], function(Plotly) {                    window.PLOTLYENV=window.PLOTLYENV || {};                                    if (document.getElementById(\"002d6865-3ff4-41dd-bc41-97c797c73355\")) {                    Plotly.newPlot(                        \"002d6865-3ff4-41dd-bc41-97c797c73355\",                        [{\"branchvalues\":\"total\",\"customdata\":[[3841943.0],[4536948.0],[4780581.0],[5599910.0],[7540663.0],[2394725.0],[5787706.0],[5751590.0],[4175020.0],[5307543.0],[3007155.0],[4461137.0],[3350401.0],[4396098.0],[1406239.0],[3623462.0],[5167722.0],[6779080.0],[8324285.0],[14253549.0],[9300382.0],[5001610.0],[4153734.0],[3259613.0],[12772884.0],[2632239.0],[6220617.0],[5945275.0],[4969707.0],[4237396.0],[7512855.0],[4400974.0],[7034973.0],[5863187.0],[3331885.0],[3398177.0],[5317793.0],[4606668.822690199],[5191294.4757602755],[8982192.22463132],[4597025.31234342],[5099885.016747828],[7961493.917905603]],\"domain\":{\"x\":[0.0,1.0],\"y\":[0.0,1.0]},\"hovertemplate\":\"labels=%{label}\\u003cbr\\u003ePopulation_sum=%{value}\\u003cbr\\u003eparent=%{parent}\\u003cbr\\u003eid=%{id}\\u003cbr\\u003ePopulation=%{color}\\u003cextra\\u003e\\u003c\\u002fextra\\u003e\",\"ids\":[\"South East\\u002fAbia\",\"North East\\u002fAdamawa\",\"South South\\u002fAkwa Ibom\",\"South East\\u002fAnambra\",\"North East\\u002fBauchi\",\"South South\\u002fBayelsa\",\"North Central\\u002fBenue\",\"North East\\u002fBorno\",\"South South\\u002fCross River\",\"South South\\u002fDelta\",\"South East\\u002fEbonyi\",\"South South\\u002fEdo\",\"South West\\u002fEkiti\",\"South East\\u002fEnugu\",\"North Central\\u002fFederal Capital Territory\",\"North East\\u002fGombe\",\"South East\\u002fImo\",\"North West\\u002fJigawa\",\"North West\\u002fKaduna\",\"North West\\u002fKano\",\"North West\\u002fKatsina\",\"North West\\u002fKebbi\",\"North Central\\u002fKogi\",\"North Central\\u002fKwara\",\"South West\\u002fLagos\",\"North Central\\u002fNasarawa\",\"North Central\\u002fNiger\",\"South West\\u002fOgun\",\"South West\\u002fOndo\",\"South West\\u002fOsun\",\"South West\\u002fOyo\",\"North Central\\u002fPlateau\",\"South South\\u002fRivers\",\"North West\\u002fSokoto\",\"North East\\u002fTaraba\",\"North East\\u002fYobe\",\"North West\\u002fZamfara\",\"North Central\",\"North East\",\"North West\",\"South East\",\"South South\",\"South West\"],\"labels\":[\"Abia\",\"Adamawa\",\"Akwa Ibom\",\"Anambra\",\"Bauchi\",\"Bayelsa\",\"Benue\",\"Borno\",\"Cross River\",\"Delta\",\"Ebonyi\",\"Edo\",\"Ekiti\",\"Enugu\",\"Federal Capital Territory\",\"Gombe\",\"Imo\",\"Jigawa\",\"Kaduna\",\"Kano\",\"Katsina\",\"Kebbi\",\"Kogi\",\"Kwara\",\"Lagos\",\"Nasarawa\",\"Niger\",\"Ogun\",\"Ondo\",\"Osun\",\"Oyo\",\"Plateau\",\"Rivers\",\"Sokoto\",\"Taraba\",\"Yobe\",\"Zamfara\",\"North Central\",\"North East\",\"North West\",\"South East\",\"South South\",\"South West\"],\"marker\":{\"coloraxis\":\"coloraxis\",\"colors\":[3841943.0,4536948.0,4780581.0,5599910.0,7540663.0,2394725.0,5787706.0,5751590.0,4175020.0,5307543.0,3007155.0,4461137.0,3350401.0,4396098.0,1406239.0,3623462.0,5167722.0,6779080.0,8324285.0,14253549.0,9300382.0,5001610.0,4153734.0,3259613.0,12772884.0,2632239.0,6220617.0,5945275.0,4969707.0,4237396.0,7512855.0,4400974.0,7034973.0,5863187.0,3331885.0,3398177.0,5317793.0,4606668.822690199,5191294.4757602755,8982192.22463132,4597025.31234342,5099885.016747828,7961493.917905603]},\"name\":\"\",\"parents\":[\"South East\",\"North East\",\"South South\",\"South East\",\"North East\",\"South South\",\"North Central\",\"North East\",\"South South\",\"South South\",\"South East\",\"South South\",\"South West\",\"South East\",\"North Central\",\"North East\",\"South East\",\"North West\",\"North West\",\"North West\",\"North West\",\"North West\",\"North Central\",\"North Central\",\"South West\",\"North Central\",\"North Central\",\"South West\",\"South West\",\"South West\",\"South West\",\"North Central\",\"South South\",\"North West\",\"North East\",\"North East\",\"North West\",\"\",\"\",\"\",\"\",\"\",\"\"],\"values\":[3841943,4536948,4780581,5599910,7540663,2394725,5787706,5751590,4175020,5307543,3007155,4461137,3350401,4396098,1406239,3623462,5167722,6779080,8324285,14253549,9300382,5001610,4153734,3259613,12772884,2632239,6220617,5945275,4969707,4237396,7512855,4400974,7034973,5863187,3331885,3398177,5317793,27861122,28182725,54839886,22012828,28153979,38788518],\"type\":\"treemap\"}],                        {\"template\":{\"data\":{\"histogram2dcontour\":[{\"type\":\"histogram2dcontour\",\"colorbar\":{\"outlinewidth\":0,\"ticks\":\"\"},\"colorscale\":[[0.0,\"#0d0887\"],[0.1111111111111111,\"#46039f\"],[0.2222222222222222,\"#7201a8\"],[0.3333333333333333,\"#9c179e\"],[0.4444444444444444,\"#bd3786\"],[0.5555555555555556,\"#d8576b\"],[0.6666666666666666,\"#ed7953\"],[0.7777777777777778,\"#fb9f3a\"],[0.8888888888888888,\"#fdca26\"],[1.0,\"#f0f921\"]]}],\"choropleth\":[{\"type\":\"choropleth\",\"colorbar\":{\"outlinewidth\":0,\"ticks\":\"\"}}],\"histogram2d\":[{\"type\":\"histogram2d\",\"colorbar\":{\"outlinewidth\":0,\"ticks\":\"\"},\"colorscale\":[[0.0,\"#0d0887\"],[0.1111111111111111,\"#46039f\"],[0.2222222222222222,\"#7201a8\"],[0.3333333333333333,\"#9c179e\"],[0.4444444444444444,\"#bd3786\"],[0.5555555555555556,\"#d8576b\"],[0.6666666666666666,\"#ed7953\"],[0.7777777777777778,\"#fb9f3a\"],[0.8888888888888888,\"#fdca26\"],[1.0,\"#f0f921\"]]}],\"heatmap\":[{\"type\":\"heatmap\",\"colorbar\":{\"outlinewidth\":0,\"ticks\":\"\"},\"colorscale\":[[0.0,\"#0d0887\"],[0.1111111111111111,\"#46039f\"],[0.2222222222222222,\"#7201a8\"],[0.3333333333333333,\"#9c179e\"],[0.4444444444444444,\"#bd3786\"],[0.5555555555555556,\"#d8576b\"],[0.6666666666666666,\"#ed7953\"],[0.7777777777777778,\"#fb9f3a\"],[0.8888888888888888,\"#fdca26\"],[1.0,\"#f0f921\"]]}],\"heatmapgl\":[{\"type\":\"heatmapgl\",\"colorbar\":{\"outlinewidth\":0,\"ticks\":\"\"},\"colorscale\":[[0.0,\"#0d0887\"],[0.1111111111111111,\"#46039f\"],[0.2222222222222222,\"#7201a8\"],[0.3333333333333333,\"#9c179e\"],[0.4444444444444444,\"#bd3786\"],[0.5555555555555556,\"#d8576b\"],[0.6666666666666666,\"#ed7953\"],[0.7777777777777778,\"#fb9f3a\"],[0.8888888888888888,\"#fdca26\"],[1.0,\"#f0f921\"]]}],\"contourcarpet\":[{\"type\":\"contourcarpet\",\"colorbar\":{\"outlinewidth\":0,\"ticks\":\"\"}}],\"contour\":[{\"type\":\"contour\",\"colorbar\":{\"outlinewidth\":0,\"ticks\":\"\"},\"colorscale\":[[0.0,\"#0d0887\"],[0.1111111111111111,\"#46039f\"],[0.2222222222222222,\"#7201a8\"],[0.3333333333333333,\"#9c179e\"],[0.4444444444444444,\"#bd3786\"],[0.5555555555555556,\"#d8576b\"],[0.6666666666666666,\"#ed7953\"],[0.7777777777777778,\"#fb9f3a\"],[0.8888888888888888,\"#fdca26\"],[1.0,\"#f0f921\"]]}],\"surface\":[{\"type\":\"surface\",\"colorbar\":{\"outlinewidth\":0,\"ticks\":\"\"},\"colorscale\":[[0.0,\"#0d0887\"],[0.1111111111111111,\"#46039f\"],[0.2222222222222222,\"#7201a8\"],[0.3333333333333333,\"#9c179e\"],[0.4444444444444444,\"#bd3786\"],[0.5555555555555556,\"#d8576b\"],[0.6666666666666666,\"#ed7953\"],[0.7777777777777778,\"#fb9f3a\"],[0.8888888888888888,\"#fdca26\"],[1.0,\"#f0f921\"]]}],\"mesh3d\":[{\"type\":\"mesh3d\",\"colorbar\":{\"outlinewidth\":0,\"ticks\":\"\"}}],\"scatter\":[{\"fillpattern\":{\"fillmode\":\"overlay\",\"size\":10,\"solidity\":0.2},\"type\":\"scatter\"}],\"parcoords\":[{\"type\":\"parcoords\",\"line\":{\"colorbar\":{\"outlinewidth\":0,\"ticks\":\"\"}}}],\"scatterpolargl\":[{\"type\":\"scatterpolargl\",\"marker\":{\"colorbar\":{\"outlinewidth\":0,\"ticks\":\"\"}}}],\"bar\":[{\"error_x\":{\"color\":\"#2a3f5f\"},\"error_y\":{\"color\":\"#2a3f5f\"},\"marker\":{\"line\":{\"color\":\"#E5ECF6\",\"width\":0.5},\"pattern\":{\"fillmode\":\"overlay\",\"size\":10,\"solidity\":0.2}},\"type\":\"bar\"}],\"scattergeo\":[{\"type\":\"scattergeo\",\"marker\":{\"colorbar\":{\"outlinewidth\":0,\"ticks\":\"\"}}}],\"scatterpolar\":[{\"type\":\"scatterpolar\",\"marker\":{\"colorbar\":{\"outlinewidth\":0,\"ticks\":\"\"}}}],\"histogram\":[{\"marker\":{\"pattern\":{\"fillmode\":\"overlay\",\"size\":10,\"solidity\":0.2}},\"type\":\"histogram\"}],\"scattergl\":[{\"type\":\"scattergl\",\"marker\":{\"colorbar\":{\"outlinewidth\":0,\"ticks\":\"\"}}}],\"scatter3d\":[{\"type\":\"scatter3d\",\"line\":{\"colorbar\":{\"outlinewidth\":0,\"ticks\":\"\"}},\"marker\":{\"colorbar\":{\"outlinewidth\":0,\"ticks\":\"\"}}}],\"scattermapbox\":[{\"type\":\"scattermapbox\",\"marker\":{\"colorbar\":{\"outlinewidth\":0,\"ticks\":\"\"}}}],\"scatterternary\":[{\"type\":\"scatterternary\",\"marker\":{\"colorbar\":{\"outlinewidth\":0,\"ticks\":\"\"}}}],\"scattercarpet\":[{\"type\":\"scattercarpet\",\"marker\":{\"colorbar\":{\"outlinewidth\":0,\"ticks\":\"\"}}}],\"carpet\":[{\"aaxis\":{\"endlinecolor\":\"#2a3f5f\",\"gridcolor\":\"white\",\"linecolor\":\"white\",\"minorgridcolor\":\"white\",\"startlinecolor\":\"#2a3f5f\"},\"baxis\":{\"endlinecolor\":\"#2a3f5f\",\"gridcolor\":\"white\",\"linecolor\":\"white\",\"minorgridcolor\":\"white\",\"startlinecolor\":\"#2a3f5f\"},\"type\":\"carpet\"}],\"table\":[{\"cells\":{\"fill\":{\"color\":\"#EBF0F8\"},\"line\":{\"color\":\"white\"}},\"header\":{\"fill\":{\"color\":\"#C8D4E3\"},\"line\":{\"color\":\"white\"}},\"type\":\"table\"}],\"barpolar\":[{\"marker\":{\"line\":{\"color\":\"#E5ECF6\",\"width\":0.5},\"pattern\":{\"fillmode\":\"overlay\",\"size\":10,\"solidity\":0.2}},\"type\":\"barpolar\"}],\"pie\":[{\"automargin\":true,\"type\":\"pie\"}]},\"layout\":{\"autotypenumbers\":\"strict\",\"colorway\":[\"#636efa\",\"#EF553B\",\"#00cc96\",\"#ab63fa\",\"#FFA15A\",\"#19d3f3\",\"#FF6692\",\"#B6E880\",\"#FF97FF\",\"#FECB52\"],\"font\":{\"color\":\"#2a3f5f\"},\"hovermode\":\"closest\",\"hoverlabel\":{\"align\":\"left\"},\"paper_bgcolor\":\"white\",\"plot_bgcolor\":\"#E5ECF6\",\"polar\":{\"bgcolor\":\"#E5ECF6\",\"angularaxis\":{\"gridcolor\":\"white\",\"linecolor\":\"white\",\"ticks\":\"\"},\"radialaxis\":{\"gridcolor\":\"white\",\"linecolor\":\"white\",\"ticks\":\"\"}},\"ternary\":{\"bgcolor\":\"#E5ECF6\",\"aaxis\":{\"gridcolor\":\"white\",\"linecolor\":\"white\",\"ticks\":\"\"},\"baxis\":{\"gridcolor\":\"white\",\"linecolor\":\"white\",\"ticks\":\"\"},\"caxis\":{\"gridcolor\":\"white\",\"linecolor\":\"white\",\"ticks\":\"\"}},\"coloraxis\":{\"colorbar\":{\"outlinewidth\":0,\"ticks\":\"\"}},\"colorscale\":{\"sequential\":[[0.0,\"#0d0887\"],[0.1111111111111111,\"#46039f\"],[0.2222222222222222,\"#7201a8\"],[0.3333333333333333,\"#9c179e\"],[0.4444444444444444,\"#bd3786\"],[0.5555555555555556,\"#d8576b\"],[0.6666666666666666,\"#ed7953\"],[0.7777777777777778,\"#fb9f3a\"],[0.8888888888888888,\"#fdca26\"],[1.0,\"#f0f921\"]],\"sequentialminus\":[[0.0,\"#0d0887\"],[0.1111111111111111,\"#46039f\"],[0.2222222222222222,\"#7201a8\"],[0.3333333333333333,\"#9c179e\"],[0.4444444444444444,\"#bd3786\"],[0.5555555555555556,\"#d8576b\"],[0.6666666666666666,\"#ed7953\"],[0.7777777777777778,\"#fb9f3a\"],[0.8888888888888888,\"#fdca26\"],[1.0,\"#f0f921\"]],\"diverging\":[[0,\"#8e0152\"],[0.1,\"#c51b7d\"],[0.2,\"#de77ae\"],[0.3,\"#f1b6da\"],[0.4,\"#fde0ef\"],[0.5,\"#f7f7f7\"],[0.6,\"#e6f5d0\"],[0.7,\"#b8e186\"],[0.8,\"#7fbc41\"],[0.9,\"#4d9221\"],[1,\"#276419\"]]},\"xaxis\":{\"gridcolor\":\"white\",\"linecolor\":\"white\",\"ticks\":\"\",\"title\":{\"standoff\":15},\"zerolinecolor\":\"white\",\"automargin\":true,\"zerolinewidth\":2},\"yaxis\":{\"gridcolor\":\"white\",\"linecolor\":\"white\",\"ticks\":\"\",\"title\":{\"standoff\":15},\"zerolinecolor\":\"white\",\"automargin\":true,\"zerolinewidth\":2},\"scene\":{\"xaxis\":{\"backgroundcolor\":\"#E5ECF6\",\"gridcolor\":\"white\",\"linecolor\":\"white\",\"showbackground\":true,\"ticks\":\"\",\"zerolinecolor\":\"white\",\"gridwidth\":2},\"yaxis\":{\"backgroundcolor\":\"#E5ECF6\",\"gridcolor\":\"white\",\"linecolor\":\"white\",\"showbackground\":true,\"ticks\":\"\",\"zerolinecolor\":\"white\",\"gridwidth\":2},\"zaxis\":{\"backgroundcolor\":\"#E5ECF6\",\"gridcolor\":\"white\",\"linecolor\":\"white\",\"showbackground\":true,\"ticks\":\"\",\"zerolinecolor\":\"white\",\"gridwidth\":2}},\"shapedefaults\":{\"line\":{\"color\":\"#2a3f5f\"}},\"annotationdefaults\":{\"arrowcolor\":\"#2a3f5f\",\"arrowhead\":0,\"arrowwidth\":1},\"geo\":{\"bgcolor\":\"white\",\"landcolor\":\"#E5ECF6\",\"subunitcolor\":\"white\",\"showland\":true,\"showlakes\":true,\"lakecolor\":\"white\"},\"title\":{\"x\":0.05},\"mapbox\":{\"style\":\"light\"}}},\"coloraxis\":{\"colorbar\":{\"title\":{\"text\":\"Population\"}},\"colorscale\":[[0.0,\"#440154\"],[0.1111111111111111,\"#482878\"],[0.2222222222222222,\"#3e4989\"],[0.3333333333333333,\"#31688e\"],[0.4444444444444444,\"#26828e\"],[0.5555555555555556,\"#1f9e89\"],[0.6666666666666666,\"#35b779\"],[0.7777777777777778,\"#6ece58\"],[0.8888888888888888,\"#b5de2b\"],[1.0,\"#fde725\"]]},\"legend\":{\"tracegroupgap\":0},\"title\":{\"text\":\"Population Contribution by Zone and State\"}},                        {\"responsive\": true}                    ).then(function(){\n",
       "                            \n",
       "var gd = document.getElementById('002d6865-3ff4-41dd-bc41-97c797c73355');\n",
       "var x = new MutationObserver(function (mutations, observer) {{\n",
       "        var display = window.getComputedStyle(gd).display;\n",
       "        if (!display || display === 'none') {{\n",
       "            console.log([gd, 'removed!']);\n",
       "            Plotly.purge(gd);\n",
       "            observer.disconnect();\n",
       "        }}\n",
       "}});\n",
       "\n",
       "// Listen for the removal of the full notebook cells\n",
       "var notebookContainer = gd.closest('#notebook-container');\n",
       "if (notebookContainer) {{\n",
       "    x.observe(notebookContainer, {childList: true});\n",
       "}}\n",
       "\n",
       "// Listen for the clearing of the current output cell\n",
       "var outputEl = gd.closest('.output');\n",
       "if (outputEl) {{\n",
       "    x.observe(outputEl, {childList: true});\n",
       "}}\n",
       "\n",
       "                        })                };                });            </script>        </div>"
      ]
     },
     "metadata": {},
     "output_type": "display_data"
    }
   ],
   "source": [
    "fig = px.treemap(df, \n",
    "                 path=[\"Geopolitical zone\", \"State\"], \n",
    "                 values=\"Population\", \n",
    "                 title=\"Population Contribution by Zone and State\",\n",
    "                 color=\"Population\",\n",
    "                 color_continuous_scale=\"Viridis\")\n",
    "fig.show()\n"
   ]
  },
  {
   "cell_type": "code",
   "execution_count": null,
   "id": "94584c81-1aa5-42a1-9411-cd24e29732f1",
   "metadata": {},
   "outputs": [],
   "source": []
  }
 ],
 "metadata": {
  "kernelspec": {
   "display_name": "Python 3 (ipykernel)",
   "language": "python",
   "name": "python3"
  },
  "language_info": {
   "codemirror_mode": {
    "name": "ipython",
    "version": 3
   },
   "file_extension": ".py",
   "mimetype": "text/x-python",
   "name": "python",
   "nbconvert_exporter": "python",
   "pygments_lexer": "ipython3",
   "version": "3.12.7"
  }
 },
 "nbformat": 4,
 "nbformat_minor": 5
}
